{
  "cells": [
    {
      "cell_type": "markdown",
      "source": [
        "# Deep Learning Basics\n",
        "This notebook is based on fastai's **[Chapter 1](https://github.com/fastai/fastbook/blob/master/01_intro.ipynb)** and **[Chapter 4](https://github.com/fastai/fastbook/blob/master/04_mnist_basics.ipynb)**\n",
        "\n",
        "Please read these chapters before looking at this review.\n",
        "\n",
        "*I suggest opening this notebook in Colab (where it can be easier to use GPU).*\n",
        "*If you want to run it locally, set up the **deep-learning** environment in your terminal with `conda env create -f environment.yml` and activate it in your preferred IDE.*"
      ],
      "metadata": {
        "id": "aRDqi1SzxNa6"
      }
    },
    {
      "cell_type": "code",
      "execution_count": 1,
      "metadata": {
        "id": "c2IotSmfETx4"
      },
      "outputs": [],
      "source": [
        "### FOR COLAB USERS ###\n",
        "! [ -e /content ] && pip install -Uqq fastbook\n",
        "import fastbook\n",
        "fastbook.setup_book()"
      ]
    },
    {
      "cell_type": "code",
      "source": [
        "# ### FOR LOCAL USERS ###\n",
        "# import fastai\n",
        "# print(fastai.__version__)\n",
        "\n",
        "# ! pip install -Uqq fastbook\n",
        "# import fastbook\n",
        "# fastbook.setup_book()"
      ],
      "metadata": {
        "id": "Lc_0DkdexSqx"
      },
      "execution_count": 2,
      "outputs": []
    },
    {
      "cell_type": "code",
      "execution_count": 3,
      "metadata": {
        "id": "bNtBOIpQEXuv"
      },
      "outputs": [],
      "source": [
        "from fastai.vision.all import *\n",
        "from fastbook import *\n",
        "\n",
        "matplotlib.rc('image', cmap='Greys')"
      ]
    },
    {
      "cell_type": "markdown",
      "metadata": {
        "id": "evwXpz4OlcZU"
      },
      "source": [
        "# Tensor background"
      ]
    },
    {
      "cell_type": "markdown",
      "metadata": {
        "id": "nlvuN8kClnUB"
      },
      "source": [
        "#### NumPy Arrays\n",
        "- multidimensional table of data with all items of the same type\n",
        "- type can be any kind of type\n",
        "- don't support GPU or calculating gradients"
      ]
    },
    {
      "cell_type": "code",
      "execution_count": 4,
      "metadata": {
        "id": "VxU6JudmmaPr",
        "colab": {
          "base_uri": "https://localhost:8080/"
        },
        "outputId": "4c93eb79-5ad9-4746-9be9-d87b40574422"
      },
      "outputs": [
        {
          "output_type": "execute_result",
          "data": {
            "text/plain": [
              "array([[1, 2, 3],\n",
              "       [4, 5, 6]])"
            ]
          },
          "metadata": {},
          "execution_count": 4
        }
      ],
      "source": [
        "# array\n",
        "data = [[1,2,3],[4,5,6]]\n",
        "arr = array(data)\n",
        "arr"
      ]
    },
    {
      "cell_type": "code",
      "execution_count": 5,
      "metadata": {
        "id": "T4_QvnjHz_-u",
        "colab": {
          "base_uri": "https://localhost:8080/"
        },
        "outputId": "3014b08d-a2cf-444d-9fa3-b44ffdef49b9"
      },
      "outputs": [
        {
          "output_type": "execute_result",
          "data": {
            "text/plain": [
              "array([list([1, 2, 3]), list([4, 5, 6, 7, 8, 9]), list([10])], dtype=object)"
            ]
          },
          "metadata": {},
          "execution_count": 5
        }
      ],
      "source": [
        "# jagged arrays\n",
        "# arrays of arrays, with the innermost arrays being different sizes -- must be an object\n",
        "data = array([list([1, 2, 3]), list([4, 5, 6, 7, 8, 9]), list([10])], dtype=object)\n",
        "array(data)"
      ]
    },
    {
      "cell_type": "markdown",
      "metadata": {
        "id": "5E8sv1glllIn"
      },
      "source": [
        "#### Tensors\n",
        "- multidimensional table of data with all items of the same type.\n",
        "- restricted to numeric types\n",
        "- cannot be jagged (always regularly shaped)\n",
        "- can live on GPUs and can automatically caluclate derivatives"
      ]
    },
    {
      "cell_type": "code",
      "execution_count": 6,
      "metadata": {
        "id": "2pFUNuLglksn",
        "colab": {
          "base_uri": "https://localhost:8080/"
        },
        "outputId": "d680ec4b-9a47-4e01-b0ea-cb370865aabb"
      },
      "outputs": [
        {
          "output_type": "execute_result",
          "data": {
            "text/plain": [
              "tensor([[1, 2, 3],\n",
              "        [4, 5, 6]])"
            ]
          },
          "metadata": {},
          "execution_count": 6
        }
      ],
      "source": [
        "data = [[1,2,3],[4,5,6]]\n",
        "tns = tensor(data)\n",
        "tns"
      ]
    },
    {
      "cell_type": "code",
      "execution_count": 7,
      "metadata": {
        "id": "rdRc6ll1le0R",
        "colab": {
          "base_uri": "https://localhost:8080/"
        },
        "outputId": "c80990ec-7f57-4722-8e68-7b843d1b9737"
      },
      "outputs": [
        {
          "output_type": "execute_result",
          "data": {
            "text/plain": [
              "tensor([4, 5, 6])"
            ]
          },
          "metadata": {},
          "execution_count": 7
        }
      ],
      "source": [
        "# subsetting\n",
        "tns[1]"
      ]
    },
    {
      "cell_type": "code",
      "execution_count": 8,
      "metadata": {
        "id": "j-1YRf-Sl83I",
        "colab": {
          "base_uri": "https://localhost:8080/"
        },
        "outputId": "be285033-f8ba-4f3b-abc5-6f6c11602800"
      },
      "outputs": [
        {
          "output_type": "execute_result",
          "data": {
            "text/plain": [
              "tensor([[2, 3],\n",
              "        [5, 6]])"
            ]
          },
          "metadata": {},
          "execution_count": 8
        }
      ],
      "source": [
        "tns[:,1:3]"
      ]
    },
    {
      "cell_type": "code",
      "execution_count": 9,
      "metadata": {
        "id": "h9tWoYO7l80Q",
        "colab": {
          "base_uri": "https://localhost:8080/"
        },
        "outputId": "b9bb4d6b-2aef-4eb3-8b5b-1090cebe679c"
      },
      "outputs": [
        {
          "output_type": "execute_result",
          "data": {
            "text/plain": [
              "tensor([[2, 3, 4],\n",
              "        [5, 6, 7]])"
            ]
          },
          "metadata": {},
          "execution_count": 9
        }
      ],
      "source": [
        "# transforming\n",
        "tns+1"
      ]
    },
    {
      "cell_type": "code",
      "execution_count": 10,
      "metadata": {
        "id": "7tO-R7ZBl8xI",
        "colab": {
          "base_uri": "https://localhost:8080/"
        },
        "outputId": "33451396-0127-4be1-9a0f-fa2f903b7992"
      },
      "outputs": [
        {
          "output_type": "execute_result",
          "data": {
            "text/plain": [
              "tensor([[1.5000, 3.0000, 4.5000],\n",
              "        [6.0000, 7.5000, 9.0000]])"
            ]
          },
          "metadata": {},
          "execution_count": 10
        }
      ],
      "source": [
        "tns*1.5"
      ]
    },
    {
      "cell_type": "code",
      "execution_count": 11,
      "metadata": {
        "id": "Omgxmu8mz_3d"
      },
      "outputs": [],
      "source": [
        "# this intentionally doesn't work -- see note above\n",
        "data = [[1,2,3],[4,5,6,7,8,9],[10]]\n",
        "# tensor(data)"
      ]
    },
    {
      "cell_type": "markdown",
      "metadata": {
        "id": "Qax1ABDqnIdG"
      },
      "source": [
        "#### Broadcasting\n",
        "- PyTorch automatically expands the tensor with the smaller rank to have the same size as the one with the larger rank\n",
        "- Rank = number of axes (dimensions) of a tensor\n",
        "- Shape = the size of each axis of a tensor"
      ]
    },
    {
      "cell_type": "code",
      "execution_count": 12,
      "metadata": {
        "id": "MoO028qnnQIZ",
        "colab": {
          "base_uri": "https://localhost:8080/"
        },
        "outputId": "3a82f808-0798-4580-b009-d3b7bd80b11c"
      },
      "outputs": [
        {
          "output_type": "stream",
          "name": "stdout",
          "text": [
            "tensor([2, 3, 4])\n",
            "rank t1: 1\n",
            "rank t2: 0\n",
            "rank t3: 1\n"
          ]
        }
      ],
      "source": [
        "t1 = tensor([1,2,3])\n",
        "t2 = tensor(1)\n",
        "t3 = t1+t2\n",
        "print(t3)\n",
        "\n",
        "print(\"rank t1:\", t1.ndim)\n",
        "print(\"rank t2:\", t2.ndim)\n",
        "print(\"rank t3:\", t3.ndim)"
      ]
    },
    {
      "cell_type": "markdown",
      "metadata": {
        "id": "hTM6ZALaGNBM"
      },
      "source": [
        "# Download data"
      ]
    },
    {
      "cell_type": "markdown",
      "metadata": {
        "id": "oQoRcu3Snex1"
      },
      "source": [
        "#### Get MNIST data"
      ]
    },
    {
      "cell_type": "code",
      "execution_count": 13,
      "metadata": {
        "id": "CJr_w1y8EZ5A"
      },
      "outputs": [],
      "source": [
        "path = untar_data(URLs.MNIST_SAMPLE)\n",
        "Path.BASE_PATH = path"
      ]
    },
    {
      "cell_type": "code",
      "execution_count": 14,
      "metadata": {
        "id": "-HlNkMJgEatj",
        "colab": {
          "base_uri": "https://localhost:8080/"
        },
        "outputId": "81477e5e-94a2-46fb-c266-87e3757d4b75"
      },
      "outputs": [
        {
          "output_type": "execute_result",
          "data": {
            "text/plain": [
              "(#3) [Path('train'),Path('valid'),Path('labels.csv')]"
            ]
          },
          "metadata": {},
          "execution_count": 14
        }
      ],
      "source": [
        "# fastai's ls function\n",
        "path.ls()"
      ]
    },
    {
      "cell_type": "code",
      "execution_count": 15,
      "metadata": {
        "id": "tFdAE4mOEaqa",
        "colab": {
          "base_uri": "https://localhost:8080/"
        },
        "outputId": "5af62898-5ed8-4e18-96a5-f09441650942"
      },
      "outputs": [
        {
          "output_type": "execute_result",
          "data": {
            "text/plain": [
              "(#2) [Path('train/3'),Path('train/7')]"
            ]
          },
          "metadata": {},
          "execution_count": 15
        }
      ],
      "source": [
        "# see what is in the training folder (two other folders -- one of 7s and one of 3s)\n",
        "# 7s and 3s are the two labels (targets)\n",
        "(path/'train').ls()"
      ]
    },
    {
      "cell_type": "code",
      "execution_count": 16,
      "metadata": {
        "id": "_8EB9CQLEanS",
        "colab": {
          "base_uri": "https://localhost:8080/"
        },
        "outputId": "11e45b7f-c2f5-4366-94eb-0b7d4a46fb55"
      },
      "outputs": [
        {
          "output_type": "execute_result",
          "data": {
            "text/plain": [
              "(#6131) [Path('train/3/10.png'),Path('train/3/10000.png'),Path('train/3/10011.png'),Path('train/3/10031.png'),Path('train/3/10034.png'),Path('train/3/10042.png'),Path('train/3/10052.png'),Path('train/3/1007.png'),Path('train/3/10074.png'),Path('train/3/10091.png')...]"
            ]
          },
          "metadata": {},
          "execution_count": 16
        }
      ],
      "source": [
        "# sort the order of files in the folder\n",
        "threes = (path/'train'/'3').ls().sorted()\n",
        "sevens = (path/'train'/'7').ls().sorted()\n",
        "threes"
      ]
    },
    {
      "cell_type": "markdown",
      "metadata": {
        "id": "6bdWLTqgnhTn"
      },
      "source": [
        "#### View an image\n",
        "Using the Image class from the Python Imaging Library (PIL) -- package to open, view, manipulate images"
      ]
    },
    {
      "cell_type": "code",
      "execution_count": 17,
      "metadata": {
        "id": "VVqAZ3_9Eaj6",
        "colab": {
          "base_uri": "https://localhost:8080/",
          "height": 45
        },
        "outputId": "fcbbcd60-cd62-4275-da6b-db5c950dd38a"
      },
      "outputs": [
        {
          "output_type": "execute_result",
          "data": {
            "text/plain": [
              "<PIL.PngImagePlugin.PngImageFile image mode=L size=28x28>"
            ],
            "image/png": "[encoded data removed]"
          },
          "metadata": {},
          "execution_count": 17
        }
      ],
      "source": [
        "im3_path = threes[1]\n",
        "im3 = Image.open(im3_path)\n",
        "im3"
      ]
    },
    {
      "cell_type": "markdown",
      "metadata": {
        "id": "Zdd9hZtTJPxb"
      },
      "source": [
        "#### Converting image to tensor"
      ]
    },
    {
      "cell_type": "code",
      "execution_count": 18,
      "metadata": {
        "id": "lRGKKiGSHOQZ",
        "colab": {
          "base_uri": "https://localhost:8080/"
        },
        "outputId": "09093112-b7d9-468d-e26c-fc2bde038913"
      },
      "outputs": [
        {
          "output_type": "stream",
          "name": "stdout",
          "text": [
            "(28, 28)\n"
          ]
        },
        {
          "output_type": "execute_result",
          "data": {
            "text/plain": [
              "tensor([[  0,   0,   0,   0,   0,   0],\n",
              "        [  0,   0,   0,   0,   0,  29],\n",
              "        [  0,   0,   0,  48, 166, 224],\n",
              "        [  0,  93, 244, 249, 253, 187],\n",
              "        [  0, 107, 253, 253, 230,  48],\n",
              "        [  0,   3,  20,  20,  15,   0]], dtype=torch.uint8)"
            ]
          },
          "metadata": {},
          "execution_count": 18
        }
      ],
      "source": [
        "# The 4:10 indicates we requested the rows from index 4 (included) to 10 (not included)\n",
        "# and the same for the columns\n",
        "print(im3.size)\n",
        "tensor(im3)[4:10,4:10]"
      ]
    },
    {
      "cell_type": "markdown",
      "metadata": {
        "id": "Q-gvVTjXn_Sm"
      },
      "source": [
        "#### Visualize tensor\n",
        "- white pixels are stored as the number 0\n",
        "- black is the number 255\n",
        "- shades of gray are between 0 and 255\n"
      ]
    },
    {
      "cell_type": "code",
      "execution_count": 19,
      "metadata": {
        "id": "zBUBbaqJHONz",
        "colab": {
          "base_uri": "https://localhost:8080/",
          "height": 394
        },
        "outputId": "f149b33c-6fd7-4cf7-961d-96bdc6e1581c"
      },
      "outputs": [
        {
          "output_type": "execute_result",
          "data": {
            "text/plain": [
              "<pandas.io.formats.style.Styler at 0x78769a1debc0>"
            ],
            "text/html": [
              "<style type=\"text/css\">\n",
              "#T_9d0c0_row0_col0, #T_9d0c0_row0_col1, #T_9d0c0_row0_col2, #T_9d0c0_row0_col3, #T_9d0c0_row0_col4, #T_9d0c0_row0_col5, #T_9d0c0_row0_col6, #T_9d0c0_row0_col7, #T_9d0c0_row0_col8, #T_9d0c0_row0_col9, #T_9d0c0_row0_col10, #T_9d0c0_row0_col11, #T_9d0c0_row0_col12, #T_9d0c0_row0_col13, #T_9d0c0_row0_col14, #T_9d0c0_row0_col15, #T_9d0c0_row0_col16, #T_9d0c0_row0_col17, #T_9d0c0_row1_col0, #T_9d0c0_row1_col1, #T_9d0c0_row1_col2, #T_9d0c0_row1_col3, #T_9d0c0_row1_col4, #T_9d0c0_row1_col15, #T_9d0c0_row1_col16, #T_9d0c0_row1_col17, #T_9d0c0_row2_col0, #T_9d0c0_row2_col1, #T_9d0c0_row2_col2, #T_9d0c0_row2_col15, #T_9d0c0_row2_col16, #T_9d0c0_row2_col17, #T_9d0c0_row3_col0, #T_9d0c0_row3_col15, #T_9d0c0_row3_col16, #T_9d0c0_row3_col17, #T_9d0c0_row4_col0, #T_9d0c0_row4_col6, #T_9d0c0_row4_col7, #T_9d0c0_row4_col8, #T_9d0c0_row4_col9, #T_9d0c0_row4_col10, #T_9d0c0_row4_col15, #T_9d0c0_row4_col16, #T_9d0c0_row4_col17, #T_9d0c0_row5_col0, #T_9d0c0_row5_col5, #T_9d0c0_row5_col6, #T_9d0c0_row5_col7, #T_9d0c0_row5_col8, #T_9d0c0_row5_col9, #T_9d0c0_row5_col15, #T_9d0c0_row5_col16, #T_9d0c0_row5_col17, #T_9d0c0_row6_col0, #T_9d0c0_row6_col1, #T_9d0c0_row6_col2, #T_9d0c0_row6_col3, #T_9d0c0_row6_col4, #T_9d0c0_row6_col5, #T_9d0c0_row6_col6, #T_9d0c0_row6_col7, #T_9d0c0_row6_col8, #T_9d0c0_row6_col9, #T_9d0c0_row6_col14, #T_9d0c0_row6_col15, #T_9d0c0_row6_col16, #T_9d0c0_row6_col17, #T_9d0c0_row7_col0, #T_9d0c0_row7_col1, #T_9d0c0_row7_col2, #T_9d0c0_row7_col3, #T_9d0c0_row7_col4, #T_9d0c0_row7_col5, #T_9d0c0_row7_col6, #T_9d0c0_row7_col13, #T_9d0c0_row7_col14, #T_9d0c0_row7_col15, #T_9d0c0_row7_col16, #T_9d0c0_row7_col17, #T_9d0c0_row8_col0, #T_9d0c0_row8_col1, #T_9d0c0_row8_col2, #T_9d0c0_row8_col3, #T_9d0c0_row8_col4, #T_9d0c0_row8_col13, #T_9d0c0_row8_col14, #T_9d0c0_row8_col15, #T_9d0c0_row8_col16, #T_9d0c0_row8_col17, #T_9d0c0_row9_col0, #T_9d0c0_row9_col1, #T_9d0c0_row9_col2, #T_9d0c0_row9_col3, #T_9d0c0_row9_col4, #T_9d0c0_row9_col16, #T_9d0c0_row9_col17, #T_9d0c0_row10_col0, #T_9d0c0_row10_col1, #T_9d0c0_row10_col2, #T_9d0c0_row10_col3, #T_9d0c0_row10_col4, #T_9d0c0_row10_col5, #T_9d0c0_row10_col6, #T_9d0c0_row10_col17 {\n",
              "  font-size: 6pt;\n",
              "  background-color: #ffffff;\n",
              "  color: #000000;\n",
              "}\n",
              "#T_9d0c0_row1_col5 {\n",
              "  font-size: 6pt;\n",
              "  background-color: #efefef;\n",
              "  color: #000000;\n",
              "}\n",
              "#T_9d0c0_row1_col6, #T_9d0c0_row1_col13 {\n",
              "  font-size: 6pt;\n",
              "  background-color: #7c7c7c;\n",
              "  color: #f1f1f1;\n",
              "}\n",
              "#T_9d0c0_row1_col7 {\n",
              "  font-size: 6pt;\n",
              "  background-color: #4a4a4a;\n",
              "  color: #f1f1f1;\n",
              "}\n",
              "#T_9d0c0_row1_col8, #T_9d0c0_row1_col9, #T_9d0c0_row1_col10, #T_9d0c0_row2_col5, #T_9d0c0_row2_col6, #T_9d0c0_row2_col7, #T_9d0c0_row2_col11, #T_9d0c0_row2_col12, #T_9d0c0_row2_col13, #T_9d0c0_row3_col4, #T_9d0c0_row3_col12, #T_9d0c0_row3_col13, #T_9d0c0_row4_col1, #T_9d0c0_row4_col2, #T_9d0c0_row4_col3, #T_9d0c0_row4_col12, #T_9d0c0_row4_col13, #T_9d0c0_row5_col12, #T_9d0c0_row6_col11, #T_9d0c0_row9_col11, #T_9d0c0_row10_col11, #T_9d0c0_row10_col12, #T_9d0c0_row10_col13, #T_9d0c0_row10_col14, #T_9d0c0_row10_col15, #T_9d0c0_row10_col16 {\n",
              "  font-size: 6pt;\n",
              "  background-color: #000000;\n",
              "  color: #f1f1f1;\n",
              "}\n",
              "#T_9d0c0_row1_col11 {\n",
              "  font-size: 6pt;\n",
              "  background-color: #606060;\n",
              "  color: #f1f1f1;\n",
              "}\n",
              "#T_9d0c0_row1_col12 {\n",
              "  font-size: 6pt;\n",
              "  background-color: #4d4d4d;\n",
              "  color: #f1f1f1;\n",
              "}\n",
              "#T_9d0c0_row1_col14 {\n",
              "  font-size: 6pt;\n",
              "  background-color: #bbbbbb;\n",
              "  color: #000000;\n",
              "}\n",
              "#T_9d0c0_row2_col3 {\n",
              "  font-size: 6pt;\n",
              "  background-color: #e4e4e4;\n",
              "  color: #000000;\n",
              "}\n",
              "#T_9d0c0_row2_col4, #T_9d0c0_row8_col6 {\n",
              "  font-size: 6pt;\n",
              "  background-color: #6b6b6b;\n",
              "  color: #f1f1f1;\n",
              "}\n",
              "#T_9d0c0_row2_col8, #T_9d0c0_row2_col14, #T_9d0c0_row3_col14 {\n",
              "  font-size: 6pt;\n",
              "  background-color: #171717;\n",
              "  color: #f1f1f1;\n",
              "}\n",
              "#T_9d0c0_row2_col9, #T_9d0c0_row3_col11 {\n",
              "  font-size: 6pt;\n",
              "  background-color: #4b4b4b;\n",
              "  color: #f1f1f1;\n",
              "}\n",
              "#T_9d0c0_row2_col10, #T_9d0c0_row7_col10, #T_9d0c0_row8_col8, #T_9d0c0_row8_col10, #T_9d0c0_row9_col8, #T_9d0c0_row9_col10 {\n",
              "  font-size: 6pt;\n",
              "  background-color: #010101;\n",
              "  color: #f1f1f1;\n",
              "}\n",
              "#T_9d0c0_row3_col1 {\n",
              "  font-size: 6pt;\n",
              "  background-color: #272727;\n",
              "  color: #f1f1f1;\n",
              "}\n",
              "#T_9d0c0_row3_col2 {\n",
              "  font-size: 6pt;\n",
              "  background-color: #0a0a0a;\n",
              "  color: #f1f1f1;\n",
              "}\n",
              "#T_9d0c0_row3_col3 {\n",
              "  font-size: 6pt;\n",
              "  background-color: #050505;\n",
              "  color: #f1f1f1;\n",
              "}\n",
              "#T_9d0c0_row3_col5 {\n",
              "  font-size: 6pt;\n",
              "  background-color: #333333;\n",
              "  color: #f1f1f1;\n",
              "}\n",
              "#T_9d0c0_row3_col6 {\n",
              "  font-size: 6pt;\n",
              "  background-color: #e6e6e6;\n",
              "  color: #000000;\n",
              "}\n",
              "#T_9d0c0_row3_col7, #T_9d0c0_row3_col10 {\n",
              "  font-size: 6pt;\n",
              "  background-color: #fafafa;\n",
              "  color: #000000;\n",
              "}\n",
              "#T_9d0c0_row3_col8 {\n",
              "  font-size: 6pt;\n",
              "  background-color: #fbfbfb;\n",
              "  color: #000000;\n",
              "}\n",
              "#T_9d0c0_row3_col9 {\n",
              "  font-size: 6pt;\n",
              "  background-color: #fdfdfd;\n",
              "  color: #000000;\n",
              "}\n",
              "#T_9d0c0_row4_col4 {\n",
              "  font-size: 6pt;\n",
              "  background-color: #1b1b1b;\n",
              "  color: #f1f1f1;\n",
              "}\n",
              "#T_9d0c0_row4_col5 {\n",
              "  font-size: 6pt;\n",
              "  background-color: #e0e0e0;\n",
              "  color: #000000;\n",
              "}\n",
              "#T_9d0c0_row4_col11 {\n",
              "  font-size: 6pt;\n",
              "  background-color: #4e4e4e;\n",
              "  color: #f1f1f1;\n",
              "}\n",
              "#T_9d0c0_row4_col14 {\n",
              "  font-size: 6pt;\n",
              "  background-color: #767676;\n",
              "  color: #f1f1f1;\n",
              "}\n",
              "#T_9d0c0_row5_col1 {\n",
              "  font-size: 6pt;\n",
              "  background-color: #fcfcfc;\n",
              "  color: #000000;\n",
              "}\n",
              "#T_9d0c0_row5_col2, #T_9d0c0_row5_col3 {\n",
              "  font-size: 6pt;\n",
              "  background-color: #f6f6f6;\n",
              "  color: #000000;\n",
              "}\n",
              "#T_9d0c0_row5_col4, #T_9d0c0_row7_col7 {\n",
              "  font-size: 6pt;\n",
              "  background-color: #f8f8f8;\n",
              "  color: #000000;\n",
              "}\n",
              "#T_9d0c0_row5_col10, #T_9d0c0_row10_col7 {\n",
              "  font-size: 6pt;\n",
              "  background-color: #e8e8e8;\n",
              "  color: #000000;\n",
              "}\n",
              "#T_9d0c0_row5_col11 {\n",
              "  font-size: 6pt;\n",
              "  background-color: #222222;\n",
              "  color: #f1f1f1;\n",
              "}\n",
              "#T_9d0c0_row5_col13, #T_9d0c0_row6_col12 {\n",
              "  font-size: 6pt;\n",
              "  background-color: #090909;\n",
              "  color: #f1f1f1;\n",
              "}\n",
              "#T_9d0c0_row5_col14 {\n",
              "  font-size: 6pt;\n",
              "  background-color: #d0d0d0;\n",
              "  color: #000000;\n",
              "}\n",
              "#T_9d0c0_row6_col10, #T_9d0c0_row7_col11, #T_9d0c0_row9_col6 {\n",
              "  font-size: 6pt;\n",
              "  background-color: #060606;\n",
              "  color: #f1f1f1;\n",
              "}\n",
              "#T_9d0c0_row6_col13 {\n",
              "  font-size: 6pt;\n",
              "  background-color: #979797;\n",
              "  color: #f1f1f1;\n",
              "}\n",
              "#T_9d0c0_row7_col8 {\n",
              "  font-size: 6pt;\n",
              "  background-color: #b6b6b6;\n",
              "  color: #000000;\n",
              "}\n",
              "#T_9d0c0_row7_col9 {\n",
              "  font-size: 6pt;\n",
              "  background-color: #252525;\n",
              "  color: #f1f1f1;\n",
              "}\n",
              "#T_9d0c0_row7_col12 {\n",
              "  font-size: 6pt;\n",
              "  background-color: #999999;\n",
              "  color: #f1f1f1;\n",
              "}\n",
              "#T_9d0c0_row8_col5 {\n",
              "  font-size: 6pt;\n",
              "  background-color: #f9f9f9;\n",
              "  color: #000000;\n",
              "}\n",
              "#T_9d0c0_row8_col7 {\n",
              "  font-size: 6pt;\n",
              "  background-color: #101010;\n",
              "  color: #f1f1f1;\n",
              "}\n",
              "#T_9d0c0_row8_col9, #T_9d0c0_row9_col9 {\n",
              "  font-size: 6pt;\n",
              "  background-color: #020202;\n",
              "  color: #f1f1f1;\n",
              "}\n",
              "#T_9d0c0_row8_col11 {\n",
              "  font-size: 6pt;\n",
              "  background-color: #545454;\n",
              "  color: #f1f1f1;\n",
              "}\n",
              "#T_9d0c0_row8_col12 {\n",
              "  font-size: 6pt;\n",
              "  background-color: #f1f1f1;\n",
              "  color: #000000;\n",
              "}\n",
              "#T_9d0c0_row9_col5 {\n",
              "  font-size: 6pt;\n",
              "  background-color: #f7f7f7;\n",
              "  color: #000000;\n",
              "}\n",
              "#T_9d0c0_row9_col7 {\n",
              "  font-size: 6pt;\n",
              "  background-color: #030303;\n",
              "  color: #f1f1f1;\n",
              "}\n",
              "#T_9d0c0_row9_col12 {\n",
              "  font-size: 6pt;\n",
              "  background-color: #181818;\n",
              "  color: #f1f1f1;\n",
              "}\n",
              "#T_9d0c0_row9_col13 {\n",
              "  font-size: 6pt;\n",
              "  background-color: #303030;\n",
              "  color: #f1f1f1;\n",
              "}\n",
              "#T_9d0c0_row9_col14 {\n",
              "  font-size: 6pt;\n",
              "  background-color: #a9a9a9;\n",
              "  color: #f1f1f1;\n",
              "}\n",
              "#T_9d0c0_row9_col15 {\n",
              "  font-size: 6pt;\n",
              "  background-color: #fefefe;\n",
              "  color: #000000;\n",
              "}\n",
              "#T_9d0c0_row10_col8, #T_9d0c0_row10_col9 {\n",
              "  font-size: 6pt;\n",
              "  background-color: #bababa;\n",
              "  color: #000000;\n",
              "}\n",
              "#T_9d0c0_row10_col10 {\n",
              "  font-size: 6pt;\n",
              "  background-color: #393939;\n",
              "  color: #f1f1f1;\n",
              "}\n",
              "</style>\n",
              "<table id=\"T_9d0c0\" class=\"dataframe\">\n",
              "  <thead>\n",
              "    <tr>\n",
              "      <th class=\"blank level0\" >&nbsp;</th>\n",
              "      <th id=\"T_9d0c0_level0_col0\" class=\"col_heading level0 col0\" >0</th>\n",
              "      <th id=\"T_9d0c0_level0_col1\" class=\"col_heading level0 col1\" >1</th>\n",
              "      <th id=\"T_9d0c0_level0_col2\" class=\"col_heading level0 col2\" >2</th>\n",
              "      <th id=\"T_9d0c0_level0_col3\" class=\"col_heading level0 col3\" >3</th>\n",
              "      <th id=\"T_9d0c0_level0_col4\" class=\"col_heading level0 col4\" >4</th>\n",
              "      <th id=\"T_9d0c0_level0_col5\" class=\"col_heading level0 col5\" >5</th>\n",
              "      <th id=\"T_9d0c0_level0_col6\" class=\"col_heading level0 col6\" >6</th>\n",
              "      <th id=\"T_9d0c0_level0_col7\" class=\"col_heading level0 col7\" >7</th>\n",
              "      <th id=\"T_9d0c0_level0_col8\" class=\"col_heading level0 col8\" >8</th>\n",
              "      <th id=\"T_9d0c0_level0_col9\" class=\"col_heading level0 col9\" >9</th>\n",
              "      <th id=\"T_9d0c0_level0_col10\" class=\"col_heading level0 col10\" >10</th>\n",
              "      <th id=\"T_9d0c0_level0_col11\" class=\"col_heading level0 col11\" >11</th>\n",
              "      <th id=\"T_9d0c0_level0_col12\" class=\"col_heading level0 col12\" >12</th>\n",
              "      <th id=\"T_9d0c0_level0_col13\" class=\"col_heading level0 col13\" >13</th>\n",
              "      <th id=\"T_9d0c0_level0_col14\" class=\"col_heading level0 col14\" >14</th>\n",
              "      <th id=\"T_9d0c0_level0_col15\" class=\"col_heading level0 col15\" >15</th>\n",
              "      <th id=\"T_9d0c0_level0_col16\" class=\"col_heading level0 col16\" >16</th>\n",
              "      <th id=\"T_9d0c0_level0_col17\" class=\"col_heading level0 col17\" >17</th>\n",
              "    </tr>\n",
              "  </thead>\n",
              "  <tbody>\n",
              "    <tr>\n",
              "      <th id=\"T_9d0c0_level0_row0\" class=\"row_heading level0 row0\" >0</th>\n",
              "      <td id=\"T_9d0c0_row0_col0\" class=\"data row0 col0\" >0</td>\n",
              "      <td id=\"T_9d0c0_row0_col1\" class=\"data row0 col1\" >0</td>\n",
              "      <td id=\"T_9d0c0_row0_col2\" class=\"data row0 col2\" >0</td>\n",
              "      <td id=\"T_9d0c0_row0_col3\" class=\"data row0 col3\" >0</td>\n",
              "      <td id=\"T_9d0c0_row0_col4\" class=\"data row0 col4\" >0</td>\n",
              "      <td id=\"T_9d0c0_row0_col5\" class=\"data row0 col5\" >0</td>\n",
              "      <td id=\"T_9d0c0_row0_col6\" class=\"data row0 col6\" >0</td>\n",
              "      <td id=\"T_9d0c0_row0_col7\" class=\"data row0 col7\" >0</td>\n",
              "      <td id=\"T_9d0c0_row0_col8\" class=\"data row0 col8\" >0</td>\n",
              "      <td id=\"T_9d0c0_row0_col9\" class=\"data row0 col9\" >0</td>\n",
              "      <td id=\"T_9d0c0_row0_col10\" class=\"data row0 col10\" >0</td>\n",
              "      <td id=\"T_9d0c0_row0_col11\" class=\"data row0 col11\" >0</td>\n",
              "      <td id=\"T_9d0c0_row0_col12\" class=\"data row0 col12\" >0</td>\n",
              "      <td id=\"T_9d0c0_row0_col13\" class=\"data row0 col13\" >0</td>\n",
              "      <td id=\"T_9d0c0_row0_col14\" class=\"data row0 col14\" >0</td>\n",
              "      <td id=\"T_9d0c0_row0_col15\" class=\"data row0 col15\" >0</td>\n",
              "      <td id=\"T_9d0c0_row0_col16\" class=\"data row0 col16\" >0</td>\n",
              "      <td id=\"T_9d0c0_row0_col17\" class=\"data row0 col17\" >0</td>\n",
              "    </tr>\n",
              "    <tr>\n",
              "      <th id=\"T_9d0c0_level0_row1\" class=\"row_heading level0 row1\" >1</th>\n",
              "      <td id=\"T_9d0c0_row1_col0\" class=\"data row1 col0\" >0</td>\n",
              "      <td id=\"T_9d0c0_row1_col1\" class=\"data row1 col1\" >0</td>\n",
              "      <td id=\"T_9d0c0_row1_col2\" class=\"data row1 col2\" >0</td>\n",
              "      <td id=\"T_9d0c0_row1_col3\" class=\"data row1 col3\" >0</td>\n",
              "      <td id=\"T_9d0c0_row1_col4\" class=\"data row1 col4\" >0</td>\n",
              "      <td id=\"T_9d0c0_row1_col5\" class=\"data row1 col5\" >29</td>\n",
              "      <td id=\"T_9d0c0_row1_col6\" class=\"data row1 col6\" >150</td>\n",
              "      <td id=\"T_9d0c0_row1_col7\" class=\"data row1 col7\" >195</td>\n",
              "      <td id=\"T_9d0c0_row1_col8\" class=\"data row1 col8\" >254</td>\n",
              "      <td id=\"T_9d0c0_row1_col9\" class=\"data row1 col9\" >255</td>\n",
              "      <td id=\"T_9d0c0_row1_col10\" class=\"data row1 col10\" >254</td>\n",
              "      <td id=\"T_9d0c0_row1_col11\" class=\"data row1 col11\" >176</td>\n",
              "      <td id=\"T_9d0c0_row1_col12\" class=\"data row1 col12\" >193</td>\n",
              "      <td id=\"T_9d0c0_row1_col13\" class=\"data row1 col13\" >150</td>\n",
              "      <td id=\"T_9d0c0_row1_col14\" class=\"data row1 col14\" >96</td>\n",
              "      <td id=\"T_9d0c0_row1_col15\" class=\"data row1 col15\" >0</td>\n",
              "      <td id=\"T_9d0c0_row1_col16\" class=\"data row1 col16\" >0</td>\n",
              "      <td id=\"T_9d0c0_row1_col17\" class=\"data row1 col17\" >0</td>\n",
              "    </tr>\n",
              "    <tr>\n",
              "      <th id=\"T_9d0c0_level0_row2\" class=\"row_heading level0 row2\" >2</th>\n",
              "      <td id=\"T_9d0c0_row2_col0\" class=\"data row2 col0\" >0</td>\n",
              "      <td id=\"T_9d0c0_row2_col1\" class=\"data row2 col1\" >0</td>\n",
              "      <td id=\"T_9d0c0_row2_col2\" class=\"data row2 col2\" >0</td>\n",
              "      <td id=\"T_9d0c0_row2_col3\" class=\"data row2 col3\" >48</td>\n",
              "      <td id=\"T_9d0c0_row2_col4\" class=\"data row2 col4\" >166</td>\n",
              "      <td id=\"T_9d0c0_row2_col5\" class=\"data row2 col5\" >224</td>\n",
              "      <td id=\"T_9d0c0_row2_col6\" class=\"data row2 col6\" >253</td>\n",
              "      <td id=\"T_9d0c0_row2_col7\" class=\"data row2 col7\" >253</td>\n",
              "      <td id=\"T_9d0c0_row2_col8\" class=\"data row2 col8\" >234</td>\n",
              "      <td id=\"T_9d0c0_row2_col9\" class=\"data row2 col9\" >196</td>\n",
              "      <td id=\"T_9d0c0_row2_col10\" class=\"data row2 col10\" >253</td>\n",
              "      <td id=\"T_9d0c0_row2_col11\" class=\"data row2 col11\" >253</td>\n",
              "      <td id=\"T_9d0c0_row2_col12\" class=\"data row2 col12\" >253</td>\n",
              "      <td id=\"T_9d0c0_row2_col13\" class=\"data row2 col13\" >253</td>\n",
              "      <td id=\"T_9d0c0_row2_col14\" class=\"data row2 col14\" >233</td>\n",
              "      <td id=\"T_9d0c0_row2_col15\" class=\"data row2 col15\" >0</td>\n",
              "      <td id=\"T_9d0c0_row2_col16\" class=\"data row2 col16\" >0</td>\n",
              "      <td id=\"T_9d0c0_row2_col17\" class=\"data row2 col17\" >0</td>\n",
              "    </tr>\n",
              "    <tr>\n",
              "      <th id=\"T_9d0c0_level0_row3\" class=\"row_heading level0 row3\" >3</th>\n",
              "      <td id=\"T_9d0c0_row3_col0\" class=\"data row3 col0\" >0</td>\n",
              "      <td id=\"T_9d0c0_row3_col1\" class=\"data row3 col1\" >93</td>\n",
              "      <td id=\"T_9d0c0_row3_col2\" class=\"data row3 col2\" >244</td>\n",
              "      <td id=\"T_9d0c0_row3_col3\" class=\"data row3 col3\" >249</td>\n",
              "      <td id=\"T_9d0c0_row3_col4\" class=\"data row3 col4\" >253</td>\n",
              "      <td id=\"T_9d0c0_row3_col5\" class=\"data row3 col5\" >187</td>\n",
              "      <td id=\"T_9d0c0_row3_col6\" class=\"data row3 col6\" >46</td>\n",
              "      <td id=\"T_9d0c0_row3_col7\" class=\"data row3 col7\" >10</td>\n",
              "      <td id=\"T_9d0c0_row3_col8\" class=\"data row3 col8\" >8</td>\n",
              "      <td id=\"T_9d0c0_row3_col9\" class=\"data row3 col9\" >4</td>\n",
              "      <td id=\"T_9d0c0_row3_col10\" class=\"data row3 col10\" >10</td>\n",
              "      <td id=\"T_9d0c0_row3_col11\" class=\"data row3 col11\" >194</td>\n",
              "      <td id=\"T_9d0c0_row3_col12\" class=\"data row3 col12\" >253</td>\n",
              "      <td id=\"T_9d0c0_row3_col13\" class=\"data row3 col13\" >253</td>\n",
              "      <td id=\"T_9d0c0_row3_col14\" class=\"data row3 col14\" >233</td>\n",
              "      <td id=\"T_9d0c0_row3_col15\" class=\"data row3 col15\" >0</td>\n",
              "      <td id=\"T_9d0c0_row3_col16\" class=\"data row3 col16\" >0</td>\n",
              "      <td id=\"T_9d0c0_row3_col17\" class=\"data row3 col17\" >0</td>\n",
              "    </tr>\n",
              "    <tr>\n",
              "      <th id=\"T_9d0c0_level0_row4\" class=\"row_heading level0 row4\" >4</th>\n",
              "      <td id=\"T_9d0c0_row4_col0\" class=\"data row4 col0\" >0</td>\n",
              "      <td id=\"T_9d0c0_row4_col1\" class=\"data row4 col1\" >107</td>\n",
              "      <td id=\"T_9d0c0_row4_col2\" class=\"data row4 col2\" >253</td>\n",
              "      <td id=\"T_9d0c0_row4_col3\" class=\"data row4 col3\" >253</td>\n",
              "      <td id=\"T_9d0c0_row4_col4\" class=\"data row4 col4\" >230</td>\n",
              "      <td id=\"T_9d0c0_row4_col5\" class=\"data row4 col5\" >48</td>\n",
              "      <td id=\"T_9d0c0_row4_col6\" class=\"data row4 col6\" >0</td>\n",
              "      <td id=\"T_9d0c0_row4_col7\" class=\"data row4 col7\" >0</td>\n",
              "      <td id=\"T_9d0c0_row4_col8\" class=\"data row4 col8\" >0</td>\n",
              "      <td id=\"T_9d0c0_row4_col9\" class=\"data row4 col9\" >0</td>\n",
              "      <td id=\"T_9d0c0_row4_col10\" class=\"data row4 col10\" >0</td>\n",
              "      <td id=\"T_9d0c0_row4_col11\" class=\"data row4 col11\" >192</td>\n",
              "      <td id=\"T_9d0c0_row4_col12\" class=\"data row4 col12\" >253</td>\n",
              "      <td id=\"T_9d0c0_row4_col13\" class=\"data row4 col13\" >253</td>\n",
              "      <td id=\"T_9d0c0_row4_col14\" class=\"data row4 col14\" >156</td>\n",
              "      <td id=\"T_9d0c0_row4_col15\" class=\"data row4 col15\" >0</td>\n",
              "      <td id=\"T_9d0c0_row4_col16\" class=\"data row4 col16\" >0</td>\n",
              "      <td id=\"T_9d0c0_row4_col17\" class=\"data row4 col17\" >0</td>\n",
              "    </tr>\n",
              "    <tr>\n",
              "      <th id=\"T_9d0c0_level0_row5\" class=\"row_heading level0 row5\" >5</th>\n",
              "      <td id=\"T_9d0c0_row5_col0\" class=\"data row5 col0\" >0</td>\n",
              "      <td id=\"T_9d0c0_row5_col1\" class=\"data row5 col1\" >3</td>\n",
              "      <td id=\"T_9d0c0_row5_col2\" class=\"data row5 col2\" >20</td>\n",
              "      <td id=\"T_9d0c0_row5_col3\" class=\"data row5 col3\" >20</td>\n",
              "      <td id=\"T_9d0c0_row5_col4\" class=\"data row5 col4\" >15</td>\n",
              "      <td id=\"T_9d0c0_row5_col5\" class=\"data row5 col5\" >0</td>\n",
              "      <td id=\"T_9d0c0_row5_col6\" class=\"data row5 col6\" >0</td>\n",
              "      <td id=\"T_9d0c0_row5_col7\" class=\"data row5 col7\" >0</td>\n",
              "      <td id=\"T_9d0c0_row5_col8\" class=\"data row5 col8\" >0</td>\n",
              "      <td id=\"T_9d0c0_row5_col9\" class=\"data row5 col9\" >0</td>\n",
              "      <td id=\"T_9d0c0_row5_col10\" class=\"data row5 col10\" >43</td>\n",
              "      <td id=\"T_9d0c0_row5_col11\" class=\"data row5 col11\" >224</td>\n",
              "      <td id=\"T_9d0c0_row5_col12\" class=\"data row5 col12\" >253</td>\n",
              "      <td id=\"T_9d0c0_row5_col13\" class=\"data row5 col13\" >245</td>\n",
              "      <td id=\"T_9d0c0_row5_col14\" class=\"data row5 col14\" >74</td>\n",
              "      <td id=\"T_9d0c0_row5_col15\" class=\"data row5 col15\" >0</td>\n",
              "      <td id=\"T_9d0c0_row5_col16\" class=\"data row5 col16\" >0</td>\n",
              "      <td id=\"T_9d0c0_row5_col17\" class=\"data row5 col17\" >0</td>\n",
              "    </tr>\n",
              "    <tr>\n",
              "      <th id=\"T_9d0c0_level0_row6\" class=\"row_heading level0 row6\" >6</th>\n",
              "      <td id=\"T_9d0c0_row6_col0\" class=\"data row6 col0\" >0</td>\n",
              "      <td id=\"T_9d0c0_row6_col1\" class=\"data row6 col1\" >0</td>\n",
              "      <td id=\"T_9d0c0_row6_col2\" class=\"data row6 col2\" >0</td>\n",
              "      <td id=\"T_9d0c0_row6_col3\" class=\"data row6 col3\" >0</td>\n",
              "      <td id=\"T_9d0c0_row6_col4\" class=\"data row6 col4\" >0</td>\n",
              "      <td id=\"T_9d0c0_row6_col5\" class=\"data row6 col5\" >0</td>\n",
              "      <td id=\"T_9d0c0_row6_col6\" class=\"data row6 col6\" >0</td>\n",
              "      <td id=\"T_9d0c0_row6_col7\" class=\"data row6 col7\" >0</td>\n",
              "      <td id=\"T_9d0c0_row6_col8\" class=\"data row6 col8\" >0</td>\n",
              "      <td id=\"T_9d0c0_row6_col9\" class=\"data row6 col9\" >0</td>\n",
              "      <td id=\"T_9d0c0_row6_col10\" class=\"data row6 col10\" >249</td>\n",
              "      <td id=\"T_9d0c0_row6_col11\" class=\"data row6 col11\" >253</td>\n",
              "      <td id=\"T_9d0c0_row6_col12\" class=\"data row6 col12\" >245</td>\n",
              "      <td id=\"T_9d0c0_row6_col13\" class=\"data row6 col13\" >126</td>\n",
              "      <td id=\"T_9d0c0_row6_col14\" class=\"data row6 col14\" >0</td>\n",
              "      <td id=\"T_9d0c0_row6_col15\" class=\"data row6 col15\" >0</td>\n",
              "      <td id=\"T_9d0c0_row6_col16\" class=\"data row6 col16\" >0</td>\n",
              "      <td id=\"T_9d0c0_row6_col17\" class=\"data row6 col17\" >0</td>\n",
              "    </tr>\n",
              "    <tr>\n",
              "      <th id=\"T_9d0c0_level0_row7\" class=\"row_heading level0 row7\" >7</th>\n",
              "      <td id=\"T_9d0c0_row7_col0\" class=\"data row7 col0\" >0</td>\n",
              "      <td id=\"T_9d0c0_row7_col1\" class=\"data row7 col1\" >0</td>\n",
              "      <td id=\"T_9d0c0_row7_col2\" class=\"data row7 col2\" >0</td>\n",
              "      <td id=\"T_9d0c0_row7_col3\" class=\"data row7 col3\" >0</td>\n",
              "      <td id=\"T_9d0c0_row7_col4\" class=\"data row7 col4\" >0</td>\n",
              "      <td id=\"T_9d0c0_row7_col5\" class=\"data row7 col5\" >0</td>\n",
              "      <td id=\"T_9d0c0_row7_col6\" class=\"data row7 col6\" >0</td>\n",
              "      <td id=\"T_9d0c0_row7_col7\" class=\"data row7 col7\" >14</td>\n",
              "      <td id=\"T_9d0c0_row7_col8\" class=\"data row7 col8\" >101</td>\n",
              "      <td id=\"T_9d0c0_row7_col9\" class=\"data row7 col9\" >223</td>\n",
              "      <td id=\"T_9d0c0_row7_col10\" class=\"data row7 col10\" >253</td>\n",
              "      <td id=\"T_9d0c0_row7_col11\" class=\"data row7 col11\" >248</td>\n",
              "      <td id=\"T_9d0c0_row7_col12\" class=\"data row7 col12\" >124</td>\n",
              "      <td id=\"T_9d0c0_row7_col13\" class=\"data row7 col13\" >0</td>\n",
              "      <td id=\"T_9d0c0_row7_col14\" class=\"data row7 col14\" >0</td>\n",
              "      <td id=\"T_9d0c0_row7_col15\" class=\"data row7 col15\" >0</td>\n",
              "      <td id=\"T_9d0c0_row7_col16\" class=\"data row7 col16\" >0</td>\n",
              "      <td id=\"T_9d0c0_row7_col17\" class=\"data row7 col17\" >0</td>\n",
              "    </tr>\n",
              "    <tr>\n",
              "      <th id=\"T_9d0c0_level0_row8\" class=\"row_heading level0 row8\" >8</th>\n",
              "      <td id=\"T_9d0c0_row8_col0\" class=\"data row8 col0\" >0</td>\n",
              "      <td id=\"T_9d0c0_row8_col1\" class=\"data row8 col1\" >0</td>\n",
              "      <td id=\"T_9d0c0_row8_col2\" class=\"data row8 col2\" >0</td>\n",
              "      <td id=\"T_9d0c0_row8_col3\" class=\"data row8 col3\" >0</td>\n",
              "      <td id=\"T_9d0c0_row8_col4\" class=\"data row8 col4\" >0</td>\n",
              "      <td id=\"T_9d0c0_row8_col5\" class=\"data row8 col5\" >11</td>\n",
              "      <td id=\"T_9d0c0_row8_col6\" class=\"data row8 col6\" >166</td>\n",
              "      <td id=\"T_9d0c0_row8_col7\" class=\"data row8 col7\" >239</td>\n",
              "      <td id=\"T_9d0c0_row8_col8\" class=\"data row8 col8\" >253</td>\n",
              "      <td id=\"T_9d0c0_row8_col9\" class=\"data row8 col9\" >253</td>\n",
              "      <td id=\"T_9d0c0_row8_col10\" class=\"data row8 col10\" >253</td>\n",
              "      <td id=\"T_9d0c0_row8_col11\" class=\"data row8 col11\" >187</td>\n",
              "      <td id=\"T_9d0c0_row8_col12\" class=\"data row8 col12\" >30</td>\n",
              "      <td id=\"T_9d0c0_row8_col13\" class=\"data row8 col13\" >0</td>\n",
              "      <td id=\"T_9d0c0_row8_col14\" class=\"data row8 col14\" >0</td>\n",
              "      <td id=\"T_9d0c0_row8_col15\" class=\"data row8 col15\" >0</td>\n",
              "      <td id=\"T_9d0c0_row8_col16\" class=\"data row8 col16\" >0</td>\n",
              "      <td id=\"T_9d0c0_row8_col17\" class=\"data row8 col17\" >0</td>\n",
              "    </tr>\n",
              "    <tr>\n",
              "      <th id=\"T_9d0c0_level0_row9\" class=\"row_heading level0 row9\" >9</th>\n",
              "      <td id=\"T_9d0c0_row9_col0\" class=\"data row9 col0\" >0</td>\n",
              "      <td id=\"T_9d0c0_row9_col1\" class=\"data row9 col1\" >0</td>\n",
              "      <td id=\"T_9d0c0_row9_col2\" class=\"data row9 col2\" >0</td>\n",
              "      <td id=\"T_9d0c0_row9_col3\" class=\"data row9 col3\" >0</td>\n",
              "      <td id=\"T_9d0c0_row9_col4\" class=\"data row9 col4\" >0</td>\n",
              "      <td id=\"T_9d0c0_row9_col5\" class=\"data row9 col5\" >16</td>\n",
              "      <td id=\"T_9d0c0_row9_col6\" class=\"data row9 col6\" >248</td>\n",
              "      <td id=\"T_9d0c0_row9_col7\" class=\"data row9 col7\" >250</td>\n",
              "      <td id=\"T_9d0c0_row9_col8\" class=\"data row9 col8\" >253</td>\n",
              "      <td id=\"T_9d0c0_row9_col9\" class=\"data row9 col9\" >253</td>\n",
              "      <td id=\"T_9d0c0_row9_col10\" class=\"data row9 col10\" >253</td>\n",
              "      <td id=\"T_9d0c0_row9_col11\" class=\"data row9 col11\" >253</td>\n",
              "      <td id=\"T_9d0c0_row9_col12\" class=\"data row9 col12\" >232</td>\n",
              "      <td id=\"T_9d0c0_row9_col13\" class=\"data row9 col13\" >213</td>\n",
              "      <td id=\"T_9d0c0_row9_col14\" class=\"data row9 col14\" >111</td>\n",
              "      <td id=\"T_9d0c0_row9_col15\" class=\"data row9 col15\" >2</td>\n",
              "      <td id=\"T_9d0c0_row9_col16\" class=\"data row9 col16\" >0</td>\n",
              "      <td id=\"T_9d0c0_row9_col17\" class=\"data row9 col17\" >0</td>\n",
              "    </tr>\n",
              "    <tr>\n",
              "      <th id=\"T_9d0c0_level0_row10\" class=\"row_heading level0 row10\" >10</th>\n",
              "      <td id=\"T_9d0c0_row10_col0\" class=\"data row10 col0\" >0</td>\n",
              "      <td id=\"T_9d0c0_row10_col1\" class=\"data row10 col1\" >0</td>\n",
              "      <td id=\"T_9d0c0_row10_col2\" class=\"data row10 col2\" >0</td>\n",
              "      <td id=\"T_9d0c0_row10_col3\" class=\"data row10 col3\" >0</td>\n",
              "      <td id=\"T_9d0c0_row10_col4\" class=\"data row10 col4\" >0</td>\n",
              "      <td id=\"T_9d0c0_row10_col5\" class=\"data row10 col5\" >0</td>\n",
              "      <td id=\"T_9d0c0_row10_col6\" class=\"data row10 col6\" >0</td>\n",
              "      <td id=\"T_9d0c0_row10_col7\" class=\"data row10 col7\" >43</td>\n",
              "      <td id=\"T_9d0c0_row10_col8\" class=\"data row10 col8\" >98</td>\n",
              "      <td id=\"T_9d0c0_row10_col9\" class=\"data row10 col9\" >98</td>\n",
              "      <td id=\"T_9d0c0_row10_col10\" class=\"data row10 col10\" >208</td>\n",
              "      <td id=\"T_9d0c0_row10_col11\" class=\"data row10 col11\" >253</td>\n",
              "      <td id=\"T_9d0c0_row10_col12\" class=\"data row10 col12\" >253</td>\n",
              "      <td id=\"T_9d0c0_row10_col13\" class=\"data row10 col13\" >253</td>\n",
              "      <td id=\"T_9d0c0_row10_col14\" class=\"data row10 col14\" >253</td>\n",
              "      <td id=\"T_9d0c0_row10_col15\" class=\"data row10 col15\" >187</td>\n",
              "      <td id=\"T_9d0c0_row10_col16\" class=\"data row10 col16\" >22</td>\n",
              "      <td id=\"T_9d0c0_row10_col17\" class=\"data row10 col17\" >0</td>\n",
              "    </tr>\n",
              "  </tbody>\n",
              "</table>\n"
            ]
          },
          "metadata": {},
          "execution_count": 19
        }
      ],
      "source": [
        "# visualize in pandas\n",
        "im3_t = tensor(im3)\n",
        "df = pd.DataFrame(im3_t[4:15,4:22])\n",
        "df.style.set_properties(**{'font-size':'6pt'}).background_gradient('Greys')"
      ]
    },
    {
      "cell_type": "markdown",
      "metadata": {
        "id": "I9myBmBTTQu3"
      },
      "source": [
        "# Baseline digit classification model\n",
        "Find the average pixel value for every pixel of the 3s, then do the same for the 7s. This will give us two group averages, defining what we might call the \"ideal\" 3 and 7.\n",
        "\n",
        "Then, to classify an image as one digit or the other, we see which of these two ideal digits the image is most similar to."
      ]
    },
    {
      "cell_type": "markdown",
      "metadata": {
        "id": "GRJGNhxWrGuT"
      },
      "source": [
        "## Preprocessing"
      ]
    },
    {
      "cell_type": "markdown",
      "metadata": {
        "id": "BsVSgzxfZp9Z"
      },
      "source": [
        "### Represent images as numbers in tensors"
      ]
    },
    {
      "cell_type": "code",
      "execution_count": 20,
      "metadata": {
        "id": "O443TiJOTnqe",
        "colab": {
          "base_uri": "https://localhost:8080/"
        },
        "outputId": "58939eb3-a0a4-4fea-a052-e3cf37c1d053"
      },
      "outputs": [
        {
          "output_type": "execute_result",
          "data": {
            "text/plain": [
              "(6131, 6265)"
            ]
          },
          "metadata": {},
          "execution_count": 20
        }
      ],
      "source": [
        "# create lists of single-image tensors of all threes and all sevens\n",
        "seven_tensors = [tensor(Image.open(o)) for o in sevens]\n",
        "three_tensors = [tensor(Image.open(o)) for o in threes]\n",
        "len(three_tensors),len(seven_tensors)"
      ]
    },
    {
      "cell_type": "code",
      "execution_count": 21,
      "metadata": {
        "id": "Vxtoui8-xLWG",
        "colab": {
          "base_uri": "https://localhost:8080/",
          "height": 132
        },
        "outputId": "cde8b0ee-2791-4042-93ba-69fcf24b93ee"
      },
      "outputs": [
        {
          "output_type": "stream",
          "name": "stdout",
          "text": [
            "torch.Size([28, 28])\n"
          ]
        },
        {
          "output_type": "display_data",
          "data": {
            "text/plain": [
              "<Figure size 100x100 with 1 Axes>"
            ],
            "image/png": "[encoded data removed]"
          },
          "metadata": {}
        }
      ],
      "source": [
        "# sanity check -- single image tensor\n",
        "s = three_tensors[5]\n",
        "print(s.shape)\n",
        "show_image(s);"
      ]
    },
    {
      "cell_type": "markdown",
      "metadata": {
        "id": "uJR0hw_ao2Tt"
      },
      "source": [
        "#### Stack individual tensors (from the list) into a single tensor\n",
        "- tensors are now \"rank-3 tensor\" because they each have 3 dimensions\n",
        "- first axis is the number of images\n",
        "- second axis is the height of each image\n",
        "- third axis is the width of each image"
      ]
    },
    {
      "cell_type": "code",
      "execution_count": 22,
      "metadata": {
        "id": "r6THx-8yHOIU",
        "colab": {
          "base_uri": "https://localhost:8080/"
        },
        "outputId": "b2cb4c98-54b6-42df-f2a6-18f4555e3d97"
      },
      "outputs": [
        {
          "output_type": "stream",
          "name": "stdout",
          "text": [
            "rank (number of axes in the tensor)\t 3\n",
            "shape (size of each axis in the tensor)\t torch.Size([6131, 28, 28])\n"
          ]
        }
      ],
      "source": [
        "# tensors are now \"rank-3 tensor\" because they each hav 3 dimensions:\n",
        "# In this case, we can see that we have 6,131 images, each of size 28×28 pixels.\n",
        "\n",
        "stacked_threes = torch.stack(three_tensors)\n",
        "stacked_sevens = torch.stack(seven_tensors)\n",
        "\n",
        "print(\"rank (number of axes in the tensor)\\t\", stacked_threes.ndim)\n",
        "print(\"shape (size of each axis in the tensor)\\t\", stacked_threes.shape)"
      ]
    },
    {
      "cell_type": "code",
      "execution_count": 23,
      "metadata": {
        "id": "pP7HoB2AqROB",
        "colab": {
          "base_uri": "https://localhost:8080/"
        },
        "outputId": "6e1fa485-8f70-4fa5-f9ec-8e2cfb512366"
      },
      "outputs": [
        {
          "output_type": "execute_result",
          "data": {
            "text/plain": [
              "(3, 3)"
            ]
          },
          "metadata": {},
          "execution_count": 23
        }
      ],
      "source": [
        "# transform tensors by casting int values to floats, scale pixel values to fit between 0-1\n",
        "stacked_threes = stacked_threes.float()/255\n",
        "stacked_sevens = stacked_sevens.float()/255\n",
        "\n",
        "stacked_sevens.ndim, stacked_threes.ndim"
      ]
    },
    {
      "cell_type": "markdown",
      "metadata": {
        "id": "nwNYlXDvYPhR"
      },
      "source": [
        "## Find the \"ideal\" 3 and \"ideal\" 7 by taking the average\n",
        "- Compute the ideal 3: calculate the mean of all the image tensors by taking the mean along dimension 0 of our stacked, rank-3 tensor. This is the dimension that indexes over all the images.\n",
        "- In other words, for every pixel position, this will compute the average of that pixel over all images.\n",
        "- The result will be one value for every pixel position, or a single image."
      ]
    },
    {
      "cell_type": "code",
      "execution_count": 24,
      "metadata": {
        "id": "fsIofOT1Tb7F",
        "colab": {
          "base_uri": "https://localhost:8080/",
          "height": 114
        },
        "outputId": "38abe167-f78d-4551-ec72-0e50b59c3167"
      },
      "outputs": [
        {
          "output_type": "display_data",
          "data": {
            "text/plain": [
              "<Figure size 100x100 with 1 Axes>"
            ],
            "image/png": "[encoded data removed]"
          },
          "metadata": {}
        }
      ],
      "source": [
        "# get mean of every pixel (the 28x28 axes) across each image (the first axis -- 6131 images)\n",
        "mean3 = stacked_threes.mean(0) # 0 means to take the average over the images (axis 0)\n",
        "show_image(mean3);"
      ]
    },
    {
      "cell_type": "code",
      "execution_count": 25,
      "metadata": {
        "id": "SdrVeFyITb41",
        "colab": {
          "base_uri": "https://localhost:8080/",
          "height": 114
        },
        "outputId": "c96dc8c6-e7db-43ef-b33c-a5e1fa0cf1a2"
      },
      "outputs": [
        {
          "output_type": "display_data",
          "data": {
            "text/plain": [
              "<Figure size 100x100 with 1 Axes>"
            ],
            "image/png": "[encoded data removed]"
          },
          "metadata": {}
        }
      ],
      "source": [
        "# get means across 7s\n",
        "mean7 = stacked_sevens.mean(0)\n",
        "show_image(mean7);"
      ]
    },
    {
      "cell_type": "markdown",
      "metadata": {
        "id": "cA-rU9MEtVw1"
      },
      "source": [
        "## Evaluate on a single sample\n",
        "Measure distance from sample to ideal"
      ]
    },
    {
      "cell_type": "code",
      "execution_count": 26,
      "metadata": {
        "id": "1CfMoMTaTb2J",
        "colab": {
          "base_uri": "https://localhost:8080/",
          "height": 150
        },
        "outputId": "b68bb014-bf49-4bfe-a7a2-2bc3e100ca6e"
      },
      "outputs": [
        {
          "output_type": "stream",
          "name": "stdout",
          "text": [
            "rank (# axes): 2\n",
            "shape of each axis: torch.Size([28, 28])\n"
          ]
        },
        {
          "output_type": "display_data",
          "data": {
            "text/plain": [
              "<Figure size 100x100 with 1 Axes>"
            ],
            "image/png": "[encoded data removed]"
          },
          "metadata": {}
        }
      ],
      "source": [
        "# pick an arbitrary 3\n",
        "sample_3 = stacked_threes[732]\n",
        "print(\"rank (# axes):\", sample_3.ndim)\n",
        "print(\"shape of each axis:\", sample_3.shape)\n",
        "\n",
        "show_image(sample_3);\n",
        "# sample_3"
      ]
    },
    {
      "cell_type": "code",
      "execution_count": 27,
      "metadata": {
        "id": "sqT66-qhTbz0",
        "colab": {
          "base_uri": "https://localhost:8080/"
        },
        "outputId": "1780ffaf-7558-49ed-a5fa-19b59503483e"
      },
      "outputs": [
        {
          "output_type": "stream",
          "name": "stdout",
          "text": [
            "differences pixel by pixel:\t\t torch.Size([28, 28])\n",
            "average difference across all pixels:\t tensor(-0.0203)\n"
          ]
        }
      ],
      "source": [
        "# method 0: can't actually use this! demonstration only!\n",
        "# add up the differences between the sample and the ideal\n",
        "# (notice the positive and negative differences will cancel each other out)\n",
        "dontdothis = (sample_3 - mean3)\n",
        "print(\"differences pixel by pixel:\\t\\t\",dontdothis.shape)\n",
        "print(\"average difference across all pixels:\\t\", dontdothis.mean())"
      ]
    },
    {
      "cell_type": "markdown",
      "metadata": {
        "id": "yly-1KU-y2Mt"
      },
      "source": [
        "### L1 norm (mean absolute difference)\n",
        "- Take the mean of the absolute value of differences between the sample and the ideal"
      ]
    },
    {
      "cell_type": "code",
      "execution_count": 28,
      "metadata": {
        "id": "Oyfy4LoSTbxO",
        "colab": {
          "base_uri": "https://localhost:8080/"
        },
        "outputId": "60c8f185-2c48-4cb1-98a7-2c6752e399de"
      },
      "outputs": [
        {
          "output_type": "stream",
          "name": "stdout",
          "text": [
            "average difference to Ideal 3 (across all pixels):\t tensor(0.1095)\n"
          ]
        }
      ],
      "source": [
        "# L1 comparing the sample and ideal 3\n",
        "dist_3_abs = (sample_3 - mean3).abs().mean()\n",
        "# print(\"differences pixel by pixel:\\t\\t\",(a_3 - mean3).abs())\n",
        "print(\"average difference to Ideal 3 (across all pixels):\\t\", dist_3_abs)"
      ]
    },
    {
      "cell_type": "code",
      "execution_count": 29,
      "metadata": {
        "id": "-UtNTD9Tu7T7",
        "colab": {
          "base_uri": "https://localhost:8080/"
        },
        "outputId": "3aba11c4-63ad-4a7f-b759-e025bcdb296a"
      },
      "outputs": [
        {
          "output_type": "stream",
          "name": "stdout",
          "text": [
            "average difference to Ideal 7(across all pixels):\t tensor(0.1557)\n"
          ]
        }
      ],
      "source": [
        "# L1 comparing the sample and ideal 7\n",
        "dist_7_abs = (sample_3 - mean7).abs().mean()\n",
        "print(\"average difference to Ideal 7(across all pixels):\\t\", dist_7_abs)"
      ]
    },
    {
      "cell_type": "code",
      "execution_count": 30,
      "metadata": {
        "id": "iJJzhI4AvmQd",
        "colab": {
          "base_uri": "https://localhost:8080/"
        },
        "outputId": "80d5916b-3397-4e05-de41-46dc0f371980"
      },
      "outputs": [
        {
          "output_type": "execute_result",
          "data": {
            "text/plain": [
              "(tensor(0.1095), tensor(0.1557))"
            ]
          },
          "metadata": {},
          "execution_count": 30
        }
      ],
      "source": [
        "# L1 in pytorch\n",
        "import torch.nn.functional as F\n",
        "F.l1_loss(sample_3.float(), mean3), F.l1_loss(sample_3.float(), mean7)"
      ]
    },
    {
      "cell_type": "markdown",
      "metadata": {
        "id": "OKtGcbWnzDjb"
      },
      "source": [
        "### L2 norm (root mean squared error)\n",
        "- Take the mean of the square of differences between the sample and the ideal, and then take the square root of that mean\n",
        "- penalizes bigger mistakes more heavily than L1 (and is more lenient with small mistakes)"
      ]
    },
    {
      "cell_type": "code",
      "execution_count": 31,
      "metadata": {
        "id": "Ml_C5sdgTbuV",
        "colab": {
          "base_uri": "https://localhost:8080/"
        },
        "outputId": "5936d5de-9abb-4855-878d-b3b4b5b6db5b"
      },
      "outputs": [
        {
          "output_type": "stream",
          "name": "stdout",
          "text": [
            "average difference to Ideal 3 (across all pixels):\t tensor(0.1968)\n"
          ]
        }
      ],
      "source": [
        "# L2 comparing the sample and ideal 3\n",
        "dist_3_sqr = ((sample_3 - mean3)**2).mean().sqrt()\n",
        "print(\"average difference to Ideal 3 (across all pixels):\\t\", dist_3_sqr)"
      ]
    },
    {
      "cell_type": "code",
      "execution_count": 32,
      "metadata": {
        "id": "G1TFx8a4vOwj",
        "colab": {
          "base_uri": "https://localhost:8080/"
        },
        "outputId": "fc4e8123-22a2-47cb-819d-13c6dc1a75ca"
      },
      "outputs": [
        {
          "output_type": "stream",
          "name": "stdout",
          "text": [
            "average difference to Ideal 7 (across all pixels):\t tensor(0.2971)\n"
          ]
        }
      ],
      "source": [
        "# L2 comparing the sample and ideal 7\n",
        "dist_7_sqr = ((sample_3 - mean7)**2).mean().sqrt()\n",
        "print(\"average difference to Ideal 7 (across all pixels):\\t\", dist_7_sqr)"
      ]
    },
    {
      "cell_type": "code",
      "execution_count": 33,
      "metadata": {
        "id": "nkiOJ8jtvzwo",
        "colab": {
          "base_uri": "https://localhost:8080/"
        },
        "outputId": "35c7dc1a-da43-4ca1-87ac-789c2734c12d"
      },
      "outputs": [
        {
          "output_type": "execute_result",
          "data": {
            "text/plain": [
              "(tensor(0.1968), tensor(0.2971))"
            ]
          },
          "metadata": {},
          "execution_count": 33
        }
      ],
      "source": [
        "# L2 in PyTorch\n",
        "F.mse_loss(sample_3, mean3).sqrt(), F.mse_loss(sample_3, mean7).sqrt()"
      ]
    },
    {
      "cell_type": "markdown",
      "metadata": {
        "id": "n9iVGvIbze3k"
      },
      "source": [
        "### Create distance metric\n",
        "- Metrics = human-interpretable way to measure accuracy / error\n",
        "- Loss = for stochastic gradient descent"
      ]
    },
    {
      "cell_type": "code",
      "execution_count": 34,
      "metadata": {
        "id": "7E2BbnRA1Xg6"
      },
      "outputs": [],
      "source": [
        "# use L1 to measure the distance between a sample and the \"ideal\"\n",
        "def mnist_distance(a,b):\n",
        "  \"\"\"\n",
        "  The tuple (-1,-2) represents a range of axes.\n",
        "  In Python, -1 refers to the last element, and -2 refers to the second-to-last.\n",
        "  So this tells PyTorch that we want to take the mean ranging over the values\n",
        "  indexed by the last two axes of the tensor -- the horizontal and vertical dimensions of an image.\n",
        "\n",
        "  This allows the distance function to be used for a single image\n",
        "  or for multiple images (which live in axis 0).\n",
        "  \"\"\"\n",
        "  return (a-b).abs().mean((-1,-2))"
      ]
    },
    {
      "cell_type": "code",
      "execution_count": 35,
      "metadata": {
        "id": "__Rk118Q5YXm",
        "colab": {
          "base_uri": "https://localhost:8080/"
        },
        "outputId": "4ab1e992-061f-47fb-c334-27cb78a5ec4e"
      },
      "outputs": [
        {
          "output_type": "stream",
          "name": "stdout",
          "text": [
            "L1 distance from ideal 3: tensor(0.1095)\n",
            "L1 distance from ideal 7: tensor(0.1557)\n"
          ]
        }
      ],
      "source": [
        "# comparing distance from a single sample image from the ideal 3\n",
        "# both sample and ideal are single-image tensors with a shape of [28,28]\n",
        "\n",
        "sample_3_dist = mnist_distance(sample_3, mean3)\n",
        "sample_7_dist = mnist_distance(sample_3, mean7)\n",
        "\n",
        "print(\"L1 distance from ideal 3:\", sample_3_dist)\n",
        "print(\"L1 distance from ideal 7:\", sample_7_dist)"
      ]
    },
    {
      "cell_type": "markdown",
      "metadata": {
        "id": "k_UQ6pna2hBi"
      },
      "source": [
        "### Create classification function\n",
        "- See if the distance of the single image is closer to the ideal 3 or the ideal 7"
      ]
    },
    {
      "cell_type": "code",
      "execution_count": 36,
      "metadata": {
        "id": "_P-x4a2-2gPX"
      },
      "outputs": [],
      "source": [
        "def is_3(x):\n",
        "  return mnist_distance(x,mean3) < mnist_distance(x,mean7)"
      ]
    },
    {
      "cell_type": "code",
      "execution_count": 37,
      "metadata": {
        "id": "19QR6821n60W",
        "colab": {
          "base_uri": "https://localhost:8080/"
        },
        "outputId": "15178aa7-8b52-4ea4-becc-5f4d97a7c31a"
      },
      "outputs": [
        {
          "output_type": "execute_result",
          "data": {
            "text/plain": [
              "tensor(True)"
            ]
          },
          "metadata": {},
          "execution_count": 37
        }
      ],
      "source": [
        "# compare sample to ideal\n",
        "is_3(sample_3)"
      ]
    },
    {
      "cell_type": "markdown",
      "metadata": {
        "id": "ymuYcmpymtze"
      },
      "source": [
        "## Evaluate on validation set"
      ]
    },
    {
      "cell_type": "markdown",
      "metadata": {
        "id": "30TqVmn-zNTx"
      },
      "source": [
        "### Get validation set"
      ]
    },
    {
      "cell_type": "code",
      "execution_count": 38,
      "metadata": {
        "id": "L6FuvLwIEaY-",
        "colab": {
          "base_uri": "https://localhost:8080/"
        },
        "outputId": "cdc624cb-3d03-4fbc-839d-80d0a3344bb6"
      },
      "outputs": [
        {
          "output_type": "execute_result",
          "data": {
            "text/plain": [
              "(3, 3)"
            ]
          },
          "metadata": {},
          "execution_count": 38
        }
      ],
      "source": [
        "# validation set of 3s\n",
        "valid_3_tens = torch.stack(\n",
        "  [tensor(Image.open(o)) for o in (path/'valid'/'3').ls()]\n",
        ")\n",
        "valid_3_tens = valid_3_tens.float()/255\n",
        "\n",
        "# validation set of 7s\n",
        "valid_7_tens = torch.stack(\n",
        "  [tensor(Image.open(o)) for o in (path/'valid'/'7').ls()]\n",
        ")\n",
        "valid_7_tens = valid_7_tens.float()/255\n",
        "\n",
        "# each validation set is a tensor with rank 3\n",
        "valid_3_tens.ndim, valid_7_tens.ndim"
      ]
    },
    {
      "cell_type": "code",
      "execution_count": 39,
      "metadata": {
        "id": "X_zyl3fT4-Ga",
        "colab": {
          "base_uri": "https://localhost:8080/"
        },
        "outputId": "6a916d4b-8a98-457b-a028-4fc064a6f8fa"
      },
      "outputs": [
        {
          "output_type": "stream",
          "name": "stdout",
          "text": [
            "torch.Size([1010, 28, 28])\n",
            "torch.Size([1028, 28, 28])\n"
          ]
        }
      ],
      "source": [
        "# 3s validation set = 1010 images of size 28×28\n",
        "# 7s validation set = 1028 images of size 28×28.\n",
        "print(valid_3_tens.shape)\n",
        "print(valid_7_tens.shape)"
      ]
    },
    {
      "cell_type": "markdown",
      "metadata": {
        "id": "eBCpPE__4CN_"
      },
      "source": [
        "### Calculate distance metric\n",
        "- Distance b/w every image and ideal 3\n",
        "- Result = vector (rank 1 tensor) of distances from every image and ideal 3"
      ]
    },
    {
      "cell_type": "code",
      "execution_count": 40,
      "metadata": {
        "id": "xKC8RUF_m99-",
        "colab": {
          "base_uri": "https://localhost:8080/"
        },
        "outputId": "10af2b19-e336-4fc8-85ec-3ab780df5fba"
      },
      "outputs": [
        {
          "output_type": "stream",
          "name": "stdout",
          "text": [
            "rank: 1\n",
            "shape: torch.Size([1010])\n"
          ]
        },
        {
          "output_type": "execute_result",
          "data": {
            "text/plain": [
              "tensor([0.1337, 0.1188, 0.1140, 0.1233, 0.1132])"
            ]
          },
          "metadata": {},
          "execution_count": 40
        }
      ],
      "source": [
        "# compare a tensor of all images (rank 3: [1010,28,28]) to the ideal tensor (rank 2: [28,28])\n",
        "# for every image, we average the intensity of all the pixels in that image\n",
        "valid_3_dist = mnist_distance(valid_3_tens, mean3)\n",
        "\n",
        "# result = rank 1 tensor (vector) of length 1010 -- the number of images in the valdidation set\n",
        "print(\"rank:\", valid_3_dist.ndim)\n",
        "print(\"shape:\", valid_3_dist.shape)\n",
        "\n",
        "# distances between the first 5 images and the ideal 3\n",
        "valid_3_dist[0:5]"
      ]
    },
    {
      "cell_type": "markdown",
      "metadata": {
        "id": "qZFlmsea7NkY"
      },
      "source": [
        "### Classification Results"
      ]
    },
    {
      "cell_type": "code",
      "execution_count": 41,
      "metadata": {
        "id": "iIM4DnXD7gHs",
        "colab": {
          "base_uri": "https://localhost:8080/"
        },
        "outputId": "1245dd33-5b19-459e-a906-95c2c157fc2c"
      },
      "outputs": [
        {
          "output_type": "stream",
          "name": "stdout",
          "text": [
            "torch.Size([1010])\n"
          ]
        },
        {
          "output_type": "execute_result",
          "data": {
            "text/plain": [
              "tensor(0.9168)"
            ]
          },
          "metadata": {},
          "execution_count": 41
        }
      ],
      "source": [
        "# Are the 3s in the validation set predicted to be 3s?\n",
        "results_3s = is_3(valid_3_tens)\n",
        "\n",
        "print(results_3s.shape)\n",
        "accuracy_3s = results_3s.float().mean()\n",
        "accuracy_3s"
      ]
    },
    {
      "cell_type": "code",
      "execution_count": 42,
      "metadata": {
        "id": "HjRszT2tsxq5",
        "colab": {
          "base_uri": "https://localhost:8080/"
        },
        "outputId": "96a5a9c4-f2bc-4011-fde3-586a3e272167"
      },
      "outputs": [
        {
          "output_type": "execute_result",
          "data": {
            "text/plain": [
              "tensor(0.9854)"
            ]
          },
          "metadata": {},
          "execution_count": 42
        }
      ],
      "source": [
        "# Are the 7s in the validation set predicted to be 7s?\n",
        "results_7s = is_3(valid_7_tens)\n",
        "\n",
        "accuracy_7s = (1 - results_7s.float()).mean()\n",
        "accuracy_7s"
      ]
    },
    {
      "cell_type": "markdown",
      "metadata": {
        "id": "nyHTvCHq5TVj"
      },
      "source": [
        "# Aside: Stochastic Gradient Descent\n",
        "- The process of adjusting a parameter and measuring the loss (the distance to the bottom of the gradient -- here, y axis value)\n",
        "- Goal is still to find the parameter value(s) (x value) where y as at its minimum value -- aka the slope = 0"
      ]
    },
    {
      "cell_type": "code",
      "execution_count": 43,
      "metadata": {
        "id": "k8U1v5ekEq4L"
      },
      "outputs": [],
      "source": [
        "# define quadratic function\n",
        "def f(x):\n",
        "  return x**2"
      ]
    },
    {
      "cell_type": "code",
      "execution_count": 44,
      "metadata": {
        "id": "wGxmt_kREqv4",
        "colab": {
          "base_uri": "https://localhost:8080/",
          "height": 396
        },
        "outputId": "a19f996a-45a9-4dbd-e5ea-c9e47fa8fae1"
      },
      "outputs": [
        {
          "output_type": "display_data",
          "data": {
            "text/plain": [
              "<Figure size 600x400 with 1 Axes>"
            ],
            "image/png": "[encoded data removed]"
          },
          "metadata": {}
        }
      ],
      "source": [
        "# plot function\n",
        "plot_function(f, 'x', 'x**2')"
      ]
    },
    {
      "cell_type": "markdown",
      "metadata": {
        "id": "iS9Y8l_Y6_KD"
      },
      "source": [
        "## Manually"
      ]
    },
    {
      "cell_type": "markdown",
      "metadata": {
        "id": "E-LlNfVL5lh0"
      },
      "source": [
        "### Initialize a parameter\n",
        "Pick a random value for the parameter (x-axis)"
      ]
    },
    {
      "cell_type": "code",
      "execution_count": 45,
      "metadata": {
        "id": "iSFjDKbVE_n7",
        "colab": {
          "base_uri": "https://localhost:8080/",
          "height": 396
        },
        "outputId": "41c52273-c1f2-421f-9dd5-8fbc5458dbe7"
      },
      "outputs": [
        {
          "output_type": "display_data",
          "data": {
            "text/plain": [
              "<Figure size 600x400 with 1 Axes>"
            ],
            "image/png": "[encoded data removed]"
          },
          "metadata": {}
        }
      ],
      "source": [
        "x = -1.5\n",
        "plot_function(f, 'x', 'x**2')\n",
        "plt.scatter(x, f(x), color='red');"
      ]
    },
    {
      "cell_type": "markdown",
      "metadata": {
        "id": "OrxjVLV15zUr"
      },
      "source": [
        "### Measure loss\n",
        "Loss = vertical distance from the parameter (the point) to the x axis"
      ]
    },
    {
      "cell_type": "code",
      "execution_count": 46,
      "metadata": {
        "id": "XShHSnv9E_lE"
      },
      "outputs": [],
      "source": [
        "# loss = 2.25ish"
      ]
    },
    {
      "cell_type": "markdown",
      "metadata": {
        "id": "CJGs-B7g6E0b"
      },
      "source": [
        "### Step\n",
        "Change the parameter to make the slope less steep."
      ]
    },
    {
      "cell_type": "code",
      "execution_count": 47,
      "metadata": {
        "id": "Ygau2BaqE_id",
        "colab": {
          "base_uri": "https://localhost:8080/",
          "height": 396
        },
        "outputId": "a63d25d7-83d3-4441-dbe0-a2a3629eb73b"
      },
      "outputs": [
        {
          "output_type": "display_data",
          "data": {
            "text/plain": [
              "<Figure size 600x400 with 1 Axes>"
            ],
            "image/png": "[encoded data removed]"
          },
          "metadata": {}
        }
      ],
      "source": [
        "# move the parameter (the x value) a little to the right\n",
        "x = -1.0\n",
        "plot_function(f, 'x', 'x**2')\n",
        "plt.scatter(x, f(x), color='red');\n",
        "\n",
        "# loss is less now -- 1.0ish"
      ]
    },
    {
      "cell_type": "markdown",
      "metadata": {
        "id": "fFXS4AH56dhU"
      },
      "source": [
        "### Iterate"
      ]
    },
    {
      "cell_type": "code",
      "execution_count": 48,
      "metadata": {
        "id": "S6q9vdGdruSq",
        "colab": {
          "base_uri": "https://localhost:8080/",
          "height": 396
        },
        "outputId": "5fd75475-aae6-4d0d-ab01-4fa717623e13"
      },
      "outputs": [
        {
          "output_type": "display_data",
          "data": {
            "text/plain": [
              "<Figure size 600x400 with 1 Axes>"
            ],
            "image/png": "[encoded data removed]"
          },
          "metadata": {}
        }
      ],
      "source": [
        "# step again\n",
        "x = -0.5\n",
        "plot_function(f, 'x', 'x**2')\n",
        "plt.scatter(x, f(x), color='red');\n",
        "\n",
        "# loss = 0.25ish"
      ]
    },
    {
      "cell_type": "markdown",
      "metadata": {
        "id": "tzx-L96UNTie"
      },
      "source": [
        "## Using calculus to find gradient (slopes)\n",
        "- Data: rollercoaster speeds at different time points\n",
        "- Goal: find the best (quadratic) function that fits the data -- meaning finding the parameter values that optimize the quadratic function"
      ]
    },
    {
      "cell_type": "markdown",
      "metadata": {
        "id": "QAYwX91P_WlH"
      },
      "source": [
        "### Data"
      ]
    },
    {
      "cell_type": "code",
      "execution_count": 49,
      "metadata": {
        "id": "7VUgrjtq_UqJ",
        "colab": {
          "base_uri": "https://localhost:8080/",
          "height": 434
        },
        "outputId": "8ac08f8f-1cb2-4859-838c-6c02c2073e56"
      },
      "outputs": [
        {
          "output_type": "display_data",
          "data": {
            "text/plain": [
              "<Figure size 640x480 with 1 Axes>"
            ],
            "image/png": "[encoded data removed]"
          },
          "metadata": {}
        }
      ],
      "source": [
        "# make list of 20 time points (just a tensor from 0 to 20)\n",
        "time = torch.arange(0,20).float()\n",
        "\n",
        "# make possible speed times by adding noise to a quadratic function\n",
        "speed = torch.randn(20)*3 + 0.75*(time-9.5)**2 + 1\n",
        "plt.scatter(time,speed);"
      ]
    },
    {
      "cell_type": "markdown",
      "metadata": {
        "id": "uKzQCLvEKQAk"
      },
      "source": [
        "### Architecture"
      ]
    },
    {
      "cell_type": "code",
      "execution_count": 50,
      "metadata": {
        "id": "BiEpTTn17sR6"
      },
      "outputs": [],
      "source": [
        "# define a (quadratic) function that will guess the speed at a particular time\n",
        "def f(t, params):\n",
        "  \"\"\"\n",
        "  t = the time we want to guess the speed at\n",
        "  params = the parameters of a quadratic function --\n",
        "  aka the weight for the squared term (a), linear term (b), and constant (c)\n",
        "  \"\"\"\n",
        "  a,b,c = params\n",
        "  results = (a*(t**2)) + (b*t) + c\n",
        "  return results"
      ]
    },
    {
      "cell_type": "markdown",
      "metadata": {
        "id": "76qAybosOo8-"
      },
      "source": [
        "### Initialize parameter weights\n",
        "Randomly choose value(s) for parameters a, b, and c"
      ]
    },
    {
      "cell_type": "code",
      "execution_count": 51,
      "metadata": {
        "id": "ZpDJtawm7cGI",
        "colab": {
          "base_uri": "https://localhost:8080/"
        },
        "outputId": "ae6b705b-c345-4085-e654-10dfcec8fdda"
      },
      "outputs": [
        {
          "output_type": "stream",
          "name": "stdout",
          "text": [
            "tensor([-0.7658, -0.7506,  1.3525], requires_grad=True)\n"
          ]
        }
      ],
      "source": [
        "# choose the parameter values (a,b,c in the quadratic function)\n",
        "initial_params = torch.randn(3)\n",
        "\n",
        "# tags the values (so PyTorch remembers to keep track of it)\n",
        "params = tensor(initial_params).requires_grad_()\n",
        "print(params)"
      ]
    },
    {
      "cell_type": "markdown",
      "metadata": {
        "id": "5mVscC1j8muA"
      },
      "source": [
        "### Get prediction of y using the parameter (x)"
      ]
    },
    {
      "cell_type": "code",
      "execution_count": 52,
      "metadata": {
        "id": "x1GfWYWFK4wI",
        "colab": {
          "base_uri": "https://localhost:8080/"
        },
        "outputId": "71d8f05e-78ef-4dfd-9f89-015e92fe33d1"
      },
      "outputs": [
        {
          "output_type": "execute_result",
          "data": {
            "text/plain": [
              "tensor([ 1.3525e+00, -1.6391e-01, -3.2121e+00, -7.7919e+00, -1.3903e+01, -2.1547e+01, -3.0721e+01, -4.1428e+01, -5.3666e+01, -6.7436e+01, -8.2738e+01, -9.9571e+01, -1.1794e+02, -1.3783e+02,\n",
              "        -1.5926e+02, -1.8222e+02, -2.0671e+02, -2.3274e+02, -2.6029e+02, -2.8938e+02], grad_fn=<AddBackward0>)"
            ]
          },
          "metadata": {},
          "execution_count": 52
        }
      ],
      "source": [
        "# calculate predictions using the (quadratic) function we defined\n",
        "# with the initialized parameter values\n",
        "preds = f(time, params)\n",
        "preds"
      ]
    },
    {
      "cell_type": "code",
      "execution_count": 53,
      "metadata": {
        "id": "_cEw7LIBBqdA",
        "colab": {
          "base_uri": "https://localhost:8080/",
          "height": 441
        },
        "outputId": "28a1e08f-803e-4141-da72-5ded0f003e02"
      },
      "outputs": [
        {
          "output_type": "display_data",
          "data": {
            "text/plain": [
              "<Figure size 640x480 with 1 Axes>"
            ],
            "image/png": "[encoded data removed]"
          },
          "metadata": {}
        }
      ],
      "source": [
        "# show preds\n",
        "def show_preds(preds, ax=None):\n",
        "    if ax is None: ax=plt.subplots()[1]\n",
        "    ax.scatter(time, speed) # actual values\n",
        "    ax.scatter(time, to_np(preds), color='red') # predicted values\n",
        "    ax.set_ylim(-300,100)\n",
        "\n",
        "show_preds(preds)"
      ]
    },
    {
      "cell_type": "markdown",
      "metadata": {
        "id": "piqNee2mMld1"
      },
      "source": [
        "### Calculate the loss\n",
        "- Loss measures how good the model is\n",
        "- The loss function returns a value based on a prediction and a target\n",
        "- Lower loss values = better predictions"
      ]
    },
    {
      "cell_type": "code",
      "execution_count": 54,
      "metadata": {
        "id": "qWSts6_p8t7t"
      },
      "outputs": [],
      "source": [
        "# loss function = mean squared error\n",
        "def mse(preds, targets):\n",
        "  return ((preds-targets)**2).mean()"
      ]
    },
    {
      "cell_type": "code",
      "execution_count": 55,
      "metadata": {
        "id": "CLiJ2eiJB4Bs",
        "colab": {
          "base_uri": "https://localhost:8080/"
        },
        "outputId": "4d9122cd-dc0c-4259-e01f-d8cf98d3d09e"
      },
      "outputs": [
        {
          "output_type": "execute_result",
          "data": {
            "text/plain": [
              "tensor(25823.8086, grad_fn=<MeanBackward0>)"
            ]
          },
          "metadata": {},
          "execution_count": 55
        }
      ],
      "source": [
        "# get loss for these parameter weights\n",
        "loss = mse(preds, speed)\n",
        "loss"
      ]
    },
    {
      "cell_type": "markdown",
      "metadata": {
        "id": "bkiM_HLN8uqU"
      },
      "source": [
        "### Calculate the gradient (aka backpropogation)\n",
        "- Gradient measures how changing each parameter weight would change the loss\n",
        "- This is the derivative of the function at that parameter value (aka the slope)"
      ]
    },
    {
      "cell_type": "code",
      "execution_count": 56,
      "metadata": {
        "id": "h5Ngw4M5B_oK",
        "colab": {
          "base_uri": "https://localhost:8080/"
        },
        "outputId": "2aedcca9-2106-4674-bf9c-8d6495ef1ef8"
      },
      "outputs": [
        {
          "output_type": "execute_result",
          "data": {
            "text/plain": [
              "tensor([-53195.8633,  -3419.7148,   -253.8908])"
            ]
          },
          "metadata": {},
          "execution_count": 56
        }
      ],
      "source": [
        "# calculate gradient (using PyTorch's derivative function 'backward')\n",
        "loss.backward()\n",
        "\n",
        "# view the gradient (which is stored as a property of the parameter values)\n",
        "# these are the slopes at the parameter values we tagged\n",
        "gradient = params.grad\n",
        "gradient"
      ]
    },
    {
      "cell_type": "markdown",
      "metadata": {
        "id": "UIIwMXrx86cA"
      },
      "source": [
        "### Step (with a learning rate)\n",
        "- Step = change the parameter weight(s) based on the gradient\n",
        "- Learning Rate = constant (number between 0.001 and 0.1)\n",
        "- Optimizer Function = function that tells you how to adjust the parameter(s) in the direction of the slope\n",
        "  - `new_param_weight -= gradient(current_param_weight) * lr`\n",
        "  - increases the parameter(s) when the slope is negative\n",
        "  - decreases the parameter(s) when the slope is positive\n",
        "- Goal = Choose new parameter weights that minimize the loss"
      ]
    },
    {
      "cell_type": "code",
      "execution_count": 57,
      "metadata": {
        "id": "Q-21TuD184-a"
      },
      "outputs": [],
      "source": [
        "# set a learning rate (this is arbitrary for now)\n",
        "lr = 1e-5"
      ]
    },
    {
      "cell_type": "code",
      "execution_count": 58,
      "metadata": {
        "id": "3HY9nt6QCVhE",
        "colab": {
          "base_uri": "https://localhost:8080/"
        },
        "outputId": "dccefae8-5d06-4b14-c044-7c05c2e0e9f8"
      },
      "outputs": [
        {
          "output_type": "execute_result",
          "data": {
            "text/plain": [
              "tensor([-0.2339, -0.7164,  1.3551], requires_grad=True)"
            ]
          },
          "metadata": {},
          "execution_count": 58
        }
      ],
      "source": [
        "# update the parameters based on the gradients we just calculated using the optimizer function\n",
        "params.data -= lr * gradient.data # gradient.data = where the gradient info is stored\n",
        "params.grad = None # not sure what this does (keeps it from updating the params again when we don't want it to?)\n",
        "params"
      ]
    },
    {
      "cell_type": "markdown",
      "metadata": {
        "id": "nOXJtM-z8-lY"
      },
      "source": [
        "### Iterate\n",
        "- Repeat the process--predict, loss, gradient, step--until you hit some criteria to stop training\n",
        "- Each iteration represents an entirely different quadratic function being tried, on the way to finding the best possible quadratic function"
      ]
    },
    {
      "cell_type": "code",
      "execution_count": 59,
      "metadata": {
        "id": "4h-8MxoOUQpJ"
      },
      "outputs": [],
      "source": [
        "def apply_step(params, prn=True):\n",
        "  \"\"\"\n",
        "  note that this requires the lr and mse to be defined outside the function\n",
        "  \"\"\"\n",
        "  # get preds\n",
        "  preds = f(time, params)\n",
        "\n",
        "  # get loss (mse)\n",
        "  loss = mse(preds, speed)\n",
        "\n",
        "  # get gradient\n",
        "  loss.backward()\n",
        "  gradient = params.grad\n",
        "\n",
        "  # update data with optimizer function\n",
        "  params.data -= lr * gradient.data\n",
        "  params.grad = None\n",
        "\n",
        "  # print loss\n",
        "  if prn:\n",
        "    print(f\"loss, epoch {i+1} =\", loss.item())\n",
        "\n",
        "  return preds"
      ]
    },
    {
      "cell_type": "code",
      "execution_count": 60,
      "metadata": {
        "id": "r7--WfpSUQmk",
        "colab": {
          "base_uri": "https://localhost:8080/"
        },
        "outputId": "5ee57563-dff4-4863-fe18-c50c35d9cbd5"
      },
      "outputs": [
        {
          "output_type": "stream",
          "name": "stdout",
          "text": [
            "loss, epoch 1 = 5435.53564453125\n",
            "loss, epoch 2 = 1577.44921875\n",
            "loss, epoch 3 = 847.3778076171875\n",
            "loss, epoch 4 = 709.2225341796875\n",
            "loss, epoch 5 = 683.0758056640625\n",
            "loss, epoch 6 = 678.1243896484375\n",
            "loss, epoch 7 = 677.1838989257812\n",
            "loss, epoch 8 = 677.0023803710938\n",
            "loss, epoch 9 = 676.9645385742188\n",
            "loss, epoch 10 = 676.9537353515625\n"
          ]
        }
      ],
      "source": [
        "# go through process 10 times -- aka 10 epochs\n",
        "# the loss is going down!\n",
        "for i in range(10):\n",
        "  apply_step(params)"
      ]
    },
    {
      "cell_type": "code",
      "execution_count": 61,
      "metadata": {
        "id": "17Yf2U_dYokJ",
        "colab": {
          "base_uri": "https://localhost:8080/",
          "height": 302
        },
        "outputId": "2fc00ce7-00fc-4633-9a67-b4f4866dfa19"
      },
      "outputs": [
        {
          "output_type": "display_data",
          "data": {
            "text/plain": [
              "<Figure size 1200x300 with 4 Axes>"
            ],
            "image/png": "[encoded data removed]"
          },
          "metadata": {}
        }
      ],
      "source": [
        "# # visualize this process\n",
        "\n",
        "# # go back to original (random) params\n",
        "params = initial_params.detach().requires_grad_()\n",
        "\n",
        "# visualize preds\n",
        "_,axs = plt.subplots(1,4,figsize=(12,3))\n",
        "for ax in axs: show_preds(apply_step(params, False), ax)\n",
        "# plt.tight_layout()"
      ]
    },
    {
      "cell_type": "markdown",
      "metadata": {
        "id": "Cra4ixcb4dDQ"
      },
      "source": [
        "# Machine learning digit classification model\n",
        "- Use a system that learns (automatically modifies itself to improve its performance) -- aka the SGD process we outlined above\n",
        "- We can't improve the way the baseline model works by modifying a set of parameters -- need a new model"
      ]
    },
    {
      "cell_type": "markdown",
      "metadata": {
        "id": "2sMEgK0ib4Lx"
      },
      "source": [
        "## Data Preprocessing"
      ]
    },
    {
      "cell_type": "markdown",
      "metadata": {
        "id": "ev6A0RZqGmXr"
      },
      "source": [
        "#### Images"
      ]
    },
    {
      "cell_type": "code",
      "execution_count": 62,
      "metadata": {
        "id": "AHX2gnm2GP6y",
        "colab": {
          "base_uri": "https://localhost:8080/"
        },
        "outputId": "53f4ad3d-ec13-4a26-9dcd-bfb34a9d209c"
      },
      "outputs": [
        {
          "output_type": "stream",
          "name": "stdout",
          "text": [
            "torch.Size([12396, 28, 28])\n"
          ]
        }
      ],
      "source": [
        "# combine 3s and 7s into a single (rank 3) tensor\n",
        "combine_x = torch.cat([stacked_threes, stacked_sevens])\n",
        "print(combine_x.shape)"
      ]
    },
    {
      "cell_type": "code",
      "execution_count": 63,
      "metadata": {
        "id": "4lNBPsY2a8Wg",
        "colab": {
          "base_uri": "https://localhost:8080/"
        },
        "outputId": "9689fe92-a907-458a-ed05-4e38a3152f72"
      },
      "outputs": [
        {
          "output_type": "stream",
          "name": "stdout",
          "text": [
            "torch.Size([12396, 784])\n"
          ]
        }
      ],
      "source": [
        "# convert the rank-3 tensor (list of matrices) into a rank-2 tensor (list of vectors)\n",
        "# 'view' is a PyTorch method that changes shape of the tensor without changing contents\n",
        "# -1 means \"make the axis as big as necessary to fit all the data\"\n",
        "train_x = combine_x.view(-1, 28*28)\n",
        "print(train_x.shape)"
      ]
    },
    {
      "cell_type": "markdown",
      "metadata": {
        "id": "bo1KgX8Mb7oR"
      },
      "source": [
        "#### Labels\n",
        "- \"3\"s = 1\n",
        "- \"7\"s = 0"
      ]
    },
    {
      "cell_type": "code",
      "execution_count": 64,
      "metadata": {
        "id": "hGr1FJfAa8Tx",
        "colab": {
          "base_uri": "https://localhost:8080/"
        },
        "outputId": "f02c634d-ae25-4fe5-b46d-03ef0c8a0a9b"
      },
      "outputs": [
        {
          "output_type": "execute_result",
          "data": {
            "text/plain": [
              "torch.Size([12396, 1])"
            ]
          },
          "metadata": {},
          "execution_count": 64
        }
      ],
      "source": [
        "# set labels for 3s as 1 and labels for 7s as 0\n",
        "train_y = tensor([1]*len(threes) + [0]*len(sevens)).unsqueeze(1)\n",
        "train_y.shape"
      ]
    },
    {
      "cell_type": "markdown",
      "metadata": {
        "id": "oX_uynbBceLO"
      },
      "source": [
        "#### Create training set (images and labels)"
      ]
    },
    {
      "cell_type": "code",
      "execution_count": 65,
      "metadata": {
        "id": "L0WFnmvFa8RD",
        "colab": {
          "base_uri": "https://localhost:8080/"
        },
        "outputId": "b189798d-8ca2-4f63-da29-0908fe244a19"
      },
      "outputs": [
        {
          "output_type": "stream",
          "name": "stdout",
          "text": [
            "12396\n"
          ]
        }
      ],
      "source": [
        "# a Dataset in PyTorch is required to return a tuple of (x,y) when indexed\n",
        "train_dset = list(zip(train_x,train_y))\n",
        "print(len(train_dset))"
      ]
    },
    {
      "cell_type": "code",
      "execution_count": 66,
      "metadata": {
        "id": "lDAT-Zyna8OQ",
        "colab": {
          "base_uri": "https://localhost:8080/"
        },
        "outputId": "0daf0745-372e-481a-b487-6bb4c72cfffe"
      },
      "outputs": [
        {
          "output_type": "stream",
          "name": "stdout",
          "text": [
            "sample x shape: image in vector form --  torch.Size([784])\n",
            "sample y shape: its label (0=7, 1=3) --  torch.Size([1])\n"
          ]
        }
      ],
      "source": [
        "# one sample -- an image (in vector form) and its label (3 or 7)\n",
        "sample_x, sample_y = train_dset[0]\n",
        "print(\"sample x shape: image in vector form -- \", sample_x.shape)\n",
        "print(\"sample y shape: its label (0=7, 1=3) -- \", sample_y.shape)"
      ]
    },
    {
      "cell_type": "code",
      "execution_count": 67,
      "metadata": {
        "id": "fcAA8B7WIgsy",
        "colab": {
          "base_uri": "https://localhost:8080/"
        },
        "outputId": "a062b255-004a-416a-c5c3-0ac7775d277a"
      },
      "outputs": [
        {
          "output_type": "stream",
          "name": "stdout",
          "text": [
            "number of batches: 49\n"
          ]
        }
      ],
      "source": [
        "# use fastai's dataloader to get randomized batches of data for training / validation\n",
        "# this requires PyTorch's Dataset class\n",
        "train_dl = DataLoader(train_dset, batch_size=256)\n",
        "print(\"number of batches:\", len(train_dl))"
      ]
    },
    {
      "cell_type": "markdown",
      "metadata": {
        "id": "7m9v_lxfdFW7"
      },
      "source": [
        "#### Create validation set"
      ]
    },
    {
      "cell_type": "code",
      "execution_count": 68,
      "metadata": {
        "id": "1Q4pI9TTYk-w"
      },
      "outputs": [],
      "source": [
        "valid_x = torch.cat([valid_3_tens, valid_7_tens]).view(-1, 28*28)\n",
        "valid_y = tensor([1]*len(valid_3_tens) + [0]*len(valid_7_tens)).unsqueeze(1)\n",
        "valid_dset = list(zip(valid_x,valid_y))"
      ]
    },
    {
      "cell_type": "code",
      "execution_count": 69,
      "metadata": {
        "id": "6CprlRwUI0nF",
        "colab": {
          "base_uri": "https://localhost:8080/"
        },
        "outputId": "cd1a8cd9-3f67-4b89-f01e-93a77da941c0"
      },
      "outputs": [
        {
          "output_type": "stream",
          "name": "stdout",
          "text": [
            "number of batches: 8\n"
          ]
        }
      ],
      "source": [
        "valid_dl = DataLoader(valid_dset, batch_size=256)\n",
        "print(\"number of batches:\", len(valid_dl))"
      ]
    },
    {
      "cell_type": "markdown",
      "metadata": {
        "id": "Ikr6l7J5tFnD"
      },
      "source": [
        "#### Get first batch (for visualization processes)"
      ]
    },
    {
      "cell_type": "code",
      "execution_count": 70,
      "metadata": {
        "id": "nQINgoCwtb1J",
        "colab": {
          "base_uri": "https://localhost:8080/"
        },
        "outputId": "52f2100e-0941-4a1b-b912-048857f0b3dc"
      },
      "outputs": [
        {
          "output_type": "execute_result",
          "data": {
            "text/plain": [
              "(torch.Size([256, 784]), torch.Size([256, 1]))"
            ]
          },
          "metadata": {},
          "execution_count": 70
        }
      ],
      "source": [
        "# get first batch\n",
        "xb, yb = first(train_dl)\n",
        "xb.shape, yb.shape"
      ]
    },
    {
      "cell_type": "markdown",
      "metadata": {
        "id": "PiPVKJPbmpiT"
      },
      "source": [
        "## Initialize parameters (weights and bias of a model)\n",
        "- The weights are the w in the equation w*x+b,\n",
        "- and the biases are the b in that equation."
      ]
    },
    {
      "cell_type": "markdown",
      "metadata": {
        "id": "mtBbt8pJdaEV"
      },
      "source": [
        "#### Initialize Weights\n",
        "One weight for every pixel"
      ]
    },
    {
      "cell_type": "code",
      "execution_count": 71,
      "metadata": {
        "id": "61ByZfKndZtS"
      },
      "outputs": [],
      "source": [
        "# create a single random weight -- with tagging for gradient later\n",
        "def init_params(size, std=1.0):\n",
        "  return (torch.randn(size)*std).requires_grad_()"
      ]
    },
    {
      "cell_type": "code",
      "execution_count": 72,
      "metadata": {
        "id": "IFvto0FkiReZ",
        "colab": {
          "base_uri": "https://localhost:8080/"
        },
        "outputId": "8031e24b-c240-487b-b204-a119e9e955f0"
      },
      "outputs": [
        {
          "output_type": "stream",
          "name": "stdout",
          "text": [
            "torch.Size([784, 1])\n"
          ]
        },
        {
          "output_type": "execute_result",
          "data": {
            "text/plain": [
              "tensor([-1.0892], grad_fn=<SelectBackward0>)"
            ]
          },
          "metadata": {},
          "execution_count": 72
        }
      ],
      "source": [
        "# initialize weights for every pixel\n",
        "weights = init_params((28*28,1))\n",
        "print(weights.shape)\n",
        "weights[0]"
      ]
    },
    {
      "cell_type": "markdown",
      "metadata": {
        "id": "WvZ36G3bd3ak"
      },
      "source": [
        "#### Initilize Bias\n",
        "Bias = random intercept"
      ]
    },
    {
      "cell_type": "code",
      "execution_count": 73,
      "metadata": {
        "id": "HBUrc7GjdZqR",
        "colab": {
          "base_uri": "https://localhost:8080/"
        },
        "outputId": "4bd3034e-693e-44e0-cd23-f7ffb24681f3"
      },
      "outputs": [
        {
          "output_type": "execute_result",
          "data": {
            "text/plain": [
              "tensor([0.6863], requires_grad=True)"
            ]
          },
          "metadata": {},
          "execution_count": 73
        }
      ],
      "source": [
        "# create bias (random intercept)\n",
        "bias = init_params(1)\n",
        "bias"
      ]
    },
    {
      "cell_type": "markdown",
      "metadata": {
        "id": "dwEx00cMiddY"
      },
      "source": [
        "## Get Y Preds"
      ]
    },
    {
      "cell_type": "code",
      "execution_count": 74,
      "metadata": {
        "id": "Nx-ImTDGLi45"
      },
      "outputs": [],
      "source": [
        "# define the architecture we are using -- a linear model\n",
        "def linear1(xb):\n",
        "  \"\"\"\n",
        "  Plug in the first batch of x (xb) into the linear function (y = weights*x + bias)\n",
        "  (@ is the sign for matrix multiplication)\n",
        "  \"\"\"\n",
        "  y_preds = xb@weights + bias\n",
        "  return y_preds"
      ]
    },
    {
      "cell_type": "code",
      "source": [
        "# get preds for one image\n",
        "sample_image = xb[0]\n",
        "sample_preds1 = (sample_image*weights.T).sum() + bias\n",
        "sample_preds2 = linear1(sample_image)\n",
        "\n",
        "sample_preds1, sample_preds2 # these are the same!"
      ],
      "metadata": {
        "colab": {
          "base_uri": "https://localhost:8080/"
        },
        "id": "L1kFocDc1Tul",
        "outputId": "a02eb4ff-dbe7-44ff-d350-7bbdf9ece710"
      },
      "execution_count": 75,
      "outputs": [
        {
          "output_type": "execute_result",
          "data": {
            "text/plain": [
              "(tensor([3.8940], grad_fn=<AddBackward0>),\n",
              " tensor([3.8940], grad_fn=<AddBackward0>))"
            ]
          },
          "metadata": {},
          "execution_count": 75
        }
      ]
    },
    {
      "cell_type": "code",
      "execution_count": 76,
      "metadata": {
        "id": "7gct1zu1ihIf",
        "colab": {
          "base_uri": "https://localhost:8080/"
        },
        "outputId": "87b1eaab-df48-4cc4-84ee-584870fb5fb6"
      },
      "outputs": [
        {
          "output_type": "execute_result",
          "data": {
            "text/plain": [
              "torch.Size([256, 1])"
            ]
          },
          "metadata": {},
          "execution_count": 76
        }
      ],
      "source": [
        "# get preds from the first batch of the training set (xb)\n",
        "# this requires the weights and bias we defined outside the function\n",
        "preds = linear1(xb)\n",
        "preds.shape"
      ]
    },
    {
      "cell_type": "markdown",
      "metadata": {
        "id": "YK2i88cUhgWb"
      },
      "source": [
        "## Get Metric\n",
        "- Metric is a human-understandable measure of how well the predicted y values match with the true y values (vs loss, which is only for the computer)"
      ]
    },
    {
      "cell_type": "code",
      "execution_count": 77,
      "metadata": {
        "id": "V3L2ND6HhkWN"
      },
      "outputs": [],
      "source": [
        "def accuracy(preds, targets):\n",
        "  \"\"\"\n",
        "  targets = true values (0 or 1); preds = model's predicted values\n",
        "  \"\"\"\n",
        "  sigmoid_preds = preds.sigmoid()\n",
        "  correct = (sigmoid_preds>0.5) == targets\n",
        "  return correct.float().mean()"
      ]
    },
    {
      "cell_type": "code",
      "execution_count": 78,
      "metadata": {
        "id": "jhI1HGKAh41C",
        "colab": {
          "base_uri": "https://localhost:8080/"
        },
        "outputId": "45ced964-d52d-4be9-b201-ba68f372c9b5"
      },
      "outputs": [
        {
          "output_type": "execute_result",
          "data": {
            "text/plain": [
              "tensor(0.8320)"
            ]
          },
          "metadata": {},
          "execution_count": 78
        }
      ],
      "source": [
        "# get accuracy of the first batch of the training set\n",
        "# preds = predicted values from plugging in the pixels (xb) into the model architecture (linear1)\n",
        "accuracy(preds, yb)"
      ]
    },
    {
      "cell_type": "markdown",
      "metadata": {
        "id": "NkG6wYreqExh"
      },
      "source": [
        "### Get Loss\n",
        "\n",
        "- this function will measure how distant each prediction is from 1 if the true label is a 1, and how distant it is from 0 if the true label is a 0,\n",
        "- and then it will take the mean of all those distances"
      ]
    },
    {
      "cell_type": "code",
      "execution_count": 79,
      "metadata": {
        "id": "MD5G2Kw2qJYR"
      },
      "outputs": [],
      "source": [
        "# define loss function\n",
        "def mnist_loss(predictions, targets):\n",
        "  # ensure predictions are between 0 and 1 (sigmoid function)\n",
        "  smoothed_preds = predictions.sigmoid()\n",
        "\n",
        "  # measure distance\n",
        "  loss_value = torch.where(targets==1, 1-predictions, predictions).mean()\n",
        "\n",
        "  return loss_value"
      ]
    },
    {
      "cell_type": "code",
      "source": [
        "# get loss for our single sample (xb[0])\n",
        "sample_target = yb[0]\n",
        "sample_loss = mnist_loss(sample_preds1, sample_target)\n",
        "sample_loss"
      ],
      "metadata": {
        "colab": {
          "base_uri": "https://localhost:8080/"
        },
        "id": "eWDJguzl2yjt",
        "outputId": "83cd3a12-8dcb-41ea-c445-ba7ff766934d"
      },
      "execution_count": 80,
      "outputs": [
        {
          "output_type": "execute_result",
          "data": {
            "text/plain": [
              "tensor(-2.8940, grad_fn=<MeanBackward0>)"
            ]
          },
          "metadata": {},
          "execution_count": 80
        }
      ]
    },
    {
      "cell_type": "code",
      "execution_count": 81,
      "metadata": {
        "id": "Z_cUm_j7uhPM",
        "colab": {
          "base_uri": "https://localhost:8080/"
        },
        "outputId": "4d8cb0ab-97f2-48db-df0b-99a881b48337"
      },
      "outputs": [
        {
          "output_type": "execute_result",
          "data": {
            "text/plain": [
              "tensor(-4.8662, grad_fn=<MeanBackward0>)"
            ]
          },
          "metadata": {},
          "execution_count": 81
        }
      ],
      "source": [
        "# get loss for the first batch by comparing the predicted y values with the true y values for the first batch (yb)\n",
        "# recall, lower loss = better\n",
        "loss = mnist_loss(preds, yb)\n",
        "loss"
      ]
    },
    {
      "cell_type": "markdown",
      "metadata": {
        "id": "9V8XJAhGqJsE"
      },
      "source": [
        "### Get Gradient using Backpropogation"
      ]
    },
    {
      "cell_type": "code",
      "execution_count": 82,
      "metadata": {
        "id": "W8t7iCK3qKzR",
        "colab": {
          "base_uri": "https://localhost:8080/"
        },
        "outputId": "9b3bda7c-ffea-44a1-a3a1-5db3bcdbee82"
      },
      "outputs": [
        {
          "output_type": "stream",
          "name": "stdout",
          "text": [
            "shape of the weights gradient: torch.Size([784, 1])\n",
            "mean of the weights gradient: tensor(-0.1472)\n",
            "shape of the bias gradient: torch.Size([1])\n"
          ]
        }
      ],
      "source": [
        "# get gradients\n",
        "loss.backward()\n",
        "\n",
        "# weights\n",
        "print(\"shape of the weights gradient:\", weights.grad.shape)\n",
        "print(\"mean of the weights gradient:\", weights.grad.mean())\n",
        "\n",
        "# bias\n",
        "print(\"shape of the bias gradient:\", bias.grad.shape)"
      ]
    },
    {
      "cell_type": "markdown",
      "metadata": {
        "id": "j5CA2PdInKFy"
      },
      "source": [
        "### Step"
      ]
    },
    {
      "cell_type": "code",
      "execution_count": 83,
      "metadata": {
        "id": "n7zVQxHaNQIy"
      },
      "outputs": [],
      "source": [
        "# use optimizer function to update bias param\n",
        "lr = 1e5\n",
        "bias.data -= bias.grad*lr\n",
        "\n",
        "# reset gradients to 0 -- an annoying step needed in pytorch\n",
        "bias.grad.zero_();"
      ]
    },
    {
      "cell_type": "code",
      "execution_count": 84,
      "metadata": {
        "id": "pEzjo6WbNm7y"
      },
      "outputs": [],
      "source": [
        "# use optimizer function to update weight params\n",
        "weights.data -= weights.grad*lr\n",
        "weights.grad.zero_();"
      ]
    },
    {
      "cell_type": "markdown",
      "metadata": {
        "id": "5cxBbRW3Mo8R"
      },
      "source": [
        "### Iterate"
      ]
    },
    {
      "cell_type": "markdown",
      "metadata": {
        "id": "eee60-5pPUXy"
      },
      "source": [
        "#### Define functions to automate the process"
      ]
    },
    {
      "cell_type": "code",
      "execution_count": 85,
      "metadata": {
        "id": "C2guEbZcv6rT"
      },
      "outputs": [],
      "source": [
        "# function combining the preds, loss, gradient above -- for one batch\n",
        "# doesn't return anything because it confuses storing gradients on top of each other\n",
        "def calc_grad(xb, yb, model):\n",
        "  preds = model(xb)\n",
        "  loss = mnist_loss(preds, yb)\n",
        "  loss.backward()"
      ]
    },
    {
      "cell_type": "code",
      "execution_count": 86,
      "metadata": {
        "id": "CbySz4h2v6nq"
      },
      "outputs": [],
      "source": [
        "# train over the entire training set (all the mini-batches in the training set)\n",
        "def train_epoch(dl, model, lr, params):\n",
        "  # calculate preds/loss/gradient\n",
        "  for xb,yb in dl:\n",
        "    calc_grad(xb,yb,model)\n",
        "\n",
        "    # update params with the optimization function and then reset gradient\n",
        "    for p in params:\n",
        "      p.data -= p.grad*lr\n",
        "      p.grad.zero_()"
      ]
    },
    {
      "cell_type": "code",
      "execution_count": 87,
      "metadata": {
        "id": "o3gLxPZjyNbh"
      },
      "outputs": [],
      "source": [
        "# get accuracy for each batch in the validation set\n",
        "def validate_epoch(model):\n",
        "  accs = [accuracy(model(xb), yb) for xb,yb in valid_dl]\n",
        "  avg_acc = round(torch.stack(accs).mean().item(), 4)\n",
        "  return avg_acc"
      ]
    },
    {
      "cell_type": "markdown",
      "metadata": {
        "id": "hOPtmhbzPdeN"
      },
      "source": [
        "#### One epoch"
      ]
    },
    {
      "cell_type": "code",
      "execution_count": 88,
      "metadata": {
        "id": "I70CcbxsdZSm",
        "colab": {
          "base_uri": "https://localhost:8080/"
        },
        "outputId": "03218ae0-a5a6-45cd-9a11-fc96a33f77e5"
      },
      "outputs": [
        {
          "output_type": "execute_result",
          "data": {
            "text/plain": [
              "0.4932"
            ]
          },
          "metadata": {},
          "execution_count": 88
        }
      ],
      "source": [
        "lr = 1.\n",
        "params = weights,bias\n",
        "model = linear1\n",
        "\n",
        "train_epoch(train_dl, model, lr, params)\n",
        "validate_epoch(model)"
      ]
    },
    {
      "cell_type": "markdown",
      "metadata": {
        "id": "WYH2ccGWPnrL"
      },
      "source": [
        "#### 20 epochs"
      ]
    },
    {
      "cell_type": "code",
      "execution_count": 89,
      "metadata": {
        "id": "3KdEWBE50d6G",
        "colab": {
          "base_uri": "https://localhost:8080/"
        },
        "outputId": "baba8c63-cac5-4203-9957-c11e1a854218"
      },
      "outputs": [
        {
          "output_type": "stream",
          "name": "stdout",
          "text": [
            "0.4932 0.4932 0.4932 0.4932 0.4932 0.4932 0.4932 0.4932 0.4932 0.4932 0.4932 0.4932 0.4932 0.4932 0.4932 0.4932 0.4932 0.4932 0.4932 0.4932 "
          ]
        }
      ],
      "source": [
        "for i in range(20):\n",
        "  train_epoch(train_dl, model, lr, params)\n",
        "  print(validate_epoch(model), end=' ')"
      ]
    },
    {
      "cell_type": "markdown",
      "metadata": {
        "id": "iDYxRWCn1mvM"
      },
      "source": [
        "# Pytorch /FastAI ML model"
      ]
    },
    {
      "cell_type": "markdown",
      "metadata": {
        "id": "eJOjSitmRm7g"
      },
      "source": [
        "## PyTorch"
      ]
    },
    {
      "cell_type": "code",
      "execution_count": 90,
      "metadata": {
        "id": "NhxwfQDZ0tL0",
        "colab": {
          "base_uri": "https://localhost:8080/"
        },
        "outputId": "f90db08c-55d9-42fa-c672-f910d819660a"
      },
      "outputs": [
        {
          "output_type": "execute_result",
          "data": {
            "text/plain": [
              "(torch.Size([1, 784]), torch.Size([1]))"
            ]
          },
          "metadata": {},
          "execution_count": 90
        }
      ],
      "source": [
        "# pytorch linear model\n",
        "linear_model = nn.Linear(28*28,1)\n",
        "\n",
        "# this includes parameters by its design\n",
        "w,b = linear_model.parameters()\n",
        "w.shape, b.shape"
      ]
    },
    {
      "cell_type": "code",
      "execution_count": 91,
      "metadata": {
        "id": "FjbStnWE10p4"
      },
      "outputs": [],
      "source": [
        "# create optimizer to learn from loss\n",
        "class BasicOptim:\n",
        "  def __init__(self,params,lr):\n",
        "    self.params,self.lr = list(params),lr\n",
        "\n",
        "  def step(self, *args, **kwargs):\n",
        "    for p in self.params: p.data -= p.grad.data * self.lr\n",
        "\n",
        "  def zero_grad(self, *args, **kwargs):\n",
        "    for p in self.params: p.grad = None\n",
        "\n",
        "\n",
        "opt = BasicOptim(linear_model.parameters(), lr)"
      ]
    },
    {
      "cell_type": "code",
      "execution_count": 92,
      "metadata": {
        "id": "sX6n0PmP10lD"
      },
      "outputs": [],
      "source": [
        "# training single epoch\n",
        "def train_epoch(model):\n",
        "  for xb,yb in train_dl:\n",
        "    calc_grad(xb, yb, model)\n",
        "    opt.step()\n",
        "    opt.zero_grad()"
      ]
    },
    {
      "cell_type": "code",
      "execution_count": 93,
      "metadata": {
        "id": "eooggZdDRFBJ"
      },
      "outputs": [],
      "source": [
        "# train entire model\n",
        "def train_model(model, epochs):\n",
        "  for i in range(epochs):\n",
        "    train_epoch(model)\n",
        "    print(validate_epoch(model), end=' ')"
      ]
    },
    {
      "cell_type": "code",
      "execution_count": 94,
      "metadata": {
        "id": "Smzc72pB2LB1",
        "colab": {
          "base_uri": "https://localhost:8080/"
        },
        "outputId": "35412565-dd30-4e68-a0a9-1320a0b4a6b5"
      },
      "outputs": [
        {
          "output_type": "stream",
          "name": "stdout",
          "text": [
            "0.9533 0.9533 0.9533 0.9533 0.9533 0.9533 0.9533 0.9533 0.9533 0.9533 0.9533 0.9533 0.9533 0.9533 0.9533 0.9533 0.9533 0.9533 0.9533 0.9533 "
          ]
        }
      ],
      "source": [
        "# train 20 epochs\n",
        "train_model(linear_model, 20)"
      ]
    },
    {
      "cell_type": "markdown",
      "metadata": {
        "id": "8obGvAPR2SPE"
      },
      "source": [
        "## FastAI"
      ]
    },
    {
      "cell_type": "code",
      "source": [
        "# data loader (required input for fastai)\n",
        "train_dl = DataLoader(train_dset, batch_size=256)\n",
        "train_dl = DataLoader(train_dset, batch_size=256)\n",
        "dls = DataLoaders(train_dl, valid_dl)"
      ],
      "metadata": {
        "id": "N5N3pXEV67Gc"
      },
      "execution_count": 95,
      "outputs": []
    },
    {
      "cell_type": "code",
      "source": [
        "# same functions as above\n",
        "def mnist_loss(predictions, targets):\n",
        "  predictions = predictions.sigmoid()\n",
        "  return torch.where(targets==1, 1-predictions, predictions).mean()\n",
        "\n",
        "def accuracy(xb, yb):\n",
        "  preds = xb.sigmoid()\n",
        "  correct = (preds>0.5) == yb\n",
        "  return correct.float().mean()"
      ],
      "metadata": {
        "id": "KgP7MJhmOxgM"
      },
      "execution_count": 96,
      "outputs": []
    },
    {
      "cell_type": "code",
      "execution_count": 97,
      "metadata": {
        "id": "FjSO4_oD2epG"
      },
      "outputs": [],
      "source": [
        "# fastai Learner\n",
        "learn = Learner(\n",
        "  dls, # dataloaders\n",
        "  nn.Linear(28*28,1),  # same linear model as pytorch\n",
        "  opt_func=SGD, # built in optimization function\n",
        "  loss_func=mnist_loss, # loss function\n",
        "  metrics=accuracy # metrics\n",
        ")"
      ]
    },
    {
      "cell_type": "code",
      "source": [
        "# fit 10 epochs: get results from validation set\n",
        "n_epochs, lr = 10, 1.\n",
        "learn.fit(n_epochs, lr=lr)"
      ],
      "metadata": {
        "colab": {
          "base_uri": "https://localhost:8080/",
          "height": 363
        },
        "id": "Yon8MCk8x1Oh",
        "outputId": "28496acc-bef5-4d99-aec6-9db9eb3a0381"
      },
      "execution_count": 98,
      "outputs": [
        {
          "output_type": "display_data",
          "data": {
            "text/plain": [
              "<IPython.core.display.HTML object>"
            ],
            "text/html": [
              "\n",
              "<style>\n",
              "    /* Turns off some styling */\n",
              "    progress {\n",
              "        /* gets rid of default border in Firefox and Opera. */\n",
              "        border: none;\n",
              "        /* Needs to be in here for Safari polyfill so background images work as expected. */\n",
              "        background-size: auto;\n",
              "    }\n",
              "    progress:not([value]), progress:not([value])::-webkit-progress-bar {\n",
              "        background: repeating-linear-gradient(45deg, #7e7e7e, #7e7e7e 10px, #5c5c5c 10px, #5c5c5c 20px);\n",
              "    }\n",
              "    .progress-bar-interrupted, .progress-bar-interrupted::-webkit-progress-bar {\n",
              "        background: #F44336;\n",
              "    }\n",
              "</style>\n"
            ]
          },
          "metadata": {}
        },
        {
          "output_type": "display_data",
          "data": {
            "text/plain": [
              "<IPython.core.display.HTML object>"
            ],
            "text/html": [
              "<table border=\"1\" class=\"dataframe\">\n",
              "  <thead>\n",
              "    <tr style=\"text-align: left;\">\n",
              "      <th>epoch</th>\n",
              "      <th>train_loss</th>\n",
              "      <th>valid_loss</th>\n",
              "      <th>accuracy</th>\n",
              "      <th>time</th>\n",
              "    </tr>\n",
              "  </thead>\n",
              "  <tbody>\n",
              "    <tr>\n",
              "      <td>0</td>\n",
              "      <td>0.637416</td>\n",
              "      <td>0.503248</td>\n",
              "      <td>0.495584</td>\n",
              "      <td>00:00</td>\n",
              "    </tr>\n",
              "    <tr>\n",
              "      <td>1</td>\n",
              "      <td>0.457872</td>\n",
              "      <td>0.243152</td>\n",
              "      <td>0.783611</td>\n",
              "      <td>00:00</td>\n",
              "    </tr>\n",
              "    <tr>\n",
              "      <td>2</td>\n",
              "      <td>0.171015</td>\n",
              "      <td>0.171531</td>\n",
              "      <td>0.846909</td>\n",
              "      <td>00:00</td>\n",
              "    </tr>\n",
              "    <tr>\n",
              "      <td>3</td>\n",
              "      <td>0.076547</td>\n",
              "      <td>0.103520</td>\n",
              "      <td>0.913150</td>\n",
              "      <td>00:00</td>\n",
              "    </tr>\n",
              "    <tr>\n",
              "      <td>4</td>\n",
              "      <td>0.041575</td>\n",
              "      <td>0.076180</td>\n",
              "      <td>0.933759</td>\n",
              "      <td>00:00</td>\n",
              "    </tr>\n",
              "    <tr>\n",
              "      <td>5</td>\n",
              "      <td>0.027813</td>\n",
              "      <td>0.061291</td>\n",
              "      <td>0.947988</td>\n",
              "      <td>00:00</td>\n",
              "    </tr>\n",
              "    <tr>\n",
              "      <td>6</td>\n",
              "      <td>0.022090</td>\n",
              "      <td>0.051976</td>\n",
              "      <td>0.956330</td>\n",
              "      <td>00:00</td>\n",
              "    </tr>\n",
              "    <tr>\n",
              "      <td>7</td>\n",
              "      <td>0.019498</td>\n",
              "      <td>0.045771</td>\n",
              "      <td>0.963199</td>\n",
              "      <td>00:00</td>\n",
              "    </tr>\n",
              "    <tr>\n",
              "      <td>8</td>\n",
              "      <td>0.018155</td>\n",
              "      <td>0.041412</td>\n",
              "      <td>0.966143</td>\n",
              "      <td>00:00</td>\n",
              "    </tr>\n",
              "    <tr>\n",
              "      <td>9</td>\n",
              "      <td>0.017336</td>\n",
              "      <td>0.038200</td>\n",
              "      <td>0.967615</td>\n",
              "      <td>00:00</td>\n",
              "    </tr>\n",
              "  </tbody>\n",
              "</table>"
            ]
          },
          "metadata": {}
        }
      ]
    },
    {
      "cell_type": "markdown",
      "metadata": {
        "id": "rIFSrrvK41uS"
      },
      "source": [
        "# Neural Net\n",
        "Allows you to model nonlinear components to the SGD / ML process above"
      ]
    },
    {
      "cell_type": "markdown",
      "metadata": {
        "id": "3W8KQEwP44OA"
      },
      "source": [
        "### Data"
      ]
    },
    {
      "cell_type": "code",
      "execution_count": 99,
      "metadata": {
        "id": "ujWstv_k3RFf"
      },
      "outputs": [],
      "source": [
        "# same data as before\n",
        "train_dl = DataLoader(train_dset, batch_size=256)\n",
        "valid_dl = DataLoader(valid_dset, batch_size=256)\n",
        "dls = DataLoaders(train_dl, valid_dl)"
      ]
    },
    {
      "cell_type": "markdown",
      "metadata": {
        "id": "21WbHRavW4MX"
      },
      "source": [
        "### Define model architecture\n",
        "- a simple NN is two linear classifiers with a max function between them"
      ]
    },
    {
      "cell_type": "code",
      "execution_count": 100,
      "metadata": {
        "id": "iXgx09l05Cz0"
      },
      "outputs": [],
      "source": [
        "def simple_net(xb):\n",
        "  \"\"\"\n",
        "  w1 and w2 are weight tensors\n",
        "  b1 and b2 are bias tensors\n",
        "  \"\"\"\n",
        "\n",
        "  # layer 1: linear classifier\n",
        "  res = xb@w1 + b1\n",
        "\n",
        "  # layer 2: nonlinear layer (aka activation function)\n",
        "  # ReLU (rectified linear unit) function -- replace every negative number with a zero\n",
        "  res = res.max(tensor(0.0))\n",
        "\n",
        "  # layer 3: linear classifier\n",
        "  res = res@w2 + b2\n",
        "\n",
        "  return res"
      ]
    },
    {
      "cell_type": "code",
      "execution_count": 101,
      "metadata": {
        "id": "lx3HDmyxXINK"
      },
      "outputs": [],
      "source": [
        "# alternatively -- pytorch version\n",
        "# note -- this initializes the parameters, too\n",
        "pytorch_net = nn.Sequential(\n",
        "  nn.Linear(28*28,30),\n",
        "  nn.ReLU(),\n",
        "  nn.Linear(30,1)\n",
        ")"
      ]
    },
    {
      "cell_type": "markdown",
      "metadata": {
        "id": "jYWN8a7y61Be"
      },
      "source": [
        "### Initialize Parameters\n",
        "If not using the Pytorch version"
      ]
    },
    {
      "cell_type": "code",
      "execution_count": 102,
      "metadata": {
        "id": "2NE9IPrl49yx"
      },
      "outputs": [],
      "source": [
        "# # parameters that are randomly initialized\n",
        "# w1 = init_params((28*28,30))\n",
        "# b1 = init_params(30)\n",
        "\n",
        "# w2 = init_params((30,1))\n",
        "# b2 = init_params(1)"
      ]
    },
    {
      "cell_type": "markdown",
      "metadata": {
        "id": "LcPZO3Ov_byZ"
      },
      "source": [
        "### Create FastAI Learner"
      ]
    },
    {
      "cell_type": "code",
      "execution_count": 103,
      "metadata": {
        "id": "d9QpqW3Z7KNy"
      },
      "outputs": [],
      "source": [
        "learn = Learner(\n",
        "  dls,\n",
        "  pytorch_net,\n",
        "  opt_func=SGD,\n",
        "  loss_func=mnist_loss,\n",
        "  metrics=accuracy\n",
        ")"
      ]
    },
    {
      "cell_type": "markdown",
      "metadata": {
        "id": "pND0NcAD5JQ4"
      },
      "source": [
        "### Fit the Model"
      ]
    },
    {
      "cell_type": "code",
      "execution_count": 104,
      "metadata": {
        "id": "v2beENcN5MRW",
        "colab": {
          "base_uri": "https://localhost:8080/",
          "height": 1000
        },
        "outputId": "187032e7-b280-47f1-92b7-65629d9c53f8"
      },
      "outputs": [
        {
          "output_type": "display_data",
          "data": {
            "text/plain": [
              "<IPython.core.display.HTML object>"
            ],
            "text/html": [
              "\n",
              "<style>\n",
              "    /* Turns off some styling */\n",
              "    progress {\n",
              "        /* gets rid of default border in Firefox and Opera. */\n",
              "        border: none;\n",
              "        /* Needs to be in here for Safari polyfill so background images work as expected. */\n",
              "        background-size: auto;\n",
              "    }\n",
              "    progress:not([value]), progress:not([value])::-webkit-progress-bar {\n",
              "        background: repeating-linear-gradient(45deg, #7e7e7e, #7e7e7e 10px, #5c5c5c 10px, #5c5c5c 20px);\n",
              "    }\n",
              "    .progress-bar-interrupted, .progress-bar-interrupted::-webkit-progress-bar {\n",
              "        background: #F44336;\n",
              "    }\n",
              "</style>\n"
            ]
          },
          "metadata": {}
        },
        {
          "output_type": "display_data",
          "data": {
            "text/plain": [
              "<IPython.core.display.HTML object>"
            ],
            "text/html": [
              "<table border=\"1\" class=\"dataframe\">\n",
              "  <thead>\n",
              "    <tr style=\"text-align: left;\">\n",
              "      <th>epoch</th>\n",
              "      <th>train_loss</th>\n",
              "      <th>valid_loss</th>\n",
              "      <th>accuracy</th>\n",
              "      <th>time</th>\n",
              "    </tr>\n",
              "  </thead>\n",
              "  <tbody>\n",
              "    <tr>\n",
              "      <td>0</td>\n",
              "      <td>0.309501</td>\n",
              "      <td>0.408556</td>\n",
              "      <td>0.505888</td>\n",
              "      <td>00:00</td>\n",
              "    </tr>\n",
              "    <tr>\n",
              "      <td>1</td>\n",
              "      <td>0.144519</td>\n",
              "      <td>0.229224</td>\n",
              "      <td>0.803238</td>\n",
              "      <td>00:00</td>\n",
              "    </tr>\n",
              "    <tr>\n",
              "      <td>2</td>\n",
              "      <td>0.080234</td>\n",
              "      <td>0.115792</td>\n",
              "      <td>0.917566</td>\n",
              "      <td>00:00</td>\n",
              "    </tr>\n",
              "    <tr>\n",
              "      <td>3</td>\n",
              "      <td>0.052863</td>\n",
              "      <td>0.078238</td>\n",
              "      <td>0.940137</td>\n",
              "      <td>00:00</td>\n",
              "    </tr>\n",
              "    <tr>\n",
              "      <td>4</td>\n",
              "      <td>0.040140</td>\n",
              "      <td>0.061121</td>\n",
              "      <td>0.955348</td>\n",
              "      <td>00:00</td>\n",
              "    </tr>\n",
              "    <tr>\n",
              "      <td>5</td>\n",
              "      <td>0.033635</td>\n",
              "      <td>0.051486</td>\n",
              "      <td>0.962218</td>\n",
              "      <td>00:00</td>\n",
              "    </tr>\n",
              "    <tr>\n",
              "      <td>6</td>\n",
              "      <td>0.029901</td>\n",
              "      <td>0.045410</td>\n",
              "      <td>0.965162</td>\n",
              "      <td>00:00</td>\n",
              "    </tr>\n",
              "    <tr>\n",
              "      <td>7</td>\n",
              "      <td>0.027477</td>\n",
              "      <td>0.041260</td>\n",
              "      <td>0.967615</td>\n",
              "      <td>00:00</td>\n",
              "    </tr>\n",
              "    <tr>\n",
              "      <td>8</td>\n",
              "      <td>0.025731</td>\n",
              "      <td>0.038246</td>\n",
              "      <td>0.968106</td>\n",
              "      <td>00:00</td>\n",
              "    </tr>\n",
              "    <tr>\n",
              "      <td>9</td>\n",
              "      <td>0.024376</td>\n",
              "      <td>0.035951</td>\n",
              "      <td>0.971050</td>\n",
              "      <td>00:00</td>\n",
              "    </tr>\n",
              "    <tr>\n",
              "      <td>10</td>\n",
              "      <td>0.023275</td>\n",
              "      <td>0.034133</td>\n",
              "      <td>0.971541</td>\n",
              "      <td>00:00</td>\n",
              "    </tr>\n",
              "    <tr>\n",
              "      <td>11</td>\n",
              "      <td>0.022354</td>\n",
              "      <td>0.032647</td>\n",
              "      <td>0.972522</td>\n",
              "      <td>00:00</td>\n",
              "    </tr>\n",
              "    <tr>\n",
              "      <td>12</td>\n",
              "      <td>0.021568</td>\n",
              "      <td>0.031400</td>\n",
              "      <td>0.974485</td>\n",
              "      <td>00:00</td>\n",
              "    </tr>\n",
              "    <tr>\n",
              "      <td>13</td>\n",
              "      <td>0.020887</td>\n",
              "      <td>0.030334</td>\n",
              "      <td>0.974975</td>\n",
              "      <td>00:00</td>\n",
              "    </tr>\n",
              "    <tr>\n",
              "      <td>14</td>\n",
              "      <td>0.020289</td>\n",
              "      <td>0.029406</td>\n",
              "      <td>0.975466</td>\n",
              "      <td>00:00</td>\n",
              "    </tr>\n",
              "    <tr>\n",
              "      <td>15</td>\n",
              "      <td>0.019759</td>\n",
              "      <td>0.028588</td>\n",
              "      <td>0.976448</td>\n",
              "      <td>00:00</td>\n",
              "    </tr>\n",
              "    <tr>\n",
              "      <td>16</td>\n",
              "      <td>0.019284</td>\n",
              "      <td>0.027859</td>\n",
              "      <td>0.976938</td>\n",
              "      <td>00:00</td>\n",
              "    </tr>\n",
              "    <tr>\n",
              "      <td>17</td>\n",
              "      <td>0.018856</td>\n",
              "      <td>0.027206</td>\n",
              "      <td>0.977920</td>\n",
              "      <td>00:00</td>\n",
              "    </tr>\n",
              "    <tr>\n",
              "      <td>18</td>\n",
              "      <td>0.018467</td>\n",
              "      <td>0.026616</td>\n",
              "      <td>0.977920</td>\n",
              "      <td>00:00</td>\n",
              "    </tr>\n",
              "    <tr>\n",
              "      <td>19</td>\n",
              "      <td>0.018111</td>\n",
              "      <td>0.026081</td>\n",
              "      <td>0.977920</td>\n",
              "      <td>00:00</td>\n",
              "    </tr>\n",
              "    <tr>\n",
              "      <td>20</td>\n",
              "      <td>0.017784</td>\n",
              "      <td>0.025593</td>\n",
              "      <td>0.978901</td>\n",
              "      <td>00:00</td>\n",
              "    </tr>\n",
              "    <tr>\n",
              "      <td>21</td>\n",
              "      <td>0.017481</td>\n",
              "      <td>0.025147</td>\n",
              "      <td>0.978901</td>\n",
              "      <td>00:00</td>\n",
              "    </tr>\n",
              "    <tr>\n",
              "      <td>22</td>\n",
              "      <td>0.017199</td>\n",
              "      <td>0.024737</td>\n",
              "      <td>0.978901</td>\n",
              "      <td>00:00</td>\n",
              "    </tr>\n",
              "    <tr>\n",
              "      <td>23</td>\n",
              "      <td>0.016937</td>\n",
              "      <td>0.024359</td>\n",
              "      <td>0.979882</td>\n",
              "      <td>00:00</td>\n",
              "    </tr>\n",
              "    <tr>\n",
              "      <td>24</td>\n",
              "      <td>0.016691</td>\n",
              "      <td>0.024009</td>\n",
              "      <td>0.980864</td>\n",
              "      <td>00:00</td>\n",
              "    </tr>\n",
              "    <tr>\n",
              "      <td>25</td>\n",
              "      <td>0.016460</td>\n",
              "      <td>0.023685</td>\n",
              "      <td>0.980864</td>\n",
              "      <td>00:00</td>\n",
              "    </tr>\n",
              "    <tr>\n",
              "      <td>26</td>\n",
              "      <td>0.016243</td>\n",
              "      <td>0.023384</td>\n",
              "      <td>0.980864</td>\n",
              "      <td>00:00</td>\n",
              "    </tr>\n",
              "    <tr>\n",
              "      <td>27</td>\n",
              "      <td>0.016037</td>\n",
              "      <td>0.023103</td>\n",
              "      <td>0.980864</td>\n",
              "      <td>00:00</td>\n",
              "    </tr>\n",
              "    <tr>\n",
              "      <td>28</td>\n",
              "      <td>0.015842</td>\n",
              "      <td>0.022841</td>\n",
              "      <td>0.981354</td>\n",
              "      <td>00:00</td>\n",
              "    </tr>\n",
              "    <tr>\n",
              "      <td>29</td>\n",
              "      <td>0.015657</td>\n",
              "      <td>0.022597</td>\n",
              "      <td>0.981354</td>\n",
              "      <td>00:00</td>\n",
              "    </tr>\n",
              "    <tr>\n",
              "      <td>30</td>\n",
              "      <td>0.015481</td>\n",
              "      <td>0.022369</td>\n",
              "      <td>0.981845</td>\n",
              "      <td>00:00</td>\n",
              "    </tr>\n",
              "    <tr>\n",
              "      <td>31</td>\n",
              "      <td>0.015314</td>\n",
              "      <td>0.022155</td>\n",
              "      <td>0.982336</td>\n",
              "      <td>00:00</td>\n",
              "    </tr>\n",
              "    <tr>\n",
              "      <td>32</td>\n",
              "      <td>0.015154</td>\n",
              "      <td>0.021954</td>\n",
              "      <td>0.981845</td>\n",
              "      <td>00:00</td>\n",
              "    </tr>\n",
              "    <tr>\n",
              "      <td>33</td>\n",
              "      <td>0.015002</td>\n",
              "      <td>0.021766</td>\n",
              "      <td>0.981845</td>\n",
              "      <td>00:00</td>\n",
              "    </tr>\n",
              "    <tr>\n",
              "      <td>34</td>\n",
              "      <td>0.014856</td>\n",
              "      <td>0.021589</td>\n",
              "      <td>0.981845</td>\n",
              "      <td>00:00</td>\n",
              "    </tr>\n",
              "    <tr>\n",
              "      <td>35</td>\n",
              "      <td>0.014716</td>\n",
              "      <td>0.021422</td>\n",
              "      <td>0.982336</td>\n",
              "      <td>00:00</td>\n",
              "    </tr>\n",
              "    <tr>\n",
              "      <td>36</td>\n",
              "      <td>0.014581</td>\n",
              "      <td>0.021265</td>\n",
              "      <td>0.982826</td>\n",
              "      <td>00:00</td>\n",
              "    </tr>\n",
              "    <tr>\n",
              "      <td>37</td>\n",
              "      <td>0.014452</td>\n",
              "      <td>0.021116</td>\n",
              "      <td>0.982826</td>\n",
              "      <td>00:00</td>\n",
              "    </tr>\n",
              "    <tr>\n",
              "      <td>38</td>\n",
              "      <td>0.014327</td>\n",
              "      <td>0.020974</td>\n",
              "      <td>0.982826</td>\n",
              "      <td>00:00</td>\n",
              "    </tr>\n",
              "    <tr>\n",
              "      <td>39</td>\n",
              "      <td>0.014207</td>\n",
              "      <td>0.020840</td>\n",
              "      <td>0.982826</td>\n",
              "      <td>00:00</td>\n",
              "    </tr>\n",
              "  </tbody>\n",
              "</table>"
            ]
          },
          "metadata": {}
        }
      ],
      "source": [
        "n_epochs = 40\n",
        "lr = 0.1\n",
        "learn.fit(n_epochs, lr)"
      ]
    },
    {
      "cell_type": "markdown",
      "metadata": {
        "id": "PAzA-ajyADmm"
      },
      "source": [
        "### Evaluate"
      ]
    },
    {
      "cell_type": "code",
      "execution_count": 105,
      "metadata": {
        "id": "NNE-qdr05WYU",
        "colab": {
          "base_uri": "https://localhost:8080/",
          "height": 436
        },
        "outputId": "1612ea89-f752-4219-fff4-dcebd08dd7ed"
      },
      "outputs": [
        {
          "output_type": "display_data",
          "data": {
            "text/plain": [
              "<Figure size 640x480 with 1 Axes>"
            ],
            "image/png": "[encoded data removed]"
          },
          "metadata": {}
        }
      ],
      "source": [
        "plt.plot(L(learn.recorder.values).itemgot(2));"
      ]
    },
    {
      "cell_type": "code",
      "execution_count": 106,
      "metadata": {
        "id": "znUmoEGdAH9g",
        "colab": {
          "base_uri": "https://localhost:8080/"
        },
        "outputId": "1647dbde-fd15-460f-8b2d-a3f7aa61426a"
      },
      "outputs": [
        {
          "output_type": "execute_result",
          "data": {
            "text/plain": [
              "0.982826292514801"
            ]
          },
          "metadata": {},
          "execution_count": 106
        }
      ],
      "source": [
        "# accuracy\n",
        "learn.recorder.values[-1][2]"
      ]
    },
    {
      "cell_type": "code",
      "execution_count": 106,
      "metadata": {
        "id": "BT4d8KqlAIbg"
      },
      "outputs": [],
      "source": []
    }
  ],
  "metadata": {
    "accelerator": "GPU",
    "colab": {
      "collapsed_sections": [
        "hTM6ZALaGNBM"
      ],
      "machine_shape": "hm",
      "provenance": [],
      "gpuType": "A100"
    },
    "kernelspec": {
      "display_name": "Python 3",
      "name": "python3"
    },
    "language_info": {
      "name": "python"
    }
  },
  "nbformat": 4,
  "nbformat_minor": 0
}