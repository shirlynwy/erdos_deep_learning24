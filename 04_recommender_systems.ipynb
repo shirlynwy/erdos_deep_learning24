{
  "nbformat": 4,
  "nbformat_minor": 0,
  "metadata": {
    "colab": {
      "provenance": [],
      "machine_shape": "hm",
      "gpuType": "V100"
    },
    "kernelspec": {
      "name": "python3",
      "display_name": "Python 3"
    },
    "language_info": {
      "name": "python"
    },
    "accelerator": "GPU"
  },
  "cells": [
    {
      "cell_type": "markdown",
      "source": [
        "# Recommender Systems (Collaborative Filtering)\n",
        "\n",
        "This notebook is based on fastai's **[Chapter 8](https://github.com/fastai/fastbook/blob/master/08_collab.ipynb)**.\n",
        "\n",
        "Please read that chapter before looking at this review.\n",
        "\n",
        "*I suggest opening this notebook in Colab (where it can be easier to use GPU).*\n",
        "*If you want to run it locally, set up the **deep-learning** environment in your terminal with `conda env create -f environment.yml` and activate it in your preferred IDE.*"
      ],
      "metadata": {
        "id": "LcPqoHdZJaDS"
      }
    },
    {
      "cell_type": "code",
      "execution_count": 1,
      "metadata": {
        "id": "jo-Ln41_axDs",
        "colab": {
          "base_uri": "https://localhost:8080/"
        },
        "outputId": "e18e5cbc-8304-4daf-c6e7-49c58bb47696"
      },
      "outputs": [
        {
          "output_type": "stream",
          "name": "stdout",
          "text": [
            "\u001b[2K     \u001b[90m━━━━━━━━━━━━━━━━━━━━━━━━━━━━━━━━━━━━━━━━\u001b[0m \u001b[32m719.8/719.8 kB\u001b[0m \u001b[31m8.7 MB/s\u001b[0m eta \u001b[36m0:00:00\u001b[0m\n",
            "\u001b[2K     \u001b[90m━━━━━━━━━━━━━━━━━━━━━━━━━━━━━━━━━━━━━━━━\u001b[0m \u001b[32m507.1/507.1 kB\u001b[0m \u001b[31m13.9 MB/s\u001b[0m eta \u001b[36m0:00:00\u001b[0m\n",
            "\u001b[2K     \u001b[90m━━━━━━━━━━━━━━━━━━━━━━━━━━━━━━━━━━━━━━━━\u001b[0m \u001b[32m1.3/1.3 MB\u001b[0m \u001b[31m24.2 MB/s\u001b[0m eta \u001b[36m0:00:00\u001b[0m\n",
            "\u001b[2K     \u001b[90m━━━━━━━━━━━━━━━━━━━━━━━━━━━━━━━━━━━━━━━━\u001b[0m \u001b[32m115.3/115.3 kB\u001b[0m \u001b[31m12.4 MB/s\u001b[0m eta \u001b[36m0:00:00\u001b[0m\n",
            "\u001b[2K     \u001b[90m━━━━━━━━━━━━━━━━━━━━━━━━━━━━━━━━━━━━━━━━\u001b[0m \u001b[32m134.8/134.8 kB\u001b[0m \u001b[31m13.6 MB/s\u001b[0m eta \u001b[36m0:00:00\u001b[0m\n",
            "\u001b[2K     \u001b[90m━━━━━━━━━━━━━━━━━━━━━━━━━━━━━━━━━━━━━━━━\u001b[0m \u001b[32m1.6/1.6 MB\u001b[0m \u001b[31m27.9 MB/s\u001b[0m eta \u001b[36m0:00:00\u001b[0m\n",
            "\u001b[?25hMounted at /content/gdrive\n"
          ]
        }
      ],
      "source": [
        "### FOR COLAB USERS ###\n",
        "! [ -e /content ] && pip install -Uqq fastbook\n",
        "import fastbook\n",
        "fastbook.setup_book()"
      ]
    },
    {
      "cell_type": "code",
      "source": [
        "# ### FOR LOCAL USERS ###\n",
        "# import fastai\n",
        "# print(fastai.__version__)\n",
        "\n",
        "# ! pip install -Uqq fastbook\n",
        "# import fastbook\n",
        "# fastbook.setup_book()"
      ],
      "metadata": {
        "id": "gdKky8a_JnlG"
      },
      "execution_count": null,
      "outputs": []
    },
    {
      "cell_type": "code",
      "source": [
        "from fastbook import *\n",
        "from fastai.collab import *\n",
        "from fastai.tabular.all import *"
      ],
      "metadata": {
        "id": "RjkZdFNNa4Bf"
      },
      "execution_count": 3,
      "outputs": []
    },
    {
      "cell_type": "markdown",
      "source": [
        "# Data\n",
        "Movie rankings (movie ID, user ID, numeric rating)"
      ],
      "metadata": {
        "id": "qSA4DRlhblg5"
      }
    },
    {
      "cell_type": "code",
      "source": [
        "path = untar_data(URLs.ML_100k)"
      ],
      "metadata": {
        "id": "xsFNBNdVg24Y",
        "colab": {
          "base_uri": "https://localhost:8080/",
          "height": 37
        },
        "outputId": "bee8f7c3-a1f3-470e-fe61-d4fa81902e3d"
      },
      "execution_count": 4,
      "outputs": [
        {
          "output_type": "display_data",
          "data": {
            "text/plain": [
              "<IPython.core.display.HTML object>"
            ],
            "text/html": [
              "\n",
              "<style>\n",
              "    /* Turns off some styling */\n",
              "    progress {\n",
              "        /* gets rid of default border in Firefox and Opera. */\n",
              "        border: none;\n",
              "        /* Needs to be in here for Safari polyfill so background images work as expected. */\n",
              "        background-size: auto;\n",
              "    }\n",
              "    progress:not([value]), progress:not([value])::-webkit-progress-bar {\n",
              "        background: repeating-linear-gradient(45deg, #7e7e7e, #7e7e7e 10px, #5c5c5c 10px, #5c5c5c 20px);\n",
              "    }\n",
              "    .progress-bar-interrupted, .progress-bar-interrupted::-webkit-progress-bar {\n",
              "        background: #F44336;\n",
              "    }\n",
              "</style>\n"
            ]
          },
          "metadata": {}
        },
        {
          "output_type": "display_data",
          "data": {
            "text/plain": [
              "<IPython.core.display.HTML object>"
            ],
            "text/html": [
              "\n",
              "    <div>\n",
              "      <progress value='4931584' class='' max='4924029' style='width:300px; height:20px; vertical-align: middle;'></progress>\n",
              "      100.15% [4931584/4924029 00:00&lt;00:00]\n",
              "    </div>\n",
              "    "
            ]
          },
          "metadata": {}
        }
      ]
    },
    {
      "cell_type": "code",
      "source": [
        "# user ratings\n",
        "ratings = pd.read_csv(\n",
        "  path/'u.data', delimiter='\\t', header=None,\n",
        "  names=['user','movie','rating','timestamp']\n",
        ")\n",
        "\n",
        "ratings.head(1)"
      ],
      "metadata": {
        "colab": {
          "base_uri": "https://localhost:8080/",
          "height": 81
        },
        "id": "N4ESa2eIa3-W",
        "outputId": "0e22fa1f-984e-4688-ac58-018c4dbda0ce"
      },
      "execution_count": 5,
      "outputs": [
        {
          "output_type": "execute_result",
          "data": {
            "text/plain": [
              "   user  movie  rating  timestamp\n",
              "0   196    242       3  881250949"
            ],
            "text/html": [
              "\n",
              "  <div id=\"df-11803aff-049b-4fbe-afd5-8410e161df47\" class=\"colab-df-container\">\n",
              "    <div>\n",
              "<style scoped>\n",
              "    .dataframe tbody tr th:only-of-type {\n",
              "        vertical-align: middle;\n",
              "    }\n",
              "\n",
              "    .dataframe tbody tr th {\n",
              "        vertical-align: top;\n",
              "    }\n",
              "\n",
              "    .dataframe thead th {\n",
              "        text-align: right;\n",
              "    }\n",
              "</style>\n",
              "<table border=\"1\" class=\"dataframe\">\n",
              "  <thead>\n",
              "    <tr style=\"text-align: right;\">\n",
              "      <th></th>\n",
              "      <th>user</th>\n",
              "      <th>movie</th>\n",
              "      <th>rating</th>\n",
              "      <th>timestamp</th>\n",
              "    </tr>\n",
              "  </thead>\n",
              "  <tbody>\n",
              "    <tr>\n",
              "      <th>0</th>\n",
              "      <td>196</td>\n",
              "      <td>242</td>\n",
              "      <td>3</td>\n",
              "      <td>881250949</td>\n",
              "    </tr>\n",
              "  </tbody>\n",
              "</table>\n",
              "</div>\n",
              "    <div class=\"colab-df-buttons\">\n",
              "\n",
              "  <div class=\"colab-df-container\">\n",
              "    <button class=\"colab-df-convert\" onclick=\"convertToInteractive('df-11803aff-049b-4fbe-afd5-8410e161df47')\"\n",
              "            title=\"Convert this dataframe to an interactive table.\"\n",
              "            style=\"display:none;\">\n",
              "\n",
              "  <svg xmlns=\"http://www.w3.org/2000/svg\" height=\"24px\" viewBox=\"0 -960 960 960\">\n",
              "    <path d=\"M120-120v-720h720v720H120Zm60-500h600v-160H180v160Zm220 220h160v-160H400v160Zm0 220h160v-160H400v160ZM180-400h160v-160H180v160Zm440 0h160v-160H620v160ZM180-180h160v-160H180v160Zm440 0h160v-160H620v160Z\"/>\n",
              "  </svg>\n",
              "    </button>\n",
              "\n",
              "  <style>\n",
              "    .colab-df-container {\n",
              "      display:flex;\n",
              "      gap: 12px;\n",
              "    }\n",
              "\n",
              "    .colab-df-convert {\n",
              "      background-color: #E8F0FE;\n",
              "      border: none;\n",
              "      border-radius: 50%;\n",
              "      cursor: pointer;\n",
              "      display: none;\n",
              "      fill: #1967D2;\n",
              "      height: 32px;\n",
              "      padding: 0 0 0 0;\n",
              "      width: 32px;\n",
              "    }\n",
              "\n",
              "    .colab-df-convert:hover {\n",
              "      background-color: #E2EBFA;\n",
              "      box-shadow: 0px 1px 2px rgba(60, 64, 67, 0.3), 0px 1px 3px 1px rgba(60, 64, 67, 0.15);\n",
              "      fill: #174EA6;\n",
              "    }\n",
              "\n",
              "    .colab-df-buttons div {\n",
              "      margin-bottom: 4px;\n",
              "    }\n",
              "\n",
              "    [theme=dark] .colab-df-convert {\n",
              "      background-color: #3B4455;\n",
              "      fill: #D2E3FC;\n",
              "    }\n",
              "\n",
              "    [theme=dark] .colab-df-convert:hover {\n",
              "      background-color: #434B5C;\n",
              "      box-shadow: 0px 1px 3px 1px rgba(0, 0, 0, 0.15);\n",
              "      filter: drop-shadow(0px 1px 2px rgba(0, 0, 0, 0.3));\n",
              "      fill: #FFFFFF;\n",
              "    }\n",
              "  </style>\n",
              "\n",
              "    <script>\n",
              "      const buttonEl =\n",
              "        document.querySelector('#df-11803aff-049b-4fbe-afd5-8410e161df47 button.colab-df-convert');\n",
              "      buttonEl.style.display =\n",
              "        google.colab.kernel.accessAllowed ? 'block' : 'none';\n",
              "\n",
              "      async function convertToInteractive(key) {\n",
              "        const element = document.querySelector('#df-11803aff-049b-4fbe-afd5-8410e161df47');\n",
              "        const dataTable =\n",
              "          await google.colab.kernel.invokeFunction('convertToInteractive',\n",
              "                                                    [key], {});\n",
              "        if (!dataTable) return;\n",
              "\n",
              "        const docLinkHtml = 'Like what you see? Visit the ' +\n",
              "          '<a target=\"_blank\" href=https://colab.research.google.com/notebooks/data_table.ipynb>data table notebook</a>'\n",
              "          + ' to learn more about interactive tables.';\n",
              "        element.innerHTML = '';\n",
              "        dataTable['output_type'] = 'display_data';\n",
              "        await google.colab.output.renderOutput(dataTable, element);\n",
              "        const docLink = document.createElement('div');\n",
              "        docLink.innerHTML = docLinkHtml;\n",
              "        element.appendChild(docLink);\n",
              "      }\n",
              "    </script>\n",
              "  </div>\n",
              "\n",
              "\n",
              "    </div>\n",
              "  </div>\n"
            ]
          },
          "metadata": {},
          "execution_count": 5
        }
      ]
    },
    {
      "cell_type": "code",
      "source": [
        "# movie ids\n",
        "movies = pd.read_csv(\n",
        "  path/'u.item',  delimiter='|', encoding='latin-1',\n",
        "  usecols=(0,1), names=('movie','title'), header=None\n",
        ")\n",
        "\n",
        "movies.head(1)"
      ],
      "metadata": {
        "colab": {
          "base_uri": "https://localhost:8080/",
          "height": 81
        },
        "id": "EjJTJWZKgzck",
        "outputId": "536045f4-6b13-4374-8d6f-70f44df9e6a6"
      },
      "execution_count": 6,
      "outputs": [
        {
          "output_type": "execute_result",
          "data": {
            "text/plain": [
              "   movie             title\n",
              "0      1  Toy Story (1995)"
            ],
            "text/html": [
              "\n",
              "  <div id=\"df-59273fee-d77b-438d-94b8-05c4ec777a2a\" class=\"colab-df-container\">\n",
              "    <div>\n",
              "<style scoped>\n",
              "    .dataframe tbody tr th:only-of-type {\n",
              "        vertical-align: middle;\n",
              "    }\n",
              "\n",
              "    .dataframe tbody tr th {\n",
              "        vertical-align: top;\n",
              "    }\n",
              "\n",
              "    .dataframe thead th {\n",
              "        text-align: right;\n",
              "    }\n",
              "</style>\n",
              "<table border=\"1\" class=\"dataframe\">\n",
              "  <thead>\n",
              "    <tr style=\"text-align: right;\">\n",
              "      <th></th>\n",
              "      <th>movie</th>\n",
              "      <th>title</th>\n",
              "    </tr>\n",
              "  </thead>\n",
              "  <tbody>\n",
              "    <tr>\n",
              "      <th>0</th>\n",
              "      <td>1</td>\n",
              "      <td>Toy Story (1995)</td>\n",
              "    </tr>\n",
              "  </tbody>\n",
              "</table>\n",
              "</div>\n",
              "    <div class=\"colab-df-buttons\">\n",
              "\n",
              "  <div class=\"colab-df-container\">\n",
              "    <button class=\"colab-df-convert\" onclick=\"convertToInteractive('df-59273fee-d77b-438d-94b8-05c4ec777a2a')\"\n",
              "            title=\"Convert this dataframe to an interactive table.\"\n",
              "            style=\"display:none;\">\n",
              "\n",
              "  <svg xmlns=\"http://www.w3.org/2000/svg\" height=\"24px\" viewBox=\"0 -960 960 960\">\n",
              "    <path d=\"M120-120v-720h720v720H120Zm60-500h600v-160H180v160Zm220 220h160v-160H400v160Zm0 220h160v-160H400v160ZM180-400h160v-160H180v160Zm440 0h160v-160H620v160ZM180-180h160v-160H180v160Zm440 0h160v-160H620v160Z\"/>\n",
              "  </svg>\n",
              "    </button>\n",
              "\n",
              "  <style>\n",
              "    .colab-df-container {\n",
              "      display:flex;\n",
              "      gap: 12px;\n",
              "    }\n",
              "\n",
              "    .colab-df-convert {\n",
              "      background-color: #E8F0FE;\n",
              "      border: none;\n",
              "      border-radius: 50%;\n",
              "      cursor: pointer;\n",
              "      display: none;\n",
              "      fill: #1967D2;\n",
              "      height: 32px;\n",
              "      padding: 0 0 0 0;\n",
              "      width: 32px;\n",
              "    }\n",
              "\n",
              "    .colab-df-convert:hover {\n",
              "      background-color: #E2EBFA;\n",
              "      box-shadow: 0px 1px 2px rgba(60, 64, 67, 0.3), 0px 1px 3px 1px rgba(60, 64, 67, 0.15);\n",
              "      fill: #174EA6;\n",
              "    }\n",
              "\n",
              "    .colab-df-buttons div {\n",
              "      margin-bottom: 4px;\n",
              "    }\n",
              "\n",
              "    [theme=dark] .colab-df-convert {\n",
              "      background-color: #3B4455;\n",
              "      fill: #D2E3FC;\n",
              "    }\n",
              "\n",
              "    [theme=dark] .colab-df-convert:hover {\n",
              "      background-color: #434B5C;\n",
              "      box-shadow: 0px 1px 3px 1px rgba(0, 0, 0, 0.15);\n",
              "      filter: drop-shadow(0px 1px 2px rgba(0, 0, 0, 0.3));\n",
              "      fill: #FFFFFF;\n",
              "    }\n",
              "  </style>\n",
              "\n",
              "    <script>\n",
              "      const buttonEl =\n",
              "        document.querySelector('#df-59273fee-d77b-438d-94b8-05c4ec777a2a button.colab-df-convert');\n",
              "      buttonEl.style.display =\n",
              "        google.colab.kernel.accessAllowed ? 'block' : 'none';\n",
              "\n",
              "      async function convertToInteractive(key) {\n",
              "        const element = document.querySelector('#df-59273fee-d77b-438d-94b8-05c4ec777a2a');\n",
              "        const dataTable =\n",
              "          await google.colab.kernel.invokeFunction('convertToInteractive',\n",
              "                                                    [key], {});\n",
              "        if (!dataTable) return;\n",
              "\n",
              "        const docLinkHtml = 'Like what you see? Visit the ' +\n",
              "          '<a target=\"_blank\" href=https://colab.research.google.com/notebooks/data_table.ipynb>data table notebook</a>'\n",
              "          + ' to learn more about interactive tables.';\n",
              "        element.innerHTML = '';\n",
              "        dataTable['output_type'] = 'display_data';\n",
              "        await google.colab.output.renderOutput(dataTable, element);\n",
              "        const docLink = document.createElement('div');\n",
              "        docLink.innerHTML = docLinkHtml;\n",
              "        element.appendChild(docLink);\n",
              "      }\n",
              "    </script>\n",
              "  </div>\n",
              "\n",
              "\n",
              "    </div>\n",
              "  </div>\n"
            ]
          },
          "metadata": {},
          "execution_count": 6
        }
      ]
    },
    {
      "cell_type": "code",
      "source": [
        "# merge the two dfs together\n",
        "ratings = ratings.merge(movies)\n",
        "ratings.head(1)"
      ],
      "metadata": {
        "colab": {
          "base_uri": "https://localhost:8080/",
          "height": 81
        },
        "id": "SOFkdPk9hA-y",
        "outputId": "0f2d5e95-7696-4b69-ae16-4d58d02a3181"
      },
      "execution_count": 7,
      "outputs": [
        {
          "output_type": "execute_result",
          "data": {
            "text/plain": [
              "   user  movie  rating  timestamp         title\n",
              "0   196    242       3  881250949  Kolya (1996)"
            ],
            "text/html": [
              "\n",
              "  <div id=\"df-049f1185-9e58-49ed-bb8d-188f72504a75\" class=\"colab-df-container\">\n",
              "    <div>\n",
              "<style scoped>\n",
              "    .dataframe tbody tr th:only-of-type {\n",
              "        vertical-align: middle;\n",
              "    }\n",
              "\n",
              "    .dataframe tbody tr th {\n",
              "        vertical-align: top;\n",
              "    }\n",
              "\n",
              "    .dataframe thead th {\n",
              "        text-align: right;\n",
              "    }\n",
              "</style>\n",
              "<table border=\"1\" class=\"dataframe\">\n",
              "  <thead>\n",
              "    <tr style=\"text-align: right;\">\n",
              "      <th></th>\n",
              "      <th>user</th>\n",
              "      <th>movie</th>\n",
              "      <th>rating</th>\n",
              "      <th>timestamp</th>\n",
              "      <th>title</th>\n",
              "    </tr>\n",
              "  </thead>\n",
              "  <tbody>\n",
              "    <tr>\n",
              "      <th>0</th>\n",
              "      <td>196</td>\n",
              "      <td>242</td>\n",
              "      <td>3</td>\n",
              "      <td>881250949</td>\n",
              "      <td>Kolya (1996)</td>\n",
              "    </tr>\n",
              "  </tbody>\n",
              "</table>\n",
              "</div>\n",
              "    <div class=\"colab-df-buttons\">\n",
              "\n",
              "  <div class=\"colab-df-container\">\n",
              "    <button class=\"colab-df-convert\" onclick=\"convertToInteractive('df-049f1185-9e58-49ed-bb8d-188f72504a75')\"\n",
              "            title=\"Convert this dataframe to an interactive table.\"\n",
              "            style=\"display:none;\">\n",
              "\n",
              "  <svg xmlns=\"http://www.w3.org/2000/svg\" height=\"24px\" viewBox=\"0 -960 960 960\">\n",
              "    <path d=\"M120-120v-720h720v720H120Zm60-500h600v-160H180v160Zm220 220h160v-160H400v160Zm0 220h160v-160H400v160ZM180-400h160v-160H180v160Zm440 0h160v-160H620v160ZM180-180h160v-160H180v160Zm440 0h160v-160H620v160Z\"/>\n",
              "  </svg>\n",
              "    </button>\n",
              "\n",
              "  <style>\n",
              "    .colab-df-container {\n",
              "      display:flex;\n",
              "      gap: 12px;\n",
              "    }\n",
              "\n",
              "    .colab-df-convert {\n",
              "      background-color: #E8F0FE;\n",
              "      border: none;\n",
              "      border-radius: 50%;\n",
              "      cursor: pointer;\n",
              "      display: none;\n",
              "      fill: #1967D2;\n",
              "      height: 32px;\n",
              "      padding: 0 0 0 0;\n",
              "      width: 32px;\n",
              "    }\n",
              "\n",
              "    .colab-df-convert:hover {\n",
              "      background-color: #E2EBFA;\n",
              "      box-shadow: 0px 1px 2px rgba(60, 64, 67, 0.3), 0px 1px 3px 1px rgba(60, 64, 67, 0.15);\n",
              "      fill: #174EA6;\n",
              "    }\n",
              "\n",
              "    .colab-df-buttons div {\n",
              "      margin-bottom: 4px;\n",
              "    }\n",
              "\n",
              "    [theme=dark] .colab-df-convert {\n",
              "      background-color: #3B4455;\n",
              "      fill: #D2E3FC;\n",
              "    }\n",
              "\n",
              "    [theme=dark] .colab-df-convert:hover {\n",
              "      background-color: #434B5C;\n",
              "      box-shadow: 0px 1px 3px 1px rgba(0, 0, 0, 0.15);\n",
              "      filter: drop-shadow(0px 1px 2px rgba(0, 0, 0, 0.3));\n",
              "      fill: #FFFFFF;\n",
              "    }\n",
              "  </style>\n",
              "\n",
              "    <script>\n",
              "      const buttonEl =\n",
              "        document.querySelector('#df-049f1185-9e58-49ed-bb8d-188f72504a75 button.colab-df-convert');\n",
              "      buttonEl.style.display =\n",
              "        google.colab.kernel.accessAllowed ? 'block' : 'none';\n",
              "\n",
              "      async function convertToInteractive(key) {\n",
              "        const element = document.querySelector('#df-049f1185-9e58-49ed-bb8d-188f72504a75');\n",
              "        const dataTable =\n",
              "          await google.colab.kernel.invokeFunction('convertToInteractive',\n",
              "                                                    [key], {});\n",
              "        if (!dataTable) return;\n",
              "\n",
              "        const docLinkHtml = 'Like what you see? Visit the ' +\n",
              "          '<a target=\"_blank\" href=https://colab.research.google.com/notebooks/data_table.ipynb>data table notebook</a>'\n",
              "          + ' to learn more about interactive tables.';\n",
              "        element.innerHTML = '';\n",
              "        dataTable['output_type'] = 'display_data';\n",
              "        await google.colab.output.renderOutput(dataTable, element);\n",
              "        const docLink = document.createElement('div');\n",
              "        docLink.innerHTML = docLinkHtml;\n",
              "        element.appendChild(docLink);\n",
              "      }\n",
              "    </script>\n",
              "  </div>\n",
              "\n",
              "\n",
              "    </div>\n",
              "  </div>\n"
            ]
          },
          "metadata": {},
          "execution_count": 7
        }
      ]
    },
    {
      "cell_type": "code",
      "source": [
        "# dataloaders\n",
        "  # By default, it takes the first column for the user,\n",
        "  # the second column for the item (here our movies),\n",
        "  # and the third column for the ratings\n",
        "\n",
        "dls = CollabDataLoaders.from_df(\n",
        "  ratings, # df\n",
        "  # user_name -- default\n",
        "  item_name='title', # want to switch the movie id number to the title name\n",
        "  # rating_name -- default\n",
        "  bs=64\n",
        ")\n",
        "\n",
        "dls.show_batch()"
      ],
      "metadata": {
        "colab": {
          "base_uri": "https://localhost:8080/",
          "height": 363
        },
        "id": "d5HQYnRKkMuZ",
        "outputId": "00c1a588-6dd4-4873-a32f-efd64885666a"
      },
      "execution_count": 8,
      "outputs": [
        {
          "output_type": "display_data",
          "data": {
            "text/plain": [
              "<IPython.core.display.HTML object>"
            ],
            "text/html": [
              "<table border=\"1\" class=\"dataframe\">\n",
              "  <thead>\n",
              "    <tr style=\"text-align: right;\">\n",
              "      <th></th>\n",
              "      <th>user</th>\n",
              "      <th>title</th>\n",
              "      <th>rating</th>\n",
              "    </tr>\n",
              "  </thead>\n",
              "  <tbody>\n",
              "    <tr>\n",
              "      <th>0</th>\n",
              "      <td>542</td>\n",
              "      <td>My Left Foot (1989)</td>\n",
              "      <td>4</td>\n",
              "    </tr>\n",
              "    <tr>\n",
              "      <th>1</th>\n",
              "      <td>422</td>\n",
              "      <td>Event Horizon (1997)</td>\n",
              "      <td>3</td>\n",
              "    </tr>\n",
              "    <tr>\n",
              "      <th>2</th>\n",
              "      <td>311</td>\n",
              "      <td>African Queen, The (1951)</td>\n",
              "      <td>4</td>\n",
              "    </tr>\n",
              "    <tr>\n",
              "      <th>3</th>\n",
              "      <td>595</td>\n",
              "      <td>Face/Off (1997)</td>\n",
              "      <td>4</td>\n",
              "    </tr>\n",
              "    <tr>\n",
              "      <th>4</th>\n",
              "      <td>617</td>\n",
              "      <td>Evil Dead II (1987)</td>\n",
              "      <td>1</td>\n",
              "    </tr>\n",
              "    <tr>\n",
              "      <th>5</th>\n",
              "      <td>158</td>\n",
              "      <td>Jurassic Park (1993)</td>\n",
              "      <td>5</td>\n",
              "    </tr>\n",
              "    <tr>\n",
              "      <th>6</th>\n",
              "      <td>836</td>\n",
              "      <td>Chasing Amy (1997)</td>\n",
              "      <td>3</td>\n",
              "    </tr>\n",
              "    <tr>\n",
              "      <th>7</th>\n",
              "      <td>474</td>\n",
              "      <td>Emma (1996)</td>\n",
              "      <td>3</td>\n",
              "    </tr>\n",
              "    <tr>\n",
              "      <th>8</th>\n",
              "      <td>466</td>\n",
              "      <td>Jackie Chan's First Strike (1996)</td>\n",
              "      <td>3</td>\n",
              "    </tr>\n",
              "    <tr>\n",
              "      <th>9</th>\n",
              "      <td>554</td>\n",
              "      <td>Scream (1996)</td>\n",
              "      <td>3</td>\n",
              "    </tr>\n",
              "  </tbody>\n",
              "</table>"
            ]
          },
          "metadata": {}
        }
      ]
    },
    {
      "cell_type": "markdown",
      "source": [
        "### Batch"
      ],
      "metadata": {
        "id": "aEzuDHrADrXC"
      }
    },
    {
      "cell_type": "code",
      "source": [
        "# x = [user ids, movie ids]\n",
        "# y = ratings\n",
        "x,y = dls.one_batch()\n",
        "print(x.shape, y.shape)"
      ],
      "metadata": {
        "colab": {
          "base_uri": "https://localhost:8080/"
        },
        "id": "hhZc4MKbDufL",
        "outputId": "7199c69c-1b95-4ea4-9238-bf6ab3907af7"
      },
      "execution_count": 9,
      "outputs": [
        {
          "output_type": "stream",
          "name": "stdout",
          "text": [
            "torch.Size([64, 2]) torch.Size([64, 1])\n"
          ]
        }
      ]
    },
    {
      "cell_type": "code",
      "source": [
        "# x has two columns\n",
        "  # column 1 = user ids\n",
        "  # column 2 = movie ids\n",
        "sample_x = x[0:5,:]\n",
        "sample_x_col1 = x[0:5, 0]\n",
        "sample_x_col2 = x[0:5, 1]\n",
        "\n",
        "print(\"sample of independent var:\\n\",sample_x)\n",
        "print()\n",
        "print(\"user ids:\",sample_x_col1)\n",
        "print(\"movie ids:\",sample_x_col2)"
      ],
      "metadata": {
        "colab": {
          "base_uri": "https://localhost:8080/"
        },
        "id": "edZ3UZnQDzwe",
        "outputId": "63196df0-b7cf-4396-d71a-b72ea2f5dc84"
      },
      "execution_count": 10,
      "outputs": [
        {
          "output_type": "stream",
          "name": "stdout",
          "text": [
            "sample of independent var:\n",
            " tensor([[ 661,  659],\n",
            "        [ 861,  730],\n",
            "        [ 766,    8],\n",
            "        [  13, 1153],\n",
            "        [ 429, 1185]])\n",
            "\n",
            "user ids: tensor([661, 861, 766,  13, 429])\n",
            "movie ids: tensor([ 659,  730,    8, 1153, 1185])\n"
          ]
        }
      ]
    },
    {
      "cell_type": "code",
      "source": [
        "# y are the ratings\n",
        "sample_y = y[0:5]\n",
        "sample_y"
      ],
      "metadata": {
        "colab": {
          "base_uri": "https://localhost:8080/"
        },
        "id": "OoitGR71D1s2",
        "outputId": "828bc9f6-61bc-4a12-cd0c-550d19bd12e8"
      },
      "execution_count": 11,
      "outputs": [
        {
          "output_type": "execute_result",
          "data": {
            "text/plain": [
              "tensor([[4],\n",
              "        [4],\n",
              "        [4],\n",
              "        [1],\n",
              "        [3]], dtype=torch.int8)"
            ]
          },
          "metadata": {},
          "execution_count": 11
        }
      ]
    },
    {
      "cell_type": "markdown",
      "source": [
        "### Sample"
      ],
      "metadata": {
        "id": "oLuuRcGSPbRy"
      }
    },
    {
      "cell_type": "code",
      "source": [
        "# sample\n",
        "sample_x = x[0:5,:] # choose five user-movie pairs\n",
        "sample_y = y[0:5] # ratings of those five user-movie pairs\n",
        "\n",
        "for i in range(0,5):\n",
        "  user_id = sample_x[i,0]\n",
        "  movie_id = sample_x[i,1]\n",
        "  rating = sample_y[i]\n",
        "\n",
        "  print(f\"user {user_id} watched movie {movie_id} and rated it {int(rating)}\")"
      ],
      "metadata": {
        "colab": {
          "base_uri": "https://localhost:8080/"
        },
        "id": "xUlI-2sND5e4",
        "outputId": "2b5a367c-0a41-4aff-86f4-623bf65c7f24"
      },
      "execution_count": 12,
      "outputs": [
        {
          "output_type": "stream",
          "name": "stdout",
          "text": [
            "user 661 watched movie 659 and rated it 4\n",
            "user 861 watched movie 730 and rated it 4\n",
            "user 766 watched movie 8 and rated it 4\n",
            "user 13 watched movie 1153 and rated it 1\n",
            "user 429 watched movie 1185 and rated it 3\n"
          ]
        }
      ]
    },
    {
      "cell_type": "markdown",
      "source": [
        "# Aside: Embeddings"
      ],
      "metadata": {
        "id": "IHF3_KCTdOdR"
      }
    },
    {
      "cell_type": "markdown",
      "source": [
        "## Assuming we know the latent features\n",
        "- Latent factors: genre, age, preferred directors / actors\n",
        "- Assume each movie has a score from -1 to +1 for each of these factors, based on how much the movie matches the factors\n",
        "- Take the dot product of the vector of user scores (of the factors) and a vector of movie scores (of the factors)\n",
        "- Dot product = multipy the elements of the two vectors together and sum the result"
      ],
      "metadata": {
        "id": "e9uqgXOIeIhK"
      }
    },
    {
      "cell_type": "code",
      "source": [
        "# factors -- same for movie and user embeddings\n",
        "factors = ['sci_fi','action','old_movie']"
      ],
      "metadata": {
        "id": "kqiLMVmP-ACR"
      },
      "execution_count": 13,
      "outputs": []
    },
    {
      "cell_type": "code",
      "source": [
        "# two movies\n",
        "last_skywalker = np.array([0.98,0.9,-0.9]) # very sci-fi, very action, not old at all\n",
        "casablanca = np.array([-0.99,-0.3,0.8]) # not at all sci-fi, less action, very old"
      ],
      "metadata": {
        "id": "Mm3sPyI3a37_"
      },
      "execution_count": 14,
      "outputs": []
    },
    {
      "cell_type": "code",
      "source": [
        "# one user\n",
        "user1 = np.array([0.9,0.8,-0.6]) # user likes sci-fi, likes action, doesn't like old movies"
      ],
      "metadata": {
        "id": "lHa1geGGa35a"
      },
      "execution_count": 15,
      "outputs": []
    },
    {
      "cell_type": "code",
      "source": [
        "# dot product -- find a match \"score\" between the user and each of the movies\n",
        "user1_last_skywalker_match = (user1*last_skywalker).sum()\n",
        "user1_casablanca_match = (user1*casablanca).sum()\n",
        "\n",
        "print(user1_last_skywalker_match.round(2),user1_casablanca_match.round(2))"
      ],
      "metadata": {
        "colab": {
          "base_uri": "https://localhost:8080/"
        },
        "id": "5ennzU7ga33G",
        "outputId": "94a9cdee-3cf7-49a5-8e0b-0ddc0a73c253"
      },
      "execution_count": 16,
      "outputs": [
        {
          "output_type": "stream",
          "name": "stdout",
          "text": [
            "2.14 -1.61\n"
          ]
        }
      ]
    },
    {
      "cell_type": "markdown",
      "source": [
        "## FastAI Latent Factor Representation\n",
        "Represent our movie and user latent factor tables as simple matrices"
      ],
      "metadata": {
        "id": "P6cFpqjWmCUx"
      }
    },
    {
      "cell_type": "markdown",
      "source": [
        "### Create user and movie matrices"
      ],
      "metadata": {
        "id": "zWmWOPewsQ48"
      }
    },
    {
      "cell_type": "code",
      "source": [
        "# get user and movie title matrices\n",
        "classes = dls.classes\n",
        "print(classes.keys())"
      ],
      "metadata": {
        "colab": {
          "base_uri": "https://localhost:8080/"
        },
        "id": "T5HK7RSqmFnK",
        "outputId": "1b10ce4d-39ea-489e-e136-71ff018328fe"
      },
      "execution_count": 17,
      "outputs": [
        {
          "output_type": "stream",
          "name": "stdout",
          "text": [
            "dict_keys(['user', 'title'])\n"
          ]
        }
      ]
    },
    {
      "cell_type": "code",
      "source": [
        "# number of users, number of movies\n",
        "n_users = len(dls.classes['user'])\n",
        "n_movies = len(dls.classes['title'])\n",
        "print(n_users, n_movies)"
      ],
      "metadata": {
        "colab": {
          "base_uri": "https://localhost:8080/"
        },
        "id": "qR_zKL1LmI1w",
        "outputId": "45f20000-be56-47f0-876e-f349b571af60"
      },
      "execution_count": 18,
      "outputs": [
        {
          "output_type": "stream",
          "name": "stdout",
          "text": [
            "944 1665\n"
          ]
        }
      ]
    },
    {
      "cell_type": "code",
      "source": [
        "# example of user and title classes\n",
        "print(dls.classes['user'][0:5])\n",
        "print(dls.classes['title'][0:5])"
      ],
      "metadata": {
        "colab": {
          "base_uri": "https://localhost:8080/"
        },
        "id": "BZvkPKHNmJ8m",
        "outputId": "a00ca94f-ebcf-4680-be56-ef38f2c670e8"
      },
      "execution_count": 19,
      "outputs": [
        {
          "output_type": "stream",
          "name": "stdout",
          "text": [
            "['#na#', 1, 2, 3, 4]\n",
            "['#na#', \"'Til There Was You (1997)\", '1-900 (1994)', '101 Dalmatians (1996)', '12 Angry Men (1957)']\n"
          ]
        }
      ]
    },
    {
      "cell_type": "markdown",
      "source": [
        "### Create embeddings (latent factors)\n",
        "- Embeddings = a random vector of a certain length that represents the latent favots of movies / users\n",
        "- These are learnable parameters that the model will optimize.\n",
        "- Here, we are choosing 5 latent variables that are used to represent users and movies (same latent factors for both)"
      ],
      "metadata": {
        "id": "yxLUCHyerehi"
      }
    },
    {
      "cell_type": "markdown",
      "source": [
        "#### Randomly initialize latent factor (parameter) values"
      ],
      "metadata": {
        "id": "-8P1ji_1AZki"
      }
    },
    {
      "cell_type": "code",
      "source": [
        "# choose the number of latent factors\n",
        "n_factors = 5\n",
        "\n",
        "# initialize random weights\n",
        "user_factors = torch.randn(n_users, n_factors)\n",
        "movie_factors = torch.randn(n_movies, n_factors)\n",
        "\n",
        "print(user_factors.shape, movie_factors.shape)"
      ],
      "metadata": {
        "colab": {
          "base_uri": "https://localhost:8080/"
        },
        "id": "QfeUsy-7re2R",
        "outputId": "7b535792-8320-4b0c-9e6f-506af5bb629f"
      },
      "execution_count": 20,
      "outputs": [
        {
          "output_type": "stream",
          "name": "stdout",
          "text": [
            "torch.Size([944, 5]) torch.Size([1665, 5])\n"
          ]
        }
      ]
    },
    {
      "cell_type": "code",
      "source": [
        "# show the initialized (random) weights for 4 users and 4 movies\n",
        "print(user_factors[0:4])\n",
        "print()\n",
        "print(movie_factors[0:4])"
      ],
      "metadata": {
        "colab": {
          "base_uri": "https://localhost:8080/"
        },
        "id": "TgZwvbJKrlPH",
        "outputId": "795e74cd-094b-4968-de57-be587f20fca9"
      },
      "execution_count": 21,
      "outputs": [
        {
          "output_type": "stream",
          "name": "stdout",
          "text": [
            "tensor([[ 0.9310, -0.2739, -0.4359, -0.5195,  0.7613],\n",
            "        [-0.4365, -0.8946, -0.6748, -1.2804,  0.0705],\n",
            "        [ 0.6489, -1.2110,  1.8266, -0.4586,  0.7126],\n",
            "        [-0.2314, -0.3621, -0.5908, -0.1345, -1.5280]])\n",
            "\n",
            "tensor([[ 1.2301,  0.3745,  0.9689, -1.1836, -0.5818],\n",
            "        [-0.5587,  1.4028,  0.0745,  0.0420,  1.3201],\n",
            "        [-0.7999,  1.1123, -0.7585, -1.4214, -0.1691],\n",
            "        [ 0.3720, -1.1723,  1.8125, -1.2234,  0.9052]])\n"
          ]
        }
      ]
    },
    {
      "cell_type": "markdown",
      "source": [
        "#### Representing a user's information\n",
        "Look at user 3's info using two methods: indexing and one hot encoding"
      ],
      "metadata": {
        "id": "4b8JEt8LrLb4"
      }
    },
    {
      "cell_type": "code",
      "source": [
        "# indexing\n",
        "# user 3's information is stored in index \"3\"\n",
        "# find user 3's values by using the index to grab their factor data\n",
        "\n",
        "user_3_index = 3\n",
        "user_3_factor_data_idx = user_factors[user_3_index]\n",
        "print(user_3_factor_data_idx)"
      ],
      "metadata": {
        "colab": {
          "base_uri": "https://localhost:8080/"
        },
        "id": "CZHxAty-rUYp",
        "outputId": "06040fec-38af-46bf-eed1-20051237e24b"
      },
      "execution_count": 22,
      "outputs": [
        {
          "output_type": "stream",
          "name": "stdout",
          "text": [
            "tensor([-0.2314, -0.3621, -0.5908, -0.1345, -1.5280])\n"
          ]
        }
      ]
    },
    {
      "cell_type": "code",
      "source": [
        "# one hot encoding -- lets you do matrix multiplication (good for deep learning)\n",
        "# user 3's information is stored in a one-hot vector (length = number users)\n",
        "# all values will be 0 except for number 3\n",
        "user_3_one_hot = one_hot(3, n_users).float()\n",
        "print(len(user_3_one_hot), user_3_one_hot[0:5])\n",
        "\n",
        "user_3_factor_data_one_hot = user_factors.t() @ user_3_one_hot\n",
        "print(user_3_factor_data_one_hot)"
      ],
      "metadata": {
        "colab": {
          "base_uri": "https://localhost:8080/"
        },
        "id": "ZmVopAuArKE5",
        "outputId": "e40b15af-651e-4a39-ec71-bdd3bd6b11f3"
      },
      "execution_count": 23,
      "outputs": [
        {
          "output_type": "stream",
          "name": "stdout",
          "text": [
            "944 tensor([0., 0., 0., 1., 0.])\n",
            "tensor([-0.2314, -0.3621, -0.5908, -0.1345, -1.5280])\n"
          ]
        }
      ]
    },
    {
      "cell_type": "markdown",
      "source": [
        "#### Creating our own embeddings\n",
        "-\n",
        "- Embedding layer: indexes into a vector using an integer, but has its derivative calculated in such a way that it is identical to what it would have been if it had done a matrix multiplication with a one-hot-encoded vector. Aka does the matrix multiplication needed for deep learning without the space / memory constraints of one hot encoding\n",
        "- The thing that you multiply the one-hot-encoded matrix by (or, using the computational shortcut, index into directly) is called the embedding matrix"
      ],
      "metadata": {
        "id": "evj-EoQx_xOq"
      }
    },
    {
      "cell_type": "code",
      "source": [
        "# random embeddings: ones (of size 3)\n",
        "class T(Module):\n",
        "  def __init__(self): self.a = nn.Parameter(torch.ones(3))\n",
        "\n",
        "t = T()\n",
        "L(t.parameters())"
      ],
      "metadata": {
        "colab": {
          "base_uri": "https://localhost:8080/"
        },
        "id": "89zWUlA-_xic",
        "outputId": "452c61d5-d782-4736-c09c-43e37d90c0e7"
      },
      "execution_count": 24,
      "outputs": [
        {
          "output_type": "execute_result",
          "data": {
            "text/plain": [
              "(#1) [Parameter containing:\n",
              "tensor([1., 1., 1.], requires_grad=True)]"
            ]
          },
          "metadata": {},
          "execution_count": 24
        }
      ]
    },
    {
      "cell_type": "code",
      "source": [
        "# random embeddings: linear (weights only) (of size 3)\n",
        "class T(Module):\n",
        "  def __init__(self): self.a = nn.Linear(1, 3, bias=False)\n",
        "\n",
        "t = T()\n",
        "L(t.parameters())"
      ],
      "metadata": {
        "colab": {
          "base_uri": "https://localhost:8080/"
        },
        "id": "RZ0j7GGBAMPM",
        "outputId": "ba5f953a-4946-48ee-aa11-4f74ffb79486"
      },
      "execution_count": 25,
      "outputs": [
        {
          "output_type": "execute_result",
          "data": {
            "text/plain": [
              "(#1) [Parameter containing:\n",
              "tensor([[-0.5001],\n",
              "        [ 0.1648],\n",
              "        [-0.5951]], requires_grad=True)]"
            ]
          },
          "metadata": {},
          "execution_count": 25
        }
      ]
    },
    {
      "cell_type": "code",
      "source": [
        "# random embeddings: from normal distribution -- one dimension (of size 3)\n",
        "class T(Module):\n",
        "  def __init__(self): self.a = nn.Parameter(torch.zeros(3).normal_(0, 0.01))\n",
        "\n",
        "L(T().parameters())"
      ],
      "metadata": {
        "colab": {
          "base_uri": "https://localhost:8080/"
        },
        "id": "_6TLbKun-skr",
        "outputId": "49c38623-7e0d-475d-9947-afef22592113"
      },
      "execution_count": 26,
      "outputs": [
        {
          "output_type": "execute_result",
          "data": {
            "text/plain": [
              "(#1) [Parameter containing:\n",
              "tensor([ 0.0034,  0.0070, -0.0045], requires_grad=True)]"
            ]
          },
          "metadata": {},
          "execution_count": 26
        }
      ]
    },
    {
      "cell_type": "code",
      "source": [
        "# random embeddings: from normal distribution -- two dimensions (of size 3x2)\n",
        "class T(Module):\n",
        "  def __init__(self): self.a = nn.Parameter(torch.zeros(*[3,2]).normal_(0, 0.01))\n",
        "\n",
        "L(T().parameters())"
      ],
      "metadata": {
        "colab": {
          "base_uri": "https://localhost:8080/"
        },
        "id": "UJb817WxBaDe",
        "outputId": "b1eca831-76f0-4d5f-b95c-6384359d788d"
      },
      "execution_count": 27,
      "outputs": [
        {
          "output_type": "execute_result",
          "data": {
            "text/plain": [
              "(#1) [Parameter containing:\n",
              "tensor([[-0.0039, -0.0161],\n",
              "        [-0.0127, -0.0110],\n",
              "        [-0.0093, -0.0167]], requires_grad=True)]"
            ]
          },
          "metadata": {},
          "execution_count": 27
        }
      ]
    },
    {
      "cell_type": "code",
      "source": [
        "# create embeddings: use function so you can define size\n",
        "def create_params(size):\n",
        "  return nn.Parameter(torch.zeros(*size).normal_(0, 0.01))\n",
        "\n",
        "tmp = create_params([3])\n",
        "tmp2 = create_params([1,3])\n",
        "tmp3 = create_params([2,3,4])\n",
        "print(tmp, \"\\n\\n\", tmp2, \"\\n\\n\", tmp3)"
      ],
      "metadata": {
        "colab": {
          "base_uri": "https://localhost:8080/"
        },
        "id": "uQ7vMGQyAMEi",
        "outputId": "3c8d5885-a293-49ec-9a1b-955c80a84dd9"
      },
      "execution_count": 28,
      "outputs": [
        {
          "output_type": "stream",
          "name": "stdout",
          "text": [
            "Parameter containing:\n",
            "tensor([-0.0054,  0.0121,  0.0214], requires_grad=True) \n",
            "\n",
            " Parameter containing:\n",
            "tensor([[ 0.0209, -0.0160, -0.0092]], requires_grad=True) \n",
            "\n",
            " Parameter containing:\n",
            "tensor([[[ 0.0014,  0.0056,  0.0175, -0.0011],\n",
            "         [-0.0022,  0.0127,  0.0080,  0.0111],\n",
            "         [-0.0004,  0.0057, -0.0003, -0.0131]],\n",
            "\n",
            "        [[-0.0105,  0.0109,  0.0086, -0.0127],\n",
            "         [ 0.0040,  0.0065, -0.0056, -0.0072],\n",
            "         [-0.0112, -0.0038, -0.0115,  0.0154]]], requires_grad=True)\n"
          ]
        }
      ]
    },
    {
      "cell_type": "markdown",
      "source": [
        "# Collaborative Filtering using Probabilistic Matrix Factorization (PMF)\n",
        "- Look at what items (products) the current user has used or liked, find other users that have used or liked similar products, and then recommend other products that those users have used or liked\n",
        "- Items can be products, links that people click on, diagnoses that are selected for patients, etc."
      ],
      "metadata": {
        "id": "JZBbeFlBeNrI"
      }
    },
    {
      "cell_type": "markdown",
      "source": [
        "## 1. Randomly initialize some parameters (aka latent factors)\n",
        "- `n_factors` = number of latent factors for users and movies\n",
        "- Initial embeddings: a random vector of a length n_factors for each user / movie\n",
        "- Make these embeddings learnable parameters"
      ],
      "metadata": {
        "id": "uVntJNasC1PQ"
      }
    },
    {
      "cell_type": "code",
      "source": [
        "# get classes\n",
        "n_users  = len(dls.classes['user'])\n",
        "n_movies = len(dls.classes['title'])"
      ],
      "metadata": {
        "id": "r3v0zfjtsdq4"
      },
      "execution_count": 29,
      "outputs": []
    },
    {
      "cell_type": "code",
      "source": [
        "# choose the number of latent factors\n",
        "n_factors = 5"
      ],
      "metadata": {
        "id": "9-pFnsdfXkvq"
      },
      "execution_count": 30,
      "outputs": []
    },
    {
      "cell_type": "code",
      "source": [
        "# get embeddings for (randomly-initialized) weights parameters\n",
        "# embeddings = values for each latent factor\n",
        "user_factors = torch.randn(n_users, n_factors)\n",
        "movie_factors = torch.randn(n_movies, n_factors)\n",
        "\n",
        "print(user_factors.shape, movie_factors.shape)"
      ],
      "metadata": {
        "colab": {
          "base_uri": "https://localhost:8080/"
        },
        "id": "1XieYVrimk3Y",
        "outputId": "3cd2674a-b90e-472e-8cea-b9aeb5296a48"
      },
      "execution_count": 31,
      "outputs": [
        {
          "output_type": "stream",
          "name": "stdout",
          "text": [
            "torch.Size([944, 5]) torch.Size([1665, 5])\n"
          ]
        }
      ]
    },
    {
      "cell_type": "code",
      "source": [
        "# get embeddings for the (randomly-initialized) bias parameter\n",
        "user_bias = torch.randn(n_users, 1)\n",
        "movie_bias = torch.randn(n_movies, 1)\n",
        "\n",
        "print(user_bias.shape, movie_bias.shape)"
      ],
      "metadata": {
        "colab": {
          "base_uri": "https://localhost:8080/"
        },
        "id": "ibpKwsQ9JtMa",
        "outputId": "a7401f1b-ce51-41ab-9bf2-fd9463a23e99"
      },
      "execution_count": 32,
      "outputs": [
        {
          "output_type": "stream",
          "name": "stdout",
          "text": [
            "torch.Size([944, 1]) torch.Size([1665, 1])\n"
          ]
        }
      ]
    },
    {
      "cell_type": "code",
      "source": [
        "# sample\n",
        "person_id = 2\n",
        "movie_id = 1\n",
        "\n",
        "sample_user_weights = user_factors[person_id]\n",
        "sample_user_bias = user_bias[person_id]\n",
        "\n",
        "sample_movie_weights = movie_factors[movie_id]\n",
        "sample_movie_bias = movie_bias[movie_id]\n",
        "\n",
        "print(f\"user {person_id}'s weight parameters: {sample_user_weights}\")\n",
        "print(f\"user {person_id}'s bias parameter: {sample_user_bias}\")\n",
        "print()\n",
        "print(f\"movie {movie_id}'s weight parameters: {sample_movie_weights}\")\n",
        "print(f\"movie {movie_id}'s bias parameter: {sample_movie_bias}\")"
      ],
      "metadata": {
        "colab": {
          "base_uri": "https://localhost:8080/"
        },
        "id": "LKIqfERQKQTQ",
        "outputId": "b9f9dae9-ad78-43f3-e7c5-9ac211e1e70a"
      },
      "execution_count": 33,
      "outputs": [
        {
          "output_type": "stream",
          "name": "stdout",
          "text": [
            "user 2's weight parameters: tensor([ 0.3357, -1.0289,  0.5991,  1.0774, -0.1574])\n",
            "user 2's bias parameter: tensor([0.7118])\n",
            "\n",
            "movie 1's weight parameters: tensor([ 1.3567, -1.0809, -0.4423, -0.6445, -0.5102])\n",
            "movie 1's bias parameter: tensor([-1.5893])\n"
          ]
        }
      ]
    },
    {
      "cell_type": "markdown",
      "source": [
        "## 2. Define model architecture\n",
        "- Any new PyTorch module you create needs to inheret from PyTorch's `Module` class\n",
        "- When your new module is called, PyTorch needs to call a `forward` method (aka function) so it can pass along any parameters from the call to `forward`"
      ],
      "metadata": {
        "id": "1F5Bq7n3wbQ9"
      }
    },
    {
      "cell_type": "code",
      "source": [
        "class DotProduct(Module):\n",
        "  \"\"\"\n",
        "  Model Option 1: model of just the weight embeddings\n",
        "  \"\"\"\n",
        "  # make sure the class knows the parameters you set\n",
        "  def __init__(self, n_users, n_movies, n_factors, y_range=(0,5.5)):\n",
        "    self.user_factors = Embedding(n_users, n_factors)\n",
        "    self.movie_factors = Embedding(n_movies, n_factors)\n",
        "    self.y_range = y_range\n",
        "\n",
        "  # create dot product (y preds) from the parameters\n",
        "  # smooth results between the y range you set\n",
        "  def forward(self, x):\n",
        "    users = self.user_factors(x[:,0]) # user ids\n",
        "    movies = self.movie_factors(x[:,1]) # movie ids\n",
        "    dot_prod = (users * movies).sum(dim=1)\n",
        "    smoothed_dot_prod = sigmoid_range(dot_prod, *self.y_range)\n",
        "    return smoothed_dot_prod"
      ],
      "metadata": {
        "id": "r0QaTLe1DGHK"
      },
      "execution_count": 34,
      "outputs": []
    },
    {
      "cell_type": "code",
      "source": [
        "class DotProductBias(Module):\n",
        "  \"\"\"\n",
        "  Model Option 2: model of the weights and bias embeddings\n",
        "  \"\"\"\n",
        "  def __init__(self, n_users, n_movies, n_factors, y_range=(0,5.5)):\n",
        "    self.user_factors = Embedding(n_users, n_factors)\n",
        "    self.user_bias = Embedding(n_users, 1)\n",
        "    self.movie_factors = Embedding(n_movies, n_factors)\n",
        "    self.movie_bias = Embedding(n_movies, 1)\n",
        "    self.y_range = y_range\n",
        "\n",
        "  def forward(self, x):\n",
        "    users = self.user_factors(x[:,0]) # user ids\n",
        "    movies = self.movie_factors(x[:,1]) # movie ids\n",
        "    dot_prod = (users * movies).sum(dim=1, keepdim=True)\n",
        "    dot_prod += self.user_bias(x[:,0]) + self.movie_bias(x[:,1])\n",
        "    smoothed_dot_prod = sigmoid_range(dot_prod, *self.y_range)\n",
        "    return smoothed_dot_prod"
      ],
      "metadata": {
        "id": "rOK9LsJC_V_-"
      },
      "execution_count": 35,
      "outputs": []
    },
    {
      "cell_type": "code",
      "source": [
        "# create the embeddings ourselves\n",
        "def create_params(size):\n",
        "  return nn.Parameter(torch.zeros(*size).normal_(0, 0.01))\n",
        "\n",
        "class DotProductBias_Self(Module):\n",
        "  \"\"\"\n",
        "  Model Option 3: model of weights and bias embeddings, but we do the embeddings ourselves\n",
        "  \"\"\"\n",
        "  def __init__(self, n_users, n_movies, n_factors, y_range=(0,5.5)):\n",
        "    self.user_factors = create_params([n_users, n_factors])\n",
        "    self.user_bias = create_params([n_users])\n",
        "    self.movie_factors = create_params([n_movies, n_factors])\n",
        "    self.movie_bias = create_params([n_movies])\n",
        "    self.y_range = y_range\n",
        "\n",
        "  def forward(self, x):\n",
        "    users = self.user_factors[x[:,0]] # user ids\n",
        "    movies = self.movie_factors[x[:,1]] # movie ids\n",
        "    dot_prod = (users * movies).sum(dim=1)\n",
        "    dot_prod += self.user_bias[x[:,0]] + self.movie_bias[x[:,1]]\n",
        "    smoothed_dot_prod = sigmoid_range(dot_prod, *self.y_range)\n",
        "    return smoothed_dot_prod"
      ],
      "metadata": {
        "id": "mL9blMLY_rmF"
      },
      "execution_count": 36,
      "outputs": []
    },
    {
      "cell_type": "code",
      "source": [
        "n_factors = 50\n",
        "model_weights_only = DotProduct(n_users, n_movies, n_factors)\n",
        "model_weights_bias = DotProductBias(n_users, n_movies, n_factors)"
      ],
      "metadata": {
        "id": "mfTJH8e_2XEa"
      },
      "execution_count": 37,
      "outputs": []
    },
    {
      "cell_type": "markdown",
      "source": [
        "## 3. Calculate y predictions\n",
        "\n",
        "Calculate the match between each movie and each user using the dot product"
      ],
      "metadata": {
        "id": "gpZHYg7vFkBS"
      }
    },
    {
      "cell_type": "markdown",
      "source": [
        "### Small Sample -- Weights Embeddings Only"
      ],
      "metadata": {
        "id": "9ChWOzhtzr8k"
      }
    },
    {
      "cell_type": "code",
      "source": [
        "# sample\n",
        "sample_x = x[0:3,:] # choose 3 user-movie pairs\n",
        "sample_y = y[0:3] # ratings of those 3 user-movie pairs\n",
        "y_range = (0,5.5) # the predictions go from 0-5, but they've discovered empirically that going over the range a bit is better\n",
        "\n",
        "sample_x, sample_y"
      ],
      "metadata": {
        "id": "fniS855HGta1",
        "colab": {
          "base_uri": "https://localhost:8080/"
        },
        "outputId": "11bd1c5b-22ea-473d-f2f1-11224eb9149c"
      },
      "execution_count": 38,
      "outputs": [
        {
          "output_type": "execute_result",
          "data": {
            "text/plain": [
              "(tensor([[661, 659],\n",
              "         [861, 730],\n",
              "         [766,   8]]),\n",
              " tensor([[4],\n",
              "         [4],\n",
              "         [4]], dtype=torch.int8))"
            ]
          },
          "metadata": {},
          "execution_count": 38
        }
      ]
    },
    {
      "cell_type": "code",
      "source": [
        "# show results by hand\n",
        "\n",
        "for i in range(0,3):\n",
        "  # get x and y values (x = user_id and movie_id; y = rating for that user-movie pair)\n",
        "  user_id = sample_x[i,0]\n",
        "  movie_id = sample_x[i,1]\n",
        "  rating = int(sample_y[i])\n",
        "\n",
        "  print(f\"USER {user_id} watched MOVIE {movie_id} and rated it {rating}\")\n",
        "\n",
        "  # get the parameters for the x values (user-movie pair)\n",
        "  user_latent_factors = user_factors[user_id]\n",
        "  movie_latent_factors = movie_factors[movie_id]\n",
        "\n",
        "  print(f\"\\tembedding for USER {user_id}: {user_latent_factors}\")\n",
        "  print(f\"\\tembedding for MOVIE {movie_id}: {movie_latent_factors}\")\n",
        "  print()\n",
        "\n",
        "  # calculate the dot product\n",
        "  dot_prod = (user_latent_factors * movie_latent_factors).sum()\n",
        "  smoothed_dot_prod = sigmoid_range(dot_prod,*y_range) # between 0-5, since that is the rating scale\n",
        "\n",
        "  print(f\"\\tdot product for USER {user_id} and MOVIE {movie_id}: {dot_prod:.2f}\")\n",
        "  print(f\"\\tsmoothed dot product for USER {user_id} and MOVIE {movie_id}: {smoothed_dot_prod:.2f}\")\n",
        "  print()"
      ],
      "metadata": {
        "colab": {
          "base_uri": "https://localhost:8080/"
        },
        "id": "9OGgrkIqDtTX",
        "outputId": "64eb6716-e6b0-4c84-bcda-12bb5cc8a3a8"
      },
      "execution_count": 39,
      "outputs": [
        {
          "output_type": "stream",
          "name": "stdout",
          "text": [
            "USER 661 watched MOVIE 659 and rated it 4\n",
            "\tembedding for USER 661: tensor([ 0.5663, -0.1441, -0.7705,  0.4648,  0.5691])\n",
            "\tembedding for MOVIE 659: tensor([-0.5309, -1.2018, -0.8586,  0.5090,  0.1358])\n",
            "\n",
            "\tdot product for USER 661 and MOVIE 659: 0.85\n",
            "\tsmoothed dot product for USER 661 and MOVIE 659: 3.85\n",
            "\n",
            "USER 861 watched MOVIE 730 and rated it 4\n",
            "\tembedding for USER 861: tensor([-0.6882, -0.8297, -0.9145,  1.6697, -0.2258])\n",
            "\tembedding for MOVIE 730: tensor([ 0.1841,  1.2131,  0.0148, -2.7777, -0.2196])\n",
            "\n",
            "\tdot product for USER 861 and MOVIE 730: -5.73\n",
            "\tsmoothed dot product for USER 861 and MOVIE 730: 0.02\n",
            "\n",
            "USER 766 watched MOVIE 8 and rated it 4\n",
            "\tembedding for USER 766: tensor([-0.8988,  0.4458,  1.2599, -1.1353,  0.4206])\n",
            "\tembedding for MOVIE 8: tensor([0.9470, 1.7719, 2.3611, 2.3374, 0.7957])\n",
            "\n",
            "\tdot product for USER 766 and MOVIE 8: 0.59\n",
            "\tsmoothed dot product for USER 766 and MOVIE 8: 3.54\n",
            "\n"
          ]
        }
      ]
    },
    {
      "cell_type": "markdown",
      "source": [
        "### Small Sample -- Weights and Bias Embeddings"
      ],
      "metadata": {
        "id": "zZKGtRvpJeas"
      }
    },
    {
      "cell_type": "code",
      "source": [
        "for i in range(0,3):\n",
        "  # get x and y values (x = user_id and movie_id ; y = rating for that pair)\n",
        "  user_id = sample_x[i,0]\n",
        "  movie_id = sample_x[i,1]\n",
        "  rating = int(sample_y[i])\n",
        "\n",
        "  print(f\"USER {user_id} watched MOVIE {movie_id} and rated it {rating}\")\n",
        "\n",
        "  # get the parameters for the x values (user-movie pair)\n",
        "  user_latent_weights = user_factors[user_id]\n",
        "  user_latent_bias = user_bias[user_id]\n",
        "\n",
        "  print(f\"\\tweight embedding for USER {user_id}: {user_latent_factors}\")\n",
        "  print(f\"\\tbias embedding for USER {user_id}: {user_latent_bias}\")\n",
        "  print()\n",
        "\n",
        "  movie_latent_weights = movie_factors[movie_id]\n",
        "  movie_latent_bias = movie_bias[movie_id]\n",
        "\n",
        "  print(f\"\\tweight embedding for MOVIE {movie_id}: {movie_latent_factors}\")\n",
        "  print(f\"\\tbias embedding for MOVIE {movie_id}: {movie_latent_bias}\")\n",
        "  print()\n",
        "\n",
        "  # calculate the dot product\n",
        "  dot_prod = (user_latent_factors * movie_latent_factors).sum()\n",
        "  dot_prod_with_bias = dot_prod + user_latent_bias + movie_latent_bias\n",
        "  smoothed_dot_prod = sigmoid_range(dot_prod_with_bias,*y_range)\n",
        "\n",
        "  print(f\"\\tdot product for USER {user_id} and MOVIE {movie_id}: {dot_prod:.2f}\")\n",
        "  print(f\"\\tdot product for USER {user_id} and MOVIE {movie_id} WITH bias: {float(dot_prod_with_bias):.2f}\")\n",
        "  print(f\"\\tsmoothed dot product for USER {user_id} and MOVIE {movie_id} WITH bias: {float(smoothed_dot_prod):.2f}\")\n",
        "  print()"
      ],
      "metadata": {
        "colab": {
          "base_uri": "https://localhost:8080/"
        },
        "id": "gz7tntLKJksF",
        "outputId": "c5f4342d-3a92-458f-e894-334c1f41bfa2"
      },
      "execution_count": 40,
      "outputs": [
        {
          "output_type": "stream",
          "name": "stdout",
          "text": [
            "USER 661 watched MOVIE 659 and rated it 4\n",
            "\tweight embedding for USER 661: tensor([-0.8988,  0.4458,  1.2599, -1.1353,  0.4206])\n",
            "\tbias embedding for USER 661: tensor([-0.8328])\n",
            "\n",
            "\tweight embedding for MOVIE 659: tensor([0.9470, 1.7719, 2.3611, 2.3374, 0.7957])\n",
            "\tbias embedding for MOVIE 659: tensor([1.6056])\n",
            "\n",
            "\tdot product for USER 661 and MOVIE 659: 0.59\n",
            "\tdot product for USER 661 and MOVIE 659 WITH bias: 1.37\n",
            "\tsmoothed dot product for USER 661 and MOVIE 659 WITH bias: 4.38\n",
            "\n",
            "USER 861 watched MOVIE 730 and rated it 4\n",
            "\tweight embedding for USER 861: tensor([-0.8988,  0.4458,  1.2599, -1.1353,  0.4206])\n",
            "\tbias embedding for USER 861: tensor([0.2555])\n",
            "\n",
            "\tweight embedding for MOVIE 730: tensor([0.9470, 1.7719, 2.3611, 2.3374, 0.7957])\n",
            "\tbias embedding for MOVIE 730: tensor([0.0171])\n",
            "\n",
            "\tdot product for USER 861 and MOVIE 730: 0.59\n",
            "\tdot product for USER 861 and MOVIE 730 WITH bias: 0.87\n",
            "\tsmoothed dot product for USER 861 and MOVIE 730 WITH bias: 3.87\n",
            "\n",
            "USER 766 watched MOVIE 8 and rated it 4\n",
            "\tweight embedding for USER 766: tensor([-0.8988,  0.4458,  1.2599, -1.1353,  0.4206])\n",
            "\tbias embedding for USER 766: tensor([-0.5611])\n",
            "\n",
            "\tweight embedding for MOVIE 8: tensor([0.9470, 1.7719, 2.3611, 2.3374, 0.7957])\n",
            "\tbias embedding for MOVIE 8: tensor([0.5716])\n",
            "\n",
            "\tdot product for USER 766 and MOVIE 8: 0.59\n",
            "\tdot product for USER 766 and MOVIE 8 WITH bias: 0.61\n",
            "\tsmoothed dot product for USER 766 and MOVIE 8 WITH bias: 3.56\n",
            "\n"
          ]
        }
      ]
    },
    {
      "cell_type": "markdown",
      "source": [
        "### Batch -- Using Functions"
      ],
      "metadata": {
        "id": "F2ZqFLemztST"
      }
    },
    {
      "cell_type": "code",
      "source": [
        "# from model with only weight embeddings\n",
        "model_weights_only"
      ],
      "metadata": {
        "colab": {
          "base_uri": "https://localhost:8080/"
        },
        "id": "dTwSuNKMzuDw",
        "outputId": "19513526-05d5-404b-cc71-669f66d81657"
      },
      "execution_count": 41,
      "outputs": [
        {
          "output_type": "execute_result",
          "data": {
            "text/plain": [
              "DotProduct(\n",
              "  (user_factors): Embedding(944, 50)\n",
              "  (movie_factors): Embedding(1665, 50)\n",
              ")"
            ]
          },
          "metadata": {},
          "execution_count": 41
        }
      ]
    },
    {
      "cell_type": "code",
      "source": [
        "# from model with weights and bias embeddings\n",
        "model_weights_bias"
      ],
      "metadata": {
        "colab": {
          "base_uri": "https://localhost:8080/"
        },
        "id": "jOAYbnu0FjZN",
        "outputId": "80ed35f5-b5be-4641-ac99-d1a9dd9def93"
      },
      "execution_count": 42,
      "outputs": [
        {
          "output_type": "execute_result",
          "data": {
            "text/plain": [
              "DotProductBias(\n",
              "  (user_factors): Embedding(944, 50)\n",
              "  (user_bias): Embedding(944, 1)\n",
              "  (movie_factors): Embedding(1665, 50)\n",
              "  (movie_bias): Embedding(1665, 1)\n",
              ")"
            ]
          },
          "metadata": {},
          "execution_count": 42
        }
      ]
    },
    {
      "cell_type": "markdown",
      "source": [
        "## 4. Get loss, optimize, evaluate results\n",
        "- Goal: compare the dot product (predicted ratings) to the actual rating (targets) that each user gave to each movie\n",
        "- Loss: MSE loss (built in to the learner)\n",
        "- Optimize the parameters (the latent factors): SGD calculates the match between each movie and each user using the dot product, and will compare it to the actual rating that each user gave to each movie. It will then calculate the derivative of this value and will step the weights by multiplying this by the learning rate. After doing this lots of times, the loss will get better and better, and the recommendations will also get better and better\n",
        "\n",
        "*Weight decay:*\n",
        "- Weight decay = L2 regularization --> a parameter value that we choose\n",
        "- `loss_with_weight_decay = loss + weight_decay * (parameters**2).sum()`\n",
        "- That equation is very computationally expensive, so instead, we take the dervative and add it to the optimization function: `parameters.grad += weight_decay * 2 * parameters`"
      ],
      "metadata": {
        "id": "WqJ3N1OK2BaJ"
      }
    },
    {
      "cell_type": "markdown",
      "source": [
        "### Weights only model"
      ],
      "metadata": {
        "id": "N6vZ0VDUMDrX"
      }
    },
    {
      "cell_type": "code",
      "source": [
        "# learner\n",
        "learn = Learner(\n",
        "  dls,\n",
        "  model_weights_only,\n",
        "  loss_func=MSELossFlat()\n",
        ")"
      ],
      "metadata": {
        "id": "w-8rzQnt2HRr"
      },
      "execution_count": 43,
      "outputs": []
    },
    {
      "cell_type": "code",
      "source": [
        "# fit one cycle\n",
        "n_epochs = 5\n",
        "lr = 5e-3\n",
        "wd = 0.1 # l2 regularization\n",
        "\n",
        "learn.fit_one_cycle(n_epochs, lr, wd=wd)"
      ],
      "metadata": {
        "id": "zpdVxrjmMGdf",
        "colab": {
          "base_uri": "https://localhost:8080/",
          "height": 206
        },
        "outputId": "41609380-ec03-47e6-86ed-9a09652cf8c9"
      },
      "execution_count": 44,
      "outputs": [
        {
          "output_type": "display_data",
          "data": {
            "text/plain": [
              "<IPython.core.display.HTML object>"
            ],
            "text/html": [
              "\n",
              "<style>\n",
              "    /* Turns off some styling */\n",
              "    progress {\n",
              "        /* gets rid of default border in Firefox and Opera. */\n",
              "        border: none;\n",
              "        /* Needs to be in here for Safari polyfill so background images work as expected. */\n",
              "        background-size: auto;\n",
              "    }\n",
              "    progress:not([value]), progress:not([value])::-webkit-progress-bar {\n",
              "        background: repeating-linear-gradient(45deg, #7e7e7e, #7e7e7e 10px, #5c5c5c 10px, #5c5c5c 20px);\n",
              "    }\n",
              "    .progress-bar-interrupted, .progress-bar-interrupted::-webkit-progress-bar {\n",
              "        background: #F44336;\n",
              "    }\n",
              "</style>\n"
            ]
          },
          "metadata": {}
        },
        {
          "output_type": "display_data",
          "data": {
            "text/plain": [
              "<IPython.core.display.HTML object>"
            ],
            "text/html": [
              "<table border=\"1\" class=\"dataframe\">\n",
              "  <thead>\n",
              "    <tr style=\"text-align: left;\">\n",
              "      <th>epoch</th>\n",
              "      <th>train_loss</th>\n",
              "      <th>valid_loss</th>\n",
              "      <th>time</th>\n",
              "    </tr>\n",
              "  </thead>\n",
              "  <tbody>\n",
              "    <tr>\n",
              "      <td>0</td>\n",
              "      <td>0.999638</td>\n",
              "      <td>0.999240</td>\n",
              "      <td>00:10</td>\n",
              "    </tr>\n",
              "    <tr>\n",
              "      <td>1</td>\n",
              "      <td>0.922225</td>\n",
              "      <td>0.929369</td>\n",
              "      <td>00:08</td>\n",
              "    </tr>\n",
              "    <tr>\n",
              "      <td>2</td>\n",
              "      <td>0.796264</td>\n",
              "      <td>0.870567</td>\n",
              "      <td>00:08</td>\n",
              "    </tr>\n",
              "    <tr>\n",
              "      <td>3</td>\n",
              "      <td>0.652643</td>\n",
              "      <td>0.839301</td>\n",
              "      <td>00:08</td>\n",
              "    </tr>\n",
              "    <tr>\n",
              "      <td>4</td>\n",
              "      <td>0.567950</td>\n",
              "      <td>0.838946</td>\n",
              "      <td>00:08</td>\n",
              "    </tr>\n",
              "  </tbody>\n",
              "</table>"
            ]
          },
          "metadata": {}
        }
      ]
    },
    {
      "cell_type": "code",
      "source": [
        "# self params from the learner\n",
        "model_name = learn.model\n",
        "user_factors = learn.model.user_factors\n",
        "movie_factors = learn.model.movie_factors\n",
        "y_range = learn.model.y_range\n",
        "\n",
        "print(\"user factors:\",user_factors)\n",
        "print(\"movie factors:\",movie_factors)\n",
        "print(\"y_range:\",y_range)"
      ],
      "metadata": {
        "colab": {
          "base_uri": "https://localhost:8080/"
        },
        "id": "QvB-6oThMOJe",
        "outputId": "a2f0d1b9-c0b8-4b07-8221-3bb0034c55af"
      },
      "execution_count": 45,
      "outputs": [
        {
          "output_type": "stream",
          "name": "stdout",
          "text": [
            "user factors: Embedding(944, 50)\n",
            "movie factors: Embedding(1665, 50)\n",
            "y_range: (0, 5.5)\n"
          ]
        }
      ]
    },
    {
      "cell_type": "markdown",
      "source": [
        "### Weights and Bias model"
      ],
      "metadata": {
        "id": "_xmPrrHUMHLB"
      }
    },
    {
      "cell_type": "code",
      "source": [
        "model = DotProductBias(n_users, n_movies, 50)\n",
        "learn = Learner(dls, model, loss_func=MSELossFlat())"
      ],
      "metadata": {
        "id": "rIYu9BcPaACt"
      },
      "execution_count": 46,
      "outputs": []
    },
    {
      "cell_type": "code",
      "source": [
        "# fit one cycle\n",
        "n_epochs = 5\n",
        "lr = 5e-3\n",
        "wd = 0.1 # l2 regularization\n",
        "\n",
        "learn.fit_one_cycle(n_epochs, lr, wd=wd)"
      ],
      "metadata": {
        "id": "4YX0de14MLbc",
        "colab": {
          "base_uri": "https://localhost:8080/",
          "height": 206
        },
        "outputId": "511ae95c-89fe-409b-fda4-3456fa7dc2b9"
      },
      "execution_count": 47,
      "outputs": [
        {
          "output_type": "display_data",
          "data": {
            "text/plain": [
              "<IPython.core.display.HTML object>"
            ],
            "text/html": [
              "\n",
              "<style>\n",
              "    /* Turns off some styling */\n",
              "    progress {\n",
              "        /* gets rid of default border in Firefox and Opera. */\n",
              "        border: none;\n",
              "        /* Needs to be in here for Safari polyfill so background images work as expected. */\n",
              "        background-size: auto;\n",
              "    }\n",
              "    progress:not([value]), progress:not([value])::-webkit-progress-bar {\n",
              "        background: repeating-linear-gradient(45deg, #7e7e7e, #7e7e7e 10px, #5c5c5c 10px, #5c5c5c 20px);\n",
              "    }\n",
              "    .progress-bar-interrupted, .progress-bar-interrupted::-webkit-progress-bar {\n",
              "        background: #F44336;\n",
              "    }\n",
              "</style>\n"
            ]
          },
          "metadata": {}
        },
        {
          "output_type": "display_data",
          "data": {
            "text/plain": [
              "<IPython.core.display.HTML object>"
            ],
            "text/html": [
              "<table border=\"1\" class=\"dataframe\">\n",
              "  <thead>\n",
              "    <tr style=\"text-align: left;\">\n",
              "      <th>epoch</th>\n",
              "      <th>train_loss</th>\n",
              "      <th>valid_loss</th>\n",
              "      <th>time</th>\n",
              "    </tr>\n",
              "  </thead>\n",
              "  <tbody>\n",
              "    <tr>\n",
              "      <td>0</td>\n",
              "      <td>0.938351</td>\n",
              "      <td>0.953211</td>\n",
              "      <td>00:09</td>\n",
              "    </tr>\n",
              "    <tr>\n",
              "      <td>1</td>\n",
              "      <td>0.856293</td>\n",
              "      <td>0.883487</td>\n",
              "      <td>00:09</td>\n",
              "    </tr>\n",
              "    <tr>\n",
              "      <td>2</td>\n",
              "      <td>0.727375</td>\n",
              "      <td>0.835372</td>\n",
              "      <td>00:09</td>\n",
              "    </tr>\n",
              "    <tr>\n",
              "      <td>3</td>\n",
              "      <td>0.584054</td>\n",
              "      <td>0.822749</td>\n",
              "      <td>00:09</td>\n",
              "    </tr>\n",
              "    <tr>\n",
              "      <td>4</td>\n",
              "      <td>0.497296</td>\n",
              "      <td>0.823030</td>\n",
              "      <td>00:09</td>\n",
              "    </tr>\n",
              "  </tbody>\n",
              "</table>"
            ]
          },
          "metadata": {}
        }
      ]
    },
    {
      "cell_type": "code",
      "source": [
        "# self params from the learner\n",
        "user_factors = learn.model.user_factors\n",
        "user_bias = learn.model.user_bias\n",
        "movie_factors = learn.model.movie_factors\n",
        "movie_bias = learn.model.movie_bias\n",
        "y_range = learn.model.y_range\n",
        "\n",
        "print(\"user factors:\",user_factors)\n",
        "print(\"user bias:\",user_bias)\n",
        "print(\"movie factors:\",movie_factors)\n",
        "print(\"movie bias:\",movie_bias)\n",
        "print(\"y_range:\",y_range)"
      ],
      "metadata": {
        "colab": {
          "base_uri": "https://localhost:8080/"
        },
        "id": "uDP61EsQMdah",
        "outputId": "bfe8bef1-daa1-4bac-fdf8-2e2c5feef3ac"
      },
      "execution_count": 48,
      "outputs": [
        {
          "output_type": "stream",
          "name": "stdout",
          "text": [
            "user factors: Embedding(944, 50)\n",
            "user bias: Embedding(944, 1)\n",
            "movie factors: Embedding(1665, 50)\n",
            "movie bias: Embedding(1665, 1)\n",
            "y_range: (0, 5.5)\n"
          ]
        }
      ]
    },
    {
      "cell_type": "code",
      "source": [
        "# checking that our \"self\" method does the same thing\n",
        "model = DotProductBias_Self(n_users, n_movies, 50)\n",
        "learn = Learner(dls, model, loss_func=MSELossFlat())\n",
        "learn.fit_one_cycle(5, 5e-3, wd=0.1)"
      ],
      "metadata": {
        "id": "i-s6UU9fM2my",
        "colab": {
          "base_uri": "https://localhost:8080/",
          "height": 206
        },
        "outputId": "115b18cf-9f7e-4231-d91f-b6b2de5b913e"
      },
      "execution_count": 49,
      "outputs": [
        {
          "output_type": "display_data",
          "data": {
            "text/plain": [
              "<IPython.core.display.HTML object>"
            ],
            "text/html": [
              "\n",
              "<style>\n",
              "    /* Turns off some styling */\n",
              "    progress {\n",
              "        /* gets rid of default border in Firefox and Opera. */\n",
              "        border: none;\n",
              "        /* Needs to be in here for Safari polyfill so background images work as expected. */\n",
              "        background-size: auto;\n",
              "    }\n",
              "    progress:not([value]), progress:not([value])::-webkit-progress-bar {\n",
              "        background: repeating-linear-gradient(45deg, #7e7e7e, #7e7e7e 10px, #5c5c5c 10px, #5c5c5c 20px);\n",
              "    }\n",
              "    .progress-bar-interrupted, .progress-bar-interrupted::-webkit-progress-bar {\n",
              "        background: #F44336;\n",
              "    }\n",
              "</style>\n"
            ]
          },
          "metadata": {}
        },
        {
          "output_type": "display_data",
          "data": {
            "text/plain": [
              "<IPython.core.display.HTML object>"
            ],
            "text/html": [
              "<table border=\"1\" class=\"dataframe\">\n",
              "  <thead>\n",
              "    <tr style=\"text-align: left;\">\n",
              "      <th>epoch</th>\n",
              "      <th>train_loss</th>\n",
              "      <th>valid_loss</th>\n",
              "      <th>time</th>\n",
              "    </tr>\n",
              "  </thead>\n",
              "  <tbody>\n",
              "    <tr>\n",
              "      <td>0</td>\n",
              "      <td>0.943250</td>\n",
              "      <td>0.956854</td>\n",
              "      <td>00:09</td>\n",
              "    </tr>\n",
              "    <tr>\n",
              "      <td>1</td>\n",
              "      <td>0.879383</td>\n",
              "      <td>0.875776</td>\n",
              "      <td>00:09</td>\n",
              "    </tr>\n",
              "    <tr>\n",
              "      <td>2</td>\n",
              "      <td>0.713611</td>\n",
              "      <td>0.833360</td>\n",
              "      <td>00:09</td>\n",
              "    </tr>\n",
              "    <tr>\n",
              "      <td>3</td>\n",
              "      <td>0.597884</td>\n",
              "      <td>0.821460</td>\n",
              "      <td>00:09</td>\n",
              "    </tr>\n",
              "    <tr>\n",
              "      <td>4</td>\n",
              "      <td>0.471272</td>\n",
              "      <td>0.822655</td>\n",
              "      <td>00:09</td>\n",
              "    </tr>\n",
              "  </tbody>\n",
              "</table>"
            ]
          },
          "metadata": {}
        }
      ]
    },
    {
      "cell_type": "markdown",
      "source": [
        "### Interpret bias parameters"
      ],
      "metadata": {
        "id": "ruwjU3MuC_Lz"
      }
    },
    {
      "cell_type": "code",
      "source": [
        "# get bias\n",
        "movie_bias = learn.model.movie_bias.squeeze()\n",
        "movie_bias"
      ],
      "metadata": {
        "colab": {
          "base_uri": "https://localhost:8080/"
        },
        "id": "QH1-QbifNM7M",
        "outputId": "949ad698-2ca5-4e80-e146-abf7b90ce8e5"
      },
      "execution_count": 50,
      "outputs": [
        {
          "output_type": "execute_result",
          "data": {
            "text/plain": [
              "tensor([ 0.0008, -0.1416,  0.0337,  ..., -0.0261,  0.0540,  0.0275], device='cuda:0', grad_fn=<SqueezeBackward0>)"
            ]
          },
          "metadata": {},
          "execution_count": 50
        }
      ]
    },
    {
      "cell_type": "code",
      "source": [
        "# get movie titles with the lowest values in the bias vector\n",
        "# these movies are rated as bad, even if people would normally like that type of movie / be well matched\n",
        "low_idxs = movie_bias.argsort()[:5]\n",
        "print(\"LOWEST BIAS MOVIES\")\n",
        "print([dls.classes['title'][i] for i in low_idxs])"
      ],
      "metadata": {
        "colab": {
          "base_uri": "https://localhost:8080/"
        },
        "id": "9SkPz3sLdKIh",
        "outputId": "1edad9ab-548c-4991-d0a3-3ffd68f85417"
      },
      "execution_count": 51,
      "outputs": [
        {
          "output_type": "stream",
          "name": "stdout",
          "text": [
            "LOWEST BIAS MOVIES\n",
            "['Children of the Corn: The Gathering (1996)', 'Lawnmower Man 2: Beyond Cyberspace (1996)', 'Robocop 3 (1993)', 'Beautician and the Beast, The (1997)', 'Crow: City of Angels, The (1996)']\n"
          ]
        }
      ]
    },
    {
      "cell_type": "code",
      "source": [
        "# get movie titles with highest values in the bias vector\n",
        "# these movies are rated as good, even if people would not normally be a good match for them\n",
        "high_idxs = movie_bias.argsort(descending=True)[:5]\n",
        "print(\"HIGHEST BIAS MOVIES\")\n",
        "print([dls.classes['title'][i] for i in high_idxs])"
      ],
      "metadata": {
        "colab": {
          "base_uri": "https://localhost:8080/"
        },
        "id": "UFo23EryDGP3",
        "outputId": "4bc64760-99ff-4f92-f603-97ad574a5b1d"
      },
      "execution_count": 52,
      "outputs": [
        {
          "output_type": "stream",
          "name": "stdout",
          "text": [
            "HIGHEST BIAS MOVIES\n",
            "['L.A. Confidential (1997)', 'Titanic (1997)', 'Silence of the Lambs, The (1991)', \"Schindler's List (1993)\", 'Star Wars (1977)']\n"
          ]
        }
      ]
    },
    {
      "cell_type": "markdown",
      "source": [
        "### Interpret weight parameters (embeddings)"
      ],
      "metadata": {
        "id": "nFfNw9FmFwJD"
      }
    },
    {
      "cell_type": "code",
      "source": [
        "# need pca -- here, top 2 pcs\n",
        "g = ratings.groupby('title')['rating'].count()\n",
        "top_movies = g.sort_values(ascending=False).index.values[:1000]\n",
        "top_idxs = tensor([learn.dls.classes['title'].o2i[m] for m in top_movies])\n",
        "\n",
        "movie_w = learn.model.movie_factors[top_idxs].cpu().detach()\n",
        "movie_pca = movie_w.pca(3)\n",
        "\n",
        "fac0,fac1,fac2 = movie_pca.t()\n",
        "idxs = list(range(50))\n",
        "X = fac0[idxs]\n",
        "Y = fac2[idxs]\n",
        "\n",
        "plt.figure(figsize=(12,12))\n",
        "plt.scatter(X, Y)\n",
        "for i, x, y in zip(top_movies[idxs], X, Y):\n",
        "  plt.text(x,y,i, color=np.random.rand(3)*0.7, fontsize=11)\n",
        "plt.show()"
      ],
      "metadata": {
        "colab": {
          "base_uri": "https://localhost:8080/",
          "height": 962
        },
        "id": "2b8XVdgQC1y7",
        "outputId": "4ac0610c-1948-45e8-9ddc-2a1566a00d16"
      },
      "execution_count": 53,
      "outputs": [
        {
          "output_type": "display_data",
          "data": {
            "text/plain": [
              "<Figure size 1200x1200 with 1 Axes>"
            ],
            "image/png": "[encoded data removed]"
          },
          "metadata": {}
        }
      ]
    },
    {
      "cell_type": "markdown",
      "source": [
        "### Get embedding distance between movies\n",
        "- Shows similarity/difference between pairs of movies\n",
        "- General idea: movie similarity can be defined by the similarity of users that like those movies. And that directly means that the distance between two movies' embedding vectors can define that similarity"
      ],
      "metadata": {
        "id": "FFScAXFWVh1f"
      }
    },
    {
      "cell_type": "code",
      "source": [
        "# find the movie most similar to silence of the lambs\n",
        "movie_factors = learn.model.movie_factors#.weight\n",
        "\n",
        "idx = dls.classes['title'].o2i['Silence of the Lambs, The (1991)']\n",
        "distances = nn.CosineSimilarity(dim=1)(movie_factors, movie_factors[idx][None])\n",
        "idx = distances.argsort(descending=True)[1]\n",
        "dls.classes['title'][idx]"
      ],
      "metadata": {
        "colab": {
          "base_uri": "https://localhost:8080/",
          "height": 35
        },
        "id": "K_HOB3nsVe7n",
        "outputId": "612e181f-06eb-4e84-860f-f167394b2d79"
      },
      "execution_count": 54,
      "outputs": [
        {
          "output_type": "execute_result",
          "data": {
            "text/plain": [
              "'Dial M for Murder (1954)'"
            ],
            "application/vnd.google.colaboratory.intrinsic+json": {
              "type": "string"
            }
          },
          "metadata": {},
          "execution_count": 54
        }
      ]
    },
    {
      "cell_type": "markdown",
      "source": [
        "## Automate this process with FastAI defaults:\n",
        "- Uses dot product (aka probabilistic matrix factorization) -- same as above\n",
        "- Note: this requires same size embeddings for users and movies (e.g., same size weights and bias embeddings for both users and movies)"
      ],
      "metadata": {
        "id": "wNKcUyST9pm-"
      }
    },
    {
      "cell_type": "code",
      "source": [
        "# the dot-product (weights and bias) model is defined automatically\n",
        "learn = collab_learner(dls, n_factors=50, y_range=(0, 5.5))\n",
        "learn.fit_one_cycle(5, 5e-3, wd=0.1)"
      ],
      "metadata": {
        "id": "eSPPe7kNa3jD",
        "colab": {
          "base_uri": "https://localhost:8080/",
          "height": 206
        },
        "outputId": "9c252f26-2b80-49ae-8754-896d67969187"
      },
      "execution_count": 55,
      "outputs": [
        {
          "output_type": "display_data",
          "data": {
            "text/plain": [
              "<IPython.core.display.HTML object>"
            ],
            "text/html": [
              "\n",
              "<style>\n",
              "    /* Turns off some styling */\n",
              "    progress {\n",
              "        /* gets rid of default border in Firefox and Opera. */\n",
              "        border: none;\n",
              "        /* Needs to be in here for Safari polyfill so background images work as expected. */\n",
              "        background-size: auto;\n",
              "    }\n",
              "    progress:not([value]), progress:not([value])::-webkit-progress-bar {\n",
              "        background: repeating-linear-gradient(45deg, #7e7e7e, #7e7e7e 10px, #5c5c5c 10px, #5c5c5c 20px);\n",
              "    }\n",
              "    .progress-bar-interrupted, .progress-bar-interrupted::-webkit-progress-bar {\n",
              "        background: #F44336;\n",
              "    }\n",
              "</style>\n"
            ]
          },
          "metadata": {}
        },
        {
          "output_type": "display_data",
          "data": {
            "text/plain": [
              "<IPython.core.display.HTML object>"
            ],
            "text/html": [
              "<table border=\"1\" class=\"dataframe\">\n",
              "  <thead>\n",
              "    <tr style=\"text-align: left;\">\n",
              "      <th>epoch</th>\n",
              "      <th>train_loss</th>\n",
              "      <th>valid_loss</th>\n",
              "      <th>time</th>\n",
              "    </tr>\n",
              "  </thead>\n",
              "  <tbody>\n",
              "    <tr>\n",
              "      <td>0</td>\n",
              "      <td>0.927434</td>\n",
              "      <td>0.956346</td>\n",
              "      <td>00:09</td>\n",
              "    </tr>\n",
              "    <tr>\n",
              "      <td>1</td>\n",
              "      <td>0.882253</td>\n",
              "      <td>0.877165</td>\n",
              "      <td>00:09</td>\n",
              "    </tr>\n",
              "    <tr>\n",
              "      <td>2</td>\n",
              "      <td>0.761615</td>\n",
              "      <td>0.830462</td>\n",
              "      <td>00:09</td>\n",
              "    </tr>\n",
              "    <tr>\n",
              "      <td>3</td>\n",
              "      <td>0.593923</td>\n",
              "      <td>0.820666</td>\n",
              "      <td>00:09</td>\n",
              "    </tr>\n",
              "    <tr>\n",
              "      <td>4</td>\n",
              "      <td>0.498506</td>\n",
              "      <td>0.820996</td>\n",
              "      <td>00:09</td>\n",
              "    </tr>\n",
              "  </tbody>\n",
              "</table>"
            ]
          },
          "metadata": {}
        }
      ]
    },
    {
      "cell_type": "code",
      "source": [
        "# look at the model and the self parameters\n",
        "  # notice that the user and item (movie) weight embedding matrices are the same size -- 50 weights (latent factors)\n",
        "  # and the user and item (movie) biases are the same size -- 1 bias factor\n",
        "print(n_users, n_movies)\n",
        "learn.model"
      ],
      "metadata": {
        "colab": {
          "base_uri": "https://localhost:8080/"
        },
        "id": "OncJA0knhIZj",
        "outputId": "e9ef33ab-4a5d-45d4-fb11-cbded8539614"
      },
      "execution_count": 56,
      "outputs": [
        {
          "output_type": "stream",
          "name": "stdout",
          "text": [
            "944 1665\n"
          ]
        },
        {
          "output_type": "execute_result",
          "data": {
            "text/plain": [
              "EmbeddingDotBias(\n",
              "  (u_weight): Embedding(944, 50)\n",
              "  (i_weight): Embedding(1665, 50)\n",
              "  (u_bias): Embedding(944, 1)\n",
              "  (i_bias): Embedding(1665, 1)\n",
              ")"
            ]
          },
          "metadata": {},
          "execution_count": 56
        }
      ]
    },
    {
      "cell_type": "code",
      "source": [
        "# examine movie bias results -- same as above\n",
        "movie_bias = learn.model.i_bias.weight.squeeze()\n",
        "\n",
        "# get movie titles with the lowest values in the bias vector -- same as above\n",
        "low_idxs = movie_bias.argsort()[:5]\n",
        "print(\"LOWEST BIAS MOVIES\")\n",
        "print([dls.classes['title'][i] for i in low_idxs])"
      ],
      "metadata": {
        "colab": {
          "base_uri": "https://localhost:8080/"
        },
        "id": "Fa1D0W2OGjGI",
        "outputId": "0685081f-6439-4a6f-a6ee-fd33da1b1c8f"
      },
      "execution_count": 57,
      "outputs": [
        {
          "output_type": "stream",
          "name": "stdout",
          "text": [
            "LOWEST BIAS MOVIES\n",
            "['Children of the Corn: The Gathering (1996)', 'Robocop 3 (1993)', 'Lawnmower Man 2: Beyond Cyberspace (1996)', 'Crow: City of Angels, The (1996)', 'Beautician and the Beast, The (1997)']\n"
          ]
        }
      ]
    },
    {
      "cell_type": "markdown",
      "source": [
        "# Collaborative Filterning Using Deep Learning\n",
        "- Instead of taking the dot product, concatenate the embeddings and pass them through a NN\n",
        "- Note: this allows DIFFERENT size embeddings for users and movies (e.g., weights and bias embeddings can be different sizes for users and movies). In other words, you can have different numbers of latent factors for movies and users.\n",
        "- The deep learning approach is better than the PMF approach because now we can directly incorporate other user and movie information, date and time information, or any other information that may be relevant to the recommendation (we will do this in later chapters)"
      ],
      "metadata": {
        "id": "cts1nOkrJv31"
      }
    },
    {
      "cell_type": "markdown",
      "source": [
        "### Create model architecture manually\n",
        "Note: EmbeddingNN is just a TabularModel, with n_cont=0 and out_sz=1 (n_cont = 0 means no continuous variables in the model)"
      ],
      "metadata": {
        "id": "yli2ZhF1W2rh"
      }
    },
    {
      "cell_type": "code",
      "source": [
        "class CollabNN(Module):\n",
        "  def __init__(self, user_sz, item_sz, y_range=(0,5.5), n_act=100):\n",
        "    self.user_factors = Embedding(*user_sz) # user embeddings / latent parameters\n",
        "    self.item_factors = Embedding(*item_sz) # movie embeddings / latent parameters\n",
        "\n",
        "    # NN\n",
        "    self.layers = nn.Sequential(\n",
        "      # linear layer 1\n",
        "        # inputs = user_embeddings x movie embeddings\n",
        "        # output = n_act features (number of activations) -- here, 100 is default\n",
        "      nn.Linear(user_sz[1]+item_sz[1], n_act),\n",
        "\n",
        "      # rectified linear unit (\"nonlinearity\")\n",
        "        # replace every negative number with a 0\n",
        "      nn.ReLU(),\n",
        "\n",
        "      # linear layer 2\n",
        "        # inputs = n_act \"activations\" (same as number of outfut of linear layer 1)\n",
        "        # output = 1 feature (a single activation)\n",
        "      nn.Linear(n_act, 1)\n",
        "    )\n",
        "    self.y_range = y_range\n",
        "\n",
        "  # applies the embeddings to the NN (instead of creating the dot product)\n",
        "  def forward(self, x):\n",
        "    embs = self.user_factors(x[:,0]),self.item_factors(x[:,1]) # apply embeddings\n",
        "    x = self.layers(torch.cat(embs, dim=1)) # concatenate the results\n",
        "    smoothed_x = sigmoid_range(x, *self.y_range) # smooth range to the y-values (same as before)\n",
        "    return smoothed_x"
      ],
      "metadata": {
        "id": "VqvCDkXcJ8It"
      },
      "execution_count": 58,
      "outputs": []
    },
    {
      "cell_type": "markdown",
      "source": [
        "#### Find best embedding sizes for users / movies"
      ],
      "metadata": {
        "id": "VnM5X4Q6YCZt"
      }
    },
    {
      "cell_type": "code",
      "source": [
        "# find the best embedding size automatically\n",
        "# embeddings are concatenated here, so no separate weights and bias embeddings\n",
        "print(n_users, n_movies)\n",
        "embs = get_emb_sz(dls)\n",
        "embs"
      ],
      "metadata": {
        "colab": {
          "base_uri": "https://localhost:8080/"
        },
        "id": "9C7-3oiPIgeC",
        "outputId": "8914444b-623a-4301-f7ca-4506743b3c5c"
      },
      "execution_count": 59,
      "outputs": [
        {
          "output_type": "stream",
          "name": "stdout",
          "text": [
            "944 1665\n"
          ]
        },
        {
          "output_type": "execute_result",
          "data": {
            "text/plain": [
              "[(944, 74), (1665, 102)]"
            ]
          },
          "metadata": {},
          "execution_count": 59
        }
      ]
    },
    {
      "cell_type": "markdown",
      "source": [
        "#### Create model\n",
        "Use the size of embeddings found above"
      ],
      "metadata": {
        "id": "Xl_tbaOWYFm5"
      }
    },
    {
      "cell_type": "code",
      "source": [
        "model = CollabNN(*embs)"
      ],
      "metadata": {
        "id": "kZTTzeAAKLnh"
      },
      "execution_count": 60,
      "outputs": []
    },
    {
      "cell_type": "markdown",
      "source": [
        "#### Define learner and fit"
      ],
      "metadata": {
        "id": "DULreyT3YMGj"
      }
    },
    {
      "cell_type": "code",
      "source": [
        "# define learner\n",
        "learn = Learner(dls, model, loss_func=MSELossFlat())\n",
        "learn.fit_one_cycle(5, 5e-3, wd=0.01)\n",
        "\n",
        "print(n_users, n_movies)\n",
        "learn.model"
      ],
      "metadata": {
        "colab": {
          "base_uri": "https://localhost:8080/",
          "height": 385
        },
        "id": "ppDvJjbtXare",
        "outputId": "e17e260b-1fb3-4bbe-9fe4-4a3fc721ea68"
      },
      "execution_count": 61,
      "outputs": [
        {
          "output_type": "display_data",
          "data": {
            "text/plain": [
              "<IPython.core.display.HTML object>"
            ],
            "text/html": [
              "\n",
              "<style>\n",
              "    /* Turns off some styling */\n",
              "    progress {\n",
              "        /* gets rid of default border in Firefox and Opera. */\n",
              "        border: none;\n",
              "        /* Needs to be in here for Safari polyfill so background images work as expected. */\n",
              "        background-size: auto;\n",
              "    }\n",
              "    progress:not([value]), progress:not([value])::-webkit-progress-bar {\n",
              "        background: repeating-linear-gradient(45deg, #7e7e7e, #7e7e7e 10px, #5c5c5c 10px, #5c5c5c 20px);\n",
              "    }\n",
              "    .progress-bar-interrupted, .progress-bar-interrupted::-webkit-progress-bar {\n",
              "        background: #F44336;\n",
              "    }\n",
              "</style>\n"
            ]
          },
          "metadata": {}
        },
        {
          "output_type": "display_data",
          "data": {
            "text/plain": [
              "<IPython.core.display.HTML object>"
            ],
            "text/html": [
              "<table border=\"1\" class=\"dataframe\">\n",
              "  <thead>\n",
              "    <tr style=\"text-align: left;\">\n",
              "      <th>epoch</th>\n",
              "      <th>train_loss</th>\n",
              "      <th>valid_loss</th>\n",
              "      <th>time</th>\n",
              "    </tr>\n",
              "  </thead>\n",
              "  <tbody>\n",
              "    <tr>\n",
              "      <td>0</td>\n",
              "      <td>0.918603</td>\n",
              "      <td>0.945734</td>\n",
              "      <td>00:10</td>\n",
              "    </tr>\n",
              "    <tr>\n",
              "      <td>1</td>\n",
              "      <td>0.919003</td>\n",
              "      <td>0.906242</td>\n",
              "      <td>00:10</td>\n",
              "    </tr>\n",
              "    <tr>\n",
              "      <td>2</td>\n",
              "      <td>0.842772</td>\n",
              "      <td>0.879992</td>\n",
              "      <td>00:10</td>\n",
              "    </tr>\n",
              "    <tr>\n",
              "      <td>3</td>\n",
              "      <td>0.808544</td>\n",
              "      <td>0.866005</td>\n",
              "      <td>00:10</td>\n",
              "    </tr>\n",
              "    <tr>\n",
              "      <td>4</td>\n",
              "      <td>0.744757</td>\n",
              "      <td>0.869607</td>\n",
              "      <td>00:10</td>\n",
              "    </tr>\n",
              "  </tbody>\n",
              "</table>"
            ]
          },
          "metadata": {}
        },
        {
          "output_type": "stream",
          "name": "stdout",
          "text": [
            "944 1665\n"
          ]
        },
        {
          "output_type": "execute_result",
          "data": {
            "text/plain": [
              "CollabNN(\n",
              "  (user_factors): Embedding(944, 74)\n",
              "  (item_factors): Embedding(1665, 102)\n",
              "  (layers): Sequential(\n",
              "    (0): Linear(in_features=176, out_features=100, bias=True)\n",
              "    (1): ReLU()\n",
              "    (2): Linear(in_features=100, out_features=1, bias=True)\n",
              "  )\n",
              ")"
            ]
          },
          "metadata": {},
          "execution_count": 61
        }
      ]
    },
    {
      "cell_type": "markdown",
      "source": [
        "### Do this automatically with FastAI defaults\n",
        "This uses the same NN (ColabNN class) we made above"
      ],
      "metadata": {
        "id": "z5Y2avKjK6zY"
      }
    },
    {
      "cell_type": "code",
      "source": [
        "learn = collab_learner(dls, use_nn=True, y_range=(0, 5.5)) # calls get_emb_sz automatically\n",
        "learn.fit_one_cycle(5, 5e-3, wd=0.1)\n",
        "\n",
        "print(n_users, n_movies)\n",
        "learn.model"
      ],
      "metadata": {
        "colab": {
          "base_uri": "https://localhost:8080/",
          "height": 563
        },
        "id": "DBT1Q8NBKLjr",
        "outputId": "4aa066c9-147d-4d56-f2b9-bb55145efb91"
      },
      "execution_count": 62,
      "outputs": [
        {
          "output_type": "display_data",
          "data": {
            "text/plain": [
              "<IPython.core.display.HTML object>"
            ],
            "text/html": [
              "\n",
              "<style>\n",
              "    /* Turns off some styling */\n",
              "    progress {\n",
              "        /* gets rid of default border in Firefox and Opera. */\n",
              "        border: none;\n",
              "        /* Needs to be in here for Safari polyfill so background images work as expected. */\n",
              "        background-size: auto;\n",
              "    }\n",
              "    progress:not([value]), progress:not([value])::-webkit-progress-bar {\n",
              "        background: repeating-linear-gradient(45deg, #7e7e7e, #7e7e7e 10px, #5c5c5c 10px, #5c5c5c 20px);\n",
              "    }\n",
              "    .progress-bar-interrupted, .progress-bar-interrupted::-webkit-progress-bar {\n",
              "        background: #F44336;\n",
              "    }\n",
              "</style>\n"
            ]
          },
          "metadata": {}
        },
        {
          "output_type": "display_data",
          "data": {
            "text/plain": [
              "<IPython.core.display.HTML object>"
            ],
            "text/html": [
              "<table border=\"1\" class=\"dataframe\">\n",
              "  <thead>\n",
              "    <tr style=\"text-align: left;\">\n",
              "      <th>epoch</th>\n",
              "      <th>train_loss</th>\n",
              "      <th>valid_loss</th>\n",
              "      <th>time</th>\n",
              "    </tr>\n",
              "  </thead>\n",
              "  <tbody>\n",
              "    <tr>\n",
              "      <td>0</td>\n",
              "      <td>0.958242</td>\n",
              "      <td>0.979675</td>\n",
              "      <td>00:11</td>\n",
              "    </tr>\n",
              "    <tr>\n",
              "      <td>1</td>\n",
              "      <td>0.889243</td>\n",
              "      <td>0.916957</td>\n",
              "      <td>00:10</td>\n",
              "    </tr>\n",
              "    <tr>\n",
              "      <td>2</td>\n",
              "      <td>0.857584</td>\n",
              "      <td>0.871181</td>\n",
              "      <td>00:10</td>\n",
              "    </tr>\n",
              "    <tr>\n",
              "      <td>3</td>\n",
              "      <td>0.810886</td>\n",
              "      <td>0.850907</td>\n",
              "      <td>00:11</td>\n",
              "    </tr>\n",
              "    <tr>\n",
              "      <td>4</td>\n",
              "      <td>0.723904</td>\n",
              "      <td>0.854098</td>\n",
              "      <td>00:11</td>\n",
              "    </tr>\n",
              "  </tbody>\n",
              "</table>"
            ]
          },
          "metadata": {}
        },
        {
          "output_type": "stream",
          "name": "stdout",
          "text": [
            "944 1665\n"
          ]
        },
        {
          "output_type": "execute_result",
          "data": {
            "text/plain": [
              "EmbeddingNN(\n",
              "  (embeds): ModuleList(\n",
              "    (0): Embedding(944, 74)\n",
              "    (1): Embedding(1665, 102)\n",
              "  )\n",
              "  (emb_drop): Dropout(p=0.0, inplace=False)\n",
              "  (bn_cont): BatchNorm1d(0, eps=1e-05, momentum=0.1, affine=True, track_running_stats=True)\n",
              "  (layers): Sequential(\n",
              "    (0): LinBnDrop(\n",
              "      (0): Linear(in_features=176, out_features=50, bias=False)\n",
              "      (1): ReLU(inplace=True)\n",
              "      (2): BatchNorm1d(50, eps=1e-05, momentum=0.1, affine=True, track_running_stats=True)\n",
              "    )\n",
              "    (1): LinBnDrop(\n",
              "      (0): Linear(in_features=50, out_features=1, bias=True)\n",
              "    )\n",
              "    (2): fastai.layers.SigmoidRange(low=0, high=5.5)\n",
              "  )\n",
              ")"
            ]
          },
          "metadata": {},
          "execution_count": 62
        }
      ]
    },
    {
      "cell_type": "markdown",
      "source": [
        "### Add 2 hidden layers in the model\n",
        "This uses the same NN we made above -- but adds 2 hidden layers"
      ],
      "metadata": {
        "id": "O-Z3T6QSjG4S"
      }
    },
    {
      "cell_type": "code",
      "source": [
        "# add two hidden layers (size 100 and 50)\n",
        "learn = collab_learner(dls, use_nn=True, y_range=(0, 5.5), layers=[100,50])\n",
        "learn.fit_one_cycle(5, 5e-3, wd=0.1)\n",
        "\n",
        "print(n_users, n_movies)\n",
        "learn.model"
      ],
      "metadata": {
        "colab": {
          "base_uri": "https://localhost:8080/",
          "height": 653
        },
        "id": "GTImDgrkJ8FH",
        "outputId": "f46ad890-574a-4aa1-9f10-4153dfc71631"
      },
      "execution_count": 63,
      "outputs": [
        {
          "output_type": "display_data",
          "data": {
            "text/plain": [
              "<IPython.core.display.HTML object>"
            ],
            "text/html": [
              "\n",
              "<style>\n",
              "    /* Turns off some styling */\n",
              "    progress {\n",
              "        /* gets rid of default border in Firefox and Opera. */\n",
              "        border: none;\n",
              "        /* Needs to be in here for Safari polyfill so background images work as expected. */\n",
              "        background-size: auto;\n",
              "    }\n",
              "    progress:not([value]), progress:not([value])::-webkit-progress-bar {\n",
              "        background: repeating-linear-gradient(45deg, #7e7e7e, #7e7e7e 10px, #5c5c5c 10px, #5c5c5c 20px);\n",
              "    }\n",
              "    .progress-bar-interrupted, .progress-bar-interrupted::-webkit-progress-bar {\n",
              "        background: #F44336;\n",
              "    }\n",
              "</style>\n"
            ]
          },
          "metadata": {}
        },
        {
          "output_type": "display_data",
          "data": {
            "text/plain": [
              "<IPython.core.display.HTML object>"
            ],
            "text/html": [
              "<table border=\"1\" class=\"dataframe\">\n",
              "  <thead>\n",
              "    <tr style=\"text-align: left;\">\n",
              "      <th>epoch</th>\n",
              "      <th>train_loss</th>\n",
              "      <th>valid_loss</th>\n",
              "      <th>time</th>\n",
              "    </tr>\n",
              "  </thead>\n",
              "  <tbody>\n",
              "    <tr>\n",
              "      <td>0</td>\n",
              "      <td>0.983002</td>\n",
              "      <td>0.981017</td>\n",
              "      <td>00:12</td>\n",
              "    </tr>\n",
              "    <tr>\n",
              "      <td>1</td>\n",
              "      <td>0.945604</td>\n",
              "      <td>0.907709</td>\n",
              "      <td>00:12</td>\n",
              "    </tr>\n",
              "    <tr>\n",
              "      <td>2</td>\n",
              "      <td>0.871737</td>\n",
              "      <td>0.887267</td>\n",
              "      <td>00:12</td>\n",
              "    </tr>\n",
              "    <tr>\n",
              "      <td>3</td>\n",
              "      <td>0.823383</td>\n",
              "      <td>0.857633</td>\n",
              "      <td>00:12</td>\n",
              "    </tr>\n",
              "    <tr>\n",
              "      <td>4</td>\n",
              "      <td>0.743036</td>\n",
              "      <td>0.859982</td>\n",
              "      <td>00:12</td>\n",
              "    </tr>\n",
              "  </tbody>\n",
              "</table>"
            ]
          },
          "metadata": {}
        },
        {
          "output_type": "stream",
          "name": "stdout",
          "text": [
            "944 1665\n"
          ]
        },
        {
          "output_type": "execute_result",
          "data": {
            "text/plain": [
              "EmbeddingNN(\n",
              "  (embeds): ModuleList(\n",
              "    (0): Embedding(944, 74)\n",
              "    (1): Embedding(1665, 102)\n",
              "  )\n",
              "  (emb_drop): Dropout(p=0.0, inplace=False)\n",
              "  (bn_cont): BatchNorm1d(0, eps=1e-05, momentum=0.1, affine=True, track_running_stats=True)\n",
              "  (layers): Sequential(\n",
              "    (0): LinBnDrop(\n",
              "      (0): Linear(in_features=176, out_features=100, bias=False)\n",
              "      (1): ReLU(inplace=True)\n",
              "      (2): BatchNorm1d(100, eps=1e-05, momentum=0.1, affine=True, track_running_stats=True)\n",
              "    )\n",
              "    (1): LinBnDrop(\n",
              "      (0): Linear(in_features=100, out_features=50, bias=False)\n",
              "      (1): ReLU(inplace=True)\n",
              "      (2): BatchNorm1d(50, eps=1e-05, momentum=0.1, affine=True, track_running_stats=True)\n",
              "    )\n",
              "    (2): LinBnDrop(\n",
              "      (0): Linear(in_features=50, out_features=1, bias=True)\n",
              "    )\n",
              "    (3): fastai.layers.SigmoidRange(low=0, high=5.5)\n",
              "  )\n",
              ")"
            ]
          },
          "metadata": {},
          "execution_count": 63
        }
      ]
    },
    {
      "cell_type": "code",
      "source": [],
      "metadata": {
        "id": "fQhmyafRLrHs"
      },
      "execution_count": 63,
      "outputs": []
    }
  ]
}