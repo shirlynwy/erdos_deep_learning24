{
  "cells": [
    {
      "cell_type": "markdown",
      "metadata": {
        "id": "LeJ8yJHj9PjS"
      },
      "source": [
        "# NLP 1: Text Preprocessing and Text Classifier\n",
        "\n",
        "This notebook is based on fastai's **[Chapter 10](https://github.com/fastai/fastbook/blob/master/10_nlp.ipynb)**.\n",
        "\n",
        "Please read that chapter before looking at this review.\n",
        "\n",
        "*I suggest opening this notebook in Colab (where it can be easier to use GPU).*\n",
        "*If you want to run it locally, set up the **deep-learning** environment in your terminal with `conda env create -f environment.yml` and activate it in your preferred IDE.*"
      ]
    },
    {
      "cell_type": "code",
      "execution_count": 1,
      "metadata": {
        "colab": {
          "base_uri": "https://localhost:8080/"
        },
        "id": "yIVoiFYcsSpH",
        "outputId": "49c5a575-c207-463e-97d6-96bedae6e313"
      },
      "outputs": [
        {
          "output_type": "stream",
          "name": "stdout",
          "text": [
            "\u001b[2K     \u001b[90m━━━━━━━━━━━━━━━━━━━━━━━━━━━━━━━━━━━━━━━━\u001b[0m \u001b[32m719.8/719.8 kB\u001b[0m \u001b[31m7.3 MB/s\u001b[0m eta \u001b[36m0:00:00\u001b[0m\n",
            "\u001b[2K     \u001b[90m━━━━━━━━━━━━━━━━━━━━━━━━━━━━━━━━━━━━━━━━\u001b[0m \u001b[32m507.1/507.1 kB\u001b[0m \u001b[31m12.3 MB/s\u001b[0m eta \u001b[36m0:00:00\u001b[0m\n",
            "\u001b[2K     \u001b[90m━━━━━━━━━━━━━━━━━━━━━━━━━━━━━━━━━━━━━━━━\u001b[0m \u001b[32m1.3/1.3 MB\u001b[0m \u001b[31m16.2 MB/s\u001b[0m eta \u001b[36m0:00:00\u001b[0m\n",
            "\u001b[2K     \u001b[90m━━━━━━━━━━━━━━━━━━━━━━━━━━━━━━━━━━━━━━━━\u001b[0m \u001b[32m115.3/115.3 kB\u001b[0m \u001b[31m14.2 MB/s\u001b[0m eta \u001b[36m0:00:00\u001b[0m\n",
            "\u001b[2K     \u001b[90m━━━━━━━━━━━━━━━━━━━━━━━━━━━━━━━━━━━━━━━━\u001b[0m \u001b[32m134.8/134.8 kB\u001b[0m \u001b[31m9.9 MB/s\u001b[0m eta \u001b[36m0:00:00\u001b[0m\n",
            "\u001b[2K     \u001b[90m━━━━━━━━━━━━━━━━━━━━━━━━━━━━━━━━━━━━━━━━\u001b[0m \u001b[32m1.6/1.6 MB\u001b[0m \u001b[31m21.5 MB/s\u001b[0m eta \u001b[36m0:00:00\u001b[0m\n",
            "\u001b[?25hMounted at /content/gdrive\n"
          ]
        }
      ],
      "source": [
        "### FOR COLAB USERS ###\n",
        "! [ -e /content ] && pip install -Uqq fastbook\n",
        "import fastbook\n",
        "fastbook.setup_book()"
      ]
    },
    {
      "cell_type": "code",
      "execution_count": 2,
      "metadata": {
        "id": "qXikobZh9nqy"
      },
      "outputs": [],
      "source": [
        "# ### FOR LOCAL USERS ###\n",
        "# import fastai\n",
        "# print(fastai.__version__)\n",
        "\n",
        "# ! pip install -Uqq fastbook\n",
        "# import fastbook\n",
        "# fastbook.setup_book()"
      ]
    },
    {
      "cell_type": "code",
      "execution_count": 3,
      "metadata": {
        "id": "EFk_eJZVsWF2"
      },
      "outputs": [],
      "source": [
        "from fastbook import *\n",
        "from IPython.display import display,HTML\n",
        "\n",
        "from fastai.text.all import *"
      ]
    },
    {
      "cell_type": "markdown",
      "metadata": {
        "id": "KdSTDq0DzmQd"
      },
      "source": [
        "# Data"
      ]
    },
    {
      "cell_type": "code",
      "execution_count": 4,
      "metadata": {
        "colab": {
          "base_uri": "https://localhost:8080/",
          "height": 37
        },
        "id": "y6J7ZFMbsWIK",
        "outputId": "41fc5bd7-14d9-45f7-bc5f-381e3062c822"
      },
      "outputs": [
        {
          "output_type": "display_data",
          "data": {
            "text/plain": [
              "<IPython.core.display.HTML object>"
            ],
            "text/html": [
              "\n",
              "<style>\n",
              "    /* Turns off some styling */\n",
              "    progress {\n",
              "        /* gets rid of default border in Firefox and Opera. */\n",
              "        border: none;\n",
              "        /* Needs to be in here for Safari polyfill so background images work as expected. */\n",
              "        background-size: auto;\n",
              "    }\n",
              "    progress:not([value]), progress:not([value])::-webkit-progress-bar {\n",
              "        background: repeating-linear-gradient(45deg, #7e7e7e, #7e7e7e 10px, #5c5c5c 10px, #5c5c5c 20px);\n",
              "    }\n",
              "    .progress-bar-interrupted, .progress-bar-interrupted::-webkit-progress-bar {\n",
              "        background: #F44336;\n",
              "    }\n",
              "</style>\n"
            ]
          },
          "metadata": {}
        },
        {
          "output_type": "display_data",
          "data": {
            "text/plain": [
              "<IPython.core.display.HTML object>"
            ],
            "text/html": [
              "\n",
              "    <div>\n",
              "      <progress value='144441344' class='' max='144440600' style='width:300px; height:20px; vertical-align: middle;'></progress>\n",
              "      100.00% [144441344/144440600 00:02&lt;00:00]\n",
              "    </div>\n",
              "    "
            ]
          },
          "metadata": {}
        }
      ],
      "source": [
        "path = untar_data(URLs.IMDB)"
      ]
    },
    {
      "cell_type": "code",
      "execution_count": 5,
      "metadata": {
        "colab": {
          "base_uri": "https://localhost:8080/"
        },
        "id": "GKmbdmMQzoPO",
        "outputId": "e92f51c5-ea2c-4037-dbc2-43d577e982f2"
      },
      "outputs": [
        {
          "output_type": "execute_result",
          "data": {
            "text/plain": [
              "100000"
            ]
          },
          "metadata": {},
          "execution_count": 5
        }
      ],
      "source": [
        "# get text files\n",
        "files = get_text_files(path, folders = ['train', 'test', 'unsup'])\n",
        "len(files)"
      ]
    },
    {
      "cell_type": "code",
      "execution_count": 6,
      "metadata": {
        "colab": {
          "base_uri": "https://localhost:8080/",
          "height": 35
        },
        "id": "HScgSfYM21kE",
        "outputId": "8a3ea72b-d5d8-4c54-e9b8-96ec641503fd"
      },
      "outputs": [
        {
          "output_type": "execute_result",
          "data": {
            "text/plain": [
              "'I wanted to like Magnolia. The plot reminded me of Grand Canyon (which I li'"
            ],
            "application/vnd.google.colaboratory.intrinsic+json": {
              "type": "string"
            }
          },
          "metadata": {},
          "execution_count": 6
        }
      ],
      "source": [
        "# sample -- one file (first 75 characters for length)\n",
        "sample_text = files[0].open().read();\n",
        "sample_text[:75]"
      ]
    },
    {
      "cell_type": "code",
      "execution_count": 7,
      "metadata": {
        "colab": {
          "base_uri": "https://localhost:8080/"
        },
        "id": "4hsvtAXA-Ncx",
        "outputId": "64a118f6-baf6-494a-cb03-b39c929d873a"
      },
      "outputs": [
        {
          "output_type": "stream",
          "name": "stdout",
          "text": [
            "2000\n"
          ]
        }
      ],
      "source": [
        "# first 2000 texts\n",
        "txts = L(o.open().read() for o in files[:2000])\n",
        "print(len(txts))"
      ]
    },
    {
      "cell_type": "code",
      "execution_count": 8,
      "metadata": {
        "colab": {
          "base_uri": "https://localhost:8080/",
          "height": 160
        },
        "id": "88E6E2zf3LUv",
        "outputId": "b476d713-baed-4a20-960c-224aa3daa525"
      },
      "outputs": [
        {
          "output_type": "execute_result",
          "data": {
            "text/plain": [
              "\"I wanted to like Magnolia. The plot reminded me of Grand Canyon (which I liked). 4 different lives/stories that come together at the end but Magnolia took a wrong turn halfway through the movie and I was lost. I almost turned it off right then and there but I felt I should hang in there until the end, little did I know it would be another torturous 1 1/2 hours. Thank god I rented instead of seeing it in the theatre. I almost screamed out in frustration after 2 hours. The biggest kick in the pants was the ending frog scene. My DVD player still hasn't forgiven me and I don't blame it one bit. It was a unique movie, but a bad, boring, and pointless movie.\""
            ],
            "application/vnd.google.colaboratory.intrinsic+json": {
              "type": "string"
            }
          },
          "metadata": {},
          "execution_count": 8
        }
      ],
      "source": [
        "# same sample as above\n",
        "txts[0]"
      ]
    },
    {
      "cell_type": "markdown",
      "metadata": {
        "id": "rMs5k2ON1B4l"
      },
      "source": [
        "# Text Preprocessing"
      ]
    },
    {
      "cell_type": "markdown",
      "metadata": {
        "id": "yN-9fWCH3CMp"
      },
      "source": [
        "## 1. Tokenization\n",
        "- Token: one element of a list created by the tokenization process. It could be a word, part of a word (a subword), or a single character.\n",
        "- Tokenization: Convert the text into a list of tokens\n",
        "- 3 main approaches: word-based, subword-based, character-based\n"
      ]
    },
    {
      "cell_type": "markdown",
      "metadata": {
        "id": "0Hpp-3HS2xTW"
      },
      "source": [
        "### Word-based tokenization\n",
        "- Split a sentence on spaces, as well as applying language-specific rules to try to separate parts of meaning even when there are no spaces (such as turning \"don't\" into \"do n't\")\n",
        "- Generally, punctuation marks are also split into separate tokens"
      ]
    },
    {
      "cell_type": "markdown",
      "metadata": {
        "id": "OjRW8RFW8OnR"
      },
      "source": [
        "#### SpaCy"
      ]
    },
    {
      "cell_type": "code",
      "execution_count": 9,
      "metadata": {
        "id": "Gmhhhy8D2ROS"
      },
      "outputs": [],
      "source": [
        "# spacy tokenizer (implemented in FastAI)\n",
        "spacy = WordTokenizer()"
      ]
    },
    {
      "cell_type": "code",
      "execution_count": 10,
      "metadata": {
        "colab": {
          "base_uri": "https://localhost:8080/"
        },
        "id": "wFZPKi2b1DQm",
        "outputId": "f094e9a3-fd56-4165-de13-4a6fbfd56bda"
      },
      "outputs": [
        {
          "output_type": "stream",
          "name": "stdout",
          "text": [
            "['The', 'U.S.', 'dollar', '$', '1', 'is', '$', '1.00', '.']\n",
            "(#9) ['The','U.S.','dollar','$','1','is','$','1.00','.']\n",
            "(#9) ['The','U.S.','dollar'...]\n"
          ]
        }
      ],
      "source": [
        "# sample sentence -- get tokens\n",
        "tokens = first(spacy(['The U.S. dollar $1 is $1.00.']))\n",
        "print(tokens)\n",
        "\n",
        "# turn tokens into a collection\n",
        "coll_all = coll_repr(tokens)\n",
        "print(coll_all)\n",
        "\n",
        "# print first 3 tokens\n",
        "coll_3 = coll_repr(tokens, 3)\n",
        "print(coll_3)"
      ]
    },
    {
      "cell_type": "code",
      "execution_count": 11,
      "metadata": {
        "colab": {
          "base_uri": "https://localhost:8080/"
        },
        "id": "L0pw1jCX2zpL",
        "outputId": "8eccb8b3-6c54-4e51-fdcc-6b0585c8cf16"
      },
      "outputs": [
        {
          "output_type": "stream",
          "name": "stdout",
          "text": [
            "['I', 'wanted', 'to', 'like', 'Magnolia', '.', 'The', 'plot', 'reminded', 'me', 'of', 'Grand', 'Canyon', '(', 'which', 'I', 'liked', ')', '.', '4', 'different', 'lives', '/', 'stories', 'that', 'come', 'together', 'at', 'the', 'end', 'but', 'Magnolia', 'took', 'a', 'wrong', 'turn', 'halfway', 'through', 'the', 'movie', 'and', 'I', 'was', 'lost', '.', 'I', 'almost', 'turned', 'it', 'off', 'right', 'then', 'and', 'there', 'but', 'I', 'felt', 'I', 'should', 'hang', 'in', 'there', 'until', 'the', 'end', ',', 'little', 'did', 'I', 'know', 'it', 'would', 'be', 'another', 'torturous', '1', '1/2', 'hours', '.', 'Thank', 'god', 'I', 'rented', 'instead', 'of', 'seeing', 'it', 'in', 'the', 'theatre', '.', 'I', 'almost', 'screamed', 'out', 'in', 'frustration', 'after', '2', 'hours', '.', 'The', 'biggest', 'kick', 'in', 'the', 'pants', 'was', 'the', 'ending', 'frog', 'scene', '.', 'My', 'DVD', 'player', 'still', 'has', \"n't\", 'forgiven', 'me', 'and', 'I', 'do', \"n't\", 'blame', 'it', 'one', 'bit', '.', 'It', 'was', 'a', 'unique', 'movie', ',', 'but', 'a', 'bad', ',', 'boring', ',', 'and', 'pointless', 'movie', '.']\n",
            "(#146) ['I','wanted','to','like','Magnolia','.','The','plot','reminded','me'...]\n",
            "(#146) ['I','wanted','to'...]\n"
          ]
        }
      ],
      "source": [
        "# get tokens from a sample document in our corpus\n",
        "# note: you need to pass the sample text as a list\n",
        "tokens = first(spacy([sample_text]))\n",
        "print(tokens)\n",
        "\n",
        "# turn tokens into a collection\n",
        "coll_all = coll_repr(tokens)\n",
        "print(coll_all)\n",
        "\n",
        "# print first 3 tokens\n",
        "coll_3 = coll_repr(tokens, 3)\n",
        "print(coll_3)"
      ]
    },
    {
      "cell_type": "markdown",
      "metadata": {
        "id": "vsWWX4MM3JSp"
      },
      "source": [
        "#### FastAI tokenizer\n",
        "\n",
        "Special tokens:\n",
        "- `xxbos` = beginning of stream (sentence)\n",
        "- `xxmaj` = next token starts with a capital letter\n",
        "- `xxunk` = indicates the word is unknown\n",
        "\n",
        "Default rules:\n",
        "- `fix_html` = replaces special HTML characters with a readable version (IMDb reviews have quite a few of these)\n",
        "- `replace_rep` = replaces any character repeated three times or more with a special token for repetition (`xxrep`), the number of times it's repeated, then the character\n",
        "- `replace_wrep `= replaces any word repeated three times or more with a special token for word repetition (`xxwrep`), the number of times it's repeated, then the word\n",
        "- `spec_add_spaces` = adds spaces around / and #\n",
        "- `rm_useless_spaces` = removes all repetitions of the space character\n",
        "- `replace_all_caps` = lowercases a word written in all caps and adds a special token for all caps (`xxup`) in front of it\n",
        "- `replace_maj` = lowercases a capitalized word and adds a special token for capitalized (`xxmaj`) in front of it\n",
        "- `lowercase` = lowercases all text and adds a special token at the beginning (`xxbos`) and/or the end (`xxeos`)\n"
      ]
    },
    {
      "cell_type": "code",
      "execution_count": 12,
      "metadata": {
        "id": "T-BYl2rw1TNU"
      },
      "outputs": [],
      "source": [
        "# fastai tokenizer -- adds special characters to the spacy tokenizer we already defined\n",
        "tkn = Tokenizer(spacy)"
      ]
    },
    {
      "cell_type": "code",
      "execution_count": 13,
      "metadata": {
        "colab": {
          "base_uri": "https://localhost:8080/"
        },
        "id": "PMiG1lZR6H96",
        "outputId": "9d2ba7a6-5276-499f-eead-300769b90619"
      },
      "outputs": [
        {
          "output_type": "execute_result",
          "data": {
            "text/plain": [
              "[<function fastai.text.core.fix_html(x)>,\n",
              " <function fastai.text.core.replace_rep(t)>,\n",
              " <function fastai.text.core.replace_wrep(t)>,\n",
              " <function fastai.text.core.spec_add_spaces(t)>,\n",
              " <function fastai.text.core.rm_useless_spaces(t)>,\n",
              " <function fastai.text.core.replace_all_caps(t)>,\n",
              " <function fastai.text.core.replace_maj(t)>,\n",
              " <function fastai.text.core.lowercase(t, add_bos=True, add_eos=False)>]"
            ]
          },
          "metadata": {},
          "execution_count": 13
        }
      ],
      "source": [
        "# see the default rules of the tokenizer\n",
        "defaults.text_proc_rules\n",
        "\n",
        "# replace_rep??"
      ]
    },
    {
      "cell_type": "code",
      "execution_count": 14,
      "metadata": {
        "colab": {
          "base_uri": "https://localhost:8080/"
        },
        "id": "aVlHofFkzoL2",
        "outputId": "2f97189f-2c54-4960-8c35-33e4ef6197aa"
      },
      "outputs": [
        {
          "output_type": "stream",
          "name": "stdout",
          "text": [
            "['xxbos', 'i', 'wanted', 'to', 'like', 'xxmaj', 'magnolia', '.', 'xxmaj', 'the', 'plot', 'reminded', 'me', 'of', 'xxmaj', 'grand', 'xxmaj', 'canyon', '(', 'which', 'i', 'liked', ')', '.', '4', 'different', 'lives', '/', 'stories', 'that', 'come', 'together', 'at', 'the', 'end', 'but', 'xxmaj', 'magnolia', 'took', 'a', 'wrong', 'turn', 'halfway', 'through', 'the', 'movie', 'and', 'i', 'was', 'lost', '.', 'i', 'almost', 'turned', 'it', 'off', 'right', 'then', 'and', 'there', 'but', 'i', 'felt', 'i', 'should', 'hang', 'in', 'there', 'until', 'the', 'end', ',', 'little', 'did', 'i', 'know', 'it', 'would', 'be', 'another', 'torturous', '1', '1', '/', '2', 'hours', '.', 'xxmaj', 'thank', 'god', 'i', 'rented', 'instead', 'of', 'seeing', 'it', 'in', 'the', 'theatre', '.', 'i', 'almost', 'screamed', 'out', 'in', 'frustration', 'after', '2', 'hours', '.', 'xxmaj', 'the', 'biggest', 'kick', 'in', 'the', 'pants', 'was', 'the', 'ending', 'frog', 'scene', '.', 'xxmaj', 'my', 'xxup', 'dvd', 'player', 'still', 'has', \"n't\", 'forgiven', 'me', 'and', 'i', 'do', \"n't\", 'blame', 'it', 'one', 'bit', '.', 'xxmaj', 'it', 'was', 'a', 'unique', 'movie', ',', 'but', 'a', 'bad', ',', 'boring', ',', 'and', 'pointless', 'movie', '.']\n",
            "(#159) ['xxbos','i','wanted','to','like','xxmaj','magnolia','.','xxmaj','the'...]\n",
            "(#159) ['xxbos','i','wanted'...]\n"
          ]
        }
      ],
      "source": [
        "# get tokens from the sample text\n",
        "# notice that you don't pass the sample text as a list here\n",
        "tokens = tkn(sample_text)\n",
        "print(tokens)\n",
        "\n",
        "# turn tokens into a collection\n",
        "coll_all = coll_repr(tokens)\n",
        "print(coll_all)\n",
        "\n",
        "# print first 3 tokens\n",
        "coll_3 = coll_repr(tokens, 3)\n",
        "print(coll_3)"
      ]
    },
    {
      "cell_type": "code",
      "execution_count": 15,
      "metadata": {
        "colab": {
          "base_uri": "https://localhost:8080/",
          "height": 35
        },
        "id": "TSlCyI63zoI_",
        "outputId": "76e70282-df71-4330-8852-c9cbba3d25c0"
      },
      "outputs": [
        {
          "output_type": "execute_result",
          "data": {
            "text/plain": [
              "\"(#11) ['xxbos','©','xxmaj','fast.ai','xxrep','3','w','.fast.ai','/','xxup','index']\""
            ],
            "application/vnd.google.colaboratory.intrinsic+json": {
              "type": "string"
            }
          },
          "metadata": {},
          "execution_count": 15
        }
      ],
      "source": [
        "# another example\n",
        "coll_repr(tkn('&copy;   Fast.ai www.fast.ai/INDEX'), 31)"
      ]
    },
    {
      "cell_type": "code",
      "execution_count": 16,
      "metadata": {
        "colab": {
          "base_uri": "https://localhost:8080/"
        },
        "id": "Asi2YD8PDAeo",
        "outputId": "73aebbde-0371-42ac-a9b2-51cfff0abf32"
      },
      "outputs": [
        {
          "output_type": "stream",
          "name": "stdout",
          "text": [
            "['xxbos', 'i', 'wanted', 'to', 'like', 'xxmaj', 'magnolia', '.', 'xxmaj', 'the', 'plot', 'reminded', 'me', 'of', 'xxmaj', 'grand', 'xxmaj', 'canyon', '(', 'which', 'i', 'liked', ')', '.', '4', 'different', 'lives', '/', 'stories', 'that', 'come', 'together', 'at', 'the', 'end', 'but', 'xxmaj', 'magnolia', 'took', 'a', 'wrong', 'turn', 'halfway', 'through', 'the', 'movie', 'and', 'i', 'was', 'lost', '.', 'i', 'almost', 'turned', 'it', 'off', 'right', 'then', 'and', 'there', 'but', 'i', 'felt', 'i', 'should', 'hang', 'in', 'there', 'until', 'the', 'end', ',', 'little', 'did', 'i', 'know', 'it', 'would', 'be', 'another', 'torturous', '1', '1', '/', '2', 'hours', '.', 'xxmaj', 'thank', 'god', 'i', 'rented', 'instead', 'of', 'seeing', 'it', 'in', 'the', 'theatre', '.', 'i', 'almost', 'screamed', 'out', 'in', 'frustration', 'after', '2', 'hours', '.', 'xxmaj', 'the', 'biggest', 'kick', 'in', 'the', 'pants', 'was', 'the', 'ending', 'frog', 'scene', '.', 'xxmaj', 'my', 'xxup', 'dvd', 'player', 'still', 'has', \"n't\", 'forgiven', 'me', 'and', 'i', 'do', \"n't\", 'blame', 'it', 'one', 'bit', '.', 'xxmaj', 'it', 'was', 'a', 'unique', 'movie', ',', 'but', 'a', 'bad', ',', 'boring', ',', 'and', 'pointless', 'movie', '.']\n",
            "['xxbos', 'xxmaj', 'these', 'writings', 'write', 'about', 'the', 'end', 'of', 'the', 'plot', 'so', 'do', \"n't\", 'read', 'it', 'if', 'you', 'have', \"n't\", 'seen', 'this', 'rubbish', '.', '\\n\\n', 'i', 'found', 'this', 'rubbish', 'film', 'in', 'the', 'horror', 'section', 'which', 'made', 'me', 'think', 'it', 'would', 'be', 'a', 'horror', '.', 'xxmaj', 'if', 'i', 'owned', 'a', 'video', 'store', 'xxmaj', 'i', \"'d\", 'put', 'it', 'in', 'the', 'xxup', 'boring', 'section', '.', 'xxmaj', 'this', 'film', 'is', 'so', 'rubbish', 'it', 'will', 'make', 'you', 'feel', 'like', 'you', 'have', 'lost', 'your', 'socks', '.', '\\n\\n', 'xxmaj', 'this', 'film', 'contains', 'endless', 'shots', 'of', 'people', 'driving', 'as', 'if', 'that', 'was', 'scary', '.', 'xxmaj', 'well', 'i', 'drive', 'to', 'work', 'and', 'back', '(', 'and', 'sometimes', 'to', 'the', 'store', 'or', 'to', 'visit', 'my', 'cats', ')', 'almost', 'every', 'day', 'and', 'trust', 'me', 'it', \"'s\", 'not', 'scary', '.', 'xxmaj', 'it', 'even', 'starts', 'with', '20', 'minutes', 'of', 'some', 'people', 'driving', '.', 'xxmaj', 'even', 'the', 'little', 'kid', 'does', 'it', 'too', '.', 'xxmaj', 'round', 'and', 'round', 'he', 'goes', 'and', 'he', 'never', 'stops', '.', 'xxmaj', 'what', \"'s\", 'so', 'scary', 'about', 'watching', 'a', 'little', 'kid', 'riding', 'a', 'bicycle', 'for', 'an', 'hour', '?', 'i', 'think', 'xxup', 'nothing', 'and', 'if', 'you', 'watch', 'it', 'you', 'will', 'not', 'think', 'so', 'too', '.', '\\n\\n', 'xxmaj', 'the', 'family', 'in', 'the', 'car', 'arrive', 'at', 'a', 'big', 'castle', 'and', 'they', 'are', 'given', 'a', 'tour', 'just', 'walking', 'around', 'endlessly', 'looking', 'at', 'kitchens', '.', 'xxmaj', 'then', 'the', 'man', 'walks', 'around', 'a', 'for', 'an', 'hour', 'and', 'tries', 'to', 'kill', 'his', 'family', 'for', 'no', 'reason', '.', 'xxmaj', 'that', \"'s\", 'all', 'that', 'happens', 'and', 'as', 'you', 'can', 'see', 'it', \"'s\", 'rubbish', '.']\n"
          ]
        }
      ],
      "source": [
        "# tokenize 200 documents in the corpus\n",
        "toks200 = txts[:200].map(tkn)\n",
        "\n",
        "print(toks200[0])\n",
        "print(toks200[1])"
      ]
    },
    {
      "cell_type": "markdown",
      "metadata": {
        "id": "3UKww9rU-CRX"
      },
      "source": [
        "### Subword-based tokenization\n",
        "- Split words into smaller parts, based on the most commonly occurring substrings. For instance, \"occasion\" might be tokenized as \"o c ca sion.\"\n",
        "- Provides a way to easily scale between character tokenization (i.e., using a small subword vocab) and word tokenization (i.e., using a large subword vocab), and handles every human language without needing language-specific algorithms to be developed\n",
        "- It can even handle other \"languages\" such as genomic sequences or MIDI music notation\n",
        "- Picking a subword vocab size represents a compromise: a larger vocab means fewer tokens per sentence, which means faster training, less memory, and less state for the model to remember; but on the downside, it means larger embedding matrices, which require more data to learn"
      ]
    },
    {
      "cell_type": "code",
      "execution_count": 17,
      "metadata": {
        "id": "LBhzozzWzoGZ"
      },
      "outputs": [],
      "source": [
        "def subword(sz, txt):\n",
        "  sp = SubwordTokenizer(vocab_sz=sz) #sz = size of vocab we want to create\n",
        "  sp.setup(txts) # read the documents and find the common sequences to make the vocab\n",
        "  return ' '.join(first(sp([txt]))[:40])"
      ]
    },
    {
      "cell_type": "code",
      "execution_count": 18,
      "metadata": {
        "colab": {
          "base_uri": "https://localhost:8080/",
          "height": 53
        },
        "id": "UHxWlRoYzn7c",
        "outputId": "4cc73ab1-aecf-4dda-bb0a-6349822d05b3"
      },
      "outputs": [
        {
          "output_type": "display_data",
          "data": {
            "text/plain": [
              "<IPython.core.display.HTML object>"
            ],
            "text/html": [
              "\n",
              "<style>\n",
              "    /* Turns off some styling */\n",
              "    progress {\n",
              "        /* gets rid of default border in Firefox and Opera. */\n",
              "        border: none;\n",
              "        /* Needs to be in here for Safari polyfill so background images work as expected. */\n",
              "        background-size: auto;\n",
              "    }\n",
              "    progress:not([value]), progress:not([value])::-webkit-progress-bar {\n",
              "        background: repeating-linear-gradient(45deg, #7e7e7e, #7e7e7e 10px, #5c5c5c 10px, #5c5c5c 20px);\n",
              "    }\n",
              "    .progress-bar-interrupted, .progress-bar-interrupted::-webkit-progress-bar {\n",
              "        background: #F44336;\n",
              "    }\n",
              "</style>\n"
            ]
          },
          "metadata": {}
        },
        {
          "output_type": "display_data",
          "data": {
            "text/plain": [
              "<IPython.core.display.HTML object>"
            ],
            "text/html": []
          },
          "metadata": {}
        },
        {
          "output_type": "execute_result",
          "data": {
            "text/plain": [
              "'▁I ▁want ed ▁to ▁like ▁Ma g no li a . ▁The ▁plot ▁re min d ed ▁me ▁of ▁G r and ▁Ca n y on ▁( w hi ch ▁I ▁like d ). ▁ 4 ▁different ▁live s /'"
            ],
            "application/vnd.google.colaboratory.intrinsic+json": {
              "type": "string"
            }
          },
          "metadata": {},
          "execution_count": 18
        }
      ],
      "source": [
        "# get vocab\n",
        "  # _ represents a space\n",
        "subword(1000, sample_text)"
      ]
    },
    {
      "cell_type": "code",
      "execution_count": 19,
      "metadata": {
        "colab": {
          "base_uri": "https://localhost:8080/",
          "height": 53
        },
        "id": "E5qdW3Xczn4k",
        "outputId": "f5ac1fb0-6853-447d-8528-d9f4ac7a9be1"
      },
      "outputs": [
        {
          "output_type": "display_data",
          "data": {
            "text/plain": [
              "<IPython.core.display.HTML object>"
            ],
            "text/html": [
              "\n",
              "<style>\n",
              "    /* Turns off some styling */\n",
              "    progress {\n",
              "        /* gets rid of default border in Firefox and Opera. */\n",
              "        border: none;\n",
              "        /* Needs to be in here for Safari polyfill so background images work as expected. */\n",
              "        background-size: auto;\n",
              "    }\n",
              "    progress:not([value]), progress:not([value])::-webkit-progress-bar {\n",
              "        background: repeating-linear-gradient(45deg, #7e7e7e, #7e7e7e 10px, #5c5c5c 10px, #5c5c5c 20px);\n",
              "    }\n",
              "    .progress-bar-interrupted, .progress-bar-interrupted::-webkit-progress-bar {\n",
              "        background: #F44336;\n",
              "    }\n",
              "</style>\n"
            ]
          },
          "metadata": {}
        },
        {
          "output_type": "display_data",
          "data": {
            "text/plain": [
              "<IPython.core.display.HTML object>"
            ],
            "text/html": []
          },
          "metadata": {}
        },
        {
          "output_type": "execute_result",
          "data": {
            "text/plain": [
              "'▁I ▁w an t ed ▁to ▁ li k e ▁ M a g n o li a . ▁The ▁p lo t ▁ re m in d ed ▁me ▁of ▁ G r an d ▁ C an y'"
            ],
            "application/vnd.google.colaboratory.intrinsic+json": {
              "type": "string"
            }
          },
          "metadata": {},
          "execution_count": 19
        }
      ],
      "source": [
        "# smaller vocab\n",
        "  # If we use a smaller vocab, then each token will represent fewer characters,\n",
        "  # and it will take more tokens to represent a sentence\n",
        "subword(200, sample_text)"
      ]
    },
    {
      "cell_type": "code",
      "execution_count": 20,
      "metadata": {
        "colab": {
          "base_uri": "https://localhost:8080/",
          "height": 71
        },
        "id": "rKhaY_hTzn1d",
        "outputId": "7f51cd53-f982-40ed-945d-e919950b7129"
      },
      "outputs": [
        {
          "output_type": "display_data",
          "data": {
            "text/plain": [
              "<IPython.core.display.HTML object>"
            ],
            "text/html": [
              "\n",
              "<style>\n",
              "    /* Turns off some styling */\n",
              "    progress {\n",
              "        /* gets rid of default border in Firefox and Opera. */\n",
              "        border: none;\n",
              "        /* Needs to be in here for Safari polyfill so background images work as expected. */\n",
              "        background-size: auto;\n",
              "    }\n",
              "    progress:not([value]), progress:not([value])::-webkit-progress-bar {\n",
              "        background: repeating-linear-gradient(45deg, #7e7e7e, #7e7e7e 10px, #5c5c5c 10px, #5c5c5c 20px);\n",
              "    }\n",
              "    .progress-bar-interrupted, .progress-bar-interrupted::-webkit-progress-bar {\n",
              "        background: #F44336;\n",
              "    }\n",
              "</style>\n"
            ]
          },
          "metadata": {}
        },
        {
          "output_type": "display_data",
          "data": {
            "text/plain": [
              "<IPython.core.display.HTML object>"
            ],
            "text/html": []
          },
          "metadata": {}
        },
        {
          "output_type": "execute_result",
          "data": {
            "text/plain": [
              "'▁I ▁wanted ▁to ▁like ▁Magnolia . ▁The ▁plot ▁remind ed ▁me ▁of ▁Grand ▁Canyon ▁( which ▁I ▁liked ). ▁4 ▁different ▁lives / s tor ies ▁that ▁come ▁together ▁at ▁the ▁end ▁but ▁Magnolia ▁to ok ▁a ▁wrong ▁turn ▁half'"
            ],
            "application/vnd.google.colaboratory.intrinsic+json": {
              "type": "string"
            }
          },
          "metadata": {},
          "execution_count": 20
        }
      ],
      "source": [
        "# larger vocab\n",
        "  # most common English words will end up in the vocab themselves,\n",
        "  # and we will not need as many to represent a sentence\n",
        "subword(10000, sample_text)"
      ]
    },
    {
      "cell_type": "markdown",
      "metadata": {
        "id": "hdFyR-mS8jVz"
      },
      "source": [
        "### Character-based tokenization\n",
        "- Split a sentence into its individual characters"
      ]
    },
    {
      "cell_type": "code",
      "execution_count": 21,
      "metadata": {
        "id": "DitZFgEi8it2"
      },
      "outputs": [],
      "source": [
        "# not sure how to do this in fastai\n",
        "# subword(26, sample_text)"
      ]
    },
    {
      "cell_type": "markdown",
      "metadata": {
        "id": "9h5f0pRqDbB-"
      },
      "source": [
        "## 2. Numericalization\n",
        "- Goal: mapping tokens to integers\n",
        "- Make a list of all of the unique tokens that appear (the vocab)\n",
        "- Convert each token into a number, by replacing the token with its index in the vocab\n"
      ]
    },
    {
      "cell_type": "code",
      "execution_count": 22,
      "metadata": {
        "id": "qmZPNW9UD1CL"
      },
      "outputs": [],
      "source": [
        "# recall we already tokenized these above\n",
        "tkn = Tokenizer(spacy)\n",
        "toks200 = txts[:200].map(tkn)"
      ]
    },
    {
      "cell_type": "code",
      "execution_count": 23,
      "metadata": {
        "id": "f8KBV4DzsWKz"
      },
      "outputs": [],
      "source": [
        "# initialize numericalize\n",
        "num = Numericalize()"
      ]
    },
    {
      "cell_type": "markdown",
      "metadata": {
        "id": "rf7BNVTLC2ZJ"
      },
      "source": [
        "### Set up the vocab\n",
        "- Special tokens appear first, and then every word appears once, in frequency order.\n",
        "- Defaults: `min_freq`=3, `max_vocab`=60000.\n",
        "- `max_vocab`=60000 results in fastai replacing all words other than the most common 60,000 with a special unknown word token, `xxunk`\n",
        "- `min_freq`=3 means that any word appearing less than three times is replaced with `xxunk`"
      ]
    },
    {
      "cell_type": "code",
      "execution_count": 24,
      "metadata": {
        "id": "J-UTmqc6sWNH"
      },
      "outputs": [],
      "source": [
        "# setup the vocab for the 200 text documents\n",
        "num.setup(toks200)"
      ]
    },
    {
      "cell_type": "code",
      "execution_count": 25,
      "metadata": {
        "colab": {
          "base_uri": "https://localhost:8080/",
          "height": 53
        },
        "id": "EIwOjhMJGGU7",
        "outputId": "356ab465-0a21-4880-d2dd-f5fc1eca13dd"
      },
      "outputs": [
        {
          "output_type": "execute_result",
          "data": {
            "text/plain": [
              "\"(#2000) ['xxunk','xxpad','xxbos','xxeos','xxfld','xxrep','xxwrep','xxup','xxmaj','the','.',',','and','a','of','to','it','is','i','in'...]\""
            ],
            "application/vnd.google.colaboratory.intrinsic+json": {
              "type": "string"
            }
          },
          "metadata": {},
          "execution_count": 25
        }
      ],
      "source": [
        "# print out the first 20 tokens in the vocab\n",
        "coll_repr(num.vocab,20)"
      ]
    },
    {
      "cell_type": "markdown",
      "metadata": {
        "id": "VRr2MYJrHO7T"
      },
      "source": [
        "### Numericalize the tokens\n",
        "- We can pass the tensor of integers, our numericalized tokens, into the model"
      ]
    },
    {
      "cell_type": "code",
      "execution_count": 26,
      "metadata": {
        "colab": {
          "base_uri": "https://localhost:8080/"
        },
        "id": "uMm56I28ErN8",
        "outputId": "ffd0ca47-e1ec-4d0f-df27-f088764e34e9"
      },
      "outputs": [
        {
          "output_type": "stream",
          "name": "stdout",
          "text": [
            "original text: ['xxbos', 'i', 'wanted', 'to', 'like', 'xxmaj', 'magnolia', '.', 'xxmaj', 'the']\n",
            "numericalized version: TensorText([  2,  18, 501,  15,  57,   8,   0,  10,   8,   9])\n",
            "converting back to vocab: xxbos i wanted to like xxmaj xxunk . xxmaj the\n"
          ]
        }
      ],
      "source": [
        "# show the first 10 tokens in the sample_text\n",
        "print(\"original text:\", tokens[:10])\n",
        "\n",
        "# numericalization\n",
        "nums = num(tokens)[:10]\n",
        "print(\"numericalized version:\", nums)\n",
        "\n",
        "# show the vocab that corresponds to the embeddings\n",
        "# note that \"This\" has been replaced by the unknown token \"xxunk\"\n",
        "print(\"converting back to vocab:\", ' '.join(num.vocab[o] for o in nums))"
      ]
    },
    {
      "cell_type": "markdown",
      "metadata": {
        "id": "bkfcoLegF0-g"
      },
      "source": [
        "## Putting texts into batches\n",
        "- Batches = break a stream of tokens up into contigous sections\n",
        "  - **_batch size_**: the number of groups of tokens. Batches are non-contigous (aka not overlapping)\n",
        "  - **_sequence length_**: the length of each batch\n",
        "- Sequence of words matters\n",
        "  - We want our language model to read text in order, so that it can efficiently predict what the next word is\n",
        "  - This means that each new batch should begin precisely where the previous one left off\n",
        "  - The model needs to maintain a \"**_state_**\" so that it remembers what it read previously when predicting what comes next"
      ]
    },
    {
      "cell_type": "markdown",
      "metadata": {
        "id": "OrjsJme0GIV7"
      },
      "source": [
        "### Single batch"
      ]
    },
    {
      "cell_type": "code",
      "execution_count": 27,
      "metadata": {
        "colab": {
          "base_uri": "https://localhost:8080/"
        },
        "id": "1glZksddHV2h",
        "outputId": "0de3ca96-af11-4c4b-ac8a-812a09815024"
      },
      "outputs": [
        {
          "output_type": "stream",
          "name": "stdout",
          "text": [
            "number of characters: 408\n",
            "In this chapter, we will go back over the example of classifying movie reviews we studied in chapter 1 and dig deeper under the surface. First we will look at the processing steps necessary to convert text into numbers and how to customize it. By doing this, we'll have another example of the PreProcessor used in the data block API.\n",
            "Then we will study how we build a language model and train it for a while.\n"
          ]
        }
      ],
      "source": [
        "# sample\n",
        "stream = \"In this chapter, we will go back over the example of classifying movie reviews we studied in chapter 1 and dig deeper under the surface. First we will look at the processing steps necessary to convert text into numbers and how to customize it. By doing this, we'll have another example of the PreProcessor used in the data block API.\\nThen we will study how we build a language model and train it for a while.\"\n",
        "print(\"number of characters:\", len(stream))\n",
        "print(stream)"
      ]
    },
    {
      "cell_type": "code",
      "execution_count": 28,
      "metadata": {
        "colab": {
          "base_uri": "https://localhost:8080/"
        },
        "id": "EqpQ-W8-sWSF",
        "outputId": "c28e4bef-5591-4843-8a38-7c2a98ec81e2"
      },
      "outputs": [
        {
          "output_type": "stream",
          "name": "stdout",
          "text": [
            "number of tokens: 90\n",
            "['xxbos', 'xxmaj', 'in', 'this', 'chapter', ',', 'we', 'will', 'go', 'back', 'over', 'the', 'example', 'of', 'classifying', 'movie', 'reviews', 'we', 'studied', 'in', 'chapter', '1', 'and', 'dig', 'deeper', 'under', 'the', 'surface', '.', 'xxmaj', 'first', 'we', 'will', 'look', 'at', 'the', 'processing', 'steps', 'necessary', 'to', 'convert', 'text', 'into', 'numbers', 'and', 'how', 'to', 'customize', 'it', '.', 'xxmaj', 'by', 'doing', 'this', ',', 'we', \"'ll\", 'have', 'another', 'example', 'of', 'the', 'preprocessor', 'used', 'in', 'the', 'data', 'block', 'xxup', 'api', '.', '\\n', 'xxmaj', 'then', 'we', 'will', 'study', 'how', 'we', 'build', 'a', 'language', 'model', 'and', 'train', 'it', 'for', 'a', 'while', '.']\n"
          ]
        }
      ],
      "source": [
        "# word-based tokens -- separated by spaces\n",
        "tokens = tkn(stream)\n",
        "print(\"number of tokens:\", len(tokens))\n",
        "print(tokens)"
      ]
    },
    {
      "cell_type": "code",
      "execution_count": 29,
      "metadata": {
        "colab": {
          "base_uri": "https://localhost:8080/",
          "height": 258
        },
        "id": "bF9oy7ilGNld",
        "outputId": "b42e0e88-abd4-4798-9ae2-45536cec3bd6"
      },
      "outputs": [
        {
          "output_type": "execute_result",
          "data": {
            "text/plain": [
              "      0        1             2        3        4        5           6      7   \\\n",
              "0  xxbos    xxmaj            in     this  chapter        ,          we   will   \n",
              "1  movie  reviews            we  studied       in  chapter           1    and   \n",
              "2  first       we          will     look       at      the  processing  steps   \n",
              "3    how       to     customize       it        .    xxmaj          by  doing   \n",
              "4     of      the  preprocessor     used       in      the        data  block   \n",
              "5   will    study           how       we    build        a    language  model   \n",
              "\n",
              "          8       9        10    11       12       13           14  \n",
              "0         go    back     over   the  example       of  classifying  \n",
              "1        dig  deeper    under   the  surface        .        xxmaj  \n",
              "2  necessary      to  convert  text     into  numbers          and  \n",
              "3       this       ,       we   'll     have  another      example  \n",
              "4       xxup     api        .    \\n    xxmaj     then           we  \n",
              "5        and   train       it   for        a    while            .  "
            ],
            "text/html": [
              "\n",
              "  <div id=\"df-02e08afa-435f-41c3-a949-3ff09e975a40\" class=\"colab-df-container\">\n",
              "    <div>\n",
              "<style scoped>\n",
              "    .dataframe tbody tr th:only-of-type {\n",
              "        vertical-align: middle;\n",
              "    }\n",
              "\n",
              "    .dataframe tbody tr th {\n",
              "        vertical-align: top;\n",
              "    }\n",
              "\n",
              "    .dataframe thead th {\n",
              "        text-align: right;\n",
              "    }\n",
              "</style>\n",
              "<table border=\"1\" class=\"dataframe\">\n",
              "  <thead>\n",
              "    <tr style=\"text-align: right;\">\n",
              "      <th></th>\n",
              "      <th>0</th>\n",
              "      <th>1</th>\n",
              "      <th>2</th>\n",
              "      <th>3</th>\n",
              "      <th>4</th>\n",
              "      <th>5</th>\n",
              "      <th>6</th>\n",
              "      <th>7</th>\n",
              "      <th>8</th>\n",
              "      <th>9</th>\n",
              "      <th>10</th>\n",
              "      <th>11</th>\n",
              "      <th>12</th>\n",
              "      <th>13</th>\n",
              "      <th>14</th>\n",
              "    </tr>\n",
              "  </thead>\n",
              "  <tbody>\n",
              "    <tr>\n",
              "      <th>0</th>\n",
              "      <td>xxbos</td>\n",
              "      <td>xxmaj</td>\n",
              "      <td>in</td>\n",
              "      <td>this</td>\n",
              "      <td>chapter</td>\n",
              "      <td>,</td>\n",
              "      <td>we</td>\n",
              "      <td>will</td>\n",
              "      <td>go</td>\n",
              "      <td>back</td>\n",
              "      <td>over</td>\n",
              "      <td>the</td>\n",
              "      <td>example</td>\n",
              "      <td>of</td>\n",
              "      <td>classifying</td>\n",
              "    </tr>\n",
              "    <tr>\n",
              "      <th>1</th>\n",
              "      <td>movie</td>\n",
              "      <td>reviews</td>\n",
              "      <td>we</td>\n",
              "      <td>studied</td>\n",
              "      <td>in</td>\n",
              "      <td>chapter</td>\n",
              "      <td>1</td>\n",
              "      <td>and</td>\n",
              "      <td>dig</td>\n",
              "      <td>deeper</td>\n",
              "      <td>under</td>\n",
              "      <td>the</td>\n",
              "      <td>surface</td>\n",
              "      <td>.</td>\n",
              "      <td>xxmaj</td>\n",
              "    </tr>\n",
              "    <tr>\n",
              "      <th>2</th>\n",
              "      <td>first</td>\n",
              "      <td>we</td>\n",
              "      <td>will</td>\n",
              "      <td>look</td>\n",
              "      <td>at</td>\n",
              "      <td>the</td>\n",
              "      <td>processing</td>\n",
              "      <td>steps</td>\n",
              "      <td>necessary</td>\n",
              "      <td>to</td>\n",
              "      <td>convert</td>\n",
              "      <td>text</td>\n",
              "      <td>into</td>\n",
              "      <td>numbers</td>\n",
              "      <td>and</td>\n",
              "    </tr>\n",
              "    <tr>\n",
              "      <th>3</th>\n",
              "      <td>how</td>\n",
              "      <td>to</td>\n",
              "      <td>customize</td>\n",
              "      <td>it</td>\n",
              "      <td>.</td>\n",
              "      <td>xxmaj</td>\n",
              "      <td>by</td>\n",
              "      <td>doing</td>\n",
              "      <td>this</td>\n",
              "      <td>,</td>\n",
              "      <td>we</td>\n",
              "      <td>'ll</td>\n",
              "      <td>have</td>\n",
              "      <td>another</td>\n",
              "      <td>example</td>\n",
              "    </tr>\n",
              "    <tr>\n",
              "      <th>4</th>\n",
              "      <td>of</td>\n",
              "      <td>the</td>\n",
              "      <td>preprocessor</td>\n",
              "      <td>used</td>\n",
              "      <td>in</td>\n",
              "      <td>the</td>\n",
              "      <td>data</td>\n",
              "      <td>block</td>\n",
              "      <td>xxup</td>\n",
              "      <td>api</td>\n",
              "      <td>.</td>\n",
              "      <td>\\n</td>\n",
              "      <td>xxmaj</td>\n",
              "      <td>then</td>\n",
              "      <td>we</td>\n",
              "    </tr>\n",
              "    <tr>\n",
              "      <th>5</th>\n",
              "      <td>will</td>\n",
              "      <td>study</td>\n",
              "      <td>how</td>\n",
              "      <td>we</td>\n",
              "      <td>build</td>\n",
              "      <td>a</td>\n",
              "      <td>language</td>\n",
              "      <td>model</td>\n",
              "      <td>and</td>\n",
              "      <td>train</td>\n",
              "      <td>it</td>\n",
              "      <td>for</td>\n",
              "      <td>a</td>\n",
              "      <td>while</td>\n",
              "      <td>.</td>\n",
              "    </tr>\n",
              "  </tbody>\n",
              "</table>\n",
              "</div>\n",
              "    <div class=\"colab-df-buttons\">\n",
              "\n",
              "  <div class=\"colab-df-container\">\n",
              "    <button class=\"colab-df-convert\" onclick=\"convertToInteractive('df-02e08afa-435f-41c3-a949-3ff09e975a40')\"\n",
              "            title=\"Convert this dataframe to an interactive table.\"\n",
              "            style=\"display:none;\">\n",
              "\n",
              "  <svg xmlns=\"http://www.w3.org/2000/svg\" height=\"24px\" viewBox=\"0 -960 960 960\">\n",
              "    <path d=\"M120-120v-720h720v720H120Zm60-500h600v-160H180v160Zm220 220h160v-160H400v160Zm0 220h160v-160H400v160ZM180-400h160v-160H180v160Zm440 0h160v-160H620v160ZM180-180h160v-160H180v160Zm440 0h160v-160H620v160Z\"/>\n",
              "  </svg>\n",
              "    </button>\n",
              "\n",
              "  <style>\n",
              "    .colab-df-container {\n",
              "      display:flex;\n",
              "      gap: 12px;\n",
              "    }\n",
              "\n",
              "    .colab-df-convert {\n",
              "      background-color: #E8F0FE;\n",
              "      border: none;\n",
              "      border-radius: 50%;\n",
              "      cursor: pointer;\n",
              "      display: none;\n",
              "      fill: #1967D2;\n",
              "      height: 32px;\n",
              "      padding: 0 0 0 0;\n",
              "      width: 32px;\n",
              "    }\n",
              "\n",
              "    .colab-df-convert:hover {\n",
              "      background-color: #E2EBFA;\n",
              "      box-shadow: 0px 1px 2px rgba(60, 64, 67, 0.3), 0px 1px 3px 1px rgba(60, 64, 67, 0.15);\n",
              "      fill: #174EA6;\n",
              "    }\n",
              "\n",
              "    .colab-df-buttons div {\n",
              "      margin-bottom: 4px;\n",
              "    }\n",
              "\n",
              "    [theme=dark] .colab-df-convert {\n",
              "      background-color: #3B4455;\n",
              "      fill: #D2E3FC;\n",
              "    }\n",
              "\n",
              "    [theme=dark] .colab-df-convert:hover {\n",
              "      background-color: #434B5C;\n",
              "      box-shadow: 0px 1px 3px 1px rgba(0, 0, 0, 0.15);\n",
              "      filter: drop-shadow(0px 1px 2px rgba(0, 0, 0, 0.3));\n",
              "      fill: #FFFFFF;\n",
              "    }\n",
              "  </style>\n",
              "\n",
              "    <script>\n",
              "      const buttonEl =\n",
              "        document.querySelector('#df-02e08afa-435f-41c3-a949-3ff09e975a40 button.colab-df-convert');\n",
              "      buttonEl.style.display =\n",
              "        google.colab.kernel.accessAllowed ? 'block' : 'none';\n",
              "\n",
              "      async function convertToInteractive(key) {\n",
              "        const element = document.querySelector('#df-02e08afa-435f-41c3-a949-3ff09e975a40');\n",
              "        const dataTable =\n",
              "          await google.colab.kernel.invokeFunction('convertToInteractive',\n",
              "                                                    [key], {});\n",
              "        if (!dataTable) return;\n",
              "\n",
              "        const docLinkHtml = 'Like what you see? Visit the ' +\n",
              "          '<a target=\"_blank\" href=https://colab.research.google.com/notebooks/data_table.ipynb>data table notebook</a>'\n",
              "          + ' to learn more about interactive tables.';\n",
              "        element.innerHTML = '';\n",
              "        dataTable['output_type'] = 'display_data';\n",
              "        await google.colab.output.renderOutput(dataTable, element);\n",
              "        const docLink = document.createElement('div');\n",
              "        docLink.innerHTML = docLinkHtml;\n",
              "        element.appendChild(docLink);\n",
              "      }\n",
              "    </script>\n",
              "  </div>\n",
              "\n",
              "\n",
              "<div id=\"df-95e4f453-2387-4d72-af32-8af6fdefc72b\">\n",
              "  <button class=\"colab-df-quickchart\" onclick=\"quickchart('df-95e4f453-2387-4d72-af32-8af6fdefc72b')\"\n",
              "            title=\"Suggest charts\"\n",
              "            style=\"display:none;\">\n",
              "\n",
              "<svg xmlns=\"http://www.w3.org/2000/svg\" height=\"24px\"viewBox=\"0 0 24 24\"\n",
              "     width=\"24px\">\n",
              "    <g>\n",
              "        <path d=\"M19 3H5c-1.1 0-2 .9-2 2v14c0 1.1.9 2 2 2h14c1.1 0 2-.9 2-2V5c0-1.1-.9-2-2-2zM9 17H7v-7h2v7zm4 0h-2V7h2v10zm4 0h-2v-4h2v4z\"/>\n",
              "    </g>\n",
              "</svg>\n",
              "  </button>\n",
              "\n",
              "<style>\n",
              "  .colab-df-quickchart {\n",
              "      --bg-color: #E8F0FE;\n",
              "      --fill-color: #1967D2;\n",
              "      --hover-bg-color: #E2EBFA;\n",
              "      --hover-fill-color: #174EA6;\n",
              "      --disabled-fill-color: #AAA;\n",
              "      --disabled-bg-color: #DDD;\n",
              "  }\n",
              "\n",
              "  [theme=dark] .colab-df-quickchart {\n",
              "      --bg-color: #3B4455;\n",
              "      --fill-color: #D2E3FC;\n",
              "      --hover-bg-color: #434B5C;\n",
              "      --hover-fill-color: #FFFFFF;\n",
              "      --disabled-bg-color: #3B4455;\n",
              "      --disabled-fill-color: #666;\n",
              "  }\n",
              "\n",
              "  .colab-df-quickchart {\n",
              "    background-color: var(--bg-color);\n",
              "    border: none;\n",
              "    border-radius: 50%;\n",
              "    cursor: pointer;\n",
              "    display: none;\n",
              "    fill: var(--fill-color);\n",
              "    height: 32px;\n",
              "    padding: 0;\n",
              "    width: 32px;\n",
              "  }\n",
              "\n",
              "  .colab-df-quickchart:hover {\n",
              "    background-color: var(--hover-bg-color);\n",
              "    box-shadow: 0 1px 2px rgba(60, 64, 67, 0.3), 0 1px 3px 1px rgba(60, 64, 67, 0.15);\n",
              "    fill: var(--button-hover-fill-color);\n",
              "  }\n",
              "\n",
              "  .colab-df-quickchart-complete:disabled,\n",
              "  .colab-df-quickchart-complete:disabled:hover {\n",
              "    background-color: var(--disabled-bg-color);\n",
              "    fill: var(--disabled-fill-color);\n",
              "    box-shadow: none;\n",
              "  }\n",
              "\n",
              "  .colab-df-spinner {\n",
              "    border: 2px solid var(--fill-color);\n",
              "    border-color: transparent;\n",
              "    border-bottom-color: var(--fill-color);\n",
              "    animation:\n",
              "      spin 1s steps(1) infinite;\n",
              "  }\n",
              "\n",
              "  @keyframes spin {\n",
              "    0% {\n",
              "      border-color: transparent;\n",
              "      border-bottom-color: var(--fill-color);\n",
              "      border-left-color: var(--fill-color);\n",
              "    }\n",
              "    20% {\n",
              "      border-color: transparent;\n",
              "      border-left-color: var(--fill-color);\n",
              "      border-top-color: var(--fill-color);\n",
              "    }\n",
              "    30% {\n",
              "      border-color: transparent;\n",
              "      border-left-color: var(--fill-color);\n",
              "      border-top-color: var(--fill-color);\n",
              "      border-right-color: var(--fill-color);\n",
              "    }\n",
              "    40% {\n",
              "      border-color: transparent;\n",
              "      border-right-color: var(--fill-color);\n",
              "      border-top-color: var(--fill-color);\n",
              "    }\n",
              "    60% {\n",
              "      border-color: transparent;\n",
              "      border-right-color: var(--fill-color);\n",
              "    }\n",
              "    80% {\n",
              "      border-color: transparent;\n",
              "      border-right-color: var(--fill-color);\n",
              "      border-bottom-color: var(--fill-color);\n",
              "    }\n",
              "    90% {\n",
              "      border-color: transparent;\n",
              "      border-bottom-color: var(--fill-color);\n",
              "    }\n",
              "  }\n",
              "</style>\n",
              "\n",
              "  <script>\n",
              "    async function quickchart(key) {\n",
              "      const quickchartButtonEl =\n",
              "        document.querySelector('#' + key + ' button');\n",
              "      quickchartButtonEl.disabled = true;  // To prevent multiple clicks.\n",
              "      quickchartButtonEl.classList.add('colab-df-spinner');\n",
              "      try {\n",
              "        const charts = await google.colab.kernel.invokeFunction(\n",
              "            'suggestCharts', [key], {});\n",
              "      } catch (error) {\n",
              "        console.error('Error during call to suggestCharts:', error);\n",
              "      }\n",
              "      quickchartButtonEl.classList.remove('colab-df-spinner');\n",
              "      quickchartButtonEl.classList.add('colab-df-quickchart-complete');\n",
              "    }\n",
              "    (() => {\n",
              "      let quickchartButtonEl =\n",
              "        document.querySelector('#df-95e4f453-2387-4d72-af32-8af6fdefc72b button');\n",
              "      quickchartButtonEl.style.display =\n",
              "        google.colab.kernel.accessAllowed ? 'block' : 'none';\n",
              "    })();\n",
              "  </script>\n",
              "</div>\n",
              "\n",
              "  <div id=\"id_31d132c4-f215-40b4-bfee-a11f1f57cf45\">\n",
              "    <style>\n",
              "      .colab-df-generate {\n",
              "        background-color: #E8F0FE;\n",
              "        border: none;\n",
              "        border-radius: 50%;\n",
              "        cursor: pointer;\n",
              "        display: none;\n",
              "        fill: #1967D2;\n",
              "        height: 32px;\n",
              "        padding: 0 0 0 0;\n",
              "        width: 32px;\n",
              "      }\n",
              "\n",
              "      .colab-df-generate:hover {\n",
              "        background-color: #E2EBFA;\n",
              "        box-shadow: 0px 1px 2px rgba(60, 64, 67, 0.3), 0px 1px 3px 1px rgba(60, 64, 67, 0.15);\n",
              "        fill: #174EA6;\n",
              "      }\n",
              "\n",
              "      [theme=dark] .colab-df-generate {\n",
              "        background-color: #3B4455;\n",
              "        fill: #D2E3FC;\n",
              "      }\n",
              "\n",
              "      [theme=dark] .colab-df-generate:hover {\n",
              "        background-color: #434B5C;\n",
              "        box-shadow: 0px 1px 3px 1px rgba(0, 0, 0, 0.15);\n",
              "        filter: drop-shadow(0px 1px 2px rgba(0, 0, 0, 0.3));\n",
              "        fill: #FFFFFF;\n",
              "      }\n",
              "    </style>\n",
              "    <button class=\"colab-df-generate\" onclick=\"generateWithVariable('df')\"\n",
              "            title=\"Generate code using this dataframe.\"\n",
              "            style=\"display:none;\">\n",
              "\n",
              "  <svg xmlns=\"http://www.w3.org/2000/svg\" height=\"24px\"viewBox=\"0 0 24 24\"\n",
              "       width=\"24px\">\n",
              "    <path d=\"M7,19H8.4L18.45,9,17,7.55,7,17.6ZM5,21V16.75L18.45,3.32a2,2,0,0,1,2.83,0l1.4,1.43a1.91,1.91,0,0,1,.58,1.4,1.91,1.91,0,0,1-.58,1.4L9.25,21ZM18.45,9,17,7.55Zm-12,3A5.31,5.31,0,0,0,4.9,8.1,5.31,5.31,0,0,0,1,6.5,5.31,5.31,0,0,0,4.9,4.9,5.31,5.31,0,0,0,6.5,1,5.31,5.31,0,0,0,8.1,4.9,5.31,5.31,0,0,0,12,6.5,5.46,5.46,0,0,0,6.5,12Z\"/>\n",
              "  </svg>\n",
              "    </button>\n",
              "    <script>\n",
              "      (() => {\n",
              "      const buttonEl =\n",
              "        document.querySelector('#id_31d132c4-f215-40b4-bfee-a11f1f57cf45 button.colab-df-generate');\n",
              "      buttonEl.style.display =\n",
              "        google.colab.kernel.accessAllowed ? 'block' : 'none';\n",
              "\n",
              "      buttonEl.onclick = () => {\n",
              "        google.colab.notebook.generateWithVariable('df');\n",
              "      }\n",
              "      })();\n",
              "    </script>\n",
              "  </div>\n",
              "\n",
              "    </div>\n",
              "  </div>\n"
            ]
          },
          "metadata": {},
          "execution_count": 29
        }
      ],
      "source": [
        "# separate into batches\n",
        "bs = 6 # break the 90 tokens into 6 contiguous parts (6 rows)\n",
        "seq_len = 15 # each batch should be 15 tokens long\n",
        "\n",
        "d_tokens = np.array([tokens[i*seq_len:(i+1)*seq_len] for i in range(bs)])\n",
        "df = pd.DataFrame(d_tokens)\n",
        "df\n",
        "# display(HTML(df.to_html(index=False,header=None)))"
      ]
    },
    {
      "cell_type": "markdown",
      "metadata": {
        "id": "PKzM0nK6JO73"
      },
      "source": [
        "### Multiple Batches\n",
        "- The corpus will be too big to only use one batch\n",
        "- You need multiple batches\n",
        "- Note: the order of the text in the mini-batches is preserved"
      ]
    },
    {
      "cell_type": "code",
      "execution_count": 30,
      "metadata": {
        "id": "VNrrqz4pJtvs"
      },
      "outputs": [],
      "source": [
        "row_len = 15\n",
        "bs,seq_len = 6,5"
      ]
    },
    {
      "cell_type": "markdown",
      "metadata": {
        "id": "DP4OvZgiVLDG"
      },
      "source": [
        "#### Batch 1\n",
        "- row 1 = tokens 1-5\n",
        "  - skip tokens 6-15 (they are in row 1 of batch 2 and 3)\n",
        "- row 2 = tokens 16-20\n",
        "  - skip tokens 21-30 (they are in row 2 of batch 2 and 3)\n",
        "- row 3 = tokens 31-35\n",
        "  - skip tokens 36-45 (they are in row 3 of batch 2 and 3)\n",
        "- row 4 = tokens 46-50 (50 = the last token)\n"
      ]
    },
    {
      "cell_type": "code",
      "execution_count": 31,
      "metadata": {
        "colab": {
          "base_uri": "https://localhost:8080/",
          "height": 238
        },
        "id": "ib8VV9D7JdiS",
        "outputId": "a58519f6-3342-46ec-937a-633977b776e9"
      },
      "outputs": [
        {
          "output_type": "execute_result",
          "data": {
            "text/plain": [
              "       0        1             2        3        4\n",
              "0  xxbos    xxmaj            in     this  chapter\n",
              "1  movie  reviews            we  studied       in\n",
              "2  first       we          will     look       at\n",
              "3    how       to     customize       it        .\n",
              "4     of      the  preprocessor     used       in\n",
              "5   will    study           how       we    build"
            ],
            "text/html": [
              "\n",
              "  <div id=\"df-f7a799ab-c262-49e3-9677-6d0ad2f58dcb\" class=\"colab-df-container\">\n",
              "    <div>\n",
              "<style scoped>\n",
              "    .dataframe tbody tr th:only-of-type {\n",
              "        vertical-align: middle;\n",
              "    }\n",
              "\n",
              "    .dataframe tbody tr th {\n",
              "        vertical-align: top;\n",
              "    }\n",
              "\n",
              "    .dataframe thead th {\n",
              "        text-align: right;\n",
              "    }\n",
              "</style>\n",
              "<table border=\"1\" class=\"dataframe\">\n",
              "  <thead>\n",
              "    <tr style=\"text-align: right;\">\n",
              "      <th></th>\n",
              "      <th>0</th>\n",
              "      <th>1</th>\n",
              "      <th>2</th>\n",
              "      <th>3</th>\n",
              "      <th>4</th>\n",
              "    </tr>\n",
              "  </thead>\n",
              "  <tbody>\n",
              "    <tr>\n",
              "      <th>0</th>\n",
              "      <td>xxbos</td>\n",
              "      <td>xxmaj</td>\n",
              "      <td>in</td>\n",
              "      <td>this</td>\n",
              "      <td>chapter</td>\n",
              "    </tr>\n",
              "    <tr>\n",
              "      <th>1</th>\n",
              "      <td>movie</td>\n",
              "      <td>reviews</td>\n",
              "      <td>we</td>\n",
              "      <td>studied</td>\n",
              "      <td>in</td>\n",
              "    </tr>\n",
              "    <tr>\n",
              "      <th>2</th>\n",
              "      <td>first</td>\n",
              "      <td>we</td>\n",
              "      <td>will</td>\n",
              "      <td>look</td>\n",
              "      <td>at</td>\n",
              "    </tr>\n",
              "    <tr>\n",
              "      <th>3</th>\n",
              "      <td>how</td>\n",
              "      <td>to</td>\n",
              "      <td>customize</td>\n",
              "      <td>it</td>\n",
              "      <td>.</td>\n",
              "    </tr>\n",
              "    <tr>\n",
              "      <th>4</th>\n",
              "      <td>of</td>\n",
              "      <td>the</td>\n",
              "      <td>preprocessor</td>\n",
              "      <td>used</td>\n",
              "      <td>in</td>\n",
              "    </tr>\n",
              "    <tr>\n",
              "      <th>5</th>\n",
              "      <td>will</td>\n",
              "      <td>study</td>\n",
              "      <td>how</td>\n",
              "      <td>we</td>\n",
              "      <td>build</td>\n",
              "    </tr>\n",
              "  </tbody>\n",
              "</table>\n",
              "</div>\n",
              "    <div class=\"colab-df-buttons\">\n",
              "\n",
              "  <div class=\"colab-df-container\">\n",
              "    <button class=\"colab-df-convert\" onclick=\"convertToInteractive('df-f7a799ab-c262-49e3-9677-6d0ad2f58dcb')\"\n",
              "            title=\"Convert this dataframe to an interactive table.\"\n",
              "            style=\"display:none;\">\n",
              "\n",
              "  <svg xmlns=\"http://www.w3.org/2000/svg\" height=\"24px\" viewBox=\"0 -960 960 960\">\n",
              "    <path d=\"M120-120v-720h720v720H120Zm60-500h600v-160H180v160Zm220 220h160v-160H400v160Zm0 220h160v-160H400v160ZM180-400h160v-160H180v160Zm440 0h160v-160H620v160ZM180-180h160v-160H180v160Zm440 0h160v-160H620v160Z\"/>\n",
              "  </svg>\n",
              "    </button>\n",
              "\n",
              "  <style>\n",
              "    .colab-df-container {\n",
              "      display:flex;\n",
              "      gap: 12px;\n",
              "    }\n",
              "\n",
              "    .colab-df-convert {\n",
              "      background-color: #E8F0FE;\n",
              "      border: none;\n",
              "      border-radius: 50%;\n",
              "      cursor: pointer;\n",
              "      display: none;\n",
              "      fill: #1967D2;\n",
              "      height: 32px;\n",
              "      padding: 0 0 0 0;\n",
              "      width: 32px;\n",
              "    }\n",
              "\n",
              "    .colab-df-convert:hover {\n",
              "      background-color: #E2EBFA;\n",
              "      box-shadow: 0px 1px 2px rgba(60, 64, 67, 0.3), 0px 1px 3px 1px rgba(60, 64, 67, 0.15);\n",
              "      fill: #174EA6;\n",
              "    }\n",
              "\n",
              "    .colab-df-buttons div {\n",
              "      margin-bottom: 4px;\n",
              "    }\n",
              "\n",
              "    [theme=dark] .colab-df-convert {\n",
              "      background-color: #3B4455;\n",
              "      fill: #D2E3FC;\n",
              "    }\n",
              "\n",
              "    [theme=dark] .colab-df-convert:hover {\n",
              "      background-color: #434B5C;\n",
              "      box-shadow: 0px 1px 3px 1px rgba(0, 0, 0, 0.15);\n",
              "      filter: drop-shadow(0px 1px 2px rgba(0, 0, 0, 0.3));\n",
              "      fill: #FFFFFF;\n",
              "    }\n",
              "  </style>\n",
              "\n",
              "    <script>\n",
              "      const buttonEl =\n",
              "        document.querySelector('#df-f7a799ab-c262-49e3-9677-6d0ad2f58dcb button.colab-df-convert');\n",
              "      buttonEl.style.display =\n",
              "        google.colab.kernel.accessAllowed ? 'block' : 'none';\n",
              "\n",
              "      async function convertToInteractive(key) {\n",
              "        const element = document.querySelector('#df-f7a799ab-c262-49e3-9677-6d0ad2f58dcb');\n",
              "        const dataTable =\n",
              "          await google.colab.kernel.invokeFunction('convertToInteractive',\n",
              "                                                    [key], {});\n",
              "        if (!dataTable) return;\n",
              "\n",
              "        const docLinkHtml = 'Like what you see? Visit the ' +\n",
              "          '<a target=\"_blank\" href=https://colab.research.google.com/notebooks/data_table.ipynb>data table notebook</a>'\n",
              "          + ' to learn more about interactive tables.';\n",
              "        element.innerHTML = '';\n",
              "        dataTable['output_type'] = 'display_data';\n",
              "        await google.colab.output.renderOutput(dataTable, element);\n",
              "        const docLink = document.createElement('div');\n",
              "        docLink.innerHTML = docLinkHtml;\n",
              "        element.appendChild(docLink);\n",
              "      }\n",
              "    </script>\n",
              "  </div>\n",
              "\n",
              "\n",
              "<div id=\"df-c7727929-a358-44b4-992a-b863bb84739b\">\n",
              "  <button class=\"colab-df-quickchart\" onclick=\"quickchart('df-c7727929-a358-44b4-992a-b863bb84739b')\"\n",
              "            title=\"Suggest charts\"\n",
              "            style=\"display:none;\">\n",
              "\n",
              "<svg xmlns=\"http://www.w3.org/2000/svg\" height=\"24px\"viewBox=\"0 0 24 24\"\n",
              "     width=\"24px\">\n",
              "    <g>\n",
              "        <path d=\"M19 3H5c-1.1 0-2 .9-2 2v14c0 1.1.9 2 2 2h14c1.1 0 2-.9 2-2V5c0-1.1-.9-2-2-2zM9 17H7v-7h2v7zm4 0h-2V7h2v10zm4 0h-2v-4h2v4z\"/>\n",
              "    </g>\n",
              "</svg>\n",
              "  </button>\n",
              "\n",
              "<style>\n",
              "  .colab-df-quickchart {\n",
              "      --bg-color: #E8F0FE;\n",
              "      --fill-color: #1967D2;\n",
              "      --hover-bg-color: #E2EBFA;\n",
              "      --hover-fill-color: #174EA6;\n",
              "      --disabled-fill-color: #AAA;\n",
              "      --disabled-bg-color: #DDD;\n",
              "  }\n",
              "\n",
              "  [theme=dark] .colab-df-quickchart {\n",
              "      --bg-color: #3B4455;\n",
              "      --fill-color: #D2E3FC;\n",
              "      --hover-bg-color: #434B5C;\n",
              "      --hover-fill-color: #FFFFFF;\n",
              "      --disabled-bg-color: #3B4455;\n",
              "      --disabled-fill-color: #666;\n",
              "  }\n",
              "\n",
              "  .colab-df-quickchart {\n",
              "    background-color: var(--bg-color);\n",
              "    border: none;\n",
              "    border-radius: 50%;\n",
              "    cursor: pointer;\n",
              "    display: none;\n",
              "    fill: var(--fill-color);\n",
              "    height: 32px;\n",
              "    padding: 0;\n",
              "    width: 32px;\n",
              "  }\n",
              "\n",
              "  .colab-df-quickchart:hover {\n",
              "    background-color: var(--hover-bg-color);\n",
              "    box-shadow: 0 1px 2px rgba(60, 64, 67, 0.3), 0 1px 3px 1px rgba(60, 64, 67, 0.15);\n",
              "    fill: var(--button-hover-fill-color);\n",
              "  }\n",
              "\n",
              "  .colab-df-quickchart-complete:disabled,\n",
              "  .colab-df-quickchart-complete:disabled:hover {\n",
              "    background-color: var(--disabled-bg-color);\n",
              "    fill: var(--disabled-fill-color);\n",
              "    box-shadow: none;\n",
              "  }\n",
              "\n",
              "  .colab-df-spinner {\n",
              "    border: 2px solid var(--fill-color);\n",
              "    border-color: transparent;\n",
              "    border-bottom-color: var(--fill-color);\n",
              "    animation:\n",
              "      spin 1s steps(1) infinite;\n",
              "  }\n",
              "\n",
              "  @keyframes spin {\n",
              "    0% {\n",
              "      border-color: transparent;\n",
              "      border-bottom-color: var(--fill-color);\n",
              "      border-left-color: var(--fill-color);\n",
              "    }\n",
              "    20% {\n",
              "      border-color: transparent;\n",
              "      border-left-color: var(--fill-color);\n",
              "      border-top-color: var(--fill-color);\n",
              "    }\n",
              "    30% {\n",
              "      border-color: transparent;\n",
              "      border-left-color: var(--fill-color);\n",
              "      border-top-color: var(--fill-color);\n",
              "      border-right-color: var(--fill-color);\n",
              "    }\n",
              "    40% {\n",
              "      border-color: transparent;\n",
              "      border-right-color: var(--fill-color);\n",
              "      border-top-color: var(--fill-color);\n",
              "    }\n",
              "    60% {\n",
              "      border-color: transparent;\n",
              "      border-right-color: var(--fill-color);\n",
              "    }\n",
              "    80% {\n",
              "      border-color: transparent;\n",
              "      border-right-color: var(--fill-color);\n",
              "      border-bottom-color: var(--fill-color);\n",
              "    }\n",
              "    90% {\n",
              "      border-color: transparent;\n",
              "      border-bottom-color: var(--fill-color);\n",
              "    }\n",
              "  }\n",
              "</style>\n",
              "\n",
              "  <script>\n",
              "    async function quickchart(key) {\n",
              "      const quickchartButtonEl =\n",
              "        document.querySelector('#' + key + ' button');\n",
              "      quickchartButtonEl.disabled = true;  // To prevent multiple clicks.\n",
              "      quickchartButtonEl.classList.add('colab-df-spinner');\n",
              "      try {\n",
              "        const charts = await google.colab.kernel.invokeFunction(\n",
              "            'suggestCharts', [key], {});\n",
              "      } catch (error) {\n",
              "        console.error('Error during call to suggestCharts:', error);\n",
              "      }\n",
              "      quickchartButtonEl.classList.remove('colab-df-spinner');\n",
              "      quickchartButtonEl.classList.add('colab-df-quickchart-complete');\n",
              "    }\n",
              "    (() => {\n",
              "      let quickchartButtonEl =\n",
              "        document.querySelector('#df-c7727929-a358-44b4-992a-b863bb84739b button');\n",
              "      quickchartButtonEl.style.display =\n",
              "        google.colab.kernel.accessAllowed ? 'block' : 'none';\n",
              "    })();\n",
              "  </script>\n",
              "</div>\n",
              "\n",
              "    </div>\n",
              "  </div>\n"
            ]
          },
          "metadata": {},
          "execution_count": 31
        }
      ],
      "source": [
        "d_tokens = np.array([tokens[i*row_len:i*row_len+seq_len] for i in range(bs)])\n",
        "pd.DataFrame(d_tokens)"
      ]
    },
    {
      "cell_type": "markdown",
      "metadata": {
        "id": "vI4p1rkRVWy2"
      },
      "source": [
        "#### Batch 2\n",
        "-\n",
        "  - skip tokens 1-5 (row 1 of batch 1)\n",
        "- row 1 = tokens 6-10\n",
        "  - skip tokens 11-20 (row 1 of batch 3 and row 2 of batch 1)\n",
        "- row 2 = tokens 21-25\n",
        "  - skip tokens 26-35 (row 2 of batch 3 and row 4 of batch 1)\n",
        "- row 3 = tokens 36-40\n",
        "  - skip tokens 41-50 (row 3 of batch 2 and row 4 of batch 1)"
      ]
    },
    {
      "cell_type": "code",
      "execution_count": 32,
      "metadata": {
        "colab": {
          "base_uri": "https://localhost:8080/",
          "height": 238
        },
        "id": "pu6Qr6r8Jv93",
        "outputId": "c253e675-e660-4c12-fcc2-1b82edbc49df"
      },
      "outputs": [
        {
          "output_type": "execute_result",
          "data": {
            "text/plain": [
              "         0           1      2          3       4\n",
              "0        ,          we   will         go    back\n",
              "1  chapter           1    and        dig  deeper\n",
              "2      the  processing  steps  necessary      to\n",
              "3    xxmaj          by  doing       this       ,\n",
              "4      the        data  block       xxup     api\n",
              "5        a    language  model        and   train"
            ],
            "text/html": [
              "\n",
              "  <div id=\"df-803b8fcd-3eb5-4548-9eb1-4597d2b659a8\" class=\"colab-df-container\">\n",
              "    <div>\n",
              "<style scoped>\n",
              "    .dataframe tbody tr th:only-of-type {\n",
              "        vertical-align: middle;\n",
              "    }\n",
              "\n",
              "    .dataframe tbody tr th {\n",
              "        vertical-align: top;\n",
              "    }\n",
              "\n",
              "    .dataframe thead th {\n",
              "        text-align: right;\n",
              "    }\n",
              "</style>\n",
              "<table border=\"1\" class=\"dataframe\">\n",
              "  <thead>\n",
              "    <tr style=\"text-align: right;\">\n",
              "      <th></th>\n",
              "      <th>0</th>\n",
              "      <th>1</th>\n",
              "      <th>2</th>\n",
              "      <th>3</th>\n",
              "      <th>4</th>\n",
              "    </tr>\n",
              "  </thead>\n",
              "  <tbody>\n",
              "    <tr>\n",
              "      <th>0</th>\n",
              "      <td>,</td>\n",
              "      <td>we</td>\n",
              "      <td>will</td>\n",
              "      <td>go</td>\n",
              "      <td>back</td>\n",
              "    </tr>\n",
              "    <tr>\n",
              "      <th>1</th>\n",
              "      <td>chapter</td>\n",
              "      <td>1</td>\n",
              "      <td>and</td>\n",
              "      <td>dig</td>\n",
              "      <td>deeper</td>\n",
              "    </tr>\n",
              "    <tr>\n",
              "      <th>2</th>\n",
              "      <td>the</td>\n",
              "      <td>processing</td>\n",
              "      <td>steps</td>\n",
              "      <td>necessary</td>\n",
              "      <td>to</td>\n",
              "    </tr>\n",
              "    <tr>\n",
              "      <th>3</th>\n",
              "      <td>xxmaj</td>\n",
              "      <td>by</td>\n",
              "      <td>doing</td>\n",
              "      <td>this</td>\n",
              "      <td>,</td>\n",
              "    </tr>\n",
              "    <tr>\n",
              "      <th>4</th>\n",
              "      <td>the</td>\n",
              "      <td>data</td>\n",
              "      <td>block</td>\n",
              "      <td>xxup</td>\n",
              "      <td>api</td>\n",
              "    </tr>\n",
              "    <tr>\n",
              "      <th>5</th>\n",
              "      <td>a</td>\n",
              "      <td>language</td>\n",
              "      <td>model</td>\n",
              "      <td>and</td>\n",
              "      <td>train</td>\n",
              "    </tr>\n",
              "  </tbody>\n",
              "</table>\n",
              "</div>\n",
              "    <div class=\"colab-df-buttons\">\n",
              "\n",
              "  <div class=\"colab-df-container\">\n",
              "    <button class=\"colab-df-convert\" onclick=\"convertToInteractive('df-803b8fcd-3eb5-4548-9eb1-4597d2b659a8')\"\n",
              "            title=\"Convert this dataframe to an interactive table.\"\n",
              "            style=\"display:none;\">\n",
              "\n",
              "  <svg xmlns=\"http://www.w3.org/2000/svg\" height=\"24px\" viewBox=\"0 -960 960 960\">\n",
              "    <path d=\"M120-120v-720h720v720H120Zm60-500h600v-160H180v160Zm220 220h160v-160H400v160Zm0 220h160v-160H400v160ZM180-400h160v-160H180v160Zm440 0h160v-160H620v160ZM180-180h160v-160H180v160Zm440 0h160v-160H620v160Z\"/>\n",
              "  </svg>\n",
              "    </button>\n",
              "\n",
              "  <style>\n",
              "    .colab-df-container {\n",
              "      display:flex;\n",
              "      gap: 12px;\n",
              "    }\n",
              "\n",
              "    .colab-df-convert {\n",
              "      background-color: #E8F0FE;\n",
              "      border: none;\n",
              "      border-radius: 50%;\n",
              "      cursor: pointer;\n",
              "      display: none;\n",
              "      fill: #1967D2;\n",
              "      height: 32px;\n",
              "      padding: 0 0 0 0;\n",
              "      width: 32px;\n",
              "    }\n",
              "\n",
              "    .colab-df-convert:hover {\n",
              "      background-color: #E2EBFA;\n",
              "      box-shadow: 0px 1px 2px rgba(60, 64, 67, 0.3), 0px 1px 3px 1px rgba(60, 64, 67, 0.15);\n",
              "      fill: #174EA6;\n",
              "    }\n",
              "\n",
              "    .colab-df-buttons div {\n",
              "      margin-bottom: 4px;\n",
              "    }\n",
              "\n",
              "    [theme=dark] .colab-df-convert {\n",
              "      background-color: #3B4455;\n",
              "      fill: #D2E3FC;\n",
              "    }\n",
              "\n",
              "    [theme=dark] .colab-df-convert:hover {\n",
              "      background-color: #434B5C;\n",
              "      box-shadow: 0px 1px 3px 1px rgba(0, 0, 0, 0.15);\n",
              "      filter: drop-shadow(0px 1px 2px rgba(0, 0, 0, 0.3));\n",
              "      fill: #FFFFFF;\n",
              "    }\n",
              "  </style>\n",
              "\n",
              "    <script>\n",
              "      const buttonEl =\n",
              "        document.querySelector('#df-803b8fcd-3eb5-4548-9eb1-4597d2b659a8 button.colab-df-convert');\n",
              "      buttonEl.style.display =\n",
              "        google.colab.kernel.accessAllowed ? 'block' : 'none';\n",
              "\n",
              "      async function convertToInteractive(key) {\n",
              "        const element = document.querySelector('#df-803b8fcd-3eb5-4548-9eb1-4597d2b659a8');\n",
              "        const dataTable =\n",
              "          await google.colab.kernel.invokeFunction('convertToInteractive',\n",
              "                                                    [key], {});\n",
              "        if (!dataTable) return;\n",
              "\n",
              "        const docLinkHtml = 'Like what you see? Visit the ' +\n",
              "          '<a target=\"_blank\" href=https://colab.research.google.com/notebooks/data_table.ipynb>data table notebook</a>'\n",
              "          + ' to learn more about interactive tables.';\n",
              "        element.innerHTML = '';\n",
              "        dataTable['output_type'] = 'display_data';\n",
              "        await google.colab.output.renderOutput(dataTable, element);\n",
              "        const docLink = document.createElement('div');\n",
              "        docLink.innerHTML = docLinkHtml;\n",
              "        element.appendChild(docLink);\n",
              "      }\n",
              "    </script>\n",
              "  </div>\n",
              "\n",
              "\n",
              "<div id=\"df-35a5c179-00a3-4719-a24a-acafbf537f7e\">\n",
              "  <button class=\"colab-df-quickchart\" onclick=\"quickchart('df-35a5c179-00a3-4719-a24a-acafbf537f7e')\"\n",
              "            title=\"Suggest charts\"\n",
              "            style=\"display:none;\">\n",
              "\n",
              "<svg xmlns=\"http://www.w3.org/2000/svg\" height=\"24px\"viewBox=\"0 0 24 24\"\n",
              "     width=\"24px\">\n",
              "    <g>\n",
              "        <path d=\"M19 3H5c-1.1 0-2 .9-2 2v14c0 1.1.9 2 2 2h14c1.1 0 2-.9 2-2V5c0-1.1-.9-2-2-2zM9 17H7v-7h2v7zm4 0h-2V7h2v10zm4 0h-2v-4h2v4z\"/>\n",
              "    </g>\n",
              "</svg>\n",
              "  </button>\n",
              "\n",
              "<style>\n",
              "  .colab-df-quickchart {\n",
              "      --bg-color: #E8F0FE;\n",
              "      --fill-color: #1967D2;\n",
              "      --hover-bg-color: #E2EBFA;\n",
              "      --hover-fill-color: #174EA6;\n",
              "      --disabled-fill-color: #AAA;\n",
              "      --disabled-bg-color: #DDD;\n",
              "  }\n",
              "\n",
              "  [theme=dark] .colab-df-quickchart {\n",
              "      --bg-color: #3B4455;\n",
              "      --fill-color: #D2E3FC;\n",
              "      --hover-bg-color: #434B5C;\n",
              "      --hover-fill-color: #FFFFFF;\n",
              "      --disabled-bg-color: #3B4455;\n",
              "      --disabled-fill-color: #666;\n",
              "  }\n",
              "\n",
              "  .colab-df-quickchart {\n",
              "    background-color: var(--bg-color);\n",
              "    border: none;\n",
              "    border-radius: 50%;\n",
              "    cursor: pointer;\n",
              "    display: none;\n",
              "    fill: var(--fill-color);\n",
              "    height: 32px;\n",
              "    padding: 0;\n",
              "    width: 32px;\n",
              "  }\n",
              "\n",
              "  .colab-df-quickchart:hover {\n",
              "    background-color: var(--hover-bg-color);\n",
              "    box-shadow: 0 1px 2px rgba(60, 64, 67, 0.3), 0 1px 3px 1px rgba(60, 64, 67, 0.15);\n",
              "    fill: var(--button-hover-fill-color);\n",
              "  }\n",
              "\n",
              "  .colab-df-quickchart-complete:disabled,\n",
              "  .colab-df-quickchart-complete:disabled:hover {\n",
              "    background-color: var(--disabled-bg-color);\n",
              "    fill: var(--disabled-fill-color);\n",
              "    box-shadow: none;\n",
              "  }\n",
              "\n",
              "  .colab-df-spinner {\n",
              "    border: 2px solid var(--fill-color);\n",
              "    border-color: transparent;\n",
              "    border-bottom-color: var(--fill-color);\n",
              "    animation:\n",
              "      spin 1s steps(1) infinite;\n",
              "  }\n",
              "\n",
              "  @keyframes spin {\n",
              "    0% {\n",
              "      border-color: transparent;\n",
              "      border-bottom-color: var(--fill-color);\n",
              "      border-left-color: var(--fill-color);\n",
              "    }\n",
              "    20% {\n",
              "      border-color: transparent;\n",
              "      border-left-color: var(--fill-color);\n",
              "      border-top-color: var(--fill-color);\n",
              "    }\n",
              "    30% {\n",
              "      border-color: transparent;\n",
              "      border-left-color: var(--fill-color);\n",
              "      border-top-color: var(--fill-color);\n",
              "      border-right-color: var(--fill-color);\n",
              "    }\n",
              "    40% {\n",
              "      border-color: transparent;\n",
              "      border-right-color: var(--fill-color);\n",
              "      border-top-color: var(--fill-color);\n",
              "    }\n",
              "    60% {\n",
              "      border-color: transparent;\n",
              "      border-right-color: var(--fill-color);\n",
              "    }\n",
              "    80% {\n",
              "      border-color: transparent;\n",
              "      border-right-color: var(--fill-color);\n",
              "      border-bottom-color: var(--fill-color);\n",
              "    }\n",
              "    90% {\n",
              "      border-color: transparent;\n",
              "      border-bottom-color: var(--fill-color);\n",
              "    }\n",
              "  }\n",
              "</style>\n",
              "\n",
              "  <script>\n",
              "    async function quickchart(key) {\n",
              "      const quickchartButtonEl =\n",
              "        document.querySelector('#' + key + ' button');\n",
              "      quickchartButtonEl.disabled = true;  // To prevent multiple clicks.\n",
              "      quickchartButtonEl.classList.add('colab-df-spinner');\n",
              "      try {\n",
              "        const charts = await google.colab.kernel.invokeFunction(\n",
              "            'suggestCharts', [key], {});\n",
              "      } catch (error) {\n",
              "        console.error('Error during call to suggestCharts:', error);\n",
              "      }\n",
              "      quickchartButtonEl.classList.remove('colab-df-spinner');\n",
              "      quickchartButtonEl.classList.add('colab-df-quickchart-complete');\n",
              "    }\n",
              "    (() => {\n",
              "      let quickchartButtonEl =\n",
              "        document.querySelector('#df-35a5c179-00a3-4719-a24a-acafbf537f7e button');\n",
              "      quickchartButtonEl.style.display =\n",
              "        google.colab.kernel.accessAllowed ? 'block' : 'none';\n",
              "    })();\n",
              "  </script>\n",
              "</div>\n",
              "\n",
              "    </div>\n",
              "  </div>\n"
            ]
          },
          "metadata": {},
          "execution_count": 32
        }
      ],
      "source": [
        "d_tokens = np.array([tokens[i*row_len+seq_len:i*row_len+2*seq_len] for i in range(bs)])\n",
        "pd.DataFrame(d_tokens)"
      ]
    },
    {
      "cell_type": "markdown",
      "metadata": {
        "id": "ZF5uQ06mVn24"
      },
      "source": [
        "#### Batch 3\n",
        "-  \n",
        "  - skip tokens 1-10 (row 1 of batch 1 and 2)\n",
        "- row 1 = tokens 11-15\n",
        "  - skip tokens 16-25 (row 2 of batch 1 and 2)\n",
        "- row 2 = tokens 26-30\n",
        "  - skip tokens 31-40 (row 3 of batch 1 and 2)\n",
        "- row 3 = tokens 41-45\n",
        "  - skip tokens 46-50 (row 4 of batch 1)"
      ]
    },
    {
      "cell_type": "code",
      "execution_count": 33,
      "metadata": {
        "colab": {
          "base_uri": "https://localhost:8080/",
          "height": 238
        },
        "id": "85oVdoz0QRDk",
        "outputId": "1efb042d-1f01-4d93-b0b5-1e217b6e3add"
      },
      "outputs": [
        {
          "output_type": "execute_result",
          "data": {
            "text/plain": [
              "         0     1        2        3            4\n",
              "0     over   the  example       of  classifying\n",
              "1    under   the  surface        .        xxmaj\n",
              "2  convert  text     into  numbers          and\n",
              "3       we   'll     have  another      example\n",
              "4        .    \\n    xxmaj     then           we\n",
              "5       it   for        a    while            ."
            ],
            "text/html": [
              "\n",
              "  <div id=\"df-db58fe76-2174-4444-9fb9-a5b5d8c2d274\" class=\"colab-df-container\">\n",
              "    <div>\n",
              "<style scoped>\n",
              "    .dataframe tbody tr th:only-of-type {\n",
              "        vertical-align: middle;\n",
              "    }\n",
              "\n",
              "    .dataframe tbody tr th {\n",
              "        vertical-align: top;\n",
              "    }\n",
              "\n",
              "    .dataframe thead th {\n",
              "        text-align: right;\n",
              "    }\n",
              "</style>\n",
              "<table border=\"1\" class=\"dataframe\">\n",
              "  <thead>\n",
              "    <tr style=\"text-align: right;\">\n",
              "      <th></th>\n",
              "      <th>0</th>\n",
              "      <th>1</th>\n",
              "      <th>2</th>\n",
              "      <th>3</th>\n",
              "      <th>4</th>\n",
              "    </tr>\n",
              "  </thead>\n",
              "  <tbody>\n",
              "    <tr>\n",
              "      <th>0</th>\n",
              "      <td>over</td>\n",
              "      <td>the</td>\n",
              "      <td>example</td>\n",
              "      <td>of</td>\n",
              "      <td>classifying</td>\n",
              "    </tr>\n",
              "    <tr>\n",
              "      <th>1</th>\n",
              "      <td>under</td>\n",
              "      <td>the</td>\n",
              "      <td>surface</td>\n",
              "      <td>.</td>\n",
              "      <td>xxmaj</td>\n",
              "    </tr>\n",
              "    <tr>\n",
              "      <th>2</th>\n",
              "      <td>convert</td>\n",
              "      <td>text</td>\n",
              "      <td>into</td>\n",
              "      <td>numbers</td>\n",
              "      <td>and</td>\n",
              "    </tr>\n",
              "    <tr>\n",
              "      <th>3</th>\n",
              "      <td>we</td>\n",
              "      <td>'ll</td>\n",
              "      <td>have</td>\n",
              "      <td>another</td>\n",
              "      <td>example</td>\n",
              "    </tr>\n",
              "    <tr>\n",
              "      <th>4</th>\n",
              "      <td>.</td>\n",
              "      <td>\\n</td>\n",
              "      <td>xxmaj</td>\n",
              "      <td>then</td>\n",
              "      <td>we</td>\n",
              "    </tr>\n",
              "    <tr>\n",
              "      <th>5</th>\n",
              "      <td>it</td>\n",
              "      <td>for</td>\n",
              "      <td>a</td>\n",
              "      <td>while</td>\n",
              "      <td>.</td>\n",
              "    </tr>\n",
              "  </tbody>\n",
              "</table>\n",
              "</div>\n",
              "    <div class=\"colab-df-buttons\">\n",
              "\n",
              "  <div class=\"colab-df-container\">\n",
              "    <button class=\"colab-df-convert\" onclick=\"convertToInteractive('df-db58fe76-2174-4444-9fb9-a5b5d8c2d274')\"\n",
              "            title=\"Convert this dataframe to an interactive table.\"\n",
              "            style=\"display:none;\">\n",
              "\n",
              "  <svg xmlns=\"http://www.w3.org/2000/svg\" height=\"24px\" viewBox=\"0 -960 960 960\">\n",
              "    <path d=\"M120-120v-720h720v720H120Zm60-500h600v-160H180v160Zm220 220h160v-160H400v160Zm0 220h160v-160H400v160ZM180-400h160v-160H180v160Zm440 0h160v-160H620v160ZM180-180h160v-160H180v160Zm440 0h160v-160H620v160Z\"/>\n",
              "  </svg>\n",
              "    </button>\n",
              "\n",
              "  <style>\n",
              "    .colab-df-container {\n",
              "      display:flex;\n",
              "      gap: 12px;\n",
              "    }\n",
              "\n",
              "    .colab-df-convert {\n",
              "      background-color: #E8F0FE;\n",
              "      border: none;\n",
              "      border-radius: 50%;\n",
              "      cursor: pointer;\n",
              "      display: none;\n",
              "      fill: #1967D2;\n",
              "      height: 32px;\n",
              "      padding: 0 0 0 0;\n",
              "      width: 32px;\n",
              "    }\n",
              "\n",
              "    .colab-df-convert:hover {\n",
              "      background-color: #E2EBFA;\n",
              "      box-shadow: 0px 1px 2px rgba(60, 64, 67, 0.3), 0px 1px 3px 1px rgba(60, 64, 67, 0.15);\n",
              "      fill: #174EA6;\n",
              "    }\n",
              "\n",
              "    .colab-df-buttons div {\n",
              "      margin-bottom: 4px;\n",
              "    }\n",
              "\n",
              "    [theme=dark] .colab-df-convert {\n",
              "      background-color: #3B4455;\n",
              "      fill: #D2E3FC;\n",
              "    }\n",
              "\n",
              "    [theme=dark] .colab-df-convert:hover {\n",
              "      background-color: #434B5C;\n",
              "      box-shadow: 0px 1px 3px 1px rgba(0, 0, 0, 0.15);\n",
              "      filter: drop-shadow(0px 1px 2px rgba(0, 0, 0, 0.3));\n",
              "      fill: #FFFFFF;\n",
              "    }\n",
              "  </style>\n",
              "\n",
              "    <script>\n",
              "      const buttonEl =\n",
              "        document.querySelector('#df-db58fe76-2174-4444-9fb9-a5b5d8c2d274 button.colab-df-convert');\n",
              "      buttonEl.style.display =\n",
              "        google.colab.kernel.accessAllowed ? 'block' : 'none';\n",
              "\n",
              "      async function convertToInteractive(key) {\n",
              "        const element = document.querySelector('#df-db58fe76-2174-4444-9fb9-a5b5d8c2d274');\n",
              "        const dataTable =\n",
              "          await google.colab.kernel.invokeFunction('convertToInteractive',\n",
              "                                                    [key], {});\n",
              "        if (!dataTable) return;\n",
              "\n",
              "        const docLinkHtml = 'Like what you see? Visit the ' +\n",
              "          '<a target=\"_blank\" href=https://colab.research.google.com/notebooks/data_table.ipynb>data table notebook</a>'\n",
              "          + ' to learn more about interactive tables.';\n",
              "        element.innerHTML = '';\n",
              "        dataTable['output_type'] = 'display_data';\n",
              "        await google.colab.output.renderOutput(dataTable, element);\n",
              "        const docLink = document.createElement('div');\n",
              "        docLink.innerHTML = docLinkHtml;\n",
              "        element.appendChild(docLink);\n",
              "      }\n",
              "    </script>\n",
              "  </div>\n",
              "\n",
              "\n",
              "<div id=\"df-07f69686-84dc-4f3a-8154-f268eb25cfe5\">\n",
              "  <button class=\"colab-df-quickchart\" onclick=\"quickchart('df-07f69686-84dc-4f3a-8154-f268eb25cfe5')\"\n",
              "            title=\"Suggest charts\"\n",
              "            style=\"display:none;\">\n",
              "\n",
              "<svg xmlns=\"http://www.w3.org/2000/svg\" height=\"24px\"viewBox=\"0 0 24 24\"\n",
              "     width=\"24px\">\n",
              "    <g>\n",
              "        <path d=\"M19 3H5c-1.1 0-2 .9-2 2v14c0 1.1.9 2 2 2h14c1.1 0 2-.9 2-2V5c0-1.1-.9-2-2-2zM9 17H7v-7h2v7zm4 0h-2V7h2v10zm4 0h-2v-4h2v4z\"/>\n",
              "    </g>\n",
              "</svg>\n",
              "  </button>\n",
              "\n",
              "<style>\n",
              "  .colab-df-quickchart {\n",
              "      --bg-color: #E8F0FE;\n",
              "      --fill-color: #1967D2;\n",
              "      --hover-bg-color: #E2EBFA;\n",
              "      --hover-fill-color: #174EA6;\n",
              "      --disabled-fill-color: #AAA;\n",
              "      --disabled-bg-color: #DDD;\n",
              "  }\n",
              "\n",
              "  [theme=dark] .colab-df-quickchart {\n",
              "      --bg-color: #3B4455;\n",
              "      --fill-color: #D2E3FC;\n",
              "      --hover-bg-color: #434B5C;\n",
              "      --hover-fill-color: #FFFFFF;\n",
              "      --disabled-bg-color: #3B4455;\n",
              "      --disabled-fill-color: #666;\n",
              "  }\n",
              "\n",
              "  .colab-df-quickchart {\n",
              "    background-color: var(--bg-color);\n",
              "    border: none;\n",
              "    border-radius: 50%;\n",
              "    cursor: pointer;\n",
              "    display: none;\n",
              "    fill: var(--fill-color);\n",
              "    height: 32px;\n",
              "    padding: 0;\n",
              "    width: 32px;\n",
              "  }\n",
              "\n",
              "  .colab-df-quickchart:hover {\n",
              "    background-color: var(--hover-bg-color);\n",
              "    box-shadow: 0 1px 2px rgba(60, 64, 67, 0.3), 0 1px 3px 1px rgba(60, 64, 67, 0.15);\n",
              "    fill: var(--button-hover-fill-color);\n",
              "  }\n",
              "\n",
              "  .colab-df-quickchart-complete:disabled,\n",
              "  .colab-df-quickchart-complete:disabled:hover {\n",
              "    background-color: var(--disabled-bg-color);\n",
              "    fill: var(--disabled-fill-color);\n",
              "    box-shadow: none;\n",
              "  }\n",
              "\n",
              "  .colab-df-spinner {\n",
              "    border: 2px solid var(--fill-color);\n",
              "    border-color: transparent;\n",
              "    border-bottom-color: var(--fill-color);\n",
              "    animation:\n",
              "      spin 1s steps(1) infinite;\n",
              "  }\n",
              "\n",
              "  @keyframes spin {\n",
              "    0% {\n",
              "      border-color: transparent;\n",
              "      border-bottom-color: var(--fill-color);\n",
              "      border-left-color: var(--fill-color);\n",
              "    }\n",
              "    20% {\n",
              "      border-color: transparent;\n",
              "      border-left-color: var(--fill-color);\n",
              "      border-top-color: var(--fill-color);\n",
              "    }\n",
              "    30% {\n",
              "      border-color: transparent;\n",
              "      border-left-color: var(--fill-color);\n",
              "      border-top-color: var(--fill-color);\n",
              "      border-right-color: var(--fill-color);\n",
              "    }\n",
              "    40% {\n",
              "      border-color: transparent;\n",
              "      border-right-color: var(--fill-color);\n",
              "      border-top-color: var(--fill-color);\n",
              "    }\n",
              "    60% {\n",
              "      border-color: transparent;\n",
              "      border-right-color: var(--fill-color);\n",
              "    }\n",
              "    80% {\n",
              "      border-color: transparent;\n",
              "      border-right-color: var(--fill-color);\n",
              "      border-bottom-color: var(--fill-color);\n",
              "    }\n",
              "    90% {\n",
              "      border-color: transparent;\n",
              "      border-bottom-color: var(--fill-color);\n",
              "    }\n",
              "  }\n",
              "</style>\n",
              "\n",
              "  <script>\n",
              "    async function quickchart(key) {\n",
              "      const quickchartButtonEl =\n",
              "        document.querySelector('#' + key + ' button');\n",
              "      quickchartButtonEl.disabled = true;  // To prevent multiple clicks.\n",
              "      quickchartButtonEl.classList.add('colab-df-spinner');\n",
              "      try {\n",
              "        const charts = await google.colab.kernel.invokeFunction(\n",
              "            'suggestCharts', [key], {});\n",
              "      } catch (error) {\n",
              "        console.error('Error during call to suggestCharts:', error);\n",
              "      }\n",
              "      quickchartButtonEl.classList.remove('colab-df-spinner');\n",
              "      quickchartButtonEl.classList.add('colab-df-quickchart-complete');\n",
              "    }\n",
              "    (() => {\n",
              "      let quickchartButtonEl =\n",
              "        document.querySelector('#df-07f69686-84dc-4f3a-8154-f268eb25cfe5 button');\n",
              "      quickchartButtonEl.style.display =\n",
              "        google.colab.kernel.accessAllowed ? 'block' : 'none';\n",
              "    })();\n",
              "  </script>\n",
              "</div>\n",
              "\n",
              "    </div>\n",
              "  </div>\n"
            ]
          },
          "metadata": {},
          "execution_count": 33
        }
      ],
      "source": [
        "d_tokens = np.array([tokens[i*row_len+seq_len+5:i*row_len+3*seq_len] for i in range(bs)])\n",
        "pd.DataFrame(d_tokens)"
      ]
    },
    {
      "cell_type": "markdown",
      "metadata": {
        "id": "2kJ0RXiJtHz4"
      },
      "source": [
        "**Note:** Later, we will use embeddings to convert the integer word indices into activations that we can use for our neural network. Then we'll feed those embeddings into a recurrent neural network (RNN)."
      ]
    },
    {
      "cell_type": "markdown",
      "metadata": {
        "id": "_pptCpYxLX8E"
      },
      "source": [
        "## 3. Create a Language Dataloader\n",
        "- Fastai provides an LMDataLoader class which automatically handles creating a dependent variable that is offset from the independent variable by one token. It also handles some important details, such as how to shuffle the training data in such a way that the dependent and independent variables maintain their structure as required\n",
        "- At every epoch, we shuffle our collection of documents and concatenate them into a stream of tokens. We then cut that stream into a batch of fixed-size consecutive mini-streams. Our model will then read the mini-streams in order, and thanks to an inner state, it will produce the same activation whatever sequence length we picked"
      ]
    },
    {
      "cell_type": "markdown",
      "metadata": {
        "id": "5MXF6U9BTR56"
      },
      "source": [
        "### Repeat the text preprocessing steps we've already done (for review)"
      ]
    },
    {
      "cell_type": "code",
      "execution_count": 34,
      "metadata": {
        "id": "qGICWIyhTYZL"
      },
      "outputs": [],
      "source": [
        "# read first 2000 text documents\n",
        "txts = L(o.open().read() for o in files[:2000])"
      ]
    },
    {
      "cell_type": "code",
      "execution_count": 35,
      "metadata": {
        "id": "nqvihbB5TeAX"
      },
      "outputs": [],
      "source": [
        "# tokenize\n",
        "tokenizer = WordTokenizer()\n",
        "tkn = Tokenizer(tokenizer)\n",
        "toks200 = txts[:200].map(tkn)"
      ]
    },
    {
      "cell_type": "code",
      "execution_count": 36,
      "metadata": {
        "id": "LSNCiDu0Lm8a"
      },
      "outputs": [],
      "source": [
        "# numericalize\n",
        "num = Numericalize()\n",
        "num.setup(toks200)\n",
        "nums200 = toks200.map(num)"
      ]
    },
    {
      "cell_type": "markdown",
      "metadata": {
        "id": "WWreG0t_Tpv4"
      },
      "source": [
        "### Create the dataloader"
      ]
    },
    {
      "cell_type": "code",
      "execution_count": 37,
      "metadata": {
        "id": "fuNU2TyrGusI"
      },
      "outputs": [],
      "source": [
        "# create the dataloader\n",
        "  # unlike the dl we see later, this requires the already tokenized/numericalized data\n",
        "  # the one later does those steps automatically\n",
        "dl = LMDataLoader(nums200)"
      ]
    },
    {
      "cell_type": "markdown",
      "metadata": {
        "id": "nHBiaxU9TzJj"
      },
      "source": [
        "### Look at a sample"
      ]
    },
    {
      "cell_type": "code",
      "execution_count": 38,
      "metadata": {
        "colab": {
          "base_uri": "https://localhost:8080/"
        },
        "id": "Axr9lICYMBdC",
        "outputId": "d64fe80f-0221-4df4-d2d4-843bd59f030c"
      },
      "outputs": [
        {
          "output_type": "stream",
          "name": "stdout",
          "text": [
            "torch.Size([64, 72]) torch.Size([64, 72])\n"
          ]
        }
      ],
      "source": [
        "# sample (first batch)\n",
        "x,y = first(dl)\n",
        "print(x.shape,y.shape)"
      ]
    },
    {
      "cell_type": "code",
      "execution_count": 39,
      "metadata": {
        "colab": {
          "base_uri": "https://localhost:8080/"
        },
        "id": "4K3LH-bZLfj_",
        "outputId": "d7266874-965a-4a61-dbc4-3763209fcc9d"
      },
      "outputs": [
        {
          "output_type": "stream",
          "name": "stdout",
          "text": [
            "LMTensorText([   2,   18,  501,   15,   57,    8,    0,   10,    8,    9,  111, 1467,   86,   14,    8, 1166,    8,    0,   35,  103])\n",
            "xxbos i wanted to like xxmaj xxunk . xxmaj the plot reminded me of xxmaj grand xxmaj xxunk ( which\n"
          ]
        }
      ],
      "source": [
        "# x sample\n",
        "sample_x = x[0]\n",
        "\n",
        "# print embeddings for first 20 tokens\n",
        "print(sample_x[:20])\n",
        "\n",
        "# print the vocab that corresponds to those embeddings\n",
        "print(' '.join(num.vocab[o] for o in sample_x[:20]))"
      ]
    },
    {
      "cell_type": "code",
      "execution_count": 40,
      "metadata": {
        "colab": {
          "base_uri": "https://localhost:8080/"
        },
        "id": "YpK66ZqmLfak",
        "outputId": "7670f031-c43e-4a65-fa7b-441169e73509"
      },
      "outputs": [
        {
          "output_type": "stream",
          "name": "stdout",
          "text": [
            "TensorText([  18,  501,   15,   57,    8,    0,   10,    8,    9,  111, 1467,   86,   14,    8, 1166,    8,    0,   35,  103,   18])\n",
            "i wanted to like xxmaj xxunk . xxmaj the plot reminded me of xxmaj grand xxmaj xxunk ( which i\n"
          ]
        }
      ],
      "source": [
        "# y sample -- same document as x but offset by by one token\n",
        "sample_y = y[0]\n",
        "\n",
        "# print embeddings for first 20 tokens\n",
        "print(sample_y[:20])\n",
        "\n",
        "# print the vocab that corresponds to those embeddings\n",
        "print(' '.join(num.vocab[o] for o in sample_y[:20]))"
      ]
    },
    {
      "cell_type": "markdown",
      "metadata": {
        "id": "LVihUTOEURJ7"
      },
      "source": [
        "### First 3 samples"
      ]
    },
    {
      "cell_type": "code",
      "execution_count": 41,
      "metadata": {
        "colab": {
          "base_uri": "https://localhost:8080/"
        },
        "id": "d2jnOqk7NGhd",
        "outputId": "418c4fa1-afe3-4a95-fd98-bb8c98a6e900"
      },
      "outputs": [
        {
          "output_type": "stream",
          "name": "stdout",
          "text": [
            "xxbos i wanted to like xxmaj xxunk . xxmaj the plot reminded me of xxmaj grand xxmaj xxunk ( which\n",
            "\n",
            "people in my business life , i can say without exception , that xxmaj i 've never xxunk any xxunk\n",
            "\n",
            ". xxmaj what xxup should have happened in the last 1 / 2 of this movie is xxmaj michael being\n"
          ]
        }
      ],
      "source": [
        "# look at first 3 samples\n",
        "print(' '.join(num.vocab[o] for o in x[0][:20]))\n",
        "print()\n",
        "print(' '.join(num.vocab[o] for o in x[1][:20]))\n",
        "print()\n",
        "print(' '.join(num.vocab[o] for o in x[2][:20]))"
      ]
    },
    {
      "cell_type": "markdown",
      "metadata": {
        "id": "7LgQiHqwQWum"
      },
      "source": [
        "# Training a Text Classifier\n",
        "- Step 1. Get pre-trained language model\n",
        "- Step 2. Fine tune language model on our specific corpus\n",
        "- Step 3. Create classification model"
      ]
    },
    {
      "cell_type": "markdown",
      "metadata": {
        "id": "GGK0YIev5mlQ"
      },
      "source": [
        "## Step 1. Get a Pre-trained Language Model\n",
        "- Goal\n",
        "  - Predict the next word in English-language text\n",
        "  - This is Self supervised learning -- we don't need to give it (external) labels, we just give it lots and lots of text (aka the labels are embedded in the independent variable)\n",
        "- Independent variable\n",
        "  - The sequence of tokens starting with the first token in the vocab and ending with the second to last token in the vocab\n",
        "- Dependent variable\n",
        "  - The sequence of words starting with the second token and ending with the last token\n",
        "- Architecture\n",
        "  - RNN\n",
        "- Steps\n",
        "  - Make a list of all possible tokens -- the vocab\n",
        "  - Replace each token with its index in the vocab\n",
        "  - Create an embedding matrix for this containing a row for each token\n",
        "  - Use this embedding matrix as the first layer of a neural network\n",
        "  - Note: A dedicated embedding matrix can take the raw vocab indices as inputs; this is equivalent to, but faster and more efficient than, a matrix that takes as input one-hot-encoded vectors representing the indices"
      ]
    },
    {
      "cell_type": "markdown",
      "metadata": {
        "id": "hsrb9WKdGinm"
      },
      "source": [
        "### Get data"
      ]
    },
    {
      "cell_type": "code",
      "execution_count": 42,
      "metadata": {
        "id": "fCgek0kLGkra"
      },
      "outputs": [],
      "source": [
        "# get imdb reviews from the data we already downloaded\n",
        "get_imdb = partial(get_text_files, folders=['train', 'test', 'unsup'])"
      ]
    },
    {
      "cell_type": "markdown",
      "metadata": {
        "id": "1JJ3y-jmVA4Z"
      },
      "source": [
        "### Datablock / Dataloaders\n",
        "- Input = text\n",
        "- Output = same text offset by 1\n",
        "- Note: this data loaders automatically tokenizes/numericalizes the data (unlike the DL above)"
      ]
    },
    {
      "cell_type": "code",
      "execution_count": 43,
      "metadata": {
        "colab": {
          "base_uri": "https://localhost:8080/",
          "height": 17
        },
        "id": "KF_FWFuMGnM2",
        "outputId": "ce8870ac-5c20-43b0-dce5-b912766bdc5d"
      },
      "outputs": [
        {
          "output_type": "display_data",
          "data": {
            "text/plain": [
              "<IPython.core.display.HTML object>"
            ],
            "text/html": [
              "\n",
              "<style>\n",
              "    /* Turns off some styling */\n",
              "    progress {\n",
              "        /* gets rid of default border in Firefox and Opera. */\n",
              "        border: none;\n",
              "        /* Needs to be in here for Safari polyfill so background images work as expected. */\n",
              "        background-size: auto;\n",
              "    }\n",
              "    progress:not([value]), progress:not([value])::-webkit-progress-bar {\n",
              "        background: repeating-linear-gradient(45deg, #7e7e7e, #7e7e7e 10px, #5c5c5c 10px, #5c5c5c 20px);\n",
              "    }\n",
              "    .progress-bar-interrupted, .progress-bar-interrupted::-webkit-progress-bar {\n",
              "        background: #F44336;\n",
              "    }\n",
              "</style>\n"
            ]
          },
          "metadata": {}
        },
        {
          "output_type": "display_data",
          "data": {
            "text/plain": [
              "<IPython.core.display.HTML object>"
            ],
            "text/html": []
          },
          "metadata": {}
        }
      ],
      "source": [
        "# TextBlock\n",
        "  # is_lm = True; says it is a language model (just need to feed in texts once)\n",
        "  # from_folder; tells it how to tokenize/numericalize\n",
        "dls_lm = DataBlock(\n",
        "  blocks=TextBlock.from_folder(path, is_lm=True),\n",
        "  get_items=get_imdb, # how to get the data\n",
        "  splitter=RandomSplitter(0.1)\n",
        ").dataloaders(\n",
        "  path,\n",
        "  path=path,\n",
        "  bs=128,\n",
        "  seq_len=80\n",
        ")"
      ]
    },
    {
      "cell_type": "code",
      "execution_count": 44,
      "metadata": {
        "colab": {
          "base_uri": "https://localhost:8080/",
          "height": 491
        },
        "id": "t9QiNB7BGnGW",
        "outputId": "a6afee36-0380-4943-efaf-ded491bc9e44"
      },
      "outputs": [
        {
          "output_type": "display_data",
          "data": {
            "text/plain": [
              "<IPython.core.display.HTML object>"
            ],
            "text/html": [
              "<table border=\"1\" class=\"dataframe\">\n",
              "  <thead>\n",
              "    <tr style=\"text-align: right;\">\n",
              "      <th></th>\n",
              "      <th>text</th>\n",
              "      <th>text_</th>\n",
              "    </tr>\n",
              "  </thead>\n",
              "  <tbody>\n",
              "    <tr>\n",
              "      <th>0</th>\n",
              "      <td>xxbos xxmaj this is without a doubt the worst gay - themed film i have ever seen . xxmaj it 's an embarrassment on every level . xxmaj the script is hackneyed and unfunny . xxmaj the direction -- well , what passes for the direction , is inept . xxmaj the actors appear to have been handed the orders \" ham it up ! \" xxmaj yet , the ones who are n't over - the - top are</td>\n",
              "      <td>xxmaj this is without a doubt the worst gay - themed film i have ever seen . xxmaj it 's an embarrassment on every level . xxmaj the script is hackneyed and unfunny . xxmaj the direction -- well , what passes for the direction , is inept . xxmaj the actors appear to have been handed the orders \" ham it up ! \" xxmaj yet , the ones who are n't over - the - top are wooden</td>\n",
              "    </tr>\n",
              "    <tr>\n",
              "      <th>1</th>\n",
              "      <td>disappearance of a teen couple , xxmaj ted and xxmaj angie at the riverside in north xxmaj california a group of the nearby - town teenagers goes having ghost story in the local cemetery . xxmaj however the unnaturally sudden rain forces them to movie into an old wooden house in the cemetery . xxmaj then the not - well - motivated murderer begins to kill them one by one , and the cemetery becomes their own … i think</td>\n",
              "      <td>of a teen couple , xxmaj ted and xxmaj angie at the riverside in north xxmaj california a group of the nearby - town teenagers goes having ghost story in the local cemetery . xxmaj however the unnaturally sudden rain forces them to movie into an old wooden house in the cemetery . xxmaj then the not - well - motivated murderer begins to kill them one by one , and the cemetery becomes their own … i think the</td>\n",
              "    </tr>\n",
              "    <tr>\n",
              "      <th>2</th>\n",
              "      <td>two out of ten ; but to some extent this film probably provides exactly what its sponsors intended , and judged on this basis a quality rating of four out of ten would be reasonable . xxmaj being in a charitable mood , and wanting to make it clear that i am not blaming xxmaj pia for my disappointment , i will give an imdb rating of four . xxbos xxmaj considering that \" drive \" is a low -</td>\n",
              "      <td>out of ten ; but to some extent this film probably provides exactly what its sponsors intended , and judged on this basis a quality rating of four out of ten would be reasonable . xxmaj being in a charitable mood , and wanting to make it clear that i am not blaming xxmaj pia for my disappointment , i will give an imdb rating of four . xxbos xxmaj considering that \" drive \" is a low - budget</td>\n",
              "    </tr>\n",
              "  </tbody>\n",
              "</table>"
            ]
          },
          "metadata": {}
        }
      ],
      "source": [
        "# notice text (the x values) and text_ (the y values) are offset by n=1\n",
        "dls_lm.show_batch(max_n=3)"
      ]
    },
    {
      "cell_type": "markdown",
      "metadata": {
        "id": "PiS0KhbAWnoU"
      },
      "source": [
        "### Look at sample"
      ]
    },
    {
      "cell_type": "code",
      "execution_count": 45,
      "metadata": {
        "colab": {
          "base_uri": "https://localhost:8080/"
        },
        "id": "-QrHcxmIWpXy",
        "outputId": "83d3354c-376b-4ea1-ef2f-eec58155885f"
      },
      "outputs": [
        {
          "output_type": "stream",
          "name": "stdout",
          "text": [
            "torch.Size([64, 72]) torch.Size([64, 72])\n"
          ]
        }
      ],
      "source": [
        "# sample\n",
        "x,y = first(dl)\n",
        "print(x.shape,y.shape)"
      ]
    },
    {
      "cell_type": "code",
      "execution_count": 46,
      "metadata": {
        "colab": {
          "base_uri": "https://localhost:8080/"
        },
        "id": "FIFk1Iw-WqRr",
        "outputId": "1eb7f8bb-519d-4260-faa7-f1f48f7ba8e6"
      },
      "outputs": [
        {
          "output_type": "stream",
          "name": "stdout",
          "text": [
            "LMTensorText([   2,   18,  501,   15,   57,    8,    0,   10,    8,    9,  111, 1467,   86,   14,    8, 1166,    8,    0,   35,  103])\n",
            "xxbos i wanted to like xxmaj xxunk . xxmaj the plot reminded me of xxmaj grand xxmaj xxunk ( which i liked ) . 4 different lives / stories that come together at the end but xxmaj xxunk took a wrong turn halfway through the movie and i was lost . i almost turned it off right then and there but i felt i should xxunk in there until the end ,\n"
          ]
        }
      ],
      "source": [
        "# x sample, embeddings, and vocab for those embeddings\n",
        "sample_x = x[0]\n",
        "print(sample_x[:20])\n",
        "print(' '.join(num.vocab[o] for o in sample_x))"
      ]
    },
    {
      "cell_type": "code",
      "execution_count": 47,
      "metadata": {
        "colab": {
          "base_uri": "https://localhost:8080/"
        },
        "id": "_jHRz0L4G64m",
        "outputId": "9e425bf4-4ea9-43d3-c20c-62893d0bbe79"
      },
      "outputs": [
        {
          "output_type": "stream",
          "name": "stdout",
          "text": [
            "TensorText([  18,  501,   15,   57,    8,    0,   10,    8,    9,  111, 1467,   86,   14,    8, 1166,    8,    0,   35,  103,   18])\n",
            "i wanted to like xxmaj xxunk . xxmaj the plot reminded me of xxmaj grand xxmaj xxunk ( which i liked ) . 4 different lives / stories that come together at the end but xxmaj xxunk took a wrong turn halfway through the movie and i was lost . i almost turned it off right then and there but i felt i should xxunk in there until the end , little\n"
          ]
        }
      ],
      "source": [
        "# y sample, embeddings, and vocab for those embeddings\n",
        "sample_y = y[0]\n",
        "print(sample_y[:20])\n",
        "print(' '.join(num.vocab[o] for o in sample_y))"
      ]
    },
    {
      "cell_type": "markdown",
      "metadata": {
        "id": "t9qg4TQ6DPke"
      },
      "source": [
        "### Get pre-trained model (from wikipedia)\n",
        "- Goal: Predict the next word in this specific corpus (i.e., predict the next word of a movie review)\n",
        "- This FastAI learner automatically combines the embeddings in the pretrained (Wikitext) language model with random embeddings added for words that weren't in the pretrained model\n",
        "- The learner knows to automatically freeze the embeddings from wikipedia"
      ]
    },
    {
      "cell_type": "code",
      "execution_count": 48,
      "metadata": {
        "colab": {
          "base_uri": "https://localhost:8080/",
          "height": 37
        },
        "id": "dH1msv7RPi5Z",
        "outputId": "03c880db-3104-4e94-fef0-2bc6e2b8d522"
      },
      "outputs": [
        {
          "output_type": "display_data",
          "data": {
            "text/plain": [
              "<IPython.core.display.HTML object>"
            ],
            "text/html": [
              "\n",
              "<style>\n",
              "    /* Turns off some styling */\n",
              "    progress {\n",
              "        /* gets rid of default border in Firefox and Opera. */\n",
              "        border: none;\n",
              "        /* Needs to be in here for Safari polyfill so background images work as expected. */\n",
              "        background-size: auto;\n",
              "    }\n",
              "    progress:not([value]), progress:not([value])::-webkit-progress-bar {\n",
              "        background: repeating-linear-gradient(45deg, #7e7e7e, #7e7e7e 10px, #5c5c5c 10px, #5c5c5c 20px);\n",
              "    }\n",
              "    .progress-bar-interrupted, .progress-bar-interrupted::-webkit-progress-bar {\n",
              "        background: #F44336;\n",
              "    }\n",
              "</style>\n"
            ]
          },
          "metadata": {}
        },
        {
          "output_type": "display_data",
          "data": {
            "text/plain": [
              "<IPython.core.display.HTML object>"
            ],
            "text/html": [
              "\n",
              "    <div>\n",
              "      <progress value='105070592' class='' max='105067061' style='width:300px; height:20px; vertical-align: middle;'></progress>\n",
              "      100.00% [105070592/105067061 00:01&lt;00:00]\n",
              "    </div>\n",
              "    "
            ]
          },
          "metadata": {}
        }
      ],
      "source": [
        "# learner\n",
        "learn = language_model_learner(\n",
        "  dls_lm, # data loader from above (automatically tokenizes/numericalizes)\n",
        "  AWD_LSTM, # RNN architecture\n",
        "  drop_mult=0.3, # don't worry about this for now\n",
        "  # loss = default -- cross-entropy loss, since this is a classification problem\n",
        "  metrics=[accuracy, Perplexity()] # accuracy = how many times model is right when predicting next word; perplexity = exponential of the loss, has to do with model confidence\n",
        ").to_fp16()"
      ]
    },
    {
      "cell_type": "markdown",
      "metadata": {
        "id": "DqVcWgSODSfL"
      },
      "source": [
        "## Step 2. Fine-tune the language model with the specific imdb corpus\n",
        "- Helps understand the \"language\" of this specific corpus\n",
        "- Our vocab will consist of a mix of common words that are already in the vocabulary of our pretrained model and new words specific to our corpus (cinematographic terms or actors names, for instance)\n",
        "- To convert the integer word indices into activations that we can use for our neural network, we will use embeddings\n",
        "  - For words that are in the vocabulary of our pretrained model, we will take the corresponding row in the embedding matrix of the pretrained model\n",
        "  - For new words we won't have anything, so we will just initialize the corresponding row with a random vector\n",
        "- The embeddings are read into an RNN (architecture = AWS-LSTM)"
      ]
    },
    {
      "cell_type": "code",
      "execution_count": 49,
      "metadata": {
        "colab": {
          "base_uri": "https://localhost:8080/",
          "height": 81
        },
        "id": "0FjSNBC_uvBj",
        "outputId": "ede3951e-ace7-43f8-82fa-2a914379bf48"
      },
      "outputs": [
        {
          "output_type": "display_data",
          "data": {
            "text/plain": [
              "<IPython.core.display.HTML object>"
            ],
            "text/html": [
              "\n",
              "<style>\n",
              "    /* Turns off some styling */\n",
              "    progress {\n",
              "        /* gets rid of default border in Firefox and Opera. */\n",
              "        border: none;\n",
              "        /* Needs to be in here for Safari polyfill so background images work as expected. */\n",
              "        background-size: auto;\n",
              "    }\n",
              "    progress:not([value]), progress:not([value])::-webkit-progress-bar {\n",
              "        background: repeating-linear-gradient(45deg, #7e7e7e, #7e7e7e 10px, #5c5c5c 10px, #5c5c5c 20px);\n",
              "    }\n",
              "    .progress-bar-interrupted, .progress-bar-interrupted::-webkit-progress-bar {\n",
              "        background: #F44336;\n",
              "    }\n",
              "</style>\n"
            ]
          },
          "metadata": {}
        },
        {
          "output_type": "display_data",
          "data": {
            "text/plain": [
              "<IPython.core.display.HTML object>"
            ],
            "text/html": [
              "<table border=\"1\" class=\"dataframe\">\n",
              "  <thead>\n",
              "    <tr style=\"text-align: left;\">\n",
              "      <th>epoch</th>\n",
              "      <th>train_loss</th>\n",
              "      <th>valid_loss</th>\n",
              "      <th>accuracy</th>\n",
              "      <th>perplexity</th>\n",
              "      <th>time</th>\n",
              "    </tr>\n",
              "  </thead>\n",
              "  <tbody>\n",
              "    <tr>\n",
              "      <td>0</td>\n",
              "      <td>4.013569</td>\n",
              "      <td>3.907824</td>\n",
              "      <td>0.300493</td>\n",
              "      <td>49.790466</td>\n",
              "      <td>20:54</td>\n",
              "    </tr>\n",
              "  </tbody>\n",
              "</table>"
            ]
          },
          "metadata": {}
        }
      ],
      "source": [
        "# initial fine-tuning\n",
        "  # the language_model_learner automattically calls `freeze` when using a pretrained model\n",
        "  # so this will only train the embeddings from the new imdb corpus (aka with randomly initialzied weights)\n",
        "learn.fit_one_cycle(1, 2e-2)"
      ]
    },
    {
      "cell_type": "code",
      "execution_count": 50,
      "metadata": {
        "id": "YnVCTHVeXxLg"
      },
      "outputs": [],
      "source": [
        "# can save model as is (saves to learn.path/models/1epoch.pth)\n",
        "learn.save('1epoch')\n",
        "\n",
        "# load later\n",
        "tmp = learn.load('1epoch')"
      ]
    },
    {
      "cell_type": "code",
      "execution_count": 51,
      "metadata": {
        "colab": {
          "base_uri": "https://localhost:8080/",
          "height": 363
        },
        "id": "g7ej5uRq4lHK",
        "outputId": "756ec873-7161-43cb-ad89-b538cc614c50"
      },
      "outputs": [
        {
          "output_type": "display_data",
          "data": {
            "text/plain": [
              "<IPython.core.display.HTML object>"
            ],
            "text/html": [
              "\n",
              "<style>\n",
              "    /* Turns off some styling */\n",
              "    progress {\n",
              "        /* gets rid of default border in Firefox and Opera. */\n",
              "        border: none;\n",
              "        /* Needs to be in here for Safari polyfill so background images work as expected. */\n",
              "        background-size: auto;\n",
              "    }\n",
              "    progress:not([value]), progress:not([value])::-webkit-progress-bar {\n",
              "        background: repeating-linear-gradient(45deg, #7e7e7e, #7e7e7e 10px, #5c5c5c 10px, #5c5c5c 20px);\n",
              "    }\n",
              "    .progress-bar-interrupted, .progress-bar-interrupted::-webkit-progress-bar {\n",
              "        background: #F44336;\n",
              "    }\n",
              "</style>\n"
            ]
          },
          "metadata": {}
        },
        {
          "output_type": "display_data",
          "data": {
            "text/plain": [
              "<IPython.core.display.HTML object>"
            ],
            "text/html": [
              "<table border=\"1\" class=\"dataframe\">\n",
              "  <thead>\n",
              "    <tr style=\"text-align: left;\">\n",
              "      <th>epoch</th>\n",
              "      <th>train_loss</th>\n",
              "      <th>valid_loss</th>\n",
              "      <th>accuracy</th>\n",
              "      <th>perplexity</th>\n",
              "      <th>time</th>\n",
              "    </tr>\n",
              "  </thead>\n",
              "  <tbody>\n",
              "    <tr>\n",
              "      <td>0</td>\n",
              "      <td>3.757411</td>\n",
              "      <td>3.765701</td>\n",
              "      <td>0.316886</td>\n",
              "      <td>43.193966</td>\n",
              "      <td>23:03</td>\n",
              "    </tr>\n",
              "    <tr>\n",
              "      <td>1</td>\n",
              "      <td>3.705809</td>\n",
              "      <td>3.706454</td>\n",
              "      <td>0.323315</td>\n",
              "      <td>40.709198</td>\n",
              "      <td>22:46</td>\n",
              "    </tr>\n",
              "    <tr>\n",
              "      <td>2</td>\n",
              "      <td>3.635310</td>\n",
              "      <td>3.658247</td>\n",
              "      <td>0.328850</td>\n",
              "      <td>38.793259</td>\n",
              "      <td>22:16</td>\n",
              "    </tr>\n",
              "    <tr>\n",
              "      <td>3</td>\n",
              "      <td>3.564897</td>\n",
              "      <td>3.625551</td>\n",
              "      <td>0.332808</td>\n",
              "      <td>37.545395</td>\n",
              "      <td>22:08</td>\n",
              "    </tr>\n",
              "    <tr>\n",
              "      <td>4</td>\n",
              "      <td>3.499094</td>\n",
              "      <td>3.604402</td>\n",
              "      <td>0.335300</td>\n",
              "      <td>36.759705</td>\n",
              "      <td>21:57</td>\n",
              "    </tr>\n",
              "    <tr>\n",
              "      <td>5</td>\n",
              "      <td>3.429217</td>\n",
              "      <td>3.589293</td>\n",
              "      <td>0.337457</td>\n",
              "      <td>36.208450</td>\n",
              "      <td>21:55</td>\n",
              "    </tr>\n",
              "    <tr>\n",
              "      <td>6</td>\n",
              "      <td>3.363263</td>\n",
              "      <td>3.579200</td>\n",
              "      <td>0.339213</td>\n",
              "      <td>35.844856</td>\n",
              "      <td>22:08</td>\n",
              "    </tr>\n",
              "    <tr>\n",
              "      <td>7</td>\n",
              "      <td>3.293472</td>\n",
              "      <td>3.577188</td>\n",
              "      <td>0.340156</td>\n",
              "      <td>35.772816</td>\n",
              "      <td>22:07</td>\n",
              "    </tr>\n",
              "    <tr>\n",
              "      <td>8</td>\n",
              "      <td>3.258166</td>\n",
              "      <td>3.580547</td>\n",
              "      <td>0.340500</td>\n",
              "      <td>35.893166</td>\n",
              "      <td>22:20</td>\n",
              "    </tr>\n",
              "    <tr>\n",
              "      <td>9</td>\n",
              "      <td>3.209875</td>\n",
              "      <td>3.585246</td>\n",
              "      <td>0.340195</td>\n",
              "      <td>36.062229</td>\n",
              "      <td>22:16</td>\n",
              "    </tr>\n",
              "  </tbody>\n",
              "</table>"
            ]
          },
          "metadata": {}
        }
      ],
      "source": [
        "# once the initial training has completed, can unfreeze the pre-trained layers\n",
        "learn.unfreeze()\n",
        "\n",
        "# and continue fine-tuning (using ALL embeddings, pre-trained and new from imdb)\n",
        "learn.fit_one_cycle(10, 2e-3)"
      ]
    },
    {
      "cell_type": "code",
      "execution_count": 52,
      "metadata": {
        "id": "7UnO17oi6c1q"
      },
      "outputs": [],
      "source": [
        "# save the encoder (the model not including the final layer)\n",
        "  # the final layer is task specific: converts activations to probabilities of picking each token in our vocabulary\n",
        "learn.save_encoder('finetuned')"
      ]
    },
    {
      "cell_type": "markdown",
      "metadata": {
        "id": "R25t_o3VHAUb"
      },
      "source": [
        "## Step 3. Fine-tune a CLASSIFICATION model (sentiment labels)\n",
        "- A language model predicts the next word of a document, so it doesn't need any external labels\n",
        "- A classifier predicts some external label—in the case of IMDb, it's the sentiment of a document\n",
        "- We pass the vocab of the language model to the classifier model (to make sure we use the same correspondence of token to index)"
      ]
    },
    {
      "cell_type": "markdown",
      "metadata": {
        "id": "-EW4pQqaa8Nj"
      },
      "source": [
        "### Pad the texts to make them the same length\n",
        "- Notice the original texts all have different lengths (different embedding sizes)\n",
        "- Need to pad them to be the same size -- expand the shorter texts to make them the same length as the longest text. PyTorch need to collate all the items in a batch into a single tensor, and a single tensor has a fixed shape\n",
        "- Can also crop long texts to a shorter, fixed legth\n",
        "- To do padding\n",
        "  - batch together texts that are roughly the same lengths (with some shuffling for the training set) -- do this by sorting the documents by length prior to each epoch\n",
        "  - thn, pad documents by batch (instead of all at once) -- we won't pad every batch to the same size, but will instead use the size of the largest document in each batch as the target size\n",
        "- The sorting and padding are automatically done by the data block API for us when using a TextBlock, with is_lm=False"
      ]
    },
    {
      "cell_type": "code",
      "execution_count": 53,
      "metadata": {
        "colab": {
          "base_uri": "https://localhost:8080/"
        },
        "id": "lEpuo5BXbBVH",
        "outputId": "7ed9318e-36ea-41d2-de85-ce4d8ea6013e"
      },
      "outputs": [
        {
          "output_type": "stream",
          "name": "stdout",
          "text": [
            "[159, 253, 219, 194, 1152, 101, 406, 428, 247, 68]\n"
          ]
        }
      ],
      "source": [
        "# quick sample of 10 reviews -- note all have different embedding sizes\n",
        "nums_samp = toks200[:10].map(num)\n",
        "print(nums_samp.map(len))"
      ]
    },
    {
      "cell_type": "code",
      "execution_count": 54,
      "metadata": {
        "id": "AkPsJ06NHEXw"
      },
      "outputs": [],
      "source": [
        "# datablock / dataloaders\n",
        "dls_clas = DataBlock(\n",
        "  blocks=(\n",
        "    TextBlock.from_folder(path, vocab=dls_lm.vocab), # x values are vocab from the language model we used earlier. Note! now is_lm=False (default)\n",
        "    CategoryBlock # y values are categories (sentiment labels)\n",
        "  ),\n",
        "  get_y = parent_label,\n",
        "  get_items=partial(get_text_files, folders=['train', 'test']),\n",
        "  splitter=GrandparentSplitter(valid_name='test')\n",
        ").dataloaders(path, path=path, bs=128, seq_len=72)"
      ]
    },
    {
      "cell_type": "markdown",
      "metadata": {
        "id": "_4XfcC8qa6JO"
      },
      "source": [
        "#### Sample x and y"
      ]
    },
    {
      "cell_type": "code",
      "execution_count": 55,
      "metadata": {
        "colab": {
          "base_uri": "https://localhost:8080/",
          "height": 508
        },
        "id": "RHQ58BUzHard",
        "outputId": "33030801-9b83-4768-8065-bcd7be7109c5"
      },
      "outputs": [
        {
          "output_type": "display_data",
          "data": {
            "text/plain": [
              "<IPython.core.display.HTML object>"
            ],
            "text/html": [
              "<table border=\"1\" class=\"dataframe\">\n",
              "  <thead>\n",
              "    <tr style=\"text-align: right;\">\n",
              "      <th></th>\n",
              "      <th>text</th>\n",
              "      <th>category</th>\n",
              "    </tr>\n",
              "  </thead>\n",
              "  <tbody>\n",
              "    <tr>\n",
              "      <th>0</th>\n",
              "      <td>xxbos xxmaj match 1 : xxmaj tag xxmaj team xxmaj table xxmaj match xxmaj bubba xxmaj ray and xxmaj spike xxmaj dudley vs xxmaj eddie xxmaj guerrero and xxmaj chris xxmaj benoit xxmaj bubba xxmaj ray and xxmaj spike xxmaj dudley started things off with a xxmaj tag xxmaj team xxmaj table xxmaj match against xxmaj eddie xxmaj guerrero and xxmaj chris xxmaj benoit . xxmaj according to the rules of the match , both opponents have to go through tables in order to get the win . xxmaj benoit and xxmaj guerrero heated up early on by taking turns hammering first xxmaj spike and then xxmaj bubba xxmaj ray . a xxmaj german xxunk by xxmaj benoit to xxmaj bubba took the wind out of the xxmaj dudley brother . xxmaj spike tried to help his brother , but the referee restrained him while xxmaj benoit and xxmaj guerrero</td>\n",
              "      <td>pos</td>\n",
              "    </tr>\n",
              "    <tr>\n",
              "      <th>1</th>\n",
              "      <td>xxbos * * attention xxmaj spoilers * * \\n\\n xxmaj first of all , let me say that xxmaj rob xxmaj roy is one of the best films of the 90 's . xxmaj it was an amazing achievement for all those involved , especially the acting of xxmaj liam xxmaj neeson , xxmaj jessica xxmaj lange , xxmaj john xxmaj hurt , xxmaj brian xxmaj cox , and xxmaj tim xxmaj roth . xxmaj michael xxmaj canton xxmaj jones painted a wonderful portrait of the honor and dishonor that men can represent in themselves . xxmaj but alas … \\n\\n it constantly , and unfairly gets compared to \" braveheart \" . xxmaj these are two entirely different films , probably only similar in the fact that they are both about xxmaj scots in historical xxmaj scotland . xxmaj yet , this comparison frequently bothers me because it seems</td>\n",
              "      <td>pos</td>\n",
              "    </tr>\n",
              "    <tr>\n",
              "      <th>2</th>\n",
              "      <td>xxbos * ! ! - xxup spoilers - ! ! * \\n\\n xxmaj before i begin this , let me say that i have had both the advantages of seeing this movie on the big screen and of having seen the \" authorized xxmaj version \" of this movie , remade by xxmaj stephen xxmaj king , himself , in 1997 . \\n\\n xxmaj both advantages made me appreciate this version of \" the xxmaj shining , \" all the more . \\n\\n xxmaj also , let me say that xxmaj i 've read xxmaj mr . xxmaj king 's book , \" the xxmaj shining \" on many occasions over the years , and while i love the book and am a huge fan of his work , xxmaj stanley xxmaj kubrick 's retelling of this story is far more compelling … and xxup scary . \\n\\n xxmaj kubrick</td>\n",
              "      <td>pos</td>\n",
              "    </tr>\n",
              "  </tbody>\n",
              "</table>"
            ]
          },
          "metadata": {}
        }
      ],
      "source": [
        "dls_clas.show_batch(max_n=3)"
      ]
    },
    {
      "cell_type": "markdown",
      "metadata": {
        "id": "aevuf8nwDdmP"
      },
      "source": [
        "### Fine tune a classifier using the sentiment labels\n",
        "- Use discriminative learning rates and gradual unfreezing\n",
        "- For NLP classifiers, unfreezing a few layers at a time makes a real difference\n"
      ]
    },
    {
      "cell_type": "code",
      "execution_count": 56,
      "metadata": {
        "id": "fS7xCVlq6c4g"
      },
      "outputs": [],
      "source": [
        "#classification learner\n",
        "learn = text_classifier_learner(\n",
        "  dls_clas,\n",
        "  AWD_LSTM,\n",
        "  drop_mult=0.5,\n",
        "  metrics=accuracy\n",
        ").to_fp16()\n",
        "\n",
        "# make sure to add the encoder from the fine-tuned language model!!\n",
        "learn = learn.load_encoder('finetuned')"
      ]
    },
    {
      "cell_type": "code",
      "execution_count": 57,
      "metadata": {
        "colab": {
          "base_uri": "https://localhost:8080/",
          "height": 81
        },
        "id": "s1a7_MCT8MtO",
        "outputId": "2aa30e00-517c-4b84-8d43-4dbcf94c3384"
      },
      "outputs": [
        {
          "output_type": "display_data",
          "data": {
            "text/plain": [
              "<IPython.core.display.HTML object>"
            ],
            "text/html": [
              "\n",
              "<style>\n",
              "    /* Turns off some styling */\n",
              "    progress {\n",
              "        /* gets rid of default border in Firefox and Opera. */\n",
              "        border: none;\n",
              "        /* Needs to be in here for Safari polyfill so background images work as expected. */\n",
              "        background-size: auto;\n",
              "    }\n",
              "    progress:not([value]), progress:not([value])::-webkit-progress-bar {\n",
              "        background: repeating-linear-gradient(45deg, #7e7e7e, #7e7e7e 10px, #5c5c5c 10px, #5c5c5c 20px);\n",
              "    }\n",
              "    .progress-bar-interrupted, .progress-bar-interrupted::-webkit-progress-bar {\n",
              "        background: #F44336;\n",
              "    }\n",
              "</style>\n"
            ]
          },
          "metadata": {}
        },
        {
          "output_type": "display_data",
          "data": {
            "text/plain": [
              "<IPython.core.display.HTML object>"
            ],
            "text/html": [
              "<table border=\"1\" class=\"dataframe\">\n",
              "  <thead>\n",
              "    <tr style=\"text-align: left;\">\n",
              "      <th>epoch</th>\n",
              "      <th>train_loss</th>\n",
              "      <th>valid_loss</th>\n",
              "      <th>accuracy</th>\n",
              "      <th>time</th>\n",
              "    </tr>\n",
              "  </thead>\n",
              "  <tbody>\n",
              "    <tr>\n",
              "      <td>0</td>\n",
              "      <td>0.246305</td>\n",
              "      <td>0.175227</td>\n",
              "      <td>0.933120</td>\n",
              "      <td>00:49</td>\n",
              "    </tr>\n",
              "  </tbody>\n",
              "</table>"
            ]
          },
          "metadata": {}
        }
      ],
      "source": [
        "# fine-tune: one epoch\n",
        "learn.fit_one_cycle(1, 2e-2)"
      ]
    },
    {
      "cell_type": "code",
      "execution_count": 58,
      "metadata": {
        "colab": {
          "base_uri": "https://localhost:8080/",
          "height": 81
        },
        "id": "_e6YzPLyc4Nb",
        "outputId": "b0c5745a-2fec-448a-e8a9-bd0da7b97c12"
      },
      "outputs": [
        {
          "output_type": "display_data",
          "data": {
            "text/plain": [
              "<IPython.core.display.HTML object>"
            ],
            "text/html": [
              "\n",
              "<style>\n",
              "    /* Turns off some styling */\n",
              "    progress {\n",
              "        /* gets rid of default border in Firefox and Opera. */\n",
              "        border: none;\n",
              "        /* Needs to be in here for Safari polyfill so background images work as expected. */\n",
              "        background-size: auto;\n",
              "    }\n",
              "    progress:not([value]), progress:not([value])::-webkit-progress-bar {\n",
              "        background: repeating-linear-gradient(45deg, #7e7e7e, #7e7e7e 10px, #5c5c5c 10px, #5c5c5c 20px);\n",
              "    }\n",
              "    .progress-bar-interrupted, .progress-bar-interrupted::-webkit-progress-bar {\n",
              "        background: #F44336;\n",
              "    }\n",
              "</style>\n"
            ]
          },
          "metadata": {}
        },
        {
          "output_type": "display_data",
          "data": {
            "text/plain": [
              "<IPython.core.display.HTML object>"
            ],
            "text/html": [
              "<table border=\"1\" class=\"dataframe\">\n",
              "  <thead>\n",
              "    <tr style=\"text-align: left;\">\n",
              "      <th>epoch</th>\n",
              "      <th>train_loss</th>\n",
              "      <th>valid_loss</th>\n",
              "      <th>accuracy</th>\n",
              "      <th>time</th>\n",
              "    </tr>\n",
              "  </thead>\n",
              "  <tbody>\n",
              "    <tr>\n",
              "      <td>0</td>\n",
              "      <td>0.215631</td>\n",
              "      <td>0.159536</td>\n",
              "      <td>0.939240</td>\n",
              "      <td>00:55</td>\n",
              "    </tr>\n",
              "  </tbody>\n",
              "</table>"
            ]
          },
          "metadata": {}
        }
      ],
      "source": [
        "# fine tune again: freeze all except last 2 parameter groups\n",
        "learn.freeze_to(-2)\n",
        "learn.fit_one_cycle(1, slice(1e-2/(2.6**4),1e-2))"
      ]
    },
    {
      "cell_type": "code",
      "execution_count": 59,
      "metadata": {
        "colab": {
          "base_uri": "https://localhost:8080/",
          "height": 81
        },
        "id": "zjfWGvs6c4K0",
        "outputId": "5e9f3f17-b12d-448a-a3a5-69962ce334f8"
      },
      "outputs": [
        {
          "output_type": "display_data",
          "data": {
            "text/plain": [
              "<IPython.core.display.HTML object>"
            ],
            "text/html": [
              "\n",
              "<style>\n",
              "    /* Turns off some styling */\n",
              "    progress {\n",
              "        /* gets rid of default border in Firefox and Opera. */\n",
              "        border: none;\n",
              "        /* Needs to be in here for Safari polyfill so background images work as expected. */\n",
              "        background-size: auto;\n",
              "    }\n",
              "    progress:not([value]), progress:not([value])::-webkit-progress-bar {\n",
              "        background: repeating-linear-gradient(45deg, #7e7e7e, #7e7e7e 10px, #5c5c5c 10px, #5c5c5c 20px);\n",
              "    }\n",
              "    .progress-bar-interrupted, .progress-bar-interrupted::-webkit-progress-bar {\n",
              "        background: #F44336;\n",
              "    }\n",
              "</style>\n"
            ]
          },
          "metadata": {}
        },
        {
          "output_type": "display_data",
          "data": {
            "text/plain": [
              "<IPython.core.display.HTML object>"
            ],
            "text/html": [
              "<table border=\"1\" class=\"dataframe\">\n",
              "  <thead>\n",
              "    <tr style=\"text-align: left;\">\n",
              "      <th>epoch</th>\n",
              "      <th>train_loss</th>\n",
              "      <th>valid_loss</th>\n",
              "      <th>accuracy</th>\n",
              "      <th>time</th>\n",
              "    </tr>\n",
              "  </thead>\n",
              "  <tbody>\n",
              "    <tr>\n",
              "      <td>0</td>\n",
              "      <td>0.185593</td>\n",
              "      <td>0.148010</td>\n",
              "      <td>0.944120</td>\n",
              "      <td>01:14</td>\n",
              "    </tr>\n",
              "  </tbody>\n",
              "</table>"
            ]
          },
          "metadata": {}
        }
      ],
      "source": [
        "# fine tune again: unfreeze a little bit more\n",
        "learn.freeze_to(-3)\n",
        "learn.fit_one_cycle(1, slice(5e-3/(2.6**4),5e-3))"
      ]
    },
    {
      "cell_type": "code",
      "execution_count": 60,
      "metadata": {
        "colab": {
          "base_uri": "https://localhost:8080/",
          "height": 112
        },
        "id": "bALgXim5c4Cd",
        "outputId": "529d73a3-cf8d-4275-91b6-0faab90fc340"
      },
      "outputs": [
        {
          "output_type": "display_data",
          "data": {
            "text/plain": [
              "<IPython.core.display.HTML object>"
            ],
            "text/html": [
              "\n",
              "<style>\n",
              "    /* Turns off some styling */\n",
              "    progress {\n",
              "        /* gets rid of default border in Firefox and Opera. */\n",
              "        border: none;\n",
              "        /* Needs to be in here for Safari polyfill so background images work as expected. */\n",
              "        background-size: auto;\n",
              "    }\n",
              "    progress:not([value]), progress:not([value])::-webkit-progress-bar {\n",
              "        background: repeating-linear-gradient(45deg, #7e7e7e, #7e7e7e 10px, #5c5c5c 10px, #5c5c5c 20px);\n",
              "    }\n",
              "    .progress-bar-interrupted, .progress-bar-interrupted::-webkit-progress-bar {\n",
              "        background: #F44336;\n",
              "    }\n",
              "</style>\n"
            ]
          },
          "metadata": {}
        },
        {
          "output_type": "display_data",
          "data": {
            "text/plain": [
              "<IPython.core.display.HTML object>"
            ],
            "text/html": [
              "<table border=\"1\" class=\"dataframe\">\n",
              "  <thead>\n",
              "    <tr style=\"text-align: left;\">\n",
              "      <th>epoch</th>\n",
              "      <th>train_loss</th>\n",
              "      <th>valid_loss</th>\n",
              "      <th>accuracy</th>\n",
              "      <th>time</th>\n",
              "    </tr>\n",
              "  </thead>\n",
              "  <tbody>\n",
              "    <tr>\n",
              "      <td>0</td>\n",
              "      <td>0.164650</td>\n",
              "      <td>0.142940</td>\n",
              "      <td>0.947320</td>\n",
              "      <td>01:34</td>\n",
              "    </tr>\n",
              "    <tr>\n",
              "      <td>1</td>\n",
              "      <td>0.147156</td>\n",
              "      <td>0.144155</td>\n",
              "      <td>0.946960</td>\n",
              "      <td>01:34</td>\n",
              "    </tr>\n",
              "  </tbody>\n",
              "</table>"
            ]
          },
          "metadata": {}
        }
      ],
      "source": [
        "# fine tune again: finally the whole model\n",
        "learn.unfreeze()\n",
        "learn.fit_one_cycle(2, slice(1e-3/(2.6**4),1e-3))"
      ]
    },
    {
      "cell_type": "markdown",
      "metadata": {
        "id": "8Qozy4tQdMxH"
      },
      "source": [
        "### Note: by training another model on all the texts read backwards and averaging the predictions of those two models, the accuracy would be even better"
      ]
    },
    {
      "cell_type": "code",
      "execution_count": 60,
      "metadata": {
        "id": "6ZKZgF4Edek-"
      },
      "outputs": [],
      "source": []
    }
  ],
  "metadata": {
    "accelerator": "GPU",
    "colab": {
      "machine_shape": "hm",
      "provenance": []
    },
    "kernelspec": {
      "display_name": "Python 3",
      "name": "python3"
    },
    "language_info": {
      "name": "python"
    }
  },
  "nbformat": 4,
  "nbformat_minor": 0
}